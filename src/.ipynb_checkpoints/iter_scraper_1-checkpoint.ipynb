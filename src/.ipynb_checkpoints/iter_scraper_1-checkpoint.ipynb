{
 "cells": [
  {
   "cell_type": "markdown",
   "metadata": {},
   "source": [
    "# Scraping Wikipedia Celebrity Deaths\n",
    "\n",
    "Creating a notebook to produce the dataset found at the [Kaggle Celebrity Deaths Page](https://www.kaggle.com/hugodarwood/celebrity-deaths).\n",
    "\n",
    "Attempting to replace the current dataset since it isn't complete (up-to-date) since there's no notebook to run to get up-to-date information and it has bad parses for some of the fields.\n",
    "\n",
    "This notebook isn't perfect either but does a better job."
   ]
  },
  {
   "cell_type": "code",
   "execution_count": 1,
   "metadata": {
    "collapsed": true
   },
   "outputs": [],
   "source": [
    "%matplotlib inline"
   ]
  },
  {
   "cell_type": "code",
   "execution_count": 2,
   "metadata": {
    "collapsed": true
   },
   "outputs": [],
   "source": [
    "import numpy as np\n",
    "import pandas as pd\n",
    "import re\n",
    "import json\n",
    "import csv\n",
    "\n",
    "from os import listdir\n",
    "from os.path import isfile, join\n",
    "import sys\n",
    "#reload(sys)\n",
    "#sys.setdefaultencoding('utf-8')\n",
    "\n",
    "from bs4 import BeautifulSoup as bs"
   ]
  },
  {
   "cell_type": "markdown",
   "metadata": {},
   "source": [
    "### Helper functions"
   ]
  },
  {
   "cell_type": "markdown",
   "metadata": {},
   "source": [
    "#### Break apart description and cause of death\n",
    "\n",
    "Cases (where clauses are comma-separated parts of each string):\n",
    "- If one clause, use that clause as the description\n",
    "- If multiple clauses, use the combined (all) clauses as the description and the second clause as cause of death.\n",
    "  - This is so that descriptions don't omit any useful information that would have been comma separated such as multiple titles\n",
    "\n",
    "It used to split greater than two clauses into:\n",
    "- Combined clause from first to second to last as the description\n",
    "- Last clause as cause of death\n",
    "\n",
    "However, I realized that this would probably still have the issues of misclassifying some part of the description as cause of death."
   ]
  },
  {
   "cell_type": "markdown",
   "metadata": {},
   "source": [
    "TODO: [Robust removal of urls on Stack Overflow](https://stackoverflow.com/questions/6883049/regex-to-find-urls-in-string-in-python) and [here as well](https://stackoverflow.com/questions/11331982/how-to-remove-any-url-within-a-string-in-python)\n",
    "\n",
    "text = re.sub(r'^https?:\\/\\/.*[\\r\\n]*', '', text, flags=re.MULTILINE)"
   ]
  },
  {
   "cell_type": "code",
   "execution_count": 3,
   "metadata": {
    "collapsed": true
   },
   "outputs": [],
   "source": [
    "desc_death_re = re.compile('(.*?),? ?((?:.+)*?). (?:.*?)?', re.DOTALL|re.MULTILINE)\n",
    "death_clean_no_url_re = re.compile('\\s?(.[^<]+)\\.? ?(?=<|\\[?http)(?:.*)?$')\n",
    "# death_clean_no_url_re = re.compile('\\s?\\w(.[^<])+[.]?(?:<|\\[?http)(?:.*)?$')\n",
    "\n",
    "\"\"\"\n",
    "Input: single text string to be processed\n",
    "\n",
    "Output: list of strings of length two\n",
    "  - first string is description of person\n",
    "  - second string is cause of death \n",
    "  (last clause of input when more than one comma in field)\n",
    "  \n",
    "\"\"\"\n",
    "# bad design below: just remove urls and refs instead of extracting\n",
    "def get_description_and_death(text):\n",
    "    text_no_url = text\n",
    "    if ('http' in text_no_url) or ('<ref' in text_no_url):\n",
    "        # bad design here\n",
    "        try:\n",
    "            text_no_url = death_clean_no_url_re.match(text).groups()[0]\n",
    "        except AttributeError:\n",
    "            print text\n",
    "            raw_input(\"Press enter to continue\")\n",
    "            raw_input(\"Press enter to continue\")\n",
    "    text_parts = text_no_url.replace('=','').split(',')\n",
    "    num_parts = len(text_parts)\n",
    "    if num_parts == 0:\n",
    "        return ['', '']\n",
    "    elif num_parts == 1:\n",
    "        return text_parts + ['']\n",
    "#    elif num_parts == 2:\n",
    "#        return [\",\".join(text_parts)] + [text_parts[1]]\n",
    "    else:\n",
    "        return ([\",\".join(text_parts[:-1])] + [text_parts[-1]])\n",
    "                #[death_clean_no_url_re.match(text_parts[-1]).groups()[0]])"
   ]
  },
  {
   "cell_type": "code",
   "execution_count": 4,
   "metadata": {
    "collapsed": false
   },
   "outputs": [],
   "source": [
    "\"\"\"\n",
    "Runs get_description_and_death() on the last element of a list\n",
    "\"\"\"\n",
    "def add_description_and_death(entry_list):\n",
    "    return entry_list[:-1] + get_description_and_death(entry_list[-1])"
   ]
  },
  {
   "cell_type": "markdown",
   "metadata": {},
   "source": [
    "Testing functions:"
   ]
  },
  {
   "cell_type": "code",
   "execution_count": 5,
   "metadata": {
    "collapsed": false
   },
   "outputs": [
    {
     "data": {
      "text/plain": [
       "['English singer-songwriter (\"[[Won\\'t Somebody Dance with Me]]\")',\n",
       " ' brain haemorrhage.']"
      ]
     },
     "execution_count": 5,
     "metadata": {},
     "output_type": "execute_result"
    }
   ],
   "source": [
    "get_description_and_death('English singer-songwriter (\"[[Won\\'t Somebody Dance with Me]]\"), brain haemorrhage.<ref>[http://www.bbc.co.uk/news/entertainment-arts-29457228 Singer Lynsey De Paul dies aged 64]</ref>')"
   ]
  },
  {
   "cell_type": "code",
   "execution_count": null,
   "metadata": {
    "collapsed": false
   },
   "outputs": [],
   "source": []
  },
  {
   "cell_type": "markdown",
   "metadata": {},
   "source": [
    "#### Function for cleaning a particular list entry\n",
    "\n",
    "As far as I know this function isn't actually called for any cleaning and was written as an afterthought in case it was needed."
   ]
  },
  {
   "cell_type": "markdown",
   "metadata": {},
   "source": [
    "#### Get month, year, name, age rows\n",
    "\n",
    "Month and year come from the file name so are guaranteed. Name and age are virtually guaranteed from each listing as well."
   ]
  },
  {
   "cell_type": "code",
   "execution_count": 63,
   "metadata": {
    "collapsed": true
   },
   "outputs": [],
   "source": [
    "mo_yr_key_re = re.compile('(\\d+)_(\\d+).*?')\n",
    "name_age_re = re.compile('\\s?\\[\\[(.*?)\\]\\], (\\d+), (.+)?$', re.MULTILINE)\n",
    "\n",
    "\"\"\"\n",
    "Inputs: month-year key string, text entry string\n",
    "\n",
    "Outputs: list of month, year, name, and age\n",
    "\"\"\"\n",
    "def parse_month_year_name_age(my_key, text_entry):\n",
    "    return (list(re.match(mo_yr_key_re, my_key).groups()) +\n",
    "            list(re.match(name_age_re, text_entry.replace('\\n', '')).groups()))"
   ]
  },
  {
   "cell_type": "markdown",
   "metadata": {},
   "source": [
    "#### Convert all links in text blocks into normal text\n",
    "\n",
    "In other words, removing the [ and ] brackets as well as any text after | in links if present."
   ]
  },
  {
   "cell_type": "code",
   "execution_count": 64,
   "metadata": {
    "collapsed": false
   },
   "outputs": [],
   "source": [
    "#link_re = re.compile('\\[\\[([^\\|(?:\\]\\])]*)(?=\\||\\]\\])', re.DOTALL)\n",
    "link_re = re.compile('\\[\\[([^\\|\\]]*)(?=\\||\\]\\])', re.DOTALL)\n",
    "\n",
    "#link_all_re = re.compile('(\\[\\[([^(\\]\\])]*)(\\]\\]))')\n",
    "link_all_re = re.compile('(\\[\\[(?:[^\\[\\]])+\\]\\])')\n",
    "\n",
    "\"\"\"\n",
    "Used to be messy, not anymore!\n",
    "\"\"\"\n",
    "\"\"\"\n",
    "Find links and convert them to the displayed text\n",
    "\"\"\"\n",
    "\n",
    "# need to check if contains link\n",
    "# essentially does the same thing as get_wiki_url...\n",
    "def extract_link_text(link_block):\n",
    "    link_present = link_re.search(link_block)\n",
    "    if link_present:\n",
    "        return link_present.groups()\n",
    "    return link_block\n",
    "\n",
    "def link_only(matchobj):\n",
    "    cleaned_text = extract_link_text(matchobj.groups()[0])[0]\n",
    "    return cleaned_text\n",
    "\n",
    "def link_only_special(text):\n",
    "    print text.groups()\n",
    "\n",
    "def remove_link_text(text_block):\n",
    "    return re.sub(link_all_re, link_only, text_block)"
   ]
  },
  {
   "cell_type": "code",
   "execution_count": 65,
   "metadata": {
    "collapsed": false
   },
   "outputs": [
    {
     "name": "stdout",
     "output_type": "stream",
     "text": [
      "('1asdf',)\n",
      "('George Savage (politician)',)\n"
     ]
    }
   ],
   "source": [
    "print extract_link_text('[[1asdf|2]]')\n",
    "print extract_link_text('[[George Savage (politician)|George Savage]]')"
   ]
  },
  {
   "cell_type": "code",
   "execution_count": 66,
   "metadata": {
    "collapsed": false,
    "scrolled": true
   },
   "outputs": [],
   "source": [
    "#remove_link_text('asdf asdf [[ab]] [[cd|efg]]')\n",
    "#remove_link_text('[[George Savage (politician)|George Savage]], 72, British politician, [[Member of the Legislative Assembly (Northern Ireland)|MLA]] for [[Upper Bann (Assembly constituency)|Upper Bann]]')\n",
    "#link_all_re.search('[[George Savage (politician)|George Savage]], 72, British politician, [[Member of the Legislative Assembly (Northern Ireland)|MLA]] for [[Upper Bann (Assembly constituency)|Upper Bann]]').groups()\n",
    "#re.sub(link_all_re, link_only, '[[George Savage (politician)|George Savage]], 72, British politician, [[Member of the Legislative Assembly (Northern Ireland)|MLA]] for [[Upper Bann (Assembly constituency)|Upper Bann]]')\n",
    "a = re.sub(link_all_re, link_only, '[[George Savage (politician)|George Savage]], 72, British politician, [[Member of the Legislative Assembly (Northern Ireland)|MLA]] for [[Upper Bann (Assembly constituency)|Upper Bann]]')"
   ]
  },
  {
   "cell_type": "code",
   "execution_count": 67,
   "metadata": {
    "collapsed": false
   },
   "outputs": [
    {
     "data": {
      "text/plain": [
       "'George Savage (politician), 72, British politician, Member of the Legislative Assembly (Northern Ireland) for Upper Bann (Assembly constituency)'"
      ]
     },
     "execution_count": 67,
     "metadata": {},
     "output_type": "execute_result"
    }
   ],
   "source": [
    "a"
   ]
  },
  {
   "cell_type": "markdown",
   "metadata": {},
   "source": [
    "#### Extracting nationality from description\n",
    "\n",
    "Nationality is roughly matched to the first $n$ words that have capitalized first letters. Sometimes this will capture titles or description text such as \"British Prime Minister\" or \"Australian Olympic.\" However, it does a pretty good job of making sure countries such as \"New Zealand\" and \"South African\" aren't cut off."
   ]
  },
  {
   "cell_type": "code",
   "execution_count": 68,
   "metadata": {
    "collapsed": false
   },
   "outputs": [],
   "source": [
    "natl_pattern1 = re.compile(' ?((?:[A-Z][^\\s]+ ?)+) ', re.UNICODE)\n",
    "\n",
    "def get_nationality_text(desc_text):\n",
    "    try:\n",
    "        # get rid of url links\n",
    "        return natl_pattern1.match(desc_text.strip('[')).groups()[0]\n",
    "    except AttributeError, e:\n",
    "        print desc_text"
   ]
  },
  {
   "cell_type": "code",
   "execution_count": 69,
   "metadata": {
    "collapsed": false
   },
   "outputs": [
    {
     "data": {
      "text/plain": [
       "('Native American',)"
      ]
     },
     "execution_count": 69,
     "metadata": {},
     "output_type": "execute_result"
    }
   ],
   "source": [
    "natl_pattern1.match('Native American asdf asdfasdf ').groups()"
   ]
  },
  {
   "cell_type": "markdown",
   "metadata": {},
   "source": [
    "#### Parse out additional characters and urls from name field"
   ]
  },
  {
   "cell_type": "code",
   "execution_count": 70,
   "metadata": {
    "collapsed": false
   },
   "outputs": [],
   "source": [
    "# essentially does the same thing as extract_link_text\n",
    "def get_wiki_url(name_text):\n",
    "    return name_text.split('|')[0].strip('[').strip(']')"
   ]
  },
  {
   "cell_type": "markdown",
   "metadata": {},
   "source": [
    "#### Additional functions for cleaning and removing characters"
   ]
  },
  {
   "cell_type": "code",
   "execution_count": 71,
   "metadata": {
    "collapsed": false
   },
   "outputs": [],
   "source": [
    "def remove_end_period(text):\n",
    "    return re.sub('\\.$', '', re.sub('\\s$','',text))\n",
    "\n",
    "def remove_beginning_space(text):\n",
    "    return re.sub('^ +','',text)"
   ]
  },
  {
   "cell_type": "code",
   "execution_count": 72,
   "metadata": {
    "collapsed": false
   },
   "outputs": [
    {
     "data": {
      "text/plain": [
       "('asdf', 'fasdf')"
      ]
     },
     "execution_count": 72,
     "metadata": {},
     "output_type": "execute_result"
    }
   ],
   "source": [
    "a1 = remove_beginning_space('   asdf')\n",
    "a2 = remove_end_period('fasdf. ')\n",
    "a1, a2"
   ]
  },
  {
   "cell_type": "code",
   "execution_count": 73,
   "metadata": {
    "collapsed": true
   },
   "outputs": [],
   "source": [
    "def text_clean(text):\n",
    "    if type(text) != str:\n",
    "        return text\n",
    "    \n",
    "    new_text = text\n",
    "    url_match = re.match(death_clean_no_url_re, text)\n",
    "    if url_match:\n",
    "        new_text = url_match.groups()[0]\n",
    "    return remove_beginning_space(\n",
    "    remove_end_period(\n",
    "        remove_link_text(new_text)\n",
    "        ).replace('[','').replace(']','')\n",
    "    )"
   ]
  },
  {
   "cell_type": "code",
   "execution_count": 74,
   "metadata": {
    "collapsed": false
   },
   "outputs": [
    {
     "data": {
      "text/plain": [
       "'Crops and Livestock. Shot by masked gunmen'"
      ]
     },
     "execution_count": 74,
     "metadata": {},
     "output_type": "execute_result"
    }
   ],
   "source": [
    "text_clean('Physician to the Queen (1973-1981). ')\n",
    "text_clean('Crops and Livestock. Shot by masked gunmen. http://news.bbc.co.uk/2/low/americas/4935288.stm ')"
   ]
  },
  {
   "cell_type": "code",
   "execution_count": null,
   "metadata": {
    "collapsed": true
   },
   "outputs": [],
   "source": []
  },
  {
   "cell_type": "markdown",
   "metadata": {},
   "source": [
    "### Re-read and process scraped file data locally"
   ]
  },
  {
   "cell_type": "code",
   "execution_count": 75,
   "metadata": {
    "collapsed": false
   },
   "outputs": [],
   "source": [
    "jsonfiles = [f for f in listdir('../out/raw_pages/') if (isfile(join('../out/raw_pages/', f)) and f[-4:] == 'json')]"
   ]
  },
  {
   "cell_type": "code",
   "execution_count": 76,
   "metadata": {
    "collapsed": false
   },
   "outputs": [],
   "source": [
    "month_year_pages = {}\n",
    "\n",
    "for jfilename in jsonfiles:\n",
    "    my_key = \"_\".join(re.match(mo_yr_key_re, jfilename).groups())\n",
    "    with open('../out/raw_pages/' + jfilename, 'rb') as infile:\n",
    "        contents = infile.read()\n",
    "        infile.close()\n",
    "    month_year_pages[my_key] = json.loads(contents)['query']['pages'].values()[0]['revisions'][0]['*']"
   ]
  },
  {
   "cell_type": "code",
   "execution_count": 77,
   "metadata": {
    "collapsed": true
   },
   "outputs": [
    {
     "data": {
      "text/plain": [
       "[u\"{{Deaths in month TOC}}\\nThe following is a list of notable '''deaths in January 2006'''.\\n\\n==January 2006==\\n\\n===1===\\n\",\n",
       " u' [[Frank Cary]], 85, American businessman, chairman of [[IBM]] (1973\\u20131981), natural causes. [http://www.nytimes.com/2006/01/06/business/06cary.html?ex=1294203600&en=2c6e3e44b801ad4c&ei=5090]\\n',\n",
       " u' [[Mapita Cort\\xe9s]], 66, Mexican actress, cancer. [http://www.imdb.com/name/nm0181558/]\\n',\n",
       " u\" [[Bryan Harvey (musician)|Bryan Harvey]], 49, American musician ''([[House of Freaks]], [[Gutterball (band)|Gutterball]])'', murdered. [http://www.rollingstone.com/news/story/_/id/9101924]\\n\",\n",
       " u' [[Dawn Lake]], 78, Australian entertainer, widow of [[Bobby Limb]]. [http://www.smh.com.au/news/obituaries/one-out-of-the-box-radio-stage/2006/01/20/1137734145475.html]\\n',\n",
       " u' [[John Latham (artist)|John Latham]], 84, Zambian artist, natural causes. [http://arts.guardian.co.uk/news/obituary/0,,1681201,00.html]\\n',\n",
       " u\" [[Paul Lindblad]], 64, American baseball player ([[Oakland Athletics]]), Alzheimer's disease. [http://www.washingtonpost.com/wp-dyn/content/article/2006/01/13/AR2006011301777.html]\\n\",\n",
       " u' [[Dragan Luki\\u0107]], 77, Serbian writer, after long illness. [http://www.evri.com/person/dragan-lukic-0x4d617]\\n',\n",
       " u' [[Harry Magdoff]], 92, American socialist and editor, natural causes. [http://www.thenation.com/doc/20060123/obit1]\\n',\n",
       " u\" [[Charles O. Porter]], 86, American politician, Representative from Oregon (1957\\u20131961), Alzheimer's disease. [http://www.washingtonpost.com/wp-dyn/content/article/2006/01/05/AR2006010502166.html]\\n\",\n",
       " u' [[Gideon Rodan]], 71, American biochemist, cancer. [http://www.nytimes.com/2006/01/20/science/20rodan.html?ex=1295413200&en=96a6ac97b7d11e04&ei=5088&partner=rssnyt&emc=rss]\\n',\n",
       " u' [[Hubert Schoemaker]], 55, Dutch chemist, co-founder of [[Centocor]], brain cancer. [http://www.nytimes.com/2006/01/13/business/13schoemaker.html?ex=1294808400&en=6861e2bfd8448475&ei=5088&partner=rssnyt&emc=rss]\\n',\n",
       " u' [[Charles Steen]], 86, American geologist and businessman. [http://www.rockymountainnews.com/drmn/news_columnists/article/0,1299,DRMN_86_4545659,00.html]\\n\\n===2===\\n',\n",
       " u' [[Frank Butler (British sportswriter)|Frank Butler]], 89, British sports journalist. [http://www.thetimes.co.uk/tto/opinion/obituaries/article2087514.ece]\\n',\n",
       " u' [[Raul Davila]], 74, Puerto Rican actor and television producer, heart attack. [http://www.soapcentral.com/amc/news/2006/0109-davila.php]\\n',\n",
       " u\" [[Ofelia Fox]], 82, Cuban nightclub owner ''([[Tropicana Club]])'', cancer. [http://www.nytimes.com/2006/01/11/arts/11fox.html]\\n\",\n",
       " u' [[Osa Massen]], 91, [[Denmark|Danish]] [[actress]]. [http://www.variety.com/article/VR1117939842.html?categoryid=25&cs=1]\\n',\n",
       " u' [[Klemens Mielczarek]], 85, Polish actor. [http://www.filmpolski.pl/fp/index.php/114659]\\n',\n",
       " u' [[Michael S. Smith]], 59, American [[jazz]] [[drummer]]. [http://pqasb.pqarchiver.com/washingtonpost/access/959539041.html?dids=959539041:959539041&FMT=ABS&FMTS=ABS:FT&fmac=&date=Jan+9%2C+2006&author=&desc=Obituaries]\\n',\n",
       " u' [[Francis Steinmetz]], 91, Dutch author and [[Colditz Castle]] escapee. [http://www.telegraph.co.uk/news/main.jhtml?xml=/news/2006/02/25/db2501.xml&sSheet=/portal/2006/02/26/ixportal.html]\\n',\n",
       " u' [[Frank Wilkinson]], 91, American [[civil liberties]] [[activist]], natural causes. [http://www.nytimes.com/2006/01/04/national/04wilkinson.html]\\n',\n",
       " u' [[John Wojtowicz]], 60, American [[bankrobber]], cancer. [http://www.nydailynews.com/news/crime_file/story/411166p-347832c.html]\\n',\n",
       " u' [[John Woodnutt]], 81, British actor. [http://news.independent.co.uk/people/obituaries/article342104.ece]\\n',\n",
       " u' [[Lidia Wysocka]], 89, [[Poland|Polish]] actress. [http://www.imdb.com/name/nm0944123/]\\n\\n===3===\\n',\n",
       " u' [[Urbano Lazzaro]], 81, Italian resistance fighter, capture of  [[Benito Mussolini]]. [http://www.nytimes.com/2006/01/05/international/europe/05lazzaro.html]\\n',\n",
       " u' [[Steve Rogers (rugby league footballer)|Steve Rogers]], 51, Australian rugby league player, apparent suicide. [http://www.theaustralian.com.au/common/story_page/0,5744,17719304%255E1702,00.html]\\n',\n",
       " u' [[Bill Skate|Sir William Skate]], 52, Papua New Guinean politician, Prime Minister (1997\\u20131999), stroke. [http://www.pacificmagazine.net/news/2006/01/04/png-former-prime-minister-sir-william-skate-dies-at-52]\\n',\n",
       " u' [[Bruce Wilson (Australian journalist)|Bruce Wilson]], 64, Australian journalist, cancer. [http://www.heraldsun.news.com.au/common/story_page/0,5478,17726261%5E662,00.html]\\n\\n===4===\\n',\n",
       " u' [[John Hahn-Petersen]], 75, Danish actor, heart attack. [http://nyhederne.tv2.dk/article.php?id=3438699]\\n',\n",
       " u' [[Sophie Heathcote]], 33, Australian actress. [http://www.theage.com.au/news/people/television-star-heathcote-dies-in-us/2006/01/05/1136387572379.html]\\n',\n",
       " u' [[Milton Himmelfarb]], 87, American essayist. [http://www.nytimes.com/2006/01/15/nyregion/15himmelfarb.html]\\n',\n",
       " u' [[Stan Hunt]], 76, American cartoonist. [http://www.thepilot.com/news/010606Hunt.html]\\n',\n",
       " u\" [[Irving Layton]], 93, Canadian poet, complications from Alzheimer's disease. [http://www.nytimes.com/2006/01/13/books/13layton.html]\\n\",\n",
       " u' [[Maktoum bin Rashid Al Maktoum|Sheikh Maktoum bin Rashid Al Maktoum]], 62, Emirati emir, Ruler of [[Dubai]] and [[Prime Minister of the United Arab Emirates]], heart attack. [http://www.washingtonpost.com/wp-dyn/content/article/2006/01/04/AR2006010401988.html]\\n',\n",
       " u' [[Gretl Sch\\xf6rg]], 91, German actress. [http://www.findagrave.com/cgi-bin/fg.cgi?page=gr&GRid=47952737]\\n',\n",
       " u' [[Lourdes Van-D\\xfanem]], 70, Angolan singer, typhoid fever. [http://www.panapress.com/Angolan-singer-Lourdes-Van-Dunem-dies-of-typhoid--13-577657-18-lang2-index.html]\\n',\n",
       " u' [[Nel van Vliet]], 79, Dutch swimmer. [http://www.nrc.nl/anp/sport/article122688.ece]\\n\\n===5===\\n<!-- Please place entries under each date in ALPHABETICAL ORDER -->\\n',\n",
       " u' [[Ramona Bell]], 47, American wife of broadcaster [[Art Bell]], asthma attack. [http://www.unknowncountry.com/news/?id=5103]\\n',\n",
       " u' [[Rod Dedeaux]], 91, American college baseball coach, complications from a stroke. [http://www.nytimes.com/2006/01/07/sports/baseball/07Dedeaux.html?ex=1294290000&en=3c876f8c139d0e8c&ei=5090]\\n',\n",
       " u' [[Keizo Miura]], 101, Japanese mountaineer. [http://mdn.mainichi-msn.co.jp/national/news/20060105p2a00m0na029000c.html]\\n',\n",
       " u' [[Merlyn Rees|Lord Merlyn-Rees]], 85, Welsh-born politician, former British Home Secretary, following a number of falls. [http://news.bbc.co.uk/1/hi/uk_politics/3664283.stm]\\n',\n",
       " u' [[Ken Mosdell]], 83, Canadian ice hockey forward, Former [[Montreal Canadiens]] Hockey player. [http://ourhistory.canadiens.com/player/Ken-Mosdell]\\n',\n",
       " u' [[Mark Roberts (actor)|Mark Roberts]], 84, American actor. [http://www.imdb.com/name/nm0731392/]\\n',\n",
       " u' [[Simon Shanks]], 34, American football player, linebacker for the [[Arizona Cardinals]] in 1995, murdered by home intruder. [http://cbs.sportsline.com/nfl/story/9148818/rss]\\n',\n",
       " u' [[Rachel Squire]], 51, British Labour Member of Parliament for [[Dunfermline and West Fife]], stroke. [http://news.bbc.co.uk/1/hi/scotland/4586808.stm]\\n',\n",
       " u' [[Alex St. Clair]], 64, American musician, primarily with [[Captain Beefheart]]. [http://www.independent.co.uk/news/obituaries/alex-st-clair-522940.html]\\n',\n",
       " u' [[Vajramuni]], 62, Indian actor. [http://www.hindu.com/2006/01/06/stories/2006010609550100.htm]\\n\\n===6===\\n',\n",
       " u' [[Allaire du Pont]], 92, American thoroughbred enthusiast, owner of [[Kelso (horse)|Kelso]], natural causes. [http://www.nytimes.com/2006/01/10/sports/10du-pont.html]\\n',\n",
       " u' [[Roshan Khan]], 76, Pakistani squash player, father of [[Jahangir Khan]] complications from a heart attack and coma. [http://news.bbc.co.uk/sport2/hi/other_sports/squash/4590024.stm]\\n',\n",
       " u' [[J\\xf3zef Milik]], 83, Polish Catholic priest and [[Dead Sea Scrolls]] scholar.\\n',\n",
       " u\" [[Comandante Ramona]], 47, Mexican [[Tzotzil people|Tzotzil]] [[Zapatista Army of National Liberation|Zapatista]] rebel leader and women's rights advocate, kidney disease and tuberculosis. [http://www.nytimes.com/2006/01/10/obituaries/10ramona.html]\\n\",\n",
       " u' [[Lou Rawls]], 72, American jazz and blues singer, lung and brain cancer. [http://www.breitbart.com/news/2006/01/06/D8EV971O0.html][http://www.nytimes.com/2006/01/06/arts/music/06cnd-rawls.html?ex=1294203600&en=37f048c5aae7aa16&ei=5090][http://www.nytimes.com/2006/01/07/arts/music/07rawls.html?ex=1294290000&en=4989727aad1ee85f&ei=5090][http://www.washingtonpost.com/wp-dyn/content/article/2006/01/06/AR2006010600588.html]\\n',\n",
       " u' [[Hugh Thompson, Jr.]], 62, Vietnamese War helicopter pilot who helped stop the [[My Lai Massacre]], removed from life support. [http://www.nytimes.com/2006/01/07/national/07thompson.html?ex=1294290000&en=8704597229a070d3&ei=5090][http://www.washingtonpost.com/wp-dyn/content/article/2006/01/06/AR2006010601911.html]\\n',\n",
       " u' [[Stanley Roger Tupper]], 84, American politician, former Republican United States Representative from [[Maine]] from 1961 - 1967.\\n',\n",
       " u' [[G\\xe1bor Zavadszky]], 31, Hungarian footballer (soccer player), probably pulmonary embolism. [http://www.uefa.com/footballeurope/news/Kind=2/newsId=383409.html]\\n\\n===7===\\n<!-- Please place entries under each date in ALPHABETICAL ORDER -->\\n',\n",
       " u' [[Urano Teixeira da Matta Bacellar]], 58, Brazilian soldier, Head of the UN peacekeeping force in Haiti, suicide. [http://www.cnn.com/2006/WORLD/americas/01/07/un.haiti.ap/index.html]\\n',\n",
       " u' [[Heinrich Harrer]], 93, Austrian mountaineer, sportsman, geographer and author. [http://www.heute.de/ZDFheute/inhalt/0/0,3672,3267392,00.html][http://www.nytimes.com/2006/01/10/obituaries/10harrer.html]\\n',\n",
       " u' [[Alf McMichael]], 78, Northern Irish footballer. [http://www.national-football-teams.com/player/20461.html]\\n',\n",
       " u' [[Jim Zulevic]], 40, American actor, heart attack. [http://www.variety.com/article/VR1117936265.html?categoryid=25&cs=1]\\n\\n===8===\\n<!-- Please place entries under each date in ALPHABETICAL ORDER -->\\n',\n",
       " u' [[Tony Banks, Baron Stratford]], 62, British politician and peer, former British Minister for Sport, stroke and cerebral hemorrhage. [https://www.theguardian.com/obituaries/story/0,,1682322,00.html]\\n',\n",
       " u' [[Elson Becerra]], 27, Colombian football player, shot. [http://news.bbc.co.uk/sport1/hi/football/internationals/4597700.stm]\\n',\n",
       " u' [[Alex Elmsley]], 76, English magician, heart attack. [http://www.magicweek.co.uk/magic_articles/article_alex_elmsley.htm]\\n',\n",
       " u' [[Prince George William of Hanover (1915\\u20132006)|Georg Wilhelm, Prince of Hanover]], 90, German aristocrat, educator and Olympian. [http://www.telegraph.co.uk/news/main.jhtml?view=DETAILS&grid=&xml=/news/2006/01/17/db1701.xml]\\n',\n",
       " u\" [[David Rosenbaum (journalist)|David Rosenbaum]], 63, American journalist, ''[[New York Times]]'' reporter, head injury during mugging. [http://www.nytimes.com/2006/01/09/national/09rosenbaum.html]\\n\",\n",
       " u' [[Mimmo Rotella]], 87, Italian artist, illness. [http://www.nytimes.com/2006/01/13/arts/design/13rotella.html]\\n',\n",
       " u' [[Raatbek Sanatbayev]], 36, [[Kyrgyzstan|Kyrgyz]] Olympic Greco-Roman wrestler and candidate for National Olympic Committee president, shot [http://newsfromrussia.com/cis/2006/01/10/70956.html]\\n',\n",
       " u' [[Jos\\xe9 Luis S\\xe1nchez (footballer)|Jos\\xe9 Luis S\\xe1nchez]], 31, Argentine football (soccer) player, from injuries sustained in a biking accident.\\n\\n===9===\\n<!-- Please place entries under each date in ALPHABETICAL ORDER -->\\n',\n",
       " u' [[Andy Caldecott]], 41, Australian [[Dakar Rally]] motorcycle rider, fatal neck injury sustained in an accident in Mauritania. [http://www.abc.net.au/news/newsitems/200601/s1544387.htm]\\n',\n",
       " u' [[Patricia Hitt]], 87, American Assistant Secretary of Health, Education, and Welfare under President Nixon, natural causes. [http://www.nytimes.com/2006/01/17/national/17hitt.html]\\n',\n",
       " u' [[Selwyn Hughes]], 77, British fundamentalist evangelical who founded [[Crusade for World Revival]]\\n',\n",
       " u' [[Mikk Mikiver]], 68, Estonian stage director and actor.\\n',\n",
       " u' [[W. Cleon Skousen]], 92, American conservative author, [[BYU]] professor and prominent [[Latter-day Saint]] author and lecturer.\\n',\n",
       " u' [[Gordon Smith (inventor)|Gordon Smith]], 55, Canadian inventor ([[KISS (rebreather)|KISS rebreather]]). [http://www.yorkshire-divers.com/forums/kiss-sport-kiss-rebreathers/30825-gordon-smith.html]\\n',\n",
       " u' [[Jack Snow (football)|Jack Snow]], 62, American NFL player and radio announcer, complications from a staph infection. [http://www.nytimes.com/2006/01/11/sports/football/11snow.html]\\n',\n",
       " u\" [[Don Stewart (actor)|Don Stewart]], 70, American actor (''[[The Guiding Light]]''), lung cancer. [http://www.nytimes.com/2006/01/21/arts/21stewart.html]\\n\\n===10===\\n<!-- Please place entries under each date in ALPHABETICAL ORDER -->\\n\",\n",
       " u' [[Ira B. Black]], 64, American neuroscientist, founder of the Stem Cell Institute of New Jersey, infection related to a tumor. [http://www.nytimes.com/2006/01/12/nyregion/12black.html]\\n',\n",
       " u' [[Dave Brown (cornerback)|Dave Brown]], 52, American NFL player, heart attack. [http://www.seattlepi.com/football/255235_brown11.html]\\n',\n",
       " u' [[Elliot Forbes]], 88, American conductor, musicologist, Harvard University professor and Beethoven scholar. [http://www.nytimes.com/2006/01/14/arts/14forbes.html]\\n',\n",
       " u' [[Sidney Frank]], 86, American businessman and philanthropist, heart failure. [http://www.nytimes.com/2006/01/12/business/12frank.html]\\n',\n",
       " u' [[Alethea Hayter]], 94, British writer. [http://news.independent.co.uk/people/obituaries/article337760.ece]\\n',\n",
       " u' [[Dennis Marks (screenwriter)|Dennis Marks]], 73, American animation writer-producer. [http://www.latimes.com/news/obituaries/la-me-passings19.2jan19,0,3864538.story?coll=la-news-obituaries]\\n',\n",
       " u' [[John Sinibaldi]], 92, American Olympic cyclist. [http://www.sports-reference.com/olympics/athletes/si/john-sinibaldi-1.html]\\n\\n===11===\\n<!-- Please place entries under each date in ALPHABETICAL ORDER -->\\n',\n",
       " u' [[Eric Namesnik]], 35, American Olympic swimmer, injuries from a car crash. {{Citation needed|date=February 2007}}\\n',\n",
       " u' [[Mark Spoon]], 39, German DJ, prominent figure in trance music and member of ([[Jam & Spoon]]), heart attack. [http://www.spiegel.de/kultur/musik/0,1518,394770,00.html]\\n\\n===12===\\n<!-- Please place entries under each date in ALPHABETICAL ORDER -->\\n',\n",
       " u' [[William Matthew Byrne, Jr.]], 75, American federal judge, presiding judge in the trial of [[Daniel Ellsberg]], pulmonary fibrosis. [http://www.nytimes.com/2006/01/15/national/15byrne.html][http://www.washingtonpost.com/wp-dyn/content/article/2006/01/14/AR2006011401165.html]\\n',\n",
       " u' [[Brendan Cauldwell]], 83, Irish actor, died in sleep.\\n',\n",
       " u' [[Eldon Dedini]], 84, American cartoonist, esophageal cancer. [http://www.nytimes.com/2006/01/14/arts/14dedini.html]\\n',\n",
       " u' [[Shaikh Faisal bin Hamad Al Khalifa]], 15, Bahraini prince, injuries from a car crash. [http://www.nikosgranturismo5.blogspot.com/2014/04/faisal-bin-hamad-bin-isa-al-khalifa_13.html]\\n',\n",
       " u' [[G\\xfcnther Landgraf]], 77, German physicist and former President of [[Technische Universit\\xe4t Dresden]]. [http://tu-dresden.de/aktuelles/news/landgraf/newsarticle_view]\\n',\n",
       " u' [[Stewart Linder]], 74, American Oscar-winning film editor.\\n',\n",
       " u\" [[Anne Meacham]], 80, American stage (''[[Suddenly, Last Summer]]'') and television actress (''[[Another World (TV series)|Another World]]''). [http://www.nytimes.com/2006/01/17/arts/17meacham.html]\\n\",\n",
       " u' [[Meinrad Sch\\xfctter]], 95, Swiss composer. [http://www.espace.ch/artikel_168262.html]\\n\\n===13===\\n<!-- Please place entries under each date in ALPHABETICAL ORDER -->\\n',\n",
       " u' [[Ra\\xfal Anguiano]], 90, Mexican engraver and painter. [http://www.eluniversal.com.mx/notas/325422.html]\\n',\n",
       " u' [[Gordon Atkinson (Canadian politician)|Gordon Atkinson]], 83, Canadian broadcaster and politician. [http://www.assnat.qc.ca/en/deputes/atkinson-gordon-1775/biographie.html] (French)\\n',\n",
       " u' [[Richard Dalitz]], 80, Australian physicist, expert in exotic particles, studied quarks. [https://www.theguardian.com/science/2006/jan/24/obituaries.highereducation]\\n',\n",
       " u' [[Frank Fixaris]], 71, American sportscaster, house fire. [http://www.tvjobs.com/obits/obit1028.htm]\\n',\n",
       " u' [[Ron Jessie]], 57, American NFL wide receiver, heart attack. [http://sports.espn.go.com/nfl/news/story?id=2295067]\\n',\n",
       " u' [[Marc Potvin]], 38, Canadian NHL player, found dead in his hotel room in Michigan, suicide. {{Citation needed|date=February 2007}}\\n',\n",
       " u' [[Joan Root]], 69, American wildlife conservationist, shot to death. [http://www.nytimes.com/2006/01/17/international/17root.html]\\n\\n===14===\\n<!-- Please place entries under each date in ALPHABETICAL ORDER -->\\n',\n",
       " u' [[Henri Colpi]], 84, Swiss film director and cinematographer. [http://www.imdb.com/name/nm0173213/]\\n',\n",
       " u' [[Jim Gary]], 66, American sculptor, complications from a cerebral hemorrhage. [http://www.nytimes.com/2006/01/19/arts/design/19gary.html]\\n',\n",
       " u' [[Conrad Hendricks]], 27, South African professional football player, car crash. [http://www.kickoff.com/stories/story6439.html]\\n',\n",
       " u' [[Bubba Morton]], 74, American baseball player and coach. [http://old.seattletimes.com/html/huskies/2002746128_morton18.html]\\n',\n",
       " u' [[Mark Philo]], 21, English professional football player, injuries from a car crash. [http://sportsillustrated.cnn.com/2006/soccer/01/14/bc.eu.spt.soc.wycombe.player.ap/]\\n',\n",
       " u' [[Bob Weinstock]], 77, American record producer, founded independent jazz record label [[Prestige Records]], complications of diabetes. [http://www.nytimes.com/2006/01/16/arts/16weinstock.html]\\n',\n",
       " u\" [[Shelley Winters]], 85, American actress (''[[Lolita (1962 film)|Lolita]]'', ''[[The Poseidon Adventure (1972 film)|The Poseidon Adventure]]''), heart failure. [http://www.nytimes.com/2006/01/15/movies/15winters.html]\\n\\n===15===\\n<!-- Please place entries under each date in ALPHABETICAL ORDER -->\\n\",\n",
       " u' [[Jaber Al-Ahmad Al-Jaber Al-Sabah]], 79, Kuwaiti Emir, brain hemorrhage. [http://www.nytimes.com/2006/01/16/international/middleeast/16emir.html]\\n',\n",
       " u' [[Glyn Berry]], 59, Welsh-born Canadian diplomat in Afghanistan. [http://transmontanus.blogspot.co.uk/2006/01/glyn-berry-1946-2006-one-of-our-own.html]\\n',\n",
       " u' [[Hilma Contreras]], 95, Dominican writer. [http://www.listin.com.do/antes/enero06/160106/cuerpos/ciudades/ciu6.htm]\\n',\n",
       " u' [[Edward N. Hall]], 91, U.S. Air Force rocket expert, father of the Minuteman [[intercontinental ballistic missile]] program. [http://www.latimes.com/news/science/la-me-hall18jan18,0,4976069.story]\\n',\n",
       " u' [[George Worth]], 90, American Olympic fencer. [http://www.sports-reference.com/olympics/athletes/wo/george-worth-1.html]\\n\\n===16===\\n<!-- Please place entries under each date in ALPHABETICAL ORDER -->\\n',\n",
       " u' [[Stanley Biber]], 82, American physician and pioneer in [[sex reassignment surgery]], complications of pneumonia. {{Citation needed|date=February 2007}}\\n',\n",
       " u' [[Richard P. McCormick]], 89, American historian, professor at [[Rutgers University]], expert on early American political history and New Jersey history, illness.[http://www.historians.org/Perspectives/NewsBriefs/2006/0601/0601bri2.cfm]\\n\\n===17===\\n<!-- Please place entries under each date in ALPHABETICAL ORDER -->\\n',\n",
       " u' [[Clarence Ray Allen]], 76, American convicted murderer, executed by lethal injection. [http://www.cbsnews.com/stories/2006/01/16/national/main1210069.shtml]\\n',\n",
       " u' [[Harold R. Collier]], 90, American  politician, former Republican United States Representative from Illinois from 1957\\u20131975. [http://bioguide.congress.gov/scripts/biodisplay.pl?index=C000629]\\n',\n",
       " u' [[Wallace Mercer]], 59, British businessman, former chairman of [[Heart of Midlothian F.C.]], cancer. [http://sport.scotsman.com/index.cfm?id=83372006]\\n',\n",
       " u' [[Giles Worsley]], 44, British architectural historian and journalist, nephew of the [[Katharine, Duchess of Kent]], cancer. [http://www.telegraph.co.uk/news/main.jhtml?view=DETAILS&grid=&xml=/news/2006/01/19/db1901.xml]\\n\\n===18===\\n<!-- Please place entries under each date in ALPHABETICAL ORDER -->\\n',\n",
       " u\" [[Norman McCabe]], 94, American animator and director, famous for ''Tokio Jokio'' and ''The Ducktators'' shorts from his [[Termite Terrace]] tenure at [[Warner Bros.]]\\n\",\n",
       " u' [[Thomas Murphy (GM)|Thomas Murphy]], 90, American former CEO of [[General Motors Corporation|General Motors]]. [http://www.nytimes.com/2006/01/19/business/19murphy.html]\\n',\n",
       " u' [[Anton Rupert]], 89, South African businessman, philanthropist and founding member of [[World Wide Fund for Nature]], natural causes. [http://www.busrep.co.za/index.php?fArticleId=3072774]\\n',\n",
       " u' [[Stjepan Steiner]], 90, Croatian physician, doctor to [[Josip Broz Tito]]. [http://www.jutarnji.hr/umro-bivsi-titov-osobni-lijecnik--dr--steiner/12828/] (Croatian)\\n',\n",
       " u' [[Jan Twardowski]], 90, Polish priest and poet. [http://www.warsawvoice.pl/view/10542/]\\n\\n===19===\\n<!-- Please place entries under each date in ALPHABETICAL ORDER -->\\n',\n",
       " u\" [[Gary Downie]], South African psychotherapist and television production manager (''[[Doctor Who]]'', ''[[Star Cops]]''), cancer. [http://www.rtforum.co.uk/read.php?id=138803]\\n\",\n",
       " u' [[Anthony Franciosa]], 77, American actor, third husband of [[Shelley Winters]], stroke. [http://www.forbes.com/technology/feeds/ap/2006/01/20/ap2465153.html]\\n',\n",
       " u' [[Tom Nugent]], 92, American football coach, member of the [[College Football Hall of Fame]], congestive heart failure. [http://www.nytimes.com/2006/01/21/sports/ncaafootball/21nugent.html]\\n',\n",
       " u' [[Wilson Pickett]], 64, American soul singer, heart attack. [http://www.nytimes.com/2006/01/20/arts/music/20pickett.html]\\n',\n",
       " u' [[Awn Alsharif Qasim]], 73, Sudanese writer, educator and Islamic scholar\\n',\n",
       " u' [[Geoff Rabone]], 84, New Zealand cricketer. {{Citation needed|date=February 2007}}\\n',\n",
       " u' [[Franz Seitz, Jr.|Franz Seitz]], 85, German film director. {{Citation needed|date=February 2007}}\\n\\n===20===\\n<!-- Please place entries under each date in ALPHABETICAL ORDER -->\\n',\n",
       " u' [[Andrei Iordan]], 71, Kyrgyz politician, former prime minister of Kyrgyzstan. {{Citation needed|date=February 2007}}\\n',\n",
       " u' [[David Maust]], 51, American convicted serial killer, heart failure after a botched suicide attempt. [http://www.thetimesonline.com/articles/2006/01/21/news/top_news/82cedeef5cb71aff862570fd00044ffa.txt]\\n',\n",
       " u' [[Dave Lepard]], 25, Swedish musician ([[Crashd\\xefet]]), suicide.\\n',\n",
       " u' [[Rose Nader|Rose Bouziane Nader]], 99, Lebanese-born President of the [[Shafeek Nader Trust for the Community Interest]], mother of US Presidential candidate [[Ralph Nader]], congestive heart failure. [http://www.nytimes.com/2006/01/25/nyregion/25nader.html]\\n',\n",
       " u' [[Perrie Simpson]], 43, American convicted murderer, executed by lethal injection.\\n',\n",
       " u\" [[Pio Taofinu'u]], 82, Samoan Roman Catholic cardinal. [http://www.pacificmagazine.net/news/2006/01/23/american-samoa-cardinal-pio-tributes]\\n\",\n",
       " u' [[Leslie Wilson (cyclist)|Leslie Wilson]], 80, British Olympic cyclist. [http://www.sports-reference.com/olympics/athletes/wi/les-wilson-1.html]\\n\\n=== 21 ===\\n<!-- Please place entries under each date in ALPHABETICAL ORDER -->\\n',\n",
       " u' [[Michael Chan, Baron Chan]], 65, British paediatrician, second peer of Chinese origin. [http://www.telegraph.co.uk/news/main.jhtml?view=DETAILS&grid=&xml=/news/2006/01/26/db2603.xml]\\n',\n",
       " u' [[John James Cowperthwaite]], 90, British civil servant, [[Financial Secretary of Hong Kong]] (1961\\u20131971). [http://www.telegraph.co.uk/news/main.jhtml?xml=/news/2006/01/25/db2501.xml&sSheet=/portal/2006/01/25/ixportal.html]\\n',\n",
       " u' [[Robert Knudson]], 80, American sound engineer, three-time Academy Award winner, supranuclear palsy. [http://articles.latimes.com/2006/feb/08/local/me-knudson8]\\n',\n",
       " u' [[Ibrahim Rugova]], 61, Kosovan politician, [[President of Kosovo]], lung cancer. [http://news.bbc.co.uk/2/hi/europe/4634562.stm]\\n\\n=== 22 ===\\n<!-- Please place entries under each date in ALPHABETICAL ORDER -->\\n',\n",
       " u' [[Janette Carter]], 82, American last living member of the [[Carter Family]] country music group. [https://web.archive.org/web/20060425072635/http://www.timesnews.net/article.dna?_StoryID=3592980]\\n',\n",
       " u' [[Alec Coxon]], 90, English cricketer, Yorkshire and England player. [http://ichuddersfield.icnetwork.co.uk/0200sport/0400cricket/tm_objectid=16622567&method=full&siteid=50060&headline=all-rounder-alec-coxon-dies-at-90-name_page.html]\\n',\n",
       " u' [[Sherman Ferguson]], 61, American jazz drummer [http://www.allaboutjazz.com/php/news.php?id=8698]\\n',\n",
       " u\" [[Ayd\\u0131n G\\xfcven G\\xfcrkan]], 65, Turkish academic and politician (chairman of [[Social Democratic People's Party (Turkey)|SHP]]) {{cn|date=April 2016}}\\n\",\n",
       " u' [[Nellie Y. McKay]], 67, African-American literary critic, colon cancer. [http://www.nytimes.com/2006/01/28/national/28mckay.html]\\n\\n=== 23 ===\\n<!-- Please place entries under each date in ALPHABETICAL ORDER -->\\n',\n",
       " u' [[Ernie Baron]], 65, Filipino radio/TV host and meteorologist, heart attack brought about by diabetes. {{Citation needed|date=February 2007}}\\n',\n",
       " u' [[Andrea Bronfman]], 60, American philanthropist and wife of [[Charles Bronfman]], hit by car. [http://www.nj.com/news/ledger/index.ssf?/base/news-4/1138081585114670.xml&coll=1]\\n',\n",
       " u' [[Savino Guglielmetti]], 94, Italian gymnast, 1928 Olympic gold-medalist and oldest surviving Olympic champion. [http://www.ueg-gymnastics.com/news/detail.php?id=2202]\\n',\n",
       " u' General [[Samuel W. Koster]], 86, United States Army officer, highest ranking United States Army officer charged in [[My Lai massacre]], renal cancer [http://www.nytimes.com/2006/02/11/national/11koster.html]\\n',\n",
       " u' [[Chris McKinstry]], 38, Canadian independent researcher in artificial intelligence, suicide. {{Citation needed|date=February 2007}}\\n',\n",
       " u' [[Joseph M. Newman]], 96, American Film Director/Producer, This Island Earth. [http://www.imdb.com/name/nm0628149/]\\n',\n",
       " u' [[William \"Bill\" Rice|Bill Rice]], 74, American artist. [http://www.nytimes.com/2006/01/29/arts/design/29rice.html]\\n',\n",
       " u' [[Virginia D. Smith|Virginia Smith]], 94, American  politician, former Republican United States Representative from Nebraska (1975\\u20131991).\\n',\n",
       " u' [[Michael Wharton]], 92, British humorist (\"Peter Simple\"). {{Citation needed|date=February 2007}}\\n\\n=== 24 ===\\n<!-- Please place entries under each date in ALPHABETICAL ORDER -->\\n',\n",
       " u' [[Zaki Badawi]], 84, Egyptian Islamic scholar, Islamic religious leader in Britain. [http://news.bbc.co.uk/1/hi/uk/4644798.stm]\\n',\n",
       " u\" [[Schafik Handal]], 75, Salvadoran politician, former Presidential candidate and leader of El Salvador's main political opposition party, the [[Farabundo Mart\\xed National Liberation Front|FMLN]], heart attack. [http://www.alertnet.org/thenews/newsdesk/N24205455.htm]\\n\",\n",
       " u' [[Peter Ladefoged]], 80, American phonetician, stroke. {{Citation needed|date=February 2007}}\\n',\n",
       " u' [[Carlos Mart\\xednez (baseball infielder)|Carlos (Caf\\xe9) Mart\\xednez]], 41, Venezuelan corner infielder, former MLB player, complications from a long illness. {{Citation needed|date=February 2007}}\\n',\n",
       " u' [[Fayard Nicholas]], 91, American dancer, elder of the renowned [[Nicholas Brothers]], pneumonia and complications of a stroke. [http://www.nytimes.com/2006/01/26/arts/26nicholas.html] [http://www.cnn.com/2006/SHOWBIZ/Music/01/25/obit.fayardnicholas.ap/index.html]\\n',\n",
       " u' [[Chris Penn]], 40, American actor, brother of [[Sean Penn]], cardiomyopathy combined with multiple medication intake. [http://abcnews.go.com/Entertainment/wireStory?id=1538153] [http://www.montereyherald.com/mld/montereyherald/news/politics/13863722.htm]\\n',\n",
       " u' Sir [[Nicholas Shackleton]], 68, British geologist, leukemia. [http://www.nytimes.com/2006/02/12/science/12shackleton.html?_r=1&oref=slogin]\\n\\n=== 25 ===\\n<!-- Please place entries under each date in ALPHABETICAL ORDER -->\\n',\n",
       " u' [[Robin Coombs]], 84, British immunologist, developed [[Coombs test|Coombs Antibody test]][http://news.independent.co.uk/people/obituaries/article349469.ece]\\n',\n",
       " u' [[Marion Dudley]], 33, American convicted murderer, executed in Texas. [https://news.yahoo.com/s/ap/20060126/ap_on_re_us/texas_execution]\\n',\n",
       " u' [[Luther Green]], 59, American NBA player, lung cancer. [http://www.basketball-reference.com/players/g/greenlu01.html]\\n',\n",
       " u' [[John F. Kerin]], American professor, reproductive scientist, gynaecologist, farm accident. {{Citation needed|date=February 2007}}.\\n',\n",
       " u' [[Anna Malle]], 38, American adult film actress, car accident. [http://www.lasvegassun.com/sunbin/stories/nevada/2006/jan/27/012710399.html]\\n',\n",
       " u' [[Herbert Schilder]], 77, American dental surgeon, improved root canal procedures, [[Lewy body disease]]. [http://www.nytimes.com/2006/02/05/national/05schilder.html]\\n',\n",
       " u' [[Sudharmono]], 78, Indonesian politician and Lieutenant General, Vice President of Indonesia from 1988\\u20131993, pneumonia. [http://www.accessmylibrary.com/coms2/summary_0286-12458761_ITM]\\n',\n",
       " u\" [[Allan Temko]], 81, American architectural critic and writer, Pulitzer Prize-winning architecture critic for the ''[[San Francisco Chronicle]]'', brief illness. [http://www.nytimes.com/2006/01/27/arts/design/27temko.html]\\n\\n=== 26 ===\\n<!-- Please place entries under each date in ALPHABETICAL ORDER -->\\n\",\n",
       " u' [[Len Carlson]], 68, Canadian voice actor, heart attack during sleep{{citation needed|date=December 2010}}\\n',\n",
       " u' [[John Dunwoody]], 76, British Member of Parliament, effects of an accident. [http://news.bbc.co.uk/1/hi/england/cornwall/4655976.stm]\\n',\n",
       " u' [[Morris Silverman (philanthropist)|Morris Silverman]], 93, American philanthropist, founder of the Albany Medical Center Prize in Medicine and Biomedical Research. [http://www.nytimes.com/2006/01/28/nyregion/28silverman.html]\\n',\n",
       " u\" [[Dave Tatsuno]], 92, Japanese American businessman, documented the Topaz Japanese internment camp in his film ''[[Topaz (1945 film)|Topaz]]'' [http://www.nytimes.com/2006/02/13/national/13tatsuno.html]\\n\",\n",
       " u' [[Khan Wali Khan]], 89, Pakistani politician, prominent opposition Leader and prominent [[Pashtun people|Pashtun]] leader, heart attack. [http://www.hindu.com/2006/01/28/stories/2006012802931800.htm]\\n\\n=== 27 ===\\n<!-- Please place entries under each date in APHABETICAL ORDER -->\\n',\n",
       " u' [[Maurice Colclough]], 52, English Rugby Union player, brain tumour. [https://www.theguardian.com/obituaries/story/0,,1699974,00.html]\\n',\n",
       " u\" [[Tana Hoban]], 88, American photographer of children, author of over 110 children's books [http://www.nytimes.com/2006/02/04/arts/04hoban.html]\\n\",\n",
       " u' [[Phyllis Mudford|Phyllis King]], 100, British Wimbledon-winner. [https://web.archive.org/web/20080430125348/http://www.wimbledon.org/en_GB/news/phyllisking.html]\\n',\n",
       " u' [[Carol Lambrino]], 86, Romanian Prince, elder son of [[Carol II of Romania|King Carol II of Romania]]. [http://www.jurnalul.ro/articol_45034/an_innocent_had_gone.html]\\n',\n",
       " u' [[Christopher Lloyd (gardener)|Christopher Lloyd]], 84, British gardening writer, stroke. [https://www.theguardian.com/obituaries/story/0,,1697689,00.html]\\n',\n",
       " u' [[Gene McFadden]], 56, American singer and songwriter, cancer. [http://news.independent.co.uk/people/obituaries/article342106.ece]\\n',\n",
       " u' [[Victor Mishcon, Baron Mishcon]], 90, British solicitor and politician. [http://www.telegraph.co.uk/news/obituaries/1509163/Lord-Mishcon.html]\\n',\n",
       " u' [[Johannes Rau]], 75, German politician, President of Germany (Bundespr\\xe4sident) from 1999 - 2004. [https://news.yahoo.com/s/nm/20060127/wl_nm/germany_rau_dc_4]\\n\\n=== 28 ===\\n',\n",
       " u' [[Peter Isola]], 76, Gibraltarian politician, Deputy Chief Minister of Gibraltar (1956\\u20131984). [http://www.gibraltarlawyers.com/foundation.php]\\n',\n",
       " u' [[Yitzchak Kaduri]], 106, Iraqi-born renowned Sephardic Orthodox rabbi and kabbalist. [http://www.kentucky.com/mld/montereyherald/news/nation/13754405.htm?source=rss&channel=montereyherald_nation]\\n',\n",
       " u' [[Henry McGee]], 76, British actor. [http://news.independent.co.uk/people/obituaries/article342609.ece]\\n\\n=== 29 ===\\n',\n",
       " u' [[Andrew Gonzalez]], 65, Filipino linguist and educator, complications from diabetes. [http://www.mb.com.ph/issues/2006/02/01/OPED2006020155180.html]\\n',\n",
       " u' [[Paik Nam-june]], 73, South Korean-born American artist, particularly noted for his video art, natural causes. [http://select.nytimes.com/gst/abstract.html?res=F30F11F8355B0C728FDDA80894DE404482]\\n',\n",
       " u' [[George Psychoundakis]], 85, Greek Resistance fighter during World War II. [http://www.telegraph.co.uk/news/main.jhtml;jsessionid=WRRRR5CBIK4HDQFIQMGCFFWAVCBQUIV0?xml=/news/2006/02/18/db1801.xml&sSheet=/portal/2006/02/18/ixportal.html]\\n\\n=== 30 ===\\n<!-- Please place entries under each date in ALPHABETICAL ORDER -->\\n',\n",
       " u' [[Stew Albert]], 66, American 1960s anti-establishment activist, co-founder of the [[Yippies]], liver cancer. [http://www.nytimes.com/2006/02/01/nyregion/01albert.html]\\n',\n",
       " u' [[Paul Clinton]], 53, American CNN film critic, founder of the [[Broadcast Film Critics Association]] (BFCA). [http://edition.cnn.com/SHOWBIZ/Movies/reviews.more/clinton.bio.html]\\n',\n",
       " u' [[Seth Fisher]], 33, American comic book illustrator, fall from a building. [http://www.comicbookresources.com/?page=article&id=6315]\\n',\n",
       " u' [[Arnold Graffi]], 95, German Researcher for oncology, long illness. [http://www.uni-protokolle.de/nachrichten/id/112705/]\\n',\n",
       " u' [[Coretta Scott King]], 78, American civil rights leader, widow of [[Martin Luther King, Jr.]], ovarian cancer. [http://www.nytimes.com/2006/02/01/national/01king.html]\\n',\n",
       " u' [[Otto Lang (film producer)|Otto Lang]], 98, Bosnian-born American film producer and ski mogul, heart disease. [http://seattletimes.nwsource.com/html/localnews/2002772842_langobit31m.html]\\n',\n",
       " u' [[Irving Rosenwater]], 73, English statistician. [http://www.timesonline.co.uk/article/0,,60-2030992.00.html]\\n',\n",
       " u' [[Wendy Wasserstein]], 55, American playwright, lymphoma. [http://www.nytimes.com/2006/01/31/theater/31wasserstein.html]\\n\\n=== 31 ===\\n<!-- Please place entries under each date in ALPHABETICAL ORDER -->\\n',\n",
       " u'[[Owen Abrahams]], 72, Australian rules footballer, serious illness. [http://wapafl.sportal.com.au/default.asp?s=teamnewsdisplay&aid=14448&tid=2]\\n',\n",
       " u' [[Ruairi Brugha]], 88, Irish [[Fianna F\\xe1il]] politician, son of [[Cathal Brugha]]. [http://www.rte.ie/news/2006/0131/brughar.html]\\n',\n",
       " u' [[Henry S. Coleman]], 79,  American educational administrator, dean at [[Columbia University]]. [http://www.nytimes.com/2006/02/04/nyregion/04coleman.html]\\n',\n",
       " u' [[Boris Kostelanetz]], 94, Russian-born American tax lawyer. [http://www.nytimes.com/2006/02/04/business/04kostelanetz.html]\\n',\n",
       " u' [[George Koval]], 92, Soviet intelligence agent.[http://www.documentstalk.com/wp/koval-george-abramovich-1913-2006-delmar]\\n',\n",
       " u' [[Paul Regina]], 49, [[Americans|American]] [[actor]], [[liver cancer]]. [http://www.flixster.com/celebrity/paul-regina/]\\n',\n",
       " u' [[Jason Sears]], 38, American punk rock singer ([[Rich Kids on LSD]]), complications from drug abuse. [http://www.signonsandiego.com/news/mexico/tijuana/20060203-9999-2m3detox.html]\\n',\n",
       " u' [[Moira Shearer]], 80, British ballerina, actress, and newspaper columnist, married to Sir [[Ludovic Kennedy]], natural causes. [http://www.nytimes.com/2006/02/02/arts/02shearer.html]\\n\\n{{Navbox deaths}}\\n\\n{{DEFAULTSORT:January 2006, Deaths in}}\\n[[Category:2006 deaths|',\n",
       " u'2006-01]]\\n[[Category:2006-related lists|Deaths in January]]']"
      ]
     },
     "execution_count": 77,
     "metadata": {},
     "output_type": "execute_result"
    }
   ],
   "source": [
    "month_year_pages['2006_1'].rstrip().split('*')"
   ]
  },
  {
   "cell_type": "code",
   "execution_count": 78,
   "metadata": {
    "collapsed": false
   },
   "outputs": [
    {
     "data": {
      "text/plain": [
       "57927"
      ]
     },
     "execution_count": 78,
     "metadata": {},
     "output_type": "execute_result"
    }
   ],
   "source": [
    "counter = 0\n",
    "for value in month_year_pages.values():\n",
    "    new_entries = len(value.encode('utf-8').rstrip().split('*'))\n",
    "    counter += new_entries\n",
    "counter"
   ]
  },
  {
   "cell_type": "markdown",
   "metadata": {},
   "source": [
    "Should combine cell below with cell above (later)."
   ]
  },
  {
   "cell_type": "code",
   "execution_count": 79,
   "metadata": {
    "collapsed": true
   },
   "outputs": [
    {
     "name": "stdout",
     "output_type": "stream",
     "text": [
      "2014_10 : 523\n",
      "2014_11 : 530\n",
      "2009_1 : 437\n",
      "2009_2 : 301\n",
      "2009_3 : 337\n",
      "2009_4 : 297\n",
      "2009_5 : 305\n",
      "2009_6 : 312\n",
      "2009_7 : 307\n",
      "2009_8 : 330\n",
      "2009_9 : 359\n",
      "2006_12 : 212\n",
      "2006_11 : 233\n",
      "2006_10 : 232\n",
      "2015_12 : 516\n",
      "2015_11 : 526\n",
      "2015_10 : 556\n",
      "2005_12 : 217\n",
      "2009_12 : 365\n",
      "2009_10 : 349\n",
      "2009_11 : 330\n",
      "2005_10 : 223\n",
      "2005_11 : 216\n",
      "2012_12 : 526\n",
      "2012_10 : 424\n",
      "2012_11 : 470\n",
      "2013_11 : 453\n",
      "2013_10 : 432\n",
      "2006_9 : 238\n",
      "2006_8 : 235\n",
      "2006_3 : 201\n",
      "2006_2 : 213\n",
      "2006_1 : 205\n",
      "2006_7 : 250\n",
      "2006_6 : 228\n",
      "2006_5 : 230\n",
      "2006_4 : 196\n",
      "2004_9 : 119\n",
      "2004_8 : 119\n",
      "2004_5 : 108\n",
      "2004_4 : 99\n",
      "2004_7 : 126\n",
      "2004_6 : 96\n",
      "2004_1 : 111\n",
      "2004_3 : 113\n",
      "2004_2 : 91\n",
      "2016_12 : 616\n",
      "2016_10 : 541\n",
      "2016_11 : 563\n",
      "2007_10 : 272\n",
      "2007_11 : 268\n",
      "2011_11 : 396\n",
      "2011_10 : 396\n",
      "2008_9 : 302\n",
      "2008_8 : 276\n",
      "2011_1 : 400\n",
      "2011_7 : 386\n",
      "2011_6 : 363\n",
      "2011_5 : 363\n",
      "2011_4 : 358\n",
      "2008_1 : 374\n",
      "2008_3 : 268\n",
      "2008_2 : 306\n",
      "2008_5 : 308\n",
      "2008_4 : 277\n",
      "2008_7 : 255\n",
      "2008_6 : 268\n",
      "2013_5 : 476\n",
      "2013_4 : 551\n",
      "2013_7 : 487\n",
      "2013_6 : 510\n",
      "2013_1 : 615\n",
      "2013_3 : 522\n",
      "2013_2 : 517\n",
      "2013_9 : 424\n",
      "2013_8 : 531\n",
      "2014_12 : 548\n",
      "2015_7 : 533\n",
      "2015_6 : 548\n",
      "2015_5 : 536\n",
      "2015_4 : 609\n",
      "2015_3 : 622\n",
      "2015_2 : 555\n",
      "2015_1 : 664\n",
      "2015_9 : 522\n",
      "2015_8 : 489\n",
      "2014_8 : 578\n",
      "2014_9 : 537\n",
      "2014_6 : 525\n",
      "2014_7 : 558\n",
      "2014_4 : 589\n",
      "2014_5 : 614\n",
      "2014_2 : 592\n",
      "2014_3 : 574\n",
      "2014_1 : 639\n",
      "2016_1 : 700\n",
      "2016_2 : 579\n",
      "2016_3 : 664\n",
      "2016_4 : 570\n",
      "2016_5 : 559\n",
      "2016_6 : 555\n",
      "2016_7 : 571\n",
      "2016_8 : 541\n",
      "2016_9 : 524\n",
      "2010_10 : 365\n",
      "2010_11 : 294\n",
      "2010_12 : 335\n",
      "2010_8 : 349\n",
      "2010_9 : 328\n",
      "2010_2 : 379\n",
      "2010_3 : 400\n",
      "2010_1 : 459\n",
      "2010_6 : 382\n",
      "2010_7 : 392\n",
      "2010_4 : 487\n",
      "2010_5 : 374\n",
      "2012_8 : 423\n",
      "2012_9 : 414\n",
      "2011_12 : 409\n",
      "2012_4 : 422\n",
      "2012_5 : 422\n",
      "2012_6 : 416\n",
      "2012_7 : 418\n",
      "2007_12 : 275\n",
      "2012_2 : 433\n",
      "2012_3 : 483\n",
      "2011_3 : 347\n",
      "2011_2 : 355\n",
      "2008_11 : 279\n",
      "2008_10 : 315\n",
      "2008_12 : 316\n",
      "2004_11 : 119\n",
      "2004_10 : 135\n",
      "2004_12 : 141\n",
      "2011_9 : 381\n",
      "2011_8 : 345\n",
      "2012_1 : 543\n",
      "2007_2 : 235\n",
      "2007_3 : 222\n",
      "2007_1 : 269\n",
      "2007_6 : 245\n",
      "2007_7 : 255\n",
      "2007_4 : 258\n",
      "2007_5 : 210\n",
      "2007_8 : 238\n",
      "2007_9 : 208\n",
      "2005_4 : 208\n",
      "2005_5 : 156\n",
      "2005_6 : 177\n",
      "2005_7 : 188\n",
      "2005_1 : 211\n",
      "2005_2 : 198\n",
      "2005_3 : 202\n",
      "2005_8 : 204\n",
      "2005_9 : 187\n",
      "2013_12 : 541\n"
     ]
    }
   ],
   "source": [
    "for my_key in month_year_pages.keys():\n",
    "    print my_key, \":\", len(month_year_pages[my_key].encode('utf-8').rstrip().split('*'))\n",
    "    month_year_pages[my_key] = [\n",
    "        add_description_and_death(\n",
    "            parse_month_year_name_age(my_key, \n",
    "                                      re.sub(r'^https?:\\/\\/.*[\\r\\n]*', '', entry, flags=re.MULTILINE)\n",
    "                                     )\n",
    "        )\n",
    "        for entry in month_year_pages[my_key].encode('utf-8').rstrip().split('*')\n",
    "        if re.match(name_age_re, entry.replace('\\n', ''))]"
   ]
  },
  {
   "cell_type": "code",
   "execution_count": 81,
   "metadata": {
    "collapsed": false,
    "scrolled": false
   },
   "outputs": [
    {
     "name": "stdout",
     "output_type": "stream",
     "text": [
      "2004_4 : 95\n",
      "2004_6 : 90\n",
      "2004_2 : 87\n"
     ]
    }
   ],
   "source": [
    "for mkey in month_year_pages.keys():\n",
    "    num_post_entries = len(month_year_pages[mkey])\n",
    "    if num_post_entries < 100:\n",
    "        print mkey, \":\", len(month_year_pages[mkey])\n",
    "#len(month_year_pages['2006_2'])"
   ]
  },
  {
   "cell_type": "markdown",
   "metadata": {
    "collapsed": true
   },
   "source": [
    "Make dataframe:"
   ]
  },
  {
   "cell_type": "code",
   "execution_count": 82,
   "metadata": {
    "collapsed": false
   },
   "outputs": [
    {
     "name": "stdout",
     "output_type": "stream",
     "text": [
      "(0, 6)\n"
     ]
    },
    {
     "data": {
      "text/html": [
       "<div>\n",
       "<table border=\"1\" class=\"dataframe\">\n",
       "  <thead>\n",
       "    <tr style=\"text-align: right;\">\n",
       "      <th></th>\n",
       "      <th>year</th>\n",
       "      <th>month</th>\n",
       "      <th>name</th>\n",
       "      <th>age</th>\n",
       "      <th>desc</th>\n",
       "      <th>cause_of_death</th>\n",
       "    </tr>\n",
       "  </thead>\n",
       "  <tbody>\n",
       "  </tbody>\n",
       "</table>\n",
       "</div>"
      ],
      "text/plain": [
       "Empty DataFrame\n",
       "Columns: [year, month, name, age, desc, cause_of_death]\n",
       "Index: []"
      ]
     },
     "execution_count": 82,
     "metadata": {},
     "output_type": "execute_result"
    }
   ],
   "source": [
    "df_full = pd.DataFrame(columns=['year','month','name','age','desc','cause_of_death'])\n",
    "print df_full.shape\n",
    "df_full.head()"
   ]
  },
  {
   "cell_type": "code",
   "execution_count": 83,
   "metadata": {
    "collapsed": false
   },
   "outputs": [],
   "source": [
    "for entry in month_year_pages.values():\n",
    "    df_sub = pd.DataFrame(entry, columns=['year','month','name','age','desc','cause_of_death'])\n",
    "    df_full = pd.concat([df_full, df_sub], axis=0)"
   ]
  },
  {
   "cell_type": "code",
   "execution_count": 84,
   "metadata": {
    "collapsed": false
   },
   "outputs": [
    {
     "name": "stdout",
     "output_type": "stream",
     "text": [
      "(55505, 6)\n"
     ]
    },
    {
     "data": {
      "text/html": [
       "<div>\n",
       "<table border=\"1\" class=\"dataframe\">\n",
       "  <thead>\n",
       "    <tr style=\"text-align: right;\">\n",
       "      <th></th>\n",
       "      <th>year</th>\n",
       "      <th>month</th>\n",
       "      <th>name</th>\n",
       "      <th>age</th>\n",
       "      <th>desc</th>\n",
       "      <th>cause_of_death</th>\n",
       "    </tr>\n",
       "  </thead>\n",
       "  <tbody>\n",
       "    <tr>\n",
       "      <th>0</th>\n",
       "      <td>2014</td>\n",
       "      <td>10</td>\n",
       "      <td>Lynsey de Paul</td>\n",
       "      <td>64</td>\n",
       "      <td>English singer-songwriter (\"[[Won't Somebody D...</td>\n",
       "      <td>brain haemorrhage.</td>\n",
       "    </tr>\n",
       "    <tr>\n",
       "      <th>1</th>\n",
       "      <td>2014</td>\n",
       "      <td>10</td>\n",
       "      <td>Maurice Hodgson|Sir Maurice Hodgson</td>\n",
       "      <td>94</td>\n",
       "      <td>British business executive.</td>\n",
       "      <td></td>\n",
       "    </tr>\n",
       "    <tr>\n",
       "      <th>2</th>\n",
       "      <td>2014</td>\n",
       "      <td>10</td>\n",
       "      <td>Shlomo Lahat</td>\n",
       "      <td>86</td>\n",
       "      <td>Israeli general and politician, Mayor of [[Tel...</td>\n",
       "      <td>lung infection.</td>\n",
       "    </tr>\n",
       "    <tr>\n",
       "      <th>3</th>\n",
       "      <td>2014</td>\n",
       "      <td>10</td>\n",
       "      <td>José Martínez (infielder)|José Martínez</td>\n",
       "      <td>72</td>\n",
       "      <td>Cuban baseball player ([[Pittsburgh Pirates]])...</td>\n",
       "      <td>[[Chicago Cubs]]) and executive ([[Atlanta Br...</td>\n",
       "    </tr>\n",
       "    <tr>\n",
       "      <th>4</th>\n",
       "      <td>2014</td>\n",
       "      <td>10</td>\n",
       "      <td>Oluremi Oyo</td>\n",
       "      <td>61</td>\n",
       "      <td>Nigerian journalist</td>\n",
       "      <td>cancer.</td>\n",
       "    </tr>\n",
       "  </tbody>\n",
       "</table>\n",
       "</div>"
      ],
      "text/plain": [
       "   year month                                     name age  \\\n",
       "0  2014    10                           Lynsey de Paul  64   \n",
       "1  2014    10      Maurice Hodgson|Sir Maurice Hodgson  94   \n",
       "2  2014    10                             Shlomo Lahat  86   \n",
       "3  2014    10  José Martínez (infielder)|José Martínez  72   \n",
       "4  2014    10                              Oluremi Oyo  61   \n",
       "\n",
       "                                                desc  \\\n",
       "0  English singer-songwriter (\"[[Won't Somebody D...   \n",
       "1                        British business executive.   \n",
       "2  Israeli general and politician, Mayor of [[Tel...   \n",
       "3  Cuban baseball player ([[Pittsburgh Pirates]])...   \n",
       "4                                Nigerian journalist   \n",
       "\n",
       "                                      cause_of_death  \n",
       "0                                 brain haemorrhage.  \n",
       "1                                                     \n",
       "2                                    lung infection.  \n",
       "3   [[Chicago Cubs]]) and executive ([[Atlanta Br...  \n",
       "4                                            cancer.  "
      ]
     },
     "execution_count": 84,
     "metadata": {},
     "output_type": "execute_result"
    }
   ],
   "source": [
    "print df_full.shape\n",
    "df_full.head()"
   ]
  },
  {
   "cell_type": "code",
   "execution_count": 86,
   "metadata": {
    "collapsed": false
   },
   "outputs": [
    {
     "data": {
      "text/plain": [
       "(199, 6)"
      ]
     },
     "execution_count": 86,
     "metadata": {},
     "output_type": "execute_result"
    }
   ],
   "source": [
    "b = df_full[df_full.year == '2006']\n",
    "b[b.month == '1'].shape"
   ]
  },
  {
   "cell_type": "code",
   "execution_count": 87,
   "metadata": {
    "collapsed": false
   },
   "outputs": [
    {
     "data": {
      "text/html": [
       "<div>\n",
       "<table border=\"1\" class=\"dataframe\">\n",
       "  <thead>\n",
       "    <tr style=\"text-align: right;\">\n",
       "      <th></th>\n",
       "      <th>year</th>\n",
       "      <th>month</th>\n",
       "      <th>name</th>\n",
       "      <th>age</th>\n",
       "      <th>desc</th>\n",
       "      <th>cause_of_death</th>\n",
       "    </tr>\n",
       "  </thead>\n",
       "  <tbody>\n",
       "  </tbody>\n",
       "</table>\n",
       "</div>"
      ],
      "text/plain": [
       "Empty DataFrame\n",
       "Columns: [year, month, name, age, desc, cause_of_death]\n",
       "Index: []"
      ]
     },
     "execution_count": 87,
     "metadata": {},
     "output_type": "execute_result"
    }
   ],
   "source": [
    "df_cod_nons = df_full[df_full.cause_of_death.map(lambda x: type(x) != str)]\n",
    "df_cod_nons.head()"
   ]
  },
  {
   "cell_type": "code",
   "execution_count": 88,
   "metadata": {
    "collapsed": false
   },
   "outputs": [
    {
     "data": {
      "text/plain": [
       "' cancer.'"
      ]
     },
     "execution_count": 88,
     "metadata": {},
     "output_type": "execute_result"
    }
   ],
   "source": [
    "df_full.iloc[4].values[5]"
   ]
  },
  {
   "cell_type": "markdown",
   "metadata": {},
   "source": [
    "### Further Processing"
   ]
  },
  {
   "cell_type": "markdown",
   "metadata": {},
   "source": [
    "#### Reminder: Strip links, quotes, and brackets before extracting Nationality text"
   ]
  },
  {
   "cell_type": "code",
   "execution_count": 89,
   "metadata": {
    "collapsed": false
   },
   "outputs": [],
   "source": [
    "df_full['desc'] = df_full.desc.map(text_clean)\n",
    "df_full['cause_of_death'] = df_full.cause_of_death.map(text_clean)"
   ]
  },
  {
   "cell_type": "markdown",
   "metadata": {},
   "source": [
    "#### Extract Nationality\n",
    "\n",
    "Extracting nationality text as well as possible by taking the first consecutive capitalized words in the description. 'Olympic' and similar capitalized words might throw this off."
   ]
  },
  {
   "cell_type": "code",
   "execution_count": 90,
   "metadata": {
    "collapsed": false,
    "scrolled": true
   },
   "outputs": [
    {
     "name": "stdout",
     "output_type": "stream",
     "text": [
      "Nigerien\n",
      "Welsh\n",
      "ni-Vanuatu international footballer\n",
      "chief of web security at AOL\n",
      "<!-- date of birth unknown -->British artist. \n",
      "former Canadian Football League player and NHL referee. \n",
      "former Soviet FIFA World Cup footballer & title-winning coach for Dynamo Kiev \n",
      "former German Nazi SS officer. \n",
      "former Second Deputy Prime Minister of Singapore\n",
      "former University of Kentucky basketballer. \n",
      "former professional wrestling promoter\n",
      "last American survivor of the ''RMS Titanic'' sinking\n",
      "former CEO of Firestone Tire and Rubber Company\n",
      "fled the U.S. with granddaughter in Elizabeth Morgan case custody battle \n",
      "lawyer & professor at New York Law School \n",
      "founder of Ninety Nine Restaurant & Pub\n",
      "first Asian-American to be editor of a major American daily newspaper, the ''St. Louis Post-Dispatch''\n",
      "first Australian Defence Force serviceperson killed in Iraq. \n",
      "leader of The Prisonaires\n",
      "owner of Dart Drugs Chain\n",
      "life peer and former chairman of Rolls-Royce plc, Hill Samuel, Beecham (pharmaceutical company) Group\n",
      "the Mufti of Syria\n",
      "former chief executive of Eurotunnel and chairman of the Strategic Rail Authority\n",
      "commercial jingle writer (''I'd Like to Buy the World a Coke'')\n",
      "former National Hockey League and World Hockey Association defenseman\n",
      "creator of the Leslie speaker\n",
      "biochemist.September 3\n",
      "former University of Arizona wrestler\n",
      "former Major League Baseball; first black player to sign with the Chicago White Sox\n",
      "actor\n",
      "actress (''About a Boy (film)'')\n",
      "one of the Munchkins in ''The Wizard of Oz (1939 film)''\n",
      "political scientist and author (''Fail-Safe (novel)'').September 7\n",
      "campaigner for Muslim girls' and women's rights\n",
      "first Republican governor of Mississippi since 1874\n",
      "prominent Indonesian human rights activist\n",
      "publisher of ''Scientific American''\n",
      "founder of the Aryan Nations\n",
      "former Interior minister of France\n",
      "guitar equipment maker\n",
      "actor\n",
      "architect\n",
      "playwright\n",
      "early National Football League player with the Detroit Lions.September 14\n",
      "first Hispanic American appointed as Federal Appeals Court judge. \n",
      "songwriter\n",
      "guitarist and founding member of ''The Ramones''\n",
      "pioneered research on premenstrual stress syndrome.September 18\n",
      "medieval scholar\n",
      "filmmaker\n",
      "divorce lawyer to the stars\n",
      "photojournalist\n",
      "country music singer\n",
      "patriarch of family of jazz musicians\n",
      "the last writer from Belarus who wrote in Yiddish.September 20\n",
      "stock car racer.September 22\n",
      "former editor of Ms. Magazine\n",
      "former National Hockey League player and coach for the Chicago Blackhawks\n",
      "nuclear scientist and father of India's nuclear program\n",
      "radio personality; forerunner of ''shock jocks'' Tom Leykis and Howard Stern.September 24\n",
      "actor (Babylon 5)\n",
      "philanthropist; ex-owner of Twentieth Century Fox and Pebble Beach\n",
      "mathematician\n",
      "fashion designer\n",
      "longtime New York City radio disc jockey.September 29\n",
      "former Dutch junior Foreign Minister and former CEO of KLM\n",
      "suspected murderer of Swedish prime minister Olof Palme\n",
      "director of original production of Oh! Calcutta!\n",
      "former National Football League Pittsburgh Steelers player\n",
      "convicted murderer\n",
      "funk singer.August 7\n",
      "journalist and broadcaster\n",
      "health and fitness pioneer\n",
      "comedian\n",
      "internationally recognized artist and painter\n",
      "''King Kong'' actress.August 9\n",
      "classical scholar and author\n",
      "guitarist who played with Frank Sinatra and on The Tonight Show orchestra. \n",
      "film composer.August 10\n",
      "oldest known U.S. Olympic medal winner\n",
      "longtime sports writer for ''The Detroit News''\n",
      "author of Chicka Chicka Boom Boom.August 12\n",
      "author and television hostess on French cuisine. \n",
      "rapist and murderer; the first person executed in India since 1995\n",
      "member of the United States House of Representatives from Michigan from 1965 to 1995\n",
      "cinematographer for the movie ''The Blair Witch Project''\n",
      "\"Venezuelan\" United States-born B-movie actress\n",
      "photographer\n",
      "world champion boxer\n",
      "rhythm guitarist for Body Count\n",
      "composer of classic film music such as ''The Magnificent Seven''\n",
      "first Asian American elected to the U.S. Senate\n",
      "chess Grandmaster and coach\n",
      "announcer who popularized the phrase ''\"Elvis has left the building\"''\n",
      "television and film writer\n",
      "film director\n",
      "architect of economic liberalization during Czechoslovakia's ill-fated 1968 ''Prague Spring''.August 23\n",
      "centenarian Italian Roman Catholic archbishop\n",
      "former New York Yankees, Chicago Cubs, Philadelphia Phillies\n",
      "chairperson of the Clerys department store\n",
      "former attorney general and chief justice of Florida. \n",
      "former Roman Catholic primate of Spain, Cardinal since 1973 and Archbishop of Toledo\n",
      "producer and screenwriter, Academy Awards nomination for writing The Bold and the Brave\n",
      "motorcycle designer\n",
      "architect trained by Frank Lloyd Wright\n",
      "lead singer of pop group The Move\n",
      "former Major League Baseball pitcher for the Philadelphia & Kansas City Athletics\n",
      "former MLB catcher and manager. \n",
      "science fiction author.May 4\n",
      "notable gender-reassignment case\n",
      "also known as Louis Masterson\n",
      "mother of entertainers Marie Osmond and the various The Osmonds\n",
      "jazz clarinetist\n",
      "children's book author\n",
      "theatre historian\n",
      "actress\n",
      "controversial owner of Atlético Madrid football club\n",
      "oldest recognized person in United States\n",
      "animator and comic book artist\n",
      "political cartoonist, comic book artist\n",
      "Marxist\n",
      "actress.May 17\n",
      "former Major League Baseball pitcher for the Baltimore Orioles and Texas Rangers (baseball)\n",
      "television actor (''The Odd Couple (TV series)'')\n",
      "television dancer and choreographer.May 18\n",
      "inventor, industrialist\n",
      "former professional boxer\n",
      "jazz drummer\n",
      "former owner of the Eckerd drugstore chain\n",
      "blues artist\n",
      "three-time Chief Minister of Kerala\n",
      "literary agent\n",
      "announcer of ''Family Feud'' and other US game shows.May 22\n",
      "fourth generation president of SC Johnson company\n",
      "actress.May 24\n",
      "mayor of Jersey City\n",
      "publisher (Farrar\n",
      "member of 1st Little League World Series championship team.May 28\n",
      "actor\n",
      "host of the Pittsburgh children's show \"Children's Corner\"\n",
      "actress and singer (''Yankee Doodle Dandy'')\n",
      "last known widow of a Confederate soldier\n",
      "\"Father of Special Forces\"\n",
      "former New England Patriots linebacker.April 3\n",
      "former major league pitcher and manager\n",
      "traditional Indian Odissi dancer\n",
      "caddy of golfer Tom Watson (golfer)\n",
      "singer\n",
      "former Major League Baseball catcher\n",
      "long-time Prime Minister and President of Fiji.April 19\n",
      "founder of the ''Guinness Book of Records''\n",
      "former Governor of Nebraska\n",
      "former NFL player (Arizona Cardinals), Army Ranger\n",
      "cosmetics products pioneer\n",
      "author of \"Last Exit to Brooklyn\"\n",
      "businessman and aircraft developer.April 29\n",
      "cornerstone of Norwegian science fiction fandom\n",
      "writer and Philippine national artist.April 30\n",
      "also known as Gol-Agha\n",
      "former presiding judge\n",
      "comic strip artist (''Prince Valiant'')\n",
      "actor\n",
      "former Prime Minister of Jamaica\n",
      "two-time Indianapolis 500 champion.6\n",
      "singer, songwriter\n",
      "editor of ''Forbes'' magazine's Russian edition\n",
      "convicted murderer\n",
      "actress, ''The Jeffersons''\n",
      "chef and host of ''The Frugal Gourmet''.10\n",
      "five-time National Basketball Association All-Star\n",
      "former Prime Minister of Portugal. \n",
      "founder of Canada's National Ballet School\n",
      "conservationist and philanthropist\n",
      "rockabilly singer\n",
      "bodybuilding pioneer and Gold's Gym founder\n",
      "pilot of ''Bockscar''\n",
      "former governor of Georgia\n",
      "modern dance pioneer and choreographer.17\n",
      "professional wrestling and actor; cancer. (\n",
      "wife of the pretender to Albania's throne\n",
      "former Prime Minister of Japan\n",
      "movie and television composer (''Star Trek'')\n",
      "member of the Quorum of the Twelve Apostles (LDS Church) of The Church of Jesus Christ of Latter-day Saints\n",
      "former British MI6 agent\n",
      "part of Watergate scandal\n",
      "retired United States Navy Captain and doctor whose research developed military and recreational dive tables\n",
      "food scientist\n",
      "last boss of Tammany Hall\n",
      "won the gold medal in hurdles at the 1932 Summer Olympics.28\n",
      "announcer and voice actor\n",
      "former center of the University of California, Los Angeles basketball team\n",
      "estranged wife of billionaire/investment guru Warren Buffett\n",
      "model, MTV video jockey\n",
      "oldest member of the Quorum of the Twelve Apostles (LDS Church) in the history of The Church of Jesus Christ of Latter-day Saints\n",
      "opera singer.June 3\n",
      "mother of Diana\n",
      "original narrator of ''Pokémon (anime)'' and voice of Mewtwo from ''Pokémon: The First Movie''\n",
      "former Negro League baseball\n",
      "film actor and 40th President of the United States (1981–1989).June 6\n",
      "actress\n",
      "screenwriter\n",
      "comic book writer (''Omaha the Cat Dancer'')\n",
      "violinist and conductor\n",
      "black metal pioneer and main member of Bathory (band)\n",
      "special effects pioneer.June 8\n",
      "former Major League Baseball outfielder with the Atlanta Braves\n",
      "actress.June 10\n",
      "fashion designer; nephew of late Fiat head Gianni Agnelli\n",
      "businessman and owner of Blackpool Pleasure Beach\n",
      "announcer\n",
      "17-time American national champion in skiing\n",
      "sports journalist.June 14\n",
      "mountain guide\n",
      "producer of horror movies.June 15\n",
      "actor and comedian (''Lunch with Soupy Sales'')\n",
      "former Thai prime minister\n",
      "convicted murderer\n",
      "mathematician and puzzle expert.June 20\n",
      "businesswoman and owner of Blackpool Pleasure Beach.June 24\n",
      "former United States ice skating champion\n",
      "former dean of the Yale University School of Medicine.January 2\n",
      "actress\n",
      "reported to be the oldest living former Major League Baseball player\n",
      "former Major League Baseball playerJanuary 4\n",
      "author of ''The Wolves of Willoughby Chase''\n",
      "film director\n",
      "poet, publisher, actor, painter, sculptor, jazz trumpeter\n",
      "former Major League Baseball pitcherJanuary 6\n",
      "convicted murderer\n",
      "member of Crosby Boys band\n",
      "philosopher and linguist.January 14\n",
      "science fiction writer\n",
      "member of the famous '50 Philadelphia Phillies National League champions\n",
      "actress, acting teacher\n",
      "actor\n",
      "member of the Académie française\n",
      "author\n",
      "former baseball player\n",
      "former Finnish prime minister\n",
      "first female Mayor of Galway (1975-1976)January 17\n",
      "former Major League Baseball pitcher\n",
      "mayor of Ponce\n",
      "Musician\n",
      "actor\n",
      "author of ''The Least You Should Know About English''\n",
      "photographer.January 24\n",
      "''The Tonight Show'' host.January 28\n",
      "hall of fame National Football League football player\n",
      "producer and co-creator of ''The Real World''\n",
      "actor.January 30\n",
      "executive director of Carnegie Hall\n",
      "liberal feminist political philosopher\n",
      "professional boxer.4\n",
      "actress\n",
      "controversial son of baseball great Ted Williams.7\n",
      "dancer, cabaret performer, actor, TV personality\n",
      "former List of Governors of Indiana\n",
      "former National Football League player.11\n",
      "statistician\n",
      "lead singer of The Sylvers.12\n",
      "former MTV video jockey\n",
      "baseball player with the Cleveland Indians\n",
      "long-distance runner and founder of PowerBar\n",
      "former Queen of the Netherlands\n",
      "the 'Jan' of Jan and Dean\n",
      "convicted murderer\n",
      "game show host and announcer\n",
      "linguist and expert on the Basque people\n",
      "foreign minister of Uganda.27\n",
      "first woman to preside the Swiss National Council\n",
      "footballer\n",
      "musician (The Doobie Brothers\n",
      "baseball player\n",
      "convicted murderer\n",
      "aviation safety pioneer\n",
      "psychiatrist and pioneer LSD experimenter.February 7\n",
      "comic book and pulp magazine editor\n",
      "film and television producer (complications following cardiac surgery)\n",
      "horse racing jockey\n",
      "popcorn promoter\n",
      "actor\n",
      "racing cyclist\n",
      "comic book letterer\n",
      "former President of the United Mexican States\n",
      "convicted murderer\n",
      "first person imprisoned at Auschwitz. (Feb 20 is burial date).February 21\n",
      "composer\n",
      "computer image analysis researcher\n",
      "asserted by advocates to be Supercentenarian but documentation showed otherwise\n",
      "popular singer of the 1940s and 1950s\n",
      "economist and founding editor of the ''Monthly Review''February 28\n",
      "historian\n",
      "first Estonian soldier to be killed in Iraq\n",
      "playwright\n",
      "humanitarian worker and charity activist\n",
      "scholar and journalist\n",
      "military band conductor\n",
      "football player (Associação Chapecoense de Futebol)\n",
      "football player (Associação Chapecoense de Futebol)\n",
      "football player (Associação Chapecoense de Futebol)\n",
      "football player (Associação Chapecoense de Futebol\n",
      "football player (Associação Chapecoense de Futebol)\n",
      "football player (Associação Chapecoense de Futebol\n",
      "reporter (Fox Sports)\n",
      "commentator (Fox Sports)\n",
      "football player (Associação Chapecoense de Futebol\n",
      "football player (Associação Chapecoense de Futebol)\n",
      "football player (Associação Chapecoense de Futebol)\n",
      "football player (Associação Chapecoense de Futebol)\n",
      "football player and manager (Associação Chapecoense de Futebol\n",
      "football player (Associação Chapecoense de Futebol\n",
      "football player (Associação Chapecoense de Futebol\n",
      "football player (Associação Chapecoense de Futebol\n",
      "football player (Associação Chapecoense de Futebol\n",
      "politician and football executive, vice-president of Brazilian Football Confederation\n",
      "football player, manager\n",
      "football player (Associação Chapecoense de Futebol)\n",
      "football player (Associação Chapecoense de Futebol\n",
      "football player (Associação Chapecoense de Futebol\n",
      "Brazilian\n",
      "sailor\n",
      "swimmer\n",
      "boxer\n",
      "opera singer.March 25\n",
      "cartoonist\n",
      "psychoanalyst and columnist\n",
      "caricaturist and journalist\n",
      "cartoonist\n",
      "economist and journalist\n",
      "cartoonist\n",
      "cartoonistJanuary 8\n",
      "<!-- biological age 6, considered 7 for competition purposes -->Irish racehorse\n",
      "political scientist\n",
      "attorney\n",
      "general\n",
      "senator\n",
      "general\n",
      "member of the Sejm of the Republic of Poland\n",
      "member of the Sejm\n",
      "senator\n",
      "general\n",
      "politician\n",
      "member of the Sejm\n",
      "diplomat\n",
      "member of the Sejm\n",
      "politician\n",
      "member of the Sejm\n",
      "diplomat\n",
      "lawyer and diplomat\n",
      "general\n",
      "lawyer and diplomat\n",
      "historian\n",
      "general\n",
      "member of the Sejm\n",
      "sports administrator\n",
      "member of the Sejm\n",
      "politician\n",
      "rector of the Cardinal Stefan Wyszyński University in Warsaw\n",
      "member of the Sejm\n",
      "banker\n",
      "politician, Minister of Defence (2007)\n",
      "politician, Minister of Defence (2001–2005)\n",
      "member of the Sejm\n",
      "trade unionist whose 1980 firing led to the creation of the Solidarity (Polish trade union) movement\n",
      "member of the Sejm\n",
      "member of the Sejm\n",
      "member of the Sejm\n",
      "politician\n",
      "senator\n",
      "actor.April 11\n",
      "<!-- note: see article and article talk page -->American singer\n",
      "former leader of the Inner London Education Authority.{{Citation needed|dateJuly 2011}}November 18\n",
      "spiritual leader and head of the Sikhism Dharma in the western hemisphere\n",
      "musician, filmmaker and author\n",
      "brother of former president of Mexico Carlos Salinas\n",
      "pornographic film actress\n",
      "chief minister of Jammu and Kashmir (1971–1975). \n",
      "first Bahamian to play in Major League Baseball. \n",
      "painter, lithographer\n",
      "computer scientist. \n",
      "widow of Chiang Ching-kuo and First Lady of the Republic of China on Taiwan (1978–1988)\n",
      "mother of former US vice-president Al Gore, wife of Albert Gore\n",
      "former United States Ambassador to Sweden\n",
      "baseball pitching machine innovator\n",
      "astrologer\n",
      "Icelandic\n",
      "<!-- 90 not 91 -->Polish actress\n",
      "former wife and agent of British TV entertainer Michael Barrymore\n",
      "songwriter\n",
      "drummer for the bands Trouble (band) and Zoetrope (band)\n",
      "second Secretary of Housing and Urban Development, appointed by Lyndon B. Johnson in 1969; later served as University of Massachusetts President 1970-1977\n",
      "former U.S. ambassador to Chile\n",
      "creator of the Brenda Starr comic strip\n",
      "actress (''Mary Hartman\n",
      "landscape painter mainly in his native Maine.6\n",
      "memoirist and head of the University of Iowa's famous Iowa Writers' Workshop\n",
      "doctor, teacher\n",
      "reigning Prince of Monaco since 1949.7\n",
      "former Formula One driver\n",
      "a former Major League Baseball player and manager\n",
      "last surviving French World War I veteran to fight for Germany\n",
      "former bandleader for ''The Tonight Show''\n",
      "radical feminist writer and anti-pornography activist\n",
      "first Afro-American Marine Corps officer\n",
      "former primate of the Greek Orthodox Archbishop of America (1959–1996)\n",
      "ex-National Football League player\n",
      "microbiologist\n",
      "a MLB All-Star\n",
      "musician\n",
      "novelist and poet\n",
      "founder of the Canadian white supremacist group the Heritage Front\n",
      "television critic for the ''New York Daily News''\n",
      "musician\n",
      "president of Serbia from 1982 to 1984\n",
      "writer\n",
      "jazz trumpeter\n",
      "1960s pop singer\n",
      "former National Basketball Association player for the Portland Trail Blazers\n",
      "former NFL player and assistant coach\n",
      "music director and conductor of the Nashville Symphony Orchestra\n",
      "jazz drummer\n",
      "world-renowned Danish jazz bassist.20\n",
      "member of the Gang of Four (China)\n",
      "physicist and group leader in the Manhattan Project\n",
      "a leading pitcher for the 1968 World Series champion Detroit Tigers and first black pitcher to throw a no-hitter in Major League Baseball\n",
      "aka '''Tonito Rivera'''\n",
      "pioneering Chinese anthropologist and sociologist\n",
      "former Israeli president.25\n",
      "former Formula One driver\n",
      "former head of Ford Motor Company and later a life peer.26\n",
      "former NHL player with the Toronto Maple Leafs\n",
      "former National Football League player\n",
      "former foreign minister of Bangladesh\n",
      "principal founder of the Free University of Berlin.\n",
      "professional wrestler; blood clot from surgery complications\n",
      "bassist for the Modern Jazz Quartet\n",
      "soap opera creator (''The Young and the Restless'', ''The Bold and the Beautiful'')\n",
      "theatre critic for ''The New York Times''\n",
      "former general secretary of the Transport and General Workers Union.{{Navbox deaths}}{{DEFAULTSORT:April 2005\n",
      "oldest man in Wales and World War I survivor\n",
      "former World Wrestling Entertainment (WWE) wrestler\n",
      "mathematician\n",
      "convicted serial killer\n",
      "bluegrass singer\n",
      "former coach of the Toronto Rock of the National Lacrosse League\n",
      "retired Chief Justice of the Quebec Superior Court\n",
      "former leader of NATO and veteran of World War II\n",
      "former mayor of Minneapolis\n",
      "seismologist. \n",
      "organic farmer 18\n",
      "former TV presenter of ''Hop''\n",
      "convicted murderer\n",
      "former NFL running back with the Los Angeles Rams and Dallas Cowboys\n",
      "former Foreign Minister of Austria. 21\n",
      "former Fulham FC football player and manager\n",
      "disgraced Scottish former bishop. 24\n",
      "film producer. \n",
      "former president of Burkina Faso\n",
      "football player for VfL Wolfsburg and the Polish national team\n",
      "founder of Morton's of Chicago steakhouses\n",
      "musician, playwright\n",
      "former Pakistani cricket captain\n",
      "founder of Nordic Ware\n",
      "retired right wing for Toronto Maple Leafs and Detroit Red Wings in the 1940s and 50s\n",
      "former Irish politician\n",
      "sister of John F. Kennedy\n",
      "one of the first television presenters on French television\n",
      "choreographer\n",
      "sound effects creator (''The Exorcist (film)''\n",
      "comedian\n",
      "who pitched in Major League Baseball for the Boston Red Sox and St. Louis Browns in the 1940s and 50s\n",
      "drummer for American rock band Jefferson Airplane\n",
      "member of 1970s rock band Bread (band)\n",
      "co-owner of the NHL's Calgary Flames\n",
      "animator for ''Finding Nemo''\n",
      "prolific Spanish film actor\n",
      "former CEO of McDonald's Corporation\n",
      "microbiologist\n",
      "former Chinese Communist Party General Secretary\n",
      "professional wrestler.19\n",
      "former Prime Minister of Norway\n",
      "journalist\n",
      "developer active in New York City and Aspen, Colorado\n",
      "former Deputy Speaker of the UK House of Lords\n",
      "former president of Lawrence University and Duke University\n",
      "retired NFL player\n",
      "activist on behalf of senior citizens and the elderly\n",
      "rugby union coach.25\n",
      "ex-wife of American boxer Jake LaMotta\n",
      "one of the last four surviving Australian veterans of World War I\n",
      "retired Norwegian footballer\n",
      "composer and conductor\n",
      "evolutionary biologist\n",
      "actor and activist\n",
      "former major league closer for the Los Angeles Angels of Anaheim. \n",
      "president of Togo since 1967\n",
      "classical pianist\n",
      "country music manager and songwriter. 7\n",
      "socialite and political hostess\n",
      "former Prime Minister of the Faroe Islands\n",
      "political figure in India\n",
      "television and film director\n",
      "cardiologist\n",
      "journalist and moderator of CBS' ''Face the Nation'' for 15 years\n",
      "drummer for American rock band Doobie Brothers\n",
      "jazz organist. 9\n",
      "inventor of intermittent windshield wipers. \n",
      "physicist\n",
      "former prime minister and foreign minister of Grenada\n",
      "first woman to join the United States Army\n",
      "former footballer with Tottenham Hotspur F.C. and Wales national football team\n",
      "twice Prime Minister of Lebanon\n",
      "boxer, participant in boxing reality show \"The Contender\"\n",
      "professional bowler\n",
      "daughter of former President of Paraguay Raúl Cubas Grau\n",
      "American\n",
      "airline stewardess\n",
      "'Ndrangheta boss\n",
      "jazz vocalist and music professor\n",
      "classic Broadway star and father of Bonnie Raitt\n",
      "co-founder of United Cerebral Palsy\n",
      "exiled Cuban writer\n",
      "former governor of the U.S. state of Georgia (1959–1963). 22\n",
      "founder of the \"Communion and Liberation\" Catholic youth movement\n",
      "retired NFL punter\n",
      "co-authored Christmas songs (''Little Drummer Boy'')\n",
      "founder of the Stratford Festival of Canada\n",
      "historian primarily concerned with The Church of Jesus Christ of Latter-day Saints\n",
      "incumbent governor of Colima (state), Mexico\n",
      "founder of Amnesty International\n",
      "former Los Angeles Dodgers third baseman\n",
      "member of The Pips\n",
      "former prime minister of Egypt\n",
      "former managing editor of ''TIME'' and U.S. ambassador to Austria (1988–1990)\n",
      "creator of the Apple Macintosh\n",
      "former NFL defensive back and assistant coach. 28\n",
      "drummer with The Searchers (band)\n",
      "priest who participated in the exorcism on which ''The Exorcist (novel)'' was based\n",
      "convicted murderer\n",
      "founder of exotica musical genre\n",
      "retired American baseball pitcher\n",
      "inventor of the video rental\n",
      "millionaire philanthropist listed in Forbes 400\n",
      "former Dutch national football team coach\n",
      "operatic soprano\n",
      "former interior minister of Ukraine\n",
      "former international cricketer and Church of England bishop\n",
      "actress\n",
      "accused in the Laura Hernandez drug case; killed during a riot in a Dominican Republic jail\n",
      "film production designer\n",
      "screenwriter and film producer\n",
      "cofounding member of the band Blue Cheer. 9\n",
      "retired Hungarian footballer\n",
      "professional transsexual whistler\n",
      "lead singer for Molly Hatchet\n",
      "author of atlases of fictional worlds\n",
      "soul singer\n",
      "star of B-movie ''Brain That Wouldn't Die''\n",
      "a retired New York Giants (NL) outfielder who challenged baseball's reserve clause in a 1947 federal lawsuit\n",
      "retired Major League Baseball catcher and Alabama legislator\n",
      "wife of Jim Callaghan\n",
      "a Japanese aikido teacher holding the rank of 8th dan shihan from the Aikikai. 16\n",
      "former Chicago Bears player\n",
      "first Indigenous Australian judge\n",
      "actor\n",
      "represented Miami-Dade County, Florida\n",
      "former baseball player. 17\n",
      "former NFL player\n",
      "father of Chicano music\n",
      "former Pittsburgh Steelers player\n",
      "science fiction and fantasy author. 18\n",
      "musicologist and critic\n",
      "cabaret singer and pianist\n",
      "school shooter\n",
      "president of the Polish American Congress\n",
      "guitarist and founding member of Foghat\n",
      "founder of Bushnell Optical binoculars\n",
      "former baseball pitcher\n",
      "anarchist historian and journalist\n",
      "scriptwriter (Benny Hill, Carry On films\n",
      "former chairman of the Presidential Council of Hungary (head of state)\n",
      "poet\n",
      "world-renowned folklorist, who was central in establishing folklore as a discipline\n",
      "former record holder in hurdles\n",
      "comedian\n",
      "former drummer of two California punk bands (Lagwagon and the Ataris)\n",
      "record-setting United States Navy test pilot\n"
     ]
    }
   ],
   "source": [
    "df_full['nationality'] = df_full.desc.map(get_nationality_text)"
   ]
  },
  {
   "cell_type": "markdown",
   "metadata": {},
   "source": [
    "Get wikitext url name"
   ]
  },
  {
   "cell_type": "code",
   "execution_count": 91,
   "metadata": {
    "collapsed": false
   },
   "outputs": [],
   "source": [
    "df_full['name'] = df_full.name.map(get_wiki_url)"
   ]
  },
  {
   "cell_type": "code",
   "execution_count": 92,
   "metadata": {
    "collapsed": false
   },
   "outputs": [
    {
     "data": {
      "text/html": [
       "<div>\n",
       "<table border=\"1\" class=\"dataframe\">\n",
       "  <thead>\n",
       "    <tr style=\"text-align: right;\">\n",
       "      <th></th>\n",
       "      <th>year</th>\n",
       "      <th>month</th>\n",
       "      <th>name</th>\n",
       "      <th>age</th>\n",
       "      <th>desc</th>\n",
       "      <th>cause_of_death</th>\n",
       "      <th>nationality</th>\n",
       "    </tr>\n",
       "  </thead>\n",
       "  <tbody>\n",
       "    <tr>\n",
       "      <th>0</th>\n",
       "      <td>2014</td>\n",
       "      <td>10</td>\n",
       "      <td>Lynsey de Paul</td>\n",
       "      <td>64</td>\n",
       "      <td>English singer-songwriter (\"Won't Somebody Dan...</td>\n",
       "      <td>brain haemorrhage</td>\n",
       "      <td>English</td>\n",
       "    </tr>\n",
       "    <tr>\n",
       "      <th>1</th>\n",
       "      <td>2014</td>\n",
       "      <td>10</td>\n",
       "      <td>Maurice Hodgson</td>\n",
       "      <td>94</td>\n",
       "      <td>British business executive</td>\n",
       "      <td></td>\n",
       "      <td>British</td>\n",
       "    </tr>\n",
       "    <tr>\n",
       "      <th>2</th>\n",
       "      <td>2014</td>\n",
       "      <td>10</td>\n",
       "      <td>Shlomo Lahat</td>\n",
       "      <td>86</td>\n",
       "      <td>Israeli general and politician, Mayor of Tel A...</td>\n",
       "      <td>lung infection</td>\n",
       "      <td>Israeli</td>\n",
       "    </tr>\n",
       "    <tr>\n",
       "      <th>3</th>\n",
       "      <td>2014</td>\n",
       "      <td>10</td>\n",
       "      <td>José Martínez (infielder)</td>\n",
       "      <td>72</td>\n",
       "      <td>Cuban baseball player (Pittsburgh Pirates), co...</td>\n",
       "      <td>Chicago Cubs) and executive (Atlanta Braves)</td>\n",
       "      <td>Cuban</td>\n",
       "    </tr>\n",
       "    <tr>\n",
       "      <th>4</th>\n",
       "      <td>2014</td>\n",
       "      <td>10</td>\n",
       "      <td>Oluremi Oyo</td>\n",
       "      <td>61</td>\n",
       "      <td>Nigerian journalist</td>\n",
       "      <td>cancer</td>\n",
       "      <td>Nigerian</td>\n",
       "    </tr>\n",
       "  </tbody>\n",
       "</table>\n",
       "</div>"
      ],
      "text/plain": [
       "   year month                       name age  \\\n",
       "0  2014    10             Lynsey de Paul  64   \n",
       "1  2014    10            Maurice Hodgson  94   \n",
       "2  2014    10               Shlomo Lahat  86   \n",
       "3  2014    10  José Martínez (infielder)  72   \n",
       "4  2014    10                Oluremi Oyo  61   \n",
       "\n",
       "                                                desc  \\\n",
       "0  English singer-songwriter (\"Won't Somebody Dan...   \n",
       "1                         British business executive   \n",
       "2  Israeli general and politician, Mayor of Tel A...   \n",
       "3  Cuban baseball player (Pittsburgh Pirates), co...   \n",
       "4                                Nigerian journalist   \n",
       "\n",
       "                                 cause_of_death nationality  \n",
       "0                             brain haemorrhage     English  \n",
       "1                                                   British  \n",
       "2                                lung infection     Israeli  \n",
       "3  Chicago Cubs) and executive (Atlanta Braves)       Cuban  \n",
       "4                                        cancer    Nigerian  "
      ]
     },
     "execution_count": 92,
     "metadata": {},
     "output_type": "execute_result"
    }
   ],
   "source": [
    "df_full.head()"
   ]
  },
  {
   "cell_type": "markdown",
   "metadata": {},
   "source": [
    "Clean text again to get rid of urls; for some reason, running twice does the trick."
   ]
  },
  {
   "cell_type": "code",
   "execution_count": 93,
   "metadata": {
    "collapsed": true
   },
   "outputs": [],
   "source": [
    "df_full['desc'] = df_full.desc.map(text_clean)\n",
    "df_full['cause_of_death'] = df_full.cause_of_death.map(text_clean)"
   ]
  },
  {
   "cell_type": "markdown",
   "metadata": {},
   "source": [
    "Quick workaround for the ones ending in parentheses:"
   ]
  },
  {
   "cell_type": "markdown",
   "metadata": {},
   "source": [
    "full_2_list = []\n",
    "with open('../out/celeb_deaths_wikipedia_full_1.csv', 'rb') as df_full_1_infile:\n",
    "    in_reader = csv.reader(df_full_1_infile)\n",
    "    for row in in_reader:\n",
    "        full_2_list.append(row)\n",
    "    df_full_1_infile.close()"
   ]
  },
  {
   "cell_type": "markdown",
   "metadata": {},
   "source": [
    "Correct way to do it:"
   ]
  },
  {
   "cell_type": "code",
   "execution_count": 94,
   "metadata": {
    "collapsed": true
   },
   "outputs": [],
   "source": [
    "full_2_list = [df_full.columns.tolist()] + list(df_full.values.tolist())"
   ]
  },
  {
   "cell_type": "code",
   "execution_count": 95,
   "metadata": {
    "collapsed": false
   },
   "outputs": [],
   "source": [
    "for row in full_2_list[1:]:\n",
    "    if len(row[5]) > 0:\n",
    "        if row[5][-1] == ')':\n",
    "            row[4] = row[4] + \", \" + row[5]\n",
    "            row[5] = ''"
   ]
  },
  {
   "cell_type": "markdown",
   "metadata": {},
   "source": [
    "## Write out file"
   ]
  },
  {
   "cell_type": "markdown",
   "metadata": {},
   "source": [
    "It would be useful to plot missing data by page_size i.e. fame or \"importance.\""
   ]
  },
  {
   "cell_type": "code",
   "execution_count": 96,
   "metadata": {
    "collapsed": true
   },
   "outputs": [],
   "source": [
    "with open('../out/celeb_deaths_wikipedia_full_1.csv', 'wb') as df_full_2_outfile:\n",
    "    out_writer = csv.writer(df_full_2_outfile, delimiter=',')\n",
    "    for row in full_2_list:\n",
    "        out_writer.writerow(row)\n",
    "    df_full_2_outfile.close()"
   ]
  },
  {
   "cell_type": "code",
   "execution_count": null,
   "metadata": {
    "collapsed": true
   },
   "outputs": [],
   "source": []
  }
 ],
 "metadata": {
  "kernelspec": {
   "display_name": "Python 2",
   "language": "python",
   "name": "python2"
  },
  "language_info": {
   "codemirror_mode": {
    "name": "ipython",
    "version": 2
   },
   "file_extension": ".py",
   "mimetype": "text/x-python",
   "name": "python",
   "nbconvert_exporter": "python",
   "pygments_lexer": "ipython2",
   "version": "2.7.10"
  }
 },
 "nbformat": 4,
 "nbformat_minor": 0
}
