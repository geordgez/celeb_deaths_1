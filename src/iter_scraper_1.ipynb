{
 "cells": [
  {
   "cell_type": "markdown",
   "metadata": {},
   "source": [
    "# Scraping Wikipedia Celebrity Deaths\n",
    "\n",
    "Creating a notebook to produce the dataset found at the [Kaggle Celebrity Deaths Page](https://www.kaggle.com/hugodarwood/celebrity-deaths).\n",
    "\n",
    "Attempting to replace the current dataset since it isn't complete (up-to-date) since there's no notebook to run to get up-to-date information and it has bad parses for some of the fields.\n",
    "\n",
    "This notebook isn't perfect either but does a better job."
   ]
  },
  {
   "cell_type": "code",
   "execution_count": null,
   "metadata": {
    "collapsed": true
   },
   "outputs": [],
   "source": [
    "%matplotlib inline"
   ]
  },
  {
   "cell_type": "code",
   "execution_count": null,
   "metadata": {
    "collapsed": true
   },
   "outputs": [],
   "source": [
    "import numpy as np\n",
    "import pandas as pd\n",
    "import re\n",
    "import requests\n",
    "import json\n",
    "\n",
    "from os import listdir\n",
    "from os.path import isfile, join\n",
    "\n",
    "from bs4 import BeautifulSoup as bs"
   ]
  },
  {
   "cell_type": "code",
   "execution_count": null,
   "metadata": {
    "collapsed": false
   },
   "outputs": [],
   "source": [
    "month_to_num = {\n",
    "    'January': 1,\n",
    "    'February': 2,\n",
    "    'March': 3,\n",
    "    'April': 4,\n",
    "    'May': 5,\n",
    "    'June': 6,\n",
    "    'July': 7,\n",
    "    'August': 8,\n",
    "    'September': 9,\n",
    "    'October': 10,\n",
    "    'November': 11,\n",
    "    'December': 12\n",
    "}"
   ]
  },
  {
   "cell_type": "markdown",
   "metadata": {},
   "source": [
    "Iterators:"
   ]
  },
  {
   "cell_type": "code",
   "execution_count": null,
   "metadata": {
    "collapsed": false
   },
   "outputs": [],
   "source": [
    "year_list = range(2004,2017)\n",
    "type(year_list)"
   ]
  },
  {
   "cell_type": "markdown",
   "metadata": {},
   "source": [
    "### [DON'T RUN AGAIN] Scrape all monthly death pages"
   ]
  },
  {
   "cell_type": "markdown",
   "metadata": {},
   "source": [
    "Scrape all death pages and store into the '../out/raw_pages' directory"
   ]
  },
  {
   "cell_type": "code",
   "execution_count": null,
   "metadata": {
    "collapsed": false
   },
   "outputs": [],
   "source": [
    "\"\"\"\n",
    "for year in year_list:\n",
    "    for month in month_to_num.keys():\n",
    "        filename = str(year) + '_' + str(month_to_num[month]) + '_deaths.json'\n",
    "        url = ('https://en.wikipedia.org/w/api.php?action=query&titles=Deaths_in_' +  \n",
    "               month + '_' + str(year) + \n",
    "               '&prop=revisions&rvprop=content&format=json')\n",
    "        content = requests.get(url).json()\n",
    "        with open(\"../out/raw_pages/\" + filename, \"wb\") as outfile:\n",
    "            json.dump(content, outfile)         \n",
    "\"\"\"\n",
    "''"
   ]
  },
  {
   "cell_type": "markdown",
   "metadata": {},
   "source": [
    "### Helper functions"
   ]
  },
  {
   "cell_type": "code",
   "execution_count": null,
   "metadata": {
    "collapsed": true
   },
   "outputs": [],
   "source": [
    "desc_death_re = re.compile('(.*?),? ?((?:.+)*?). (?:.*?)?', re.DOTALL|re.MULTILINE)\n",
    "death_clean_no_url_re = re.compile('\\s?(.[^<]+)\\.? ?(?=<|\\[?http)(?:.*)?$')\n",
    "# death_clean_no_url_re = re.compile('\\s?\\w(.[^<])+[.]?(?:<|\\[?http)(?:.*)?$')\n",
    "\n",
    "\"\"\"\n",
    "Input: single text string to be processed\n",
    "\n",
    "Output: list of strings of length two\n",
    "  - first string is description of person\n",
    "  - second string is cause of death \n",
    "  (last clause of input when more than one comma in field)\n",
    "  \n",
    "\"\"\"\n",
    "def get_description_and_death(text):\n",
    "    text_no_url = text\n",
    "    if ('http' in text_no_url) or ('<ref' in text_no_url):\n",
    "        try:\n",
    "            text_no_url = death_clean_no_url_re.match(text).groups()[0]\n",
    "        except AttributeError:\n",
    "            print text\n",
    "            raw_input(\"Press enter to continue\")\n",
    "            raw_input(\"Press enter to continue\")\n",
    "    text_parts = text_no_url.replace('=','').split(',')\n",
    "    num_parts = len(text_parts)\n",
    "    if num_parts == 0:\n",
    "        return ['', '']\n",
    "    elif num_parts == 1:\n",
    "        return text_parts + ['']\n",
    "    elif num_parts == 2:\n",
    "        return [\",\".join(text_parts)] + [text_parts[1]]\n",
    "    else:\n",
    "        return ([\",\".join(text_parts[:-1])] + [text_parts[-1]])\n",
    "                #[death_clean_no_url_re.match(text_parts[-1]).groups()[0]])"
   ]
  },
  {
   "cell_type": "code",
   "execution_count": null,
   "metadata": {
    "collapsed": false
   },
   "outputs": [],
   "source": [
    "\"\"\"\n",
    "Runs get_description_and_death on the last element of a list\n",
    "\"\"\"\n",
    "def add_description_and_death(entry_list):\n",
    "    return entry_list[:-1] + get_description_and_death(entry_list[-1])"
   ]
  },
  {
   "cell_type": "markdown",
   "metadata": {},
   "source": [
    "Testing functions:"
   ]
  },
  {
   "cell_type": "code",
   "execution_count": null,
   "metadata": {
    "collapsed": false
   },
   "outputs": [],
   "source": [
    "get_description_and_death('English singer-songwriter (\"[[Won\\'t Somebody Dance with Me]]\"), brain haemorrhage.<ref>[http://www.bbc.co.uk/news/entertainment-arts-29457228 Singer Lynsey De Paul dies aged 64]</ref>')"
   ]
  },
  {
   "cell_type": "code",
   "execution_count": null,
   "metadata": {
    "collapsed": true
   },
   "outputs": [],
   "source": [
    "\"\"\"\n",
    "This is for input as a list cleaning a particular list entry. \n",
    "See below for the pandas dataframe version\n",
    "\n",
    "Inputs: list, index number, character pattern to be replaced\n",
    "\n",
    "Outputs: list with entry in index number cleaned of the character pattern to be replaced\n",
    "\"\"\"\n",
    "def clean_text(text_list, idx_num, chars):\n",
    "    text_list_out = text_list\n",
    "    text_list_out[idx_num] = text_list[idx_num].replace(chars, '')\n",
    "    return text_list_out"
   ]
  },
  {
   "cell_type": "code",
   "execution_count": null,
   "metadata": {
    "collapsed": true
   },
   "outputs": [],
   "source": [
    "mo_yr_key_re = re.compile('(\\d+)_(\\d+).*?')\n",
    "name_age_re = re.compile('\\[\\[(.*?)\\]\\], (\\d+), (.+)?$', re.MULTILINE)\n",
    "\n",
    "\"\"\"\n",
    "Inputs: month-year key string, text entry string\n",
    "\n",
    "Outputs: list of month, year, name, and age\n",
    "\"\"\"\n",
    "def parse_month_year_name_age(my_key, text_entry):\n",
    "    return (list(re.match(mo_yr_key_re, my_key).groups()) +\n",
    "            list(re.match(name_age_re, text_entry.replace('\\n', '')).groups()))"
   ]
  },
  {
   "cell_type": "code",
   "execution_count": null,
   "metadata": {
    "collapsed": false
   },
   "outputs": [],
   "source": [
    "\"\"\"\n",
    "Find links and convert them to the displayed text\n",
    "\"\"\"\n",
    "link_re = re.compile('\\[\\[([^\\|(?:\\]\\])]*)(?=\\||\\]\\])', re.DOTALL)\n",
    "\n",
    "# need to check if contains link\n",
    "def extract_link_text(link_block):\n",
    "    link_present = link_re.search(link_block)\n",
    "    if link_present:\n",
    "        return link_present.groups()\n",
    "    return link_block"
   ]
  },
  {
   "cell_type": "code",
   "execution_count": null,
   "metadata": {
    "collapsed": false
   },
   "outputs": [],
   "source": [
    "extract_link_text('asdf asdf [[1asdf|2]]')"
   ]
  },
  {
   "cell_type": "code",
   "execution_count": null,
   "metadata": {
    "collapsed": false
   },
   "outputs": [],
   "source": [
    "link_all_re = re.compile('(\\[\\[([^(\\]\\])]*)(\\]\\]))')\n",
    "\n",
    "\"\"\"\n",
    "Used to be messy, not anymore!\n",
    "\"\"\"\n",
    "def link_only(matchobj):\n",
    "    cleaned_text = extract_link_text(matchobj.groups()[0])[0]\n",
    "    return cleaned_text\n",
    "\n",
    "def remove_link_text(text_block):\n",
    "    return re.sub(link_all_re, link_only, text_block)"
   ]
  },
  {
   "cell_type": "code",
   "execution_count": null,
   "metadata": {
    "collapsed": false,
    "scrolled": true
   },
   "outputs": [],
   "source": [
    "remove_link_text('asdf asdf [[ab]] [[cd|efg]]')"
   ]
  },
  {
   "cell_type": "code",
   "execution_count": 51,
   "metadata": {
    "collapsed": false
   },
   "outputs": [],
   "source": [
    "def remove_end_period(text):\n",
    "    return re.sub('\\. ?$','',text)\n",
    "\n",
    "def remove_beginning_space(text):\n",
    "    return re.sub('^ +','',text)"
   ]
  },
  {
   "cell_type": "code",
   "execution_count": 52,
   "metadata": {
    "collapsed": false
   },
   "outputs": [
    {
     "data": {
      "text/plain": [
       "'asdf'"
      ]
     },
     "execution_count": 52,
     "metadata": {},
     "output_type": "execute_result"
    }
   ],
   "source": [
    "remove_beginning_space('   asdf')"
   ]
  },
  {
   "cell_type": "code",
   "execution_count": 53,
   "metadata": {
    "collapsed": true
   },
   "outputs": [],
   "source": [
    "\"\"\"\n",
    "for a single entry in the dataframe\n",
    "\"\"\"\n",
    "def text_clean(text):\n",
    "    return remove_beginning_space(\n",
    "        remove_end_period(\n",
    "            remove_link_text(text)\n",
    "        ).replace('[','').replace(']','')\n",
    "    )"
   ]
  },
  {
   "cell_type": "markdown",
   "metadata": {},
   "source": [
    "### Re-read and process scraped file data locally"
   ]
  },
  {
   "cell_type": "code",
   "execution_count": 54,
   "metadata": {
    "collapsed": false
   },
   "outputs": [],
   "source": [
    "jsonfiles = [f for f in listdir('../out/raw_pages/') if (isfile(join('../out/raw_pages/', f)) and f[-4:] == 'json')]"
   ]
  },
  {
   "cell_type": "code",
   "execution_count": 121,
   "metadata": {
    "collapsed": false
   },
   "outputs": [],
   "source": [
    "month_year_pages = {}\n",
    "\n",
    "for jfilename in jsonfiles:\n",
    "    my_key = \"_\".join(re.match(mo_yr_key_re, jfilename).groups())\n",
    "    with open('../out/raw_pages/' + jfilename, 'rb') as infile:\n",
    "        contents = infile.read()\n",
    "        infile.close()\n",
    "    month_year_pages[my_key] = json.loads(contents)['query']['pages'].values()[0]['revisions'][0]['*']"
   ]
  },
  {
   "cell_type": "code",
   "execution_count": 122,
   "metadata": {
    "collapsed": false
   },
   "outputs": [
    {
     "data": {
      "text/plain": [
       "57927"
      ]
     },
     "execution_count": 122,
     "metadata": {},
     "output_type": "execute_result"
    }
   ],
   "source": [
    "counter = 0\n",
    "for value in month_year_pages.values():\n",
    "    new_entries = len(value.encode('utf-8').rstrip().split('*'))\n",
    "    counter += new_entries\n",
    "counter"
   ]
  },
  {
   "cell_type": "markdown",
   "metadata": {},
   "source": [
    "Should combine cell below with cell above (later)."
   ]
  },
  {
   "cell_type": "code",
   "execution_count": 123,
   "metadata": {
    "collapsed": false,
    "scrolled": true
   },
   "outputs": [],
   "source": [
    "for my_key in month_year_pages.keys():\n",
    "    month_year_pages[my_key] = [\n",
    "        add_description_and_death(\n",
    "            parse_month_year_name_age(my_key, entry)\n",
    "        )\n",
    "        for entry in month_year_pages[my_key].encode('utf-8').rstrip().split('*')\n",
    "        if re.match(name_age_re, entry.replace('\\n', ''))]"
   ]
  },
  {
   "cell_type": "markdown",
   "metadata": {
    "collapsed": true
   },
   "source": [
    "Make dataframe:"
   ]
  },
  {
   "cell_type": "code",
   "execution_count": 124,
   "metadata": {
    "collapsed": false
   },
   "outputs": [
    {
     "name": "stdout",
     "output_type": "stream",
     "text": [
      "(0, 6)\n"
     ]
    },
    {
     "data": {
      "text/html": [
       "<div>\n",
       "<table border=\"1\" class=\"dataframe\">\n",
       "  <thead>\n",
       "    <tr style=\"text-align: right;\">\n",
       "      <th></th>\n",
       "      <th>year</th>\n",
       "      <th>month</th>\n",
       "      <th>name</th>\n",
       "      <th>age</th>\n",
       "      <th>desc</th>\n",
       "      <th>cause_of_death</th>\n",
       "    </tr>\n",
       "  </thead>\n",
       "  <tbody>\n",
       "  </tbody>\n",
       "</table>\n",
       "</div>"
      ],
      "text/plain": [
       "Empty DataFrame\n",
       "Columns: [year, month, name, age, desc, cause_of_death]\n",
       "Index: []"
      ]
     },
     "execution_count": 124,
     "metadata": {},
     "output_type": "execute_result"
    }
   ],
   "source": [
    "df_full = pd.DataFrame(columns=['year','month','name','age','desc','cause_of_death'])\n",
    "print df_full.shape\n",
    "df_full.head()"
   ]
  },
  {
   "cell_type": "code",
   "execution_count": 125,
   "metadata": {
    "collapsed": false
   },
   "outputs": [],
   "source": [
    "for entry in month_year_pages.values():\n",
    "    df_sub = pd.DataFrame(entry, columns=['year','month','name','age','desc','cause_of_death'])\n",
    "    df_full = pd.concat([df_full, df_sub], axis=0)"
   ]
  },
  {
   "cell_type": "code",
   "execution_count": 129,
   "metadata": {
    "collapsed": false
   },
   "outputs": [
    {
     "name": "stdout",
     "output_type": "stream",
     "text": [
      "(49051, 6)\n"
     ]
    },
    {
     "data": {
      "text/html": [
       "<div>\n",
       "<table border=\"1\" class=\"dataframe\">\n",
       "  <thead>\n",
       "    <tr style=\"text-align: right;\">\n",
       "      <th></th>\n",
       "      <th>year</th>\n",
       "      <th>month</th>\n",
       "      <th>name</th>\n",
       "      <th>age</th>\n",
       "      <th>desc</th>\n",
       "      <th>cause_of_death</th>\n",
       "    </tr>\n",
       "  </thead>\n",
       "  <tbody>\n",
       "    <tr>\n",
       "      <th>0</th>\n",
       "      <td>2014</td>\n",
       "      <td>10</td>\n",
       "      <td>Lynsey de Paul</td>\n",
       "      <td>64</td>\n",
       "      <td>English singer-songwriter (\"Won't Somebody Dan...</td>\n",
       "      <td>brain haemorrhage</td>\n",
       "    </tr>\n",
       "    <tr>\n",
       "      <th>1</th>\n",
       "      <td>2014</td>\n",
       "      <td>10</td>\n",
       "      <td>Maurice Hodgson|Sir Maurice Hodgson</td>\n",
       "      <td>94</td>\n",
       "      <td>British business executive</td>\n",
       "      <td></td>\n",
       "    </tr>\n",
       "    <tr>\n",
       "      <th>2</th>\n",
       "      <td>2014</td>\n",
       "      <td>10</td>\n",
       "      <td>Shlomo Lahat</td>\n",
       "      <td>86</td>\n",
       "      <td>Israeli general and politician, Mayor of Tel A...</td>\n",
       "      <td>lung infection</td>\n",
       "    </tr>\n",
       "    <tr>\n",
       "      <th>3</th>\n",
       "      <td>2014</td>\n",
       "      <td>10</td>\n",
       "      <td>José Martínez (infielder)|José Martínez</td>\n",
       "      <td>72</td>\n",
       "      <td>Cuban baseball player (Pittsburgh Pirates), co...</td>\n",
       "      <td>Chicago Cubs) and executive (Atlanta Braves)</td>\n",
       "    </tr>\n",
       "    <tr>\n",
       "      <th>4</th>\n",
       "      <td>2014</td>\n",
       "      <td>10</td>\n",
       "      <td>Oluremi Oyo</td>\n",
       "      <td>61</td>\n",
       "      <td>Nigerian journalist, cancer</td>\n",
       "      <td>cancer</td>\n",
       "    </tr>\n",
       "  </tbody>\n",
       "</table>\n",
       "</div>"
      ],
      "text/plain": [
       "   year month                                     name age  \\\n",
       "0  2014    10                           Lynsey de Paul  64   \n",
       "1  2014    10      Maurice Hodgson|Sir Maurice Hodgson  94   \n",
       "2  2014    10                             Shlomo Lahat  86   \n",
       "3  2014    10  José Martínez (infielder)|José Martínez  72   \n",
       "4  2014    10                              Oluremi Oyo  61   \n",
       "\n",
       "                                                desc  \\\n",
       "0  English singer-songwriter (\"Won't Somebody Dan...   \n",
       "1                         British business executive   \n",
       "2  Israeli general and politician, Mayor of Tel A...   \n",
       "3  Cuban baseball player (Pittsburgh Pirates), co...   \n",
       "4                        Nigerian journalist, cancer   \n",
       "\n",
       "                                 cause_of_death  \n",
       "0                             brain haemorrhage  \n",
       "1                                                \n",
       "2                                lung infection  \n",
       "3  Chicago Cubs) and executive (Atlanta Braves)  \n",
       "4                                        cancer  "
      ]
     },
     "execution_count": 129,
     "metadata": {},
     "output_type": "execute_result"
    }
   ],
   "source": [
    "print df_full.shape\n",
    "df_full.head()"
   ]
  },
  {
   "cell_type": "code",
   "execution_count": 130,
   "metadata": {
    "collapsed": false
   },
   "outputs": [
    {
     "data": {
      "text/plain": [
       "'cancer'"
      ]
     },
     "execution_count": 130,
     "metadata": {},
     "output_type": "execute_result"
    }
   ],
   "source": [
    "df_full.iloc[4].values[5]"
   ]
  },
  {
   "cell_type": "markdown",
   "metadata": {},
   "source": [
    "### Further Processing"
   ]
  },
  {
   "cell_type": "markdown",
   "metadata": {},
   "source": [
    "#### Reminder: Strip links, quotes, and brackets before extracting Nationality text"
   ]
  },
  {
   "cell_type": "code",
   "execution_count": 128,
   "metadata": {
    "collapsed": true
   },
   "outputs": [],
   "source": [
    "df_full['desc'] = df_full.desc.map(text_clean)\n",
    "df_full['cause_of_death'] = df_full.cause_of_death.map(text_clean)"
   ]
  },
  {
   "cell_type": "code",
   "execution_count": null,
   "metadata": {
    "collapsed": true
   },
   "outputs": [],
   "source": []
  },
  {
   "cell_type": "markdown",
   "metadata": {},
   "source": [
    "#### Extract Nationality\n",
    "\n",
    "Extracting nationality text as well as possible by taking the first consecutive capitalized words in the description. 'Olympic' and similar capitalized words might throw this off."
   ]
  },
  {
   "cell_type": "code",
   "execution_count": 131,
   "metadata": {
    "collapsed": false
   },
   "outputs": [],
   "source": [
    "natl_pattern1 = re.compile(' ?((?:[A-Z][^\\s]+ ?)+) ', re.UNICODE)\n",
    "\n",
    "def get_nationality_text(desc_text):\n",
    "    try:\n",
    "        # get rid of url links\n",
    "        return natl_pattern1.match(desc_text.strip('[')).groups()[0]\n",
    "    except AttributeError, e:\n",
    "        print desc_text"
   ]
  },
  {
   "cell_type": "code",
   "execution_count": 132,
   "metadata": {
    "collapsed": false
   },
   "outputs": [
    {
     "data": {
      "text/plain": [
       "('Native American',)"
      ]
     },
     "execution_count": 132,
     "metadata": {},
     "output_type": "execute_result"
    }
   ],
   "source": [
    "natl_pattern1.match('Native American asdf asdfasdf ').groups()"
   ]
  },
  {
   "cell_type": "code",
   "execution_count": 133,
   "metadata": {
    "collapsed": true
   },
   "outputs": [
    {
     "name": "stdout",
     "output_type": "stream",
     "text": [
      "ni-Vanuatu international footballer\n",
      "chief of web security at AOL, pancreatic cancer \n",
      "<!-- date of birth unknown -->British artist. \n",
      "former Canadian Football League player and NHL referee. \n",
      "former Soviet FIFA World Cup footballer & title-winning coach for Dynamo Kiev \n",
      "former German Nazi SS officer. \n",
      "former Second Deputy Prime Minister of Singapore, heart failure. \n",
      "former professional wrestling promoter, natural causes \n",
      "last American survivor of the ''RMS Titanic'' sinking, died in sleep. \n",
      "former CEO of Firestone Tire and Rubber Company, heart attack. \n",
      "fled the U.S. with granddaughter in Elizabeth Morgan case custody battle \n",
      "lawyer & professor at New York Law School \n",
      "founder of Ninety Nine Restaurant & Pub, cancer. \n",
      "first Asian-American to be editor of a major American daily newspaper, the ''St. Louis Post-Dispatch''\n",
      "first Australian Defence Force serviceperson killed in Iraq. \n",
      "humanitarian worker and charity activist\n",
      "scholar and journalist, Director of the Department of Culture (since 2013)\n",
      "military band conductor\n",
      "football player (Associação Chapecoense de Futebol)\n",
      "football player (Associação Chapecoense de Futebol)\n",
      "football player (Associação Chapecoense de Futebol)\n",
      "football player (Associação Chapecoense de Futebol, Grêmio Foot-Ball Porto Alegrense)\n",
      "football player (Associação Chapecoense de Futebol)\n",
      "football player (Associação Chapecoense de Futebol, Associação Portuguesa de Desportos)\n",
      "reporter (Fox Sports)\n",
      "commentator (Fox Sports)\n",
      "football player (Associação Chapecoense de Futebol, Coritiba Foot Ball Club)\n",
      "football player (Associação Chapecoense de Futebol)\n",
      "football player (Associação Chapecoense de Futebol)\n",
      "football player (Associação Chapecoense de Futebol)\n",
      "football player and manager (Associação Chapecoense de Futebol, Vitória S.C.)\n",
      "football player (Associação Chapecoense de Futebol, JEF United Chiba)\n",
      "football player (Associação Chapecoense de Futebol, PFC CSKA Sofia)\n",
      "football player (Associação Chapecoense de Futebol, Esporte Clube Vitória)\n",
      "football player (Associação Chapecoense de Futebol, Clube de Regatas do Flamengo)\n",
      "politician and football executive, vice-president of Brazilian Football Confederation\n",
      "football player, manager\n",
      "football player (Associação Chapecoense de Futebol)\n",
      "football player (Associação Chapecoense de Futebol, Atlético Madrid)\n",
      "football player (Associação Chapecoense de Futebol, Grêmio Foot-Ball Porto Alegrense)\n",
      "Brazilian\n",
      "sailor\n",
      "swimmer, Olympic gold medalist (Swimming at the 2012 Summer Olympics – Women's 400 metre freestyle)\n",
      "boxer, Olympic bronze medalist (Boxing at the 2008 Summer Olympics – Light welterweight)March 10\n",
      "opera singer.March 25\n",
      "cartoonist\n",
      "psychoanalyst and columnist\n",
      "caricaturist and journalist\n",
      "cartoonist\n",
      "economist and journalist\n",
      "cartoonist\n",
      "cartoonistJanuary 8\n",
      "<!-- biological age 6, considered 7 for competition purposes -->Irish racehorse\n",
      "political scientist\n",
      "attorney, President of the Polish Bar Council (since 2007)\n",
      "general, Chief of the Air Force (since 2007)\n",
      "senator, vice president of Senate\n",
      "general, head of Polish Land Forces\n",
      "member of the Sejm of the Republic of Poland\n",
      "member of the Sejm\n",
      "senator\n",
      "general, Chief of the General Staff (since 2006)\n",
      "politician, Minister of Regional Development (2006–2007)\n",
      "member of the Sejm, Deputy Prime Minister (2007)\n",
      "diplomat, Undersecretary of State in the Office of the President\n",
      "member of the Sejm, Deputy Prime Minister (2004–2005)\n",
      "politician, President in exile (1989–1990)\n",
      "member of the Sejm\n",
      "diplomat, Director of Diplomatic Protocol in the Ministry of Foreign Affairs\n",
      "lawyer and diplomat, Commissioner for Civil Rights Protection (Ombudsman) (since 2006)\n",
      "general, Chancellor of the Order Virtuti Militari\n",
      "lawyer and diplomat, Deputy Foreign Minister (since 2008)\n",
      "historian, president of the Institute of National Remembrance\n",
      "general, Commander of the Armed Forces Operational Command\n",
      "member of the Sejm\n",
      "sports administrator, head of the Polish Olympic Committee (since 2005)\n",
      "member of the Sejm\n",
      "politician, Vice-Marshal of the Sejm (since 2007)\n",
      "rector of the Cardinal Stefan Wyszyński University in Warsaw\n",
      "member of the Sejm\n",
      "banker, President of National Bank of Poland\n",
      "politician, Minister of Defence (2007)\n",
      "politician, Minister of Defence (2001–2005)\n",
      "member of the Sejm\n",
      "trade unionist whose 1980 firing led to the creation of the Solidarity (Polish trade union)|Solidarity movement\n",
      "member of the Sejm\n",
      "member of the Sejm\n",
      "member of the Sejm\n",
      "politician, Secretary of State (since 2009)\n",
      "senator\n",
      "actor.April 11\n",
      "<!-- note: see article and article talk page -->American singer, heart failure\n",
      "former leader of the Inner London Education Authority.{{Citation needed|dateJuly 2011}}November 18\n",
      "spiritual leader and head of the Sikhism Dharma in the western hemisphere, heart failure. \n",
      "musician, filmmaker and author\n",
      "brother of former president of Mexico Carlos Salinas, asphyxiation. \n",
      "pornographic film actress, brain cancer. \n",
      "chief minister of Jammu and Kashmir (1971–1975). \n",
      "first Bahamian to play in Major League Baseball. \n",
      "painter, lithographer\n",
      "computer scientist. \n",
      "widow of Chiang Ching-kuo and First Lady of the Republic of China on Taiwan (1978–1988), pulmonary and cardiac failure. \n",
      "mother of former US vice-president Al Gore, wife of Albert Gore\n",
      "former United States Ambassador to Sweden, complications of pancreatitis. \n",
      "baseball pitching machine innovator, cancer-related illness. \n",
      "astrologer, breast cancer. \n",
      "Icelandic\n",
      "<!-- 90 not 91 -->Polish actress, lung cancer. \n",
      "former wife and agent of British TV entertainer Michael Barrymore, lung cancer. \n",
      "songwriter, wrote themes to ''Bewitched'' and ''Gidget''\n",
      "drummer for the bands Trouble (band)|Trouble and Zoetrope (band)|Zoetrope, from complications following surgery\n",
      "second Secretary of Housing and Urban Development, appointed by Lyndon B. Johnson in 1969; later served as University of Massachusetts President 1970-1977\n",
      "former U.S. ambassador to Chile, Lou Gehrig's disease\n",
      "creator of the Brenda Starr comic strip\n",
      "actress (''Mary Hartman, Mary Hartman'')\n",
      "landscape painter mainly in his native Maine.6\n",
      "memoirist and head of the University of Iowa's famous Iowa Writers' Workshop\n",
      "doctor, teacher\n",
      "reigning Prince of Monaco since 1949.7\n",
      "former Formula One driver\n",
      "a former Major League Baseball player and manager, who hit the first grand slam in Baltimore Orioles history and was the Oakland Athletics first manager\n",
      "last surviving French World War I veteran to fight for Germany, cardiac arrest\n",
      "former bandleader for ''The Tonight Show''\n",
      "radical feminist writer and anti-pornography activist\n",
      "first Afro-American Marine Corps officer\n",
      "former primate of the Greek Orthodox Archbishop of America (1959–1996)\n",
      "ex-National Football League player, spinal cord injury suffered playing an Arena Football League (1987–2008)|Arena Football League game\n",
      "microbiologist\n",
      "a MLB All-Star, who also managed two of Japan's professional baseball teams\n",
      "musician, leader of \"Tutti's Trumpets\" and co-founder of Disneyland Records\n",
      "novelist and poet\n",
      "founder of the Canadian white supremacist group the Heritage Front, shot to death\n",
      "television critic for the ''New York Daily News'', cancer\n",
      "musician\n",
      "president of Serbia from 1982 to 1984\n",
      "writer, economist who testified in the Alger Hiss case\n",
      "jazz trumpeter\n",
      "1960s pop singer\n",
      "former National Basketball Association player for the Portland Trail Blazers\n",
      "former NFL player and assistant coach, cancer\n",
      "music director and conductor of the Nashville Symphony Orchestra, Non-Hodgkin lymphoma.19\n",
      "jazz drummer\n",
      "world-renowned Danish jazz bassist.20\n",
      "member of the Gang of Four (China)|Gang of Four\n",
      "physicist and group leader in the Manhattan Project\n",
      "a leading pitcher for the 1968 World Series champion Detroit Tigers and first black pitcher to throw a no-hitter in Major League Baseball\n",
      "aka '''Tonito Rivera''', Puerto Rican world champion boxer\n",
      "pioneering Chinese anthropologist and sociologist\n",
      "former Israeli president.25\n",
      "former Formula One driver\n",
      "former head of Ford Motor Company and later a life peer.26\n",
      "former NHL player with the Toronto Maple Leafs, was oldest living member of the Hockey Hall of Fame\n",
      "former National Football League player\n",
      "former foreign minister of Bangladesh\n",
      "principal founder of the Free University of Berlin.\n",
      "professional wrestler; blood clot from surgery complications\n",
      "bassist for the Modern Jazz Quartet\n",
      "soap opera creator (''The Young and the Restless'', ''The Bold and the Beautiful'')\n",
      "theatre critic for ''The New York Times'', cancer\n",
      "former general secretary of the Transport and General Workers Union.{{Navbox deaths}}{{DEFAULTSORT:April 2005, Deaths in}}Category:2005 deaths|\n",
      "oldest man in Wales and World War I survivor\n",
      "former World Wrestling Entertainment (WWE) wrestler, of cancer\n",
      "mathematician, \"father of linear programming\"\n",
      "convicted serial killer, executed by lethal injection. 14 \n",
      "bluegrass singer\n",
      "former coach of the Toronto Rock of the National Lacrosse League, colon cancer\n",
      "retired Chief Justice of the Quebec Superior Court, negotiated an end to the Oka standoff and numerous strikes\n",
      "former leader of NATO and veteran of World War II\n",
      "former mayor of Minneapolis, Minnesota. 17 \n",
      "seismologist. \n",
      "organic farmer 18 \n",
      "former TV presenter of ''Hop'', an Afghan programme similar to MTV\n",
      "convicted murderer, executed by lethal injection\n",
      "former NFL running back with the Los Angeles Rams and Dallas Cowboys\n",
      "former Foreign Minister of Austria. 21 \n",
      "former Fulham FC football player and manager\n",
      "disgraced Scottish former bishop. 24 \n",
      "film producer. \n",
      "former president of Burkina Faso\n",
      "football player for VfL Wolfsburg and the Polish national team, suffered from amyotrophic lateral sclerosis\n",
      "founder of Morton's of Chicago steakhouses\n",
      "musician, playwright\n",
      "former Pakistani cricket captain\n",
      "founder of Nordic Ware, creator of the Bundt cake pan\n",
      "retired right wing for Toronto Maple Leafs and Detroit Red Wings in the 1940s and 50s, member of Hockey Hall of Fame\n",
      "former Irish politician, Minister for Health and Social Welfare (1981–1982)\n",
      "sister of John F. Kennedy, natural causes\n",
      "one of the first television presenters on French television\n",
      "choreographer, dancer\n",
      "sound effects creator (''The Exorcist (film)|The Exorcist'', ''The Towering Inferno (film)|The Towering Inferno'')\n",
      "comedian\n",
      "who pitched in Major League Baseball for the Boston Red Sox and St. Louis Browns in the 1940s and 50s\n",
      "drummer for American rock band Jefferson Airplane, cancer\n",
      "member of 1970s rock band Bread (band)|Bread, cancer\n",
      "co-owner of the NHL's Calgary Flames\n",
      "animator for ''Finding Nemo''\n",
      "prolific Spanish film actor\n",
      "former CEO of McDonald's Corporation, colon cancer\n",
      "microbiologist, discoverer of streptomycin\n",
      "former Chinese Communist Party General Secretary, complications of multiple strokes.18\n",
      "professional wrestler.19\n",
      "former Prime Minister of Norway\n",
      "journalist\n",
      "developer active in New York City and Aspen, Colorado\n",
      "former Deputy Speaker of the UK House of Lords\n",
      "former president of Lawrence University and Duke University\n",
      "retired NFL player, renal disease. \n",
      "activist on behalf of senior citizens and the elderly, natural causes\n",
      "rugby union coach.25\n",
      "ex-wife of American boxer Jake LaMotta, following open-heart surgery\n",
      "one of the last four surviving Australian veterans of World War I\n",
      "retired Norwegian footballer\n",
      "composer and conductor\n",
      "evolutionary biologist\n",
      "actor and activist, natural causes\n",
      "former major league closer for the Los Angeles Angels of Anaheim. \n",
      "president of Togo since 1967\n",
      "classical pianist\n",
      "country music manager and songwriter. 7 \n",
      "socialite and political hostess, cancer\n",
      "former Prime Minister of the Faroe Islands\n",
      "political figure in India, former governor of three states\n",
      "television and film director\n",
      "cardiologist, co-inventor of the Swan-Ganz heart catheter. 8 \n",
      "journalist and moderator of CBS' ''Face the Nation'' for 15 years\n",
      "drummer for American rock band Doobie Brothers, pneumonia\n",
      "jazz organist. 9 \n",
      "inventor of intermittent windshield wipers. \n",
      "physicist, presidential advisor\n",
      "former prime minister and foreign minister of Grenada\n",
      "first woman to join the United States Army\n",
      "former footballer with Tottenham Hotspur F.C. and Wales national football team\n",
      "twice Prime Minister of Lebanon, car bomb\n",
      "boxer, participant in boxing reality show \"The Contender\"\n",
      "professional bowler, father of Pete Weber. 15 \n",
      "daughter of former President of Paraguay Raúl Cubas Grau, kidnap victim (body found). 17 \n",
      "airline stewardess, protagonist in 1985 airplane hijacking\n",
      "'Ndrangheta boss\n",
      "jazz vocalist and music professor, suicide\n",
      "classic Broadway star and father of Bonnie Raitt, pneumonia\n",
      "co-founder of United Cerebral Palsy\n",
      "exiled Cuban writer\n",
      "former governor of the U.S. state of Georgia (1959–1963). 22 \n",
      "founder of the \"Communion and Liberation\" Catholic youth movement\n",
      "retired NFL punter\n",
      "co-authored Christmas songs (''Little Drummer Boy'')\n",
      "founder of the Stratford Festival of Canada\n",
      "historian primarily concerned with The Church of Jesus Christ of Latter-day Saints\n",
      "incumbent governor of Colima (state)|Colima, Mexico\n",
      "founder of Amnesty International\n",
      "former Los Angeles Dodgers third baseman\n",
      "member of The Pips\n",
      "former prime minister of Egypt\n",
      "former managing editor of ''TIME'' and U.S. ambassador to Austria (1988–1990)\n",
      "creator of the Apple Macintosh, pancreatic cancer\n",
      "former NFL defensive back and assistant coach. 28 \n",
      "drummer with The Searchers (band)|The Searchers\n",
      "priest who participated in the exorcism on which ''The Exorcist (novel)|The Exorcist'' was based\n",
      "convicted murderer, executed by lethal injection\n",
      "founder of exotica musical genre, bandleader\n",
      "retired American baseball pitcher, heart attack. 3 \n",
      "inventor of the video rental\n",
      "millionaire philanthropist listed in Forbes 400\n",
      "former Dutch national football team coach\n",
      "operatic soprano\n",
      "former interior minister of Ukraine\n",
      "former international cricketer and Church of England bishop, cancer. 6 \n",
      "actress, heart attack. 7 \n",
      "accused in the Laura Hernandez drug case; killed during a riot in a Dominican Republic jail\n",
      "film production designer, worked closely with David Lean\n",
      "screenwriter and film producer, co-writer of ''Halloween''\n",
      "cofounding member of the band Blue Cheer. 9 \n",
      "retired Hungarian footballer\n",
      "professional transsexual whistler\n",
      "lead singer for Molly Hatchet\n",
      "author of atlases of fictional worlds, breast cancer\n",
      "soul singer, aka \"Female Preacher\"\n",
      "star of B-movie ''Brain That Wouldn't Die''\n",
      "a retired New York Giants (NL)|New York Giants outfielder who challenged baseball's reserve clause in a 1947 federal lawsuit\n",
      "retired Major League Baseball catcher and Alabama legislator\n",
      "wife of Jim Callaghan\n",
      "a Japanese aikido teacher holding the rank of 8th dan shihan from the Aikikai. 16 \n",
      "former Chicago Bears player\n",
      "first Indigenous Australian judge\n",
      "actor\n",
      "represented Miami-Dade County, Florida\n",
      "former baseball player. 17 \n",
      "former NFL player\n",
      "father of Chicano music\n",
      "former Pittsburgh Steelers player\n",
      "science fiction and fantasy author. 18 \n",
      "musicologist and critic, Lou Gehrig's disease\n",
      "cabaret singer and pianist, leukemia\n",
      "school shooter, suicide. 22 \n",
      "president of the Polish American Congress\n",
      "guitarist and founding member of Foghat\n",
      "founder of Bushnell Optical binoculars, non-Hodgkins lymphoma. 25 \n",
      "former baseball pitcher, member of 1941 and 1943 World Series New York Yankees teams\n",
      "anarchist historian and journalist\n",
      "scriptwriter (Benny Hill, Carry On films\n",
      "former chairman of the Presidential Council of Hungary (head of state)\n",
      "poet, died of complications from respiratory disease\n",
      "world-renowned folklorist, who was central in establishing folklore as a discipline\n",
      "former record holder in hurdles, boycotted the 1936 Summer Olympics as a protest against Adolf Hitler\n",
      "comedian, intoxication\n",
      "former drummer of two California punk bands (Lagwagon and the Ataris), suicide\n",
      "record-setting United States Navy test pilot, heart attack. \n"
     ]
    }
   ],
   "source": [
    "df_full['nationality'] = df_full.desc.map(get_nationality_text)"
   ]
  },
  {
   "cell_type": "code",
   "execution_count": 134,
   "metadata": {
    "collapsed": false
   },
   "outputs": [],
   "source": [
    "def get_wiki_url(name_text):\n",
    "    return name_text.split('|')[0].strip('[').strip(']')"
   ]
  },
  {
   "cell_type": "code",
   "execution_count": 135,
   "metadata": {
    "collapsed": false
   },
   "outputs": [],
   "source": [
    "df_full['name'] = df_full.name.map(get_wiki_url)"
   ]
  },
  {
   "cell_type": "code",
   "execution_count": 136,
   "metadata": {
    "collapsed": false
   },
   "outputs": [
    {
     "data": {
      "text/html": [
       "<div>\n",
       "<table border=\"1\" class=\"dataframe\">\n",
       "  <thead>\n",
       "    <tr style=\"text-align: right;\">\n",
       "      <th></th>\n",
       "      <th>year</th>\n",
       "      <th>month</th>\n",
       "      <th>name</th>\n",
       "      <th>age</th>\n",
       "      <th>desc</th>\n",
       "      <th>cause_of_death</th>\n",
       "      <th>nationality</th>\n",
       "    </tr>\n",
       "  </thead>\n",
       "  <tbody>\n",
       "    <tr>\n",
       "      <th>0</th>\n",
       "      <td>2014</td>\n",
       "      <td>10</td>\n",
       "      <td>Lynsey de Paul</td>\n",
       "      <td>64</td>\n",
       "      <td>English singer-songwriter (\"Won't Somebody Dan...</td>\n",
       "      <td>brain haemorrhage</td>\n",
       "      <td>English</td>\n",
       "    </tr>\n",
       "    <tr>\n",
       "      <th>1</th>\n",
       "      <td>2014</td>\n",
       "      <td>10</td>\n",
       "      <td>Maurice Hodgson</td>\n",
       "      <td>94</td>\n",
       "      <td>British business executive</td>\n",
       "      <td></td>\n",
       "      <td>British</td>\n",
       "    </tr>\n",
       "    <tr>\n",
       "      <th>2</th>\n",
       "      <td>2014</td>\n",
       "      <td>10</td>\n",
       "      <td>Shlomo Lahat</td>\n",
       "      <td>86</td>\n",
       "      <td>Israeli general and politician, Mayor of Tel A...</td>\n",
       "      <td>lung infection</td>\n",
       "      <td>Israeli</td>\n",
       "    </tr>\n",
       "    <tr>\n",
       "      <th>3</th>\n",
       "      <td>2014</td>\n",
       "      <td>10</td>\n",
       "      <td>José Martínez (infielder)</td>\n",
       "      <td>72</td>\n",
       "      <td>Cuban baseball player (Pittsburgh Pirates), co...</td>\n",
       "      <td>Chicago Cubs) and executive (Atlanta Braves)</td>\n",
       "      <td>Cuban</td>\n",
       "    </tr>\n",
       "    <tr>\n",
       "      <th>4</th>\n",
       "      <td>2014</td>\n",
       "      <td>10</td>\n",
       "      <td>Oluremi Oyo</td>\n",
       "      <td>61</td>\n",
       "      <td>Nigerian journalist, cancer</td>\n",
       "      <td>cancer</td>\n",
       "      <td>Nigerian</td>\n",
       "    </tr>\n",
       "  </tbody>\n",
       "</table>\n",
       "</div>"
      ],
      "text/plain": [
       "   year month                       name age  \\\n",
       "0  2014    10             Lynsey de Paul  64   \n",
       "1  2014    10            Maurice Hodgson  94   \n",
       "2  2014    10               Shlomo Lahat  86   \n",
       "3  2014    10  José Martínez (infielder)  72   \n",
       "4  2014    10                Oluremi Oyo  61   \n",
       "\n",
       "                                                desc  \\\n",
       "0  English singer-songwriter (\"Won't Somebody Dan...   \n",
       "1                         British business executive   \n",
       "2  Israeli general and politician, Mayor of Tel A...   \n",
       "3  Cuban baseball player (Pittsburgh Pirates), co...   \n",
       "4                        Nigerian journalist, cancer   \n",
       "\n",
       "                                 cause_of_death nationality  \n",
       "0                             brain haemorrhage     English  \n",
       "1                                                   British  \n",
       "2                                lung infection     Israeli  \n",
       "3  Chicago Cubs) and executive (Atlanta Braves)       Cuban  \n",
       "4                                        cancer    Nigerian  "
      ]
     },
     "execution_count": 136,
     "metadata": {},
     "output_type": "execute_result"
    }
   ],
   "source": [
    "df_full.head()"
   ]
  },
  {
   "cell_type": "markdown",
   "metadata": {},
   "source": [
    "### Creating a new table for birth and death dates\n",
    "\n",
    "Converting to dict to get page_size, date of birth, and date of death"
   ]
  },
  {
   "cell_type": "code",
   "execution_count": 142,
   "metadata": {
    "collapsed": false
   },
   "outputs": [
    {
     "data": {
      "text/plain": [
       "49051"
      ]
     },
     "execution_count": 142,
     "metadata": {},
     "output_type": "execute_result"
    }
   ],
   "source": [
    "len(df_full.name.values)"
   ]
  },
  {
   "cell_type": "code",
   "execution_count": 143,
   "metadata": {
    "collapsed": false,
    "scrolled": true
   },
   "outputs": [],
   "source": [
    "names_only = dict(zip(df_full.name.values, [['', '', ''] for name in df_full.name.values]))"
   ]
  },
  {
   "cell_type": "code",
   "execution_count": null,
   "metadata": {
    "collapsed": false
   },
   "outputs": [],
   "source": [
    "%%time\n",
    "counter = 0\n",
    "for name in names_only.keys():\n",
    "    if names_only[name][0] == '':\n",
    "        counter += 1\n",
    "        #names_only[name][0] = get_page_size(name)\n",
    "print counter"
   ]
  },
  {
   "cell_type": "code",
   "execution_count": null,
   "metadata": {
    "collapsed": false
   },
   "outputs": [],
   "source": [
    "%%time\n",
    "for name in names_only.keys():\n",
    "    names_only[name][1] = get_life_death(name)"
   ]
  },
  {
   "cell_type": "markdown",
   "metadata": {},
   "source": [
    "## Further attributes outside of the death summary Wiki page"
   ]
  },
  {
   "cell_type": "markdown",
   "metadata": {},
   "source": [
    "### Article length: Fame Score\n",
    "\n",
    "Get Wikipedia URL for getting fame score i.e. size of article:"
   ]
  },
  {
   "cell_type": "markdown",
   "metadata": {},
   "source": [
    "Get page metadata:"
   ]
  },
  {
   "cell_type": "code",
   "execution_count": 146,
   "metadata": {
    "collapsed": true
   },
   "outputs": [],
   "source": [
    "base_url_prefix = 'https://en.wikipedia.org/w/api.php?action=query&format=json&titles=' \n",
    "base_url_suffix = '&prop=revisions&rvprop=size'"
   ]
  },
  {
   "cell_type": "code",
   "execution_count": null,
   "metadata": {
    "collapsed": true
   },
   "outputs": [],
   "source": [
    "def get_page_size(wiki_name):\n",
    "    try:\n",
    "        size_url = base_url_prefix + wiki_name.replace(' ','_') + base_url_suffix\n",
    "        size_page = requests.get(size_url)\n",
    "        return size_page.json()['query']['pages'].values()[0]['revisions'][0]['size']\n",
    "    except KeyError:\n",
    "        print wiki_name"
   ]
  },
  {
   "cell_type": "markdown",
   "metadata": {},
   "source": [
    "### Birth and death data\n",
    "\n",
    "Getting birthday data. It's probably helpful to see [Stack Overflow thread](https://stackoverflow.com/questions/12250580/parse-birth-and-death-dates-from-wikipedia)"
   ]
  },
  {
   "cell_type": "code",
   "execution_count": null,
   "metadata": {
    "collapsed": false
   },
   "outputs": [],
   "source": [
    "base_bday_prefix = 'https://en.wikipedia.org/w/api.php?action=query&format=json&titles='\n",
    "base_bday_suffix = '&prop=revisions&rvprop=content&rvsection=0'\n",
    "\n",
    "def check_if_number(elem):\n",
    "    try:\n",
    "        return type(int(elem)) == int\n",
    "    except ValueError:\n",
    "        return False\n",
    "\n",
    "    \n",
    "def get_only_ints(date_list):\n",
    "    return [e for e in date_list if check_if_number(e) > 0]\n",
    "\n",
    "life_death_counter = [0]\n",
    "no_birth_death_urls = []\n",
    "\n",
    "def get_life_death(name, extract_bday=True):\n",
    "    life_death_counter[0] += 1\n",
    "    try:        \n",
    "        entry_url = base_bday_prefix + name.replace(' ','_') + base_bday_suffix\n",
    "        entry_text = requests.get(entry_url).json()['query']['pages']\n",
    "        entry_text = str(entry_text.values()[0]['revisions'][0]['*'].encode('utf-8'))\n",
    "        \n",
    "        if extract_bday:\n",
    "            pattern = re.compile('.*?\\{{2}(?:B|b)irth (?:D|d)ate(.+?)\\}{2}', \n",
    "                                 re.MULTILINE|re.DOTALL)\n",
    "        else:\n",
    "            pattern = re.compile('.*?\\{{2}(?:D|d)eath (?:D|d)ate(.+?)\\}{2}', \n",
    "                                 re.MULTILINE|re.DOTALL)\n",
    "\n",
    "        date_re = re.match(pattern, entry_text)\n",
    "        date_data = \"-\".join(get_only_ints(date_re.groups()[0].strip(\" \").split('|'))[:3])\n",
    "        \n",
    "        #print date_data\n",
    "        if life_death_counter[0] % 100 == 1:\n",
    "            print date_data\n",
    "        return date_data\n",
    "    \n",
    "    except (AttributeError, KeyError, ValueError) as e:\n",
    "        no_birth_death_urls.append(entry_url)"
   ]
  },
  {
   "cell_type": "markdown",
   "metadata": {},
   "source": [
    "Birthday"
   ]
  },
  {
   "cell_type": "code",
   "execution_count": 38,
   "metadata": {
    "collapsed": false,
    "scrolled": true
   },
   "outputs": [
    {
     "name": "stdout",
     "output_type": "stream",
     "text": [
      "1948-6-11\n",
      "CPU times: user 44.2 ms, sys: 13.5 ms, total: 57.7 ms\n",
      "Wall time: 401 ms\n"
     ]
    },
    {
     "data": {
      "text/plain": [
       "'1948-6-11'"
      ]
     },
     "execution_count": 38,
     "metadata": {},
     "output_type": "execute_result"
    }
   ],
   "source": [
    "%%time\n",
    "#df_full['date_of_birth'] = df_full.name.map(get_life_death)\n",
    "get_life_death(df_full.iloc[0][2])"
   ]
  },
  {
   "cell_type": "code",
   "execution_count": 45,
   "metadata": {
    "collapsed": false
   },
   "outputs": [
    {
     "data": {
      "text/plain": [
       "' brain haemorrhage'"
      ]
     },
     "execution_count": 45,
     "metadata": {},
     "output_type": "execute_result"
    }
   ],
   "source": [
    "df_full.iloc[0][5]"
   ]
  },
  {
   "cell_type": "markdown",
   "metadata": {},
   "source": [
    "Deathday"
   ]
  },
  {
   "cell_type": "code",
   "execution_count": null,
   "metadata": {
    "collapsed": true
   },
   "outputs": [],
   "source": [
    "%%time\n",
    "df_full['date_of_death'] = df_full.name.map(lambda name: get_life_death(name, extract_bday=False))"
   ]
  },
  {
   "cell_type": "code",
   "execution_count": null,
   "metadata": {
    "collapsed": true
   },
   "outputs": [],
   "source": []
  },
  {
   "cell_type": "markdown",
   "metadata": {},
   "source": [
    "## Write out file"
   ]
  },
  {
   "cell_type": "code",
   "execution_count": 37,
   "metadata": {
    "collapsed": true
   },
   "outputs": [],
   "source": [
    "df_full.to_csv('../out/celeb_deaths_wikipedia_full_1.csv', index=False)"
   ]
  },
  {
   "cell_type": "markdown",
   "metadata": {},
   "source": [
    "It would be useful to plot missing data by page_size i.e. fame or \"importance.\""
   ]
  },
  {
   "cell_type": "code",
   "execution_count": null,
   "metadata": {
    "collapsed": true
   },
   "outputs": [],
   "source": []
  }
 ],
 "metadata": {
  "kernelspec": {
   "display_name": "Python 2",
   "language": "python",
   "name": "python2"
  },
  "language_info": {
   "codemirror_mode": {
    "name": "ipython",
    "version": 2
   },
   "file_extension": ".py",
   "mimetype": "text/x-python",
   "name": "python",
   "nbconvert_exporter": "python",
   "pygments_lexer": "ipython2",
   "version": "2.7.10"
  }
 },
 "nbformat": 4,
 "nbformat_minor": 0
}
