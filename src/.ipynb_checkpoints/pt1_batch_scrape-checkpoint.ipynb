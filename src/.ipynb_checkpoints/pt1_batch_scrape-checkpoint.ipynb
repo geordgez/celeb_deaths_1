{
 "cells": [
  {
   "cell_type": "markdown",
   "metadata": {},
   "source": [
    "# Celebrity Death Data (via Wikipedia)\n",
    "\n",
    "Creating a notebook to produce the dataset found at the [Kaggle Celebrity Deaths Page](https://www.kaggle.com/hugodarwood/celebrity-deaths).\n",
    "\n",
    "Attempting to replace the current dataset since it isn't complete (up-to-date) since there's no notebook to run to get up-to-date information and it has bad parses for some of the fields.\n",
    "\n",
    "**Current branch: Consolidating pipeline into one notebook while implementing batch queries.**"
   ]
  },
  {
   "cell_type": "code",
   "execution_count": 7,
   "metadata": {
    "collapsed": true
   },
   "outputs": [],
   "source": [
    "import numpy as np\n",
    "import pandas as pd\n",
    "import re\n",
    "import json\n",
    "import csv\n",
    "import time\n",
    "import requests\n",
    "import pickle\n",
    "\n",
    "from os import listdir\n",
    "from os.path import isfile, join\n",
    "\n",
    "\n",
    "\"\"\"\n",
    "use for writing out unicode characters\n",
    "\"\"\"\n",
    "import sys\n",
    "reload(sys)\n",
    "sys.setdefaultencoding('utf-8')\n",
    "\n",
    "from bs4 import BeautifulSoup as bs"
   ]
  },
  {
   "cell_type": "code",
   "execution_count": 8,
   "metadata": {
    "collapsed": false
   },
   "outputs": [],
   "source": [
    "import requests\n",
    "\n",
    "# Get a copy of the default headers that requests would use\n",
    "headers = requests.utils.default_headers()\n",
    "\n",
    "# Update the headers with your custom ones\n",
    "# You don't have to worry about case-sensitivity with\n",
    "# the dictionary keys, because default_headers uses a custom\n",
    "# CaseInsensitiveDict implementation within requests' source code.\n",
    "headers.update(\n",
    "    {\n",
    "        'User-Agent': 'Celeb Death Scraper GZ',\n",
    "        'From': 'geordgez@gmail.com'\n",
    "    }\n",
    ")"
   ]
  },
  {
   "cell_type": "markdown",
   "metadata": {},
   "source": [
    "# Shared functions and variables"
   ]
  },
  {
   "cell_type": "markdown",
   "metadata": {},
   "source": [
    "Iterators:"
   ]
  },
  {
   "cell_type": "code",
   "execution_count": 9,
   "metadata": {
    "collapsed": false
   },
   "outputs": [],
   "source": [
    "# batch query limit is 50\n",
    "year_list = range(2004,2017)\n",
    "print 'Date range:', min(year_list), '-', max(year_list)"
   ]
  },
  {
   "cell_type": "markdown",
   "metadata": {},
   "source": [
    "Other global variables"
   ]
  },
  {
   "cell_type": "code",
   "execution_count": 10,
   "metadata": {
    "collapsed": false
   },
   "outputs": [],
   "source": [
    "month_to_num = {\n",
    "    'January': 1,\n",
    "    'February': 2,\n",
    "    'March': 3,\n",
    "    'April': 4,\n",
    "    'May': 5,\n",
    "    'June': 6,\n",
    "    'July': 7,\n",
    "    'August': 8,\n",
    "    'September': 9,\n",
    "    'October': 10,\n",
    "    'November': 11,\n",
    "    'December': 12\n",
    "}"
   ]
  },
  {
   "cell_type": "code",
   "execution_count": 11,
   "metadata": {
    "collapsed": true
   },
   "outputs": [],
   "source": [
    "# max number of terms in one Wikipedia batch query\n",
    "api_qmax = 50\n",
    "\n",
    "# base URL for death summaries by month (and year)\n",
    "mo_yr_url_prefix = 'https://en.wikipedia.org/w/api.php?action=query&titles='\n",
    "mo_yr_url_suffix = '&prop=revisions&rvprop=content&format=json'\n",
    "\n",
    "# page sizes\n",
    "indiv_url_prefix = 'https://en.wikipedia.org/w/api.php?action=query&titles='\n",
    "indiv_url_suffix = '&prop=revisions&rvprop=size&format=json'\n",
    "\n",
    "# dates of birth and death\n",
    "base_bday_prefix = 'https://en.wikipedia.org/w/api.php?action=query&titles='\n",
    "base_bday_suffix = '&prop=revisions&rvprop=content&rvsection=0&format=json'"
   ]
  },
  {
   "cell_type": "markdown",
   "metadata": {},
   "source": [
    "### Helper functions"
   ]
  },
  {
   "cell_type": "markdown",
   "metadata": {},
   "source": [
    "Functions from previous version (master branch) that ran individual queries (instead of batch queries) in serial."
   ]
  },
  {
   "cell_type": "code",
   "execution_count": 12,
   "metadata": {
    "collapsed": false
   },
   "outputs": [],
   "source": [
    "desc_death_re = re.compile('(.*?),? ?((?:.+)*?). (?:.*?)?', re.DOTALL|re.MULTILINE)\n",
    "death_clean_no_url_re = re.compile('\\s?(.[^<]+)\\.? ?(?=<|\\[?http)(?:.*)?$')\n",
    "# death_clean_no_url_re = re.compile('\\s?\\w(.[^<])+[.]?(?:<|\\[?http)(?:.*)?$')\n",
    "\n",
    "\"\"\"\n",
    "Input: single text string to be processed\n",
    "\n",
    "Output: list of two string elements\n",
    "  - first string is description of person\n",
    "  - second string is cause of death \n",
    "  (last clause of input when more than one comma in field)\n",
    "  \n",
    "\"\"\"\n",
    "# bad design below: just remove urls and refs instead of extracting\n",
    "def get_description_and_death(text):\n",
    "    text_no_url = text\n",
    "    has_death_urls = death_clean_no_url_re.match(text)\n",
    "    \n",
    "    if has_death_urls:\n",
    "        text_no_url = has_death_urls.groups()[0]\n",
    "    else:\n",
    "        text_no_url = text\n",
    "        \n",
    "    text_parts = text_no_url.replace('=','').split(',')\n",
    "    num_parts = len(text_parts)\n",
    "    \n",
    "    if num_parts == 0:\n",
    "        return ['', '']\n",
    "    elif num_parts == 1:\n",
    "        return text_parts + ['']\n",
    "    elif text_parts[-1]:\n",
    "        if text_parts[-1][-1] == ')':\n",
    "            return ([','.join(text_parts)] + [''])\n",
    "        else:\n",
    "            return ([','.join(text_parts)] + [text_parts[-1]])\n",
    "    else:\n",
    "        return ([','.join(text_parts)] + [text_parts[-1]])\n",
    "    return text\n",
    "    \n",
    "\"\"\"\n",
    "Runs get_description_and_death() on the last element of a list\n",
    "\n",
    "Input: list of length n\n",
    "Output: list of length (n+1) with last element broken into description and death\n",
    "\"\"\"\n",
    "def add_description_and_death(entry_list):\n",
    "    return entry_list[:-1] + get_description_and_death(entry_list[-1])\n",
    "\n",
    "mo_yr_key_re = re.compile('(\\d+)_(\\d+).*?')\n",
    "name_age_re = re.compile('\\s?\\[\\[(.*?)\\]\\], (\\d+), (.+)?$', re.MULTILINE)\n",
    "\n",
    "\"\"\"\n",
    "Add the month and year as elements to an entry of type list\n",
    "\"\"\"\n",
    "def add_month_year_list(entry_list, mo_yr_key='_'):\n",
    "    base_list = mo_yr_key.split('_')\n",
    "    base_list.extend(entry_list)\n",
    "    return base_list\n",
    "\n",
    "\"\"\"\n",
    "Inputs: month-year key string, text entry string\n",
    "Outputs: list of length 4 of month, year, name, and age\n",
    "\"\"\"\n",
    "def parse_month_year_name_age(text_entry):\n",
    "    out_text = text_entry.replace('\\n', '')\n",
    "    yr_age_match = re.match(name_age_re, out_text)\n",
    "    if yr_age_match:\n",
    "        out_text = yr_age_match.groups()\n",
    "        return list(out_text)\n",
    "    return\n",
    "\n",
    "link_re = re.compile('\\[\\[([^\\|\\]]*)(?=\\||\\]\\])', re.DOTALL)\n",
    "link_all_re = re.compile('(\\[\\[(?:[^\\[\\]])+\\]\\])')\n",
    "\n",
    "\"\"\"\n",
    "Used to be messy, not anymore!\n",
    "\"\"\"\n",
    "\n",
    "\"\"\"\n",
    "Find wikitext links and convert them to the displayed text\n",
    "\n",
    "Input: text block\n",
    "Output: text block with wikitext URL text extracted and URL characters removed\n",
    "\"\"\"\n",
    "def extract_link_text(link_block):\n",
    "    link_present = link_re.search(link_block)\n",
    "    if link_present:\n",
    "        return link_present.groups()\n",
    "    return link_block\n",
    "\n",
    "\"\"\"\n",
    "Helper function for removing link text when using re.sub--identifies a wikitext URL\n",
    "\n",
    "Input: re.match object\n",
    "Output: text of matched object \n",
    "\"\"\"\n",
    "def link_only(matchobj):\n",
    "    cleaned_text = extract_link_text(matchobj.groups()[0])[0]\n",
    "    return cleaned_text\n",
    "\n",
    "\n",
    "\"\"\"\n",
    "Substitute all wikitext URL links with the display text for the URL\n",
    "\n",
    "Input: text block\n",
    "Output: text block with links removed\n",
    "\"\"\"\n",
    "def remove_link_text(text_block):\n",
    "    return re.sub(link_all_re, link_only, text_block)\n",
    "\n",
    "\n",
    "natl_pattern1 = re.compile(' ?((?:[A-Z][^\\s]+ ?)+) ', re.UNICODE)\n",
    "\n",
    "natl_unmatched_list = []\n",
    "\n",
    "def get_nationality_text(desc_text):\n",
    "    natl_match = natl_pattern1.match(desc_text.strip('['))\n",
    "    if natl_match:\n",
    "        return natl_match.groups()[0]\n",
    "    natl_unmatched_list.append(desc_text)\n",
    "    return desc_text\n",
    "    \n",
    "        \n",
    "# essentially does the same thing as extract_link_text\n",
    "def get_wiki_url(name_text):\n",
    "    return name_text.split('|')[0].strip('[').strip(']')\n",
    "\n",
    "\n",
    "def remove_end_period(text):\n",
    "    return re.sub('\\.$', '', re.sub('\\s$','',text))\n",
    "\n",
    "def remove_beginning_space(text):\n",
    "    return re.sub('^ +','',text)\n",
    "\n",
    "def clean_text(text):\n",
    "    if type(text) != str:\n",
    "        return text\n",
    "    \n",
    "    new_text = text\n",
    "    url_match = re.match(death_clean_no_url_re, text)\n",
    "    if url_match:\n",
    "        new_text = url_match.groups()[0]\n",
    "    return remove_beginning_space(\n",
    "        remove_end_period(\n",
    "            remove_link_text(new_text)\n",
    "        ).replace('[','').replace(']','')\n",
    "    )"
   ]
  },
  {
   "cell_type": "markdown",
   "metadata": {},
   "source": [
    "#### Newly added functions\n",
    "\n",
    "New functions in this branch/notebook:"
   ]
  },
  {
   "cell_type": "code",
   "execution_count": 13,
   "metadata": {
    "collapsed": false
   },
   "outputs": [],
   "source": [
    "\"\"\"\n",
    "Convert Wikipedia 'Deaths in (str: month) (int: year)' titles into '(int: month)_(int: year)'\n",
    "\"\"\"\n",
    "date_eol_re = re.compile('([A-Z][a-z]+) (\\d{4})$')\n",
    "\n",
    "def month_str2key(month_str):\n",
    "    date_eol = re.search(date_eol_re, month_str)\n",
    "    if date_eol:\n",
    "        date_parts = date_eol.groups()\n",
    "        month_num = str(month_to_num[date_parts[0]])\n",
    "        year_num = date_parts[1]\n",
    "        return year_num + '_' + month_num\n",
    "    return month_str\n",
    "\n",
    "\"\"\"\n",
    "Remove URLs from a text block\n",
    "\"\"\"\n",
    "no_url_re = re.compile('\\[?https?:\\/\\/.*[\\r\\n]*', flags=re.MULTILINE)\n",
    "\n",
    "def remove_urls(text):\n",
    "    return re.sub(no_url_re, '', text)\n"
   ]
  },
  {
   "cell_type": "code",
   "execution_count": 14,
   "metadata": {
    "collapsed": false
   },
   "outputs": [],
   "source": [
    "assert(month_str2key('asdfasdf asdf asdf December 2013') == '2013_12')"
   ]
  },
  {
   "cell_type": "markdown",
   "metadata": {},
   "source": [
    "Additional function for easily batch scraping in the future:"
   ]
  },
  {
   "cell_type": "code",
   "execution_count": 15,
   "metadata": {
    "collapsed": true
   },
   "outputs": [],
   "source": [
    "def get_batch_queries(term_list, prefix_url, suffix_url, max_qlim = 48):\n",
    "    num_elems = len(term_list)\n",
    "    num_batches = num_elems / max_qlim\n",
    "    \n",
    "    batch_queries = []\n",
    "    for i in xrange(0, num_batches):\n",
    "        start_idx = i * max_qlim\n",
    "        end_idx = start_idx + max_qlim\n",
    "        query_str = prefix_url + \"|\".join(term_list[start_idx:end_idx]) + suffix_url\n",
    "        batch_queries.append(query_str)\n",
    "    batch_queries.append(prefix_url + \"|\".join(term_list[end_idx:num_elems]) + suffix_url)\n",
    "    \n",
    "    return batch_queries"
   ]
  },
  {
   "cell_type": "markdown",
   "metadata": {},
   "source": [
    "Causes of death almost always don't end in parentheses and if there are parentheses at the end of an entry row they are usually associated with the description and not the cause of death."
   ]
  },
  {
   "cell_type": "code",
   "execution_count": 16,
   "metadata": {
    "collapsed": true
   },
   "outputs": [],
   "source": [
    "\"\"\"\n",
    "Merges into one string if second entry ends in parentheses\n",
    "Otherwise returns the first entry\n",
    "\n",
    "Inputs: two strings\n",
    "\n",
    "Ouptut: one string\n",
    "\"\"\"\n",
    "def merge_if_last_paren(text1='', text2=''):\n",
    "    if not (type(text1) == str and type(text2)==str):\n",
    "        return text1\n",
    "    if not text2:\n",
    "        return text1\n",
    "    if text2[-1] == ')':\n",
    "        print \"hit\"\n",
    "        return text1 + ', ' + text2\n",
    "    return text1\n",
    "\n",
    "def remove_if_last_paren(text):\n",
    "    if type(text) != str:\n",
    "        return text\n",
    "    if text:\n",
    "        if text[-1] == ')':\n",
    "            return ''\n",
    "    return text"
   ]
  },
  {
   "cell_type": "markdown",
   "metadata": {},
   "source": [
    "# Part I: Batch query Wikipedia for monthly death pages"
   ]
  },
  {
   "cell_type": "markdown",
   "metadata": {},
   "source": [
    "### API Batch Scrape\n",
    "\n",
    "To avoid API call limits and throttling. Also makes queries faster."
   ]
  },
  {
   "cell_type": "markdown",
   "metadata": {},
   "source": [
    "#### List of monthly death pages to be queried\n",
    "\n",
    "Create individual search terms for API query:"
   ]
  },
  {
   "cell_type": "code",
   "execution_count": 10,
   "metadata": {
    "collapsed": false
   },
   "outputs": [],
   "source": [
    "death_rep_words = 'Deaths_in_'\n",
    "mo_yr_elems = [death_rep_words + month + '_' + str(year) \n",
    "              for month in month_to_num.keys()\n",
    "              for year in year_list]\n",
    "mo_yr_elems.append('Deaths_in_January_2017')\n",
    "\n",
    "mo_yr_batch_queries = get_batch_queries(mo_yr_elems, mo_yr_url_prefix, mo_yr_url_suffix)"
   ]
  },
  {
   "cell_type": "markdown",
   "metadata": {},
   "source": [
    "#### Query Wikipedia API"
   ]
  },
  {
   "cell_type": "markdown",
   "metadata": {},
   "source": [
    "Batch queries to Wikipedia API stored as a list of results for each batch query."
   ]
  },
  {
   "cell_type": "code",
   "execution_count": 11,
   "metadata": {
    "collapsed": false
   },
   "outputs": [],
   "source": [
    "%%time # time won't show un unicode; takes 5-15 seconds\n",
    "\n",
    "# query API\n",
    "mo_yr_batch_results = []\n",
    "\n",
    "for mo_yr_batch_query in mo_yr_batch_queries:\n",
    "    json_ret_val = requests.get(mo_yr_batch_query, headers=headers).json()\n",
    "    mo_yr_batch_results.append(json_ret_val)"
   ]
  },
  {
   "cell_type": "markdown",
   "metadata": {},
   "source": [
    "Unpack query results:"
   ]
  },
  {
   "cell_type": "code",
   "execution_count": 12,
   "metadata": {
    "collapsed": false
   },
   "outputs": [],
   "source": [
    "q_contents = []\n",
    "\n",
    "for result in mo_yr_batch_results:\n",
    "    new_contents = [[page_result['title'], page_result['revisions'][0]['*']] \n",
    "                    for page_result in result['query']['pages'].values()]\n",
    "    q_contents.extend(new_contents)"
   ]
  },
  {
   "cell_type": "markdown",
   "metadata": {},
   "source": [
    "Unpacking queries into lists of summaries by month"
   ]
  },
  {
   "cell_type": "code",
   "execution_count": 13,
   "metadata": {
    "collapsed": false,
    "scrolled": true
   },
   "outputs": [],
   "source": [
    "%%time\n",
    "q_contents_dict = {}\n",
    "\n",
    "for q_page in q_contents:\n",
    "    q_key = month_str2key(q_page[0])\n",
    "    q_list = [\n",
    "        add_month_year_list(\n",
    "            add_description_and_death(\n",
    "                parse_month_year_name_age(remove_urls(entry))),\n",
    "        q_key)\n",
    "        for entry in q_page[1].encode('utf-8').rstrip().split('*')\n",
    "        if re.match(name_age_re, entry.replace('\\n', ''))\n",
    "    ]\n",
    "    q_contents_dict[q_key] = q_list"
   ]
  },
  {
   "cell_type": "code",
   "execution_count": 276,
   "metadata": {
    "collapsed": false
   },
   "outputs": [],
   "source": [
    "all_entries = [entry for entry_list in q_contents_dict.values() for entry in entry_list]"
   ]
  },
  {
   "cell_type": "code",
   "execution_count": 277,
   "metadata": {
    "collapsed": false,
    "scrolled": true
   },
   "outputs": [
    {
     "data": {
      "text/plain": [
       "(55492, 6)"
      ]
     },
     "execution_count": 277,
     "metadata": {},
     "output_type": "execute_result"
    }
   ],
   "source": [
    "df_full = pd.DataFrame(all_entries)\n",
    "df_full.columns = ['year', 'month', 'name', 'age', 'desc', 'cause_of_death']\n",
    "df_full.shape"
   ]
  },
  {
   "cell_type": "markdown",
   "metadata": {},
   "source": [
    "A small number (<50) entries end up having multiple hits in the queries."
   ]
  },
  {
   "cell_type": "code",
   "execution_count": 278,
   "metadata": {
    "collapsed": false
   },
   "outputs": [
    {
     "data": {
      "text/plain": [
       "Heinrich Mark                               3\n",
       "Johnny Byrne (writer)|Johnny Byrne          2\n",
       "Gyda Hansen                                 2\n",
       "John McIntyre (theologian)|John McIntyre    2\n",
       "Hans Joachim Alpers                         2\n",
       "Adam Watson                                 2\n",
       "William Earl Reid                           2\n",
       "Carlos González Nova                        2\n",
       "Francis Ray                                 2\n",
       "Sonny Fai                                   2\n",
       "Arnold Meri                                 2\n",
       "Takahiro Tamura                             2\n",
       "Abraham Bueno de Mesquita                   2\n",
       "Michael Grant (author)|Michael Grant        2\n",
       "Robert O. Smith                             2\n",
       "Rita Ridley                                 2\n",
       "Austin Cooper (lawyer)|Austin Cooper        2\n",
       "Victoria de los Ángeles                     2\n",
       "Miguel Galván                               2\n",
       "Fadel Shana'a                               2\n",
       "Doreen Blumhardt|Dame Doreen Blumhardt      2\n",
       "Shirley Strickland                          2\n",
       "dtype: int64"
      ]
     },
     "execution_count": 278,
     "metadata": {},
     "output_type": "execute_result"
    }
   ],
   "source": [
    "df_full.name.value_counts()[df_full.name.value_counts() > 1]"
   ]
  },
  {
   "cell_type": "markdown",
   "metadata": {},
   "source": [
    "#### Cleaning up (similar to old notebook)"
   ]
  },
  {
   "cell_type": "code",
   "execution_count": 279,
   "metadata": {
    "collapsed": true
   },
   "outputs": [],
   "source": [
    "%%time\n",
    "\n",
    "df_full['desc'] = df_full.desc.map(clean_text)\n",
    "df_full['cause_of_death'] = df_full.cause_of_death.map(clean_text)\n",
    "df_full['nationality'] = df_full.desc.map(get_nationality_text)\n",
    "df_full['name'] = df_full.name.map(get_wiki_url)\n",
    "\n",
    "df_full['desc'] = df_full.desc.map(clean_text)\n",
    "df_full['cause_of_death'] = df_full.cause_of_death.map(clean_text)"
   ]
  },
  {
   "cell_type": "code",
   "execution_count": 280,
   "metadata": {
    "collapsed": false
   },
   "outputs": [],
   "source": [
    "df_full['desc'] = df_full.apply(\n",
    "    lambda row: merge_if_last_paren(row['desc'], row['cause_of_death']), axis=1)\n",
    "df_full['cause_of_death'] = df_full.cause_of_death.map(remove_if_last_paren)"
   ]
  },
  {
   "cell_type": "code",
   "execution_count": 281,
   "metadata": {
    "collapsed": false
   },
   "outputs": [
    {
     "data": {
      "text/plain": [
       "(55492, 7)"
      ]
     },
     "execution_count": 281,
     "metadata": {},
     "output_type": "execute_result"
    }
   ],
   "source": [
    "df_full.shape"
   ]
  },
  {
   "cell_type": "code",
   "execution_count": 282,
   "metadata": {
    "collapsed": false
   },
   "outputs": [
    {
     "data": {
      "text/html": [
       "<div>\n",
       "<table border=\"1\" class=\"dataframe\">\n",
       "  <thead>\n",
       "    <tr style=\"text-align: right;\">\n",
       "      <th></th>\n",
       "      <th>year</th>\n",
       "      <th>month</th>\n",
       "      <th>name</th>\n",
       "      <th>age</th>\n",
       "      <th>desc</th>\n",
       "      <th>cause_of_death</th>\n",
       "      <th>nationality</th>\n",
       "    </tr>\n",
       "  </thead>\n",
       "  <tbody>\n",
       "    <tr>\n",
       "      <th>0</th>\n",
       "      <td>2013</td>\n",
       "      <td>9</td>\n",
       "      <td>Zvonko Bušić</td>\n",
       "      <td>67</td>\n",
       "      <td>Croatian airplane hijacker (TWA Flight 355), s...</td>\n",
       "      <td>suicide by gunshot</td>\n",
       "      <td>Croatian</td>\n",
       "    </tr>\n",
       "    <tr>\n",
       "      <th>1</th>\n",
       "      <td>2013</td>\n",
       "      <td>9</td>\n",
       "      <td>Joaquim Justino Carreira</td>\n",
       "      <td>63</td>\n",
       "      <td>Portuguese-born Brazilian Roman Catholic prela...</td>\n",
       "      <td></td>\n",
       "      <td>Portuguese-born Brazilian Roman Catholic</td>\n",
       "    </tr>\n",
       "    <tr>\n",
       "      <th>2</th>\n",
       "      <td>2013</td>\n",
       "      <td>9</td>\n",
       "      <td>Pál Csernai</td>\n",
       "      <td>80</td>\n",
       "      <td>Hungarian footballer and manager (FC Bayern Mu...</td>\n",
       "      <td></td>\n",
       "      <td>Hungarian</td>\n",
       "    </tr>\n",
       "    <tr>\n",
       "      <th>3</th>\n",
       "      <td>2013</td>\n",
       "      <td>9</td>\n",
       "      <td>Ignacio Eizaguirre</td>\n",
       "      <td>92</td>\n",
       "      <td>Spanish footballer (Valencia CF, Real Sociedad...</td>\n",
       "      <td></td>\n",
       "      <td>Spanish</td>\n",
       "    </tr>\n",
       "    <tr>\n",
       "      <th>4</th>\n",
       "      <td>2013</td>\n",
       "      <td>9</td>\n",
       "      <td>Ole Ernst</td>\n",
       "      <td>73</td>\n",
       "      <td>Danish actor</td>\n",
       "      <td></td>\n",
       "      <td>Danish</td>\n",
       "    </tr>\n",
       "  </tbody>\n",
       "</table>\n",
       "</div>"
      ],
      "text/plain": [
       "   year month                      name age  \\\n",
       "0  2013     9              Zvonko Bušić  67   \n",
       "1  2013     9  Joaquim Justino Carreira  63   \n",
       "2  2013     9               Pál Csernai  80   \n",
       "3  2013     9        Ignacio Eizaguirre  92   \n",
       "4  2013     9                 Ole Ernst  73   \n",
       "\n",
       "                                                desc      cause_of_death  \\\n",
       "0  Croatian airplane hijacker (TWA Flight 355), s...  suicide by gunshot   \n",
       "1  Portuguese-born Brazilian Roman Catholic prela...                       \n",
       "2  Hungarian footballer and manager (FC Bayern Mu...                       \n",
       "3  Spanish footballer (Valencia CF, Real Sociedad...                       \n",
       "4                                       Danish actor                       \n",
       "\n",
       "                                nationality  \n",
       "0                                  Croatian  \n",
       "1  Portuguese-born Brazilian Roman Catholic  \n",
       "2                                 Hungarian  \n",
       "3                                   Spanish  \n",
       "4                                    Danish  "
      ]
     },
     "execution_count": 282,
     "metadata": {},
     "output_type": "execute_result"
    }
   ],
   "source": [
    "df_full.head()"
   ]
  },
  {
   "cell_type": "markdown",
   "metadata": {},
   "source": [
    "#### Write out file"
   ]
  },
  {
   "cell_type": "code",
   "execution_count": 283,
   "metadata": {
    "collapsed": true
   },
   "outputs": [],
   "source": [
    "df_full.to_csv('../out/celeb_deaths_wikipedia_full_1.csv', index=False)"
   ]
  },
  {
   "cell_type": "markdown",
   "metadata": {},
   "source": [
    "Checking out the number queries when iterating through person/name/entry. Store all names into a blank csv for future use in querying particular page sizes, dates of birth, dates of death, etc."
   ]
  },
  {
   "cell_type": "code",
   "execution_count": 287,
   "metadata": {
    "collapsed": false
   },
   "outputs": [
    {
     "data": {
      "text/plain": [
       "(55492,)"
      ]
     },
     "execution_count": 287,
     "metadata": {},
     "output_type": "execute_result"
    }
   ],
   "source": [
    "all_names = df_full.name.map(lambda name: name.replace(' ','_'))\n",
    "all_names.to_csv('../out/names_fame_birth_death_1_blank.csv')\n",
    "all_names.shape"
   ]
  },
  {
   "cell_type": "markdown",
   "metadata": {},
   "source": [
    "# Part II: Getting page size, date of birth, date of death, etc."
   ]
  },
  {
   "cell_type": "markdown",
   "metadata": {},
   "source": [
    "***Checkpoint:*** read initial batch scrape of monthly death pages"
   ]
  },
  {
   "cell_type": "code",
   "execution_count": 17,
   "metadata": {
    "collapsed": false
   },
   "outputs": [
    {
     "data": {
      "text/html": [
       "<div>\n",
       "<table border=\"1\" class=\"dataframe\">\n",
       "  <thead>\n",
       "    <tr style=\"text-align: right;\">\n",
       "      <th></th>\n",
       "      <th>year</th>\n",
       "      <th>month</th>\n",
       "      <th>name</th>\n",
       "      <th>age</th>\n",
       "      <th>desc</th>\n",
       "      <th>cause_of_death</th>\n",
       "      <th>nationality</th>\n",
       "    </tr>\n",
       "  </thead>\n",
       "  <tbody>\n",
       "    <tr>\n",
       "      <th>0</th>\n",
       "      <td>2013</td>\n",
       "      <td>9</td>\n",
       "      <td>Zvonko Bušić</td>\n",
       "      <td>67</td>\n",
       "      <td>Croatian airplane hijacker (TWA Flight 355), s...</td>\n",
       "      <td>suicide by gunshot</td>\n",
       "      <td>Croatian</td>\n",
       "    </tr>\n",
       "    <tr>\n",
       "      <th>1</th>\n",
       "      <td>2013</td>\n",
       "      <td>9</td>\n",
       "      <td>Joaquim Justino Carreira</td>\n",
       "      <td>63</td>\n",
       "      <td>Portuguese-born Brazilian Roman Catholic prela...</td>\n",
       "      <td>NaN</td>\n",
       "      <td>Portuguese-born Brazilian Roman Catholic</td>\n",
       "    </tr>\n",
       "    <tr>\n",
       "      <th>2</th>\n",
       "      <td>2013</td>\n",
       "      <td>9</td>\n",
       "      <td>Pál Csernai</td>\n",
       "      <td>80</td>\n",
       "      <td>Hungarian footballer and manager (FC Bayern Mu...</td>\n",
       "      <td>NaN</td>\n",
       "      <td>Hungarian</td>\n",
       "    </tr>\n",
       "    <tr>\n",
       "      <th>3</th>\n",
       "      <td>2013</td>\n",
       "      <td>9</td>\n",
       "      <td>Ignacio Eizaguirre</td>\n",
       "      <td>92</td>\n",
       "      <td>Spanish footballer (Valencia CF, Real Sociedad...</td>\n",
       "      <td>NaN</td>\n",
       "      <td>Spanish</td>\n",
       "    </tr>\n",
       "    <tr>\n",
       "      <th>4</th>\n",
       "      <td>2013</td>\n",
       "      <td>9</td>\n",
       "      <td>Ole Ernst</td>\n",
       "      <td>73</td>\n",
       "      <td>Danish actor</td>\n",
       "      <td>NaN</td>\n",
       "      <td>Danish</td>\n",
       "    </tr>\n",
       "  </tbody>\n",
       "</table>\n",
       "</div>"
      ],
      "text/plain": [
       "   year  month                      name  age  \\\n",
       "0  2013      9              Zvonko Bušić   67   \n",
       "1  2013      9  Joaquim Justino Carreira   63   \n",
       "2  2013      9               Pál Csernai   80   \n",
       "3  2013      9        Ignacio Eizaguirre   92   \n",
       "4  2013      9                 Ole Ernst   73   \n",
       "\n",
       "                                                desc      cause_of_death  \\\n",
       "0  Croatian airplane hijacker (TWA Flight 355), s...  suicide by gunshot   \n",
       "1  Portuguese-born Brazilian Roman Catholic prela...                 NaN   \n",
       "2  Hungarian footballer and manager (FC Bayern Mu...                 NaN   \n",
       "3  Spanish footballer (Valencia CF, Real Sociedad...                 NaN   \n",
       "4                                       Danish actor                 NaN   \n",
       "\n",
       "                                nationality  \n",
       "0                                  Croatian  \n",
       "1  Portuguese-born Brazilian Roman Catholic  \n",
       "2                                 Hungarian  \n",
       "3                                   Spanish  \n",
       "4                                    Danish  "
      ]
     },
     "execution_count": 17,
     "metadata": {},
     "output_type": "execute_result"
    }
   ],
   "source": [
    "df_full = pd.read_csv('../out/celeb_deaths_wikipedia_full_1.csv')\n",
    "df_full.head()"
   ]
  },
  {
   "cell_type": "markdown",
   "metadata": {},
   "source": [
    "### Page sizes"
   ]
  },
  {
   "cell_type": "markdown",
   "metadata": {},
   "source": [
    "#### Querying for page size info\n",
    "\n",
    "Find remaining entries with missing page sizes:"
   ]
  },
  {
   "cell_type": "code",
   "execution_count": 18,
   "metadata": {
    "collapsed": false
   },
   "outputs": [
    {
     "data": {
      "text/plain": [
       "136"
      ]
     },
     "execution_count": 18,
     "metadata": {},
     "output_type": "execute_result"
    }
   ],
   "source": [
    "names_info_current = pd.read_csv('../out/names_fame_birth_death_1.csv')\n",
    "names_wo_pg_size = names_info_current[names_info_current.page_size.isnull()]\n",
    "batch_names_q = get_batch_queries(list(names_wo_pg_size.name.values), indiv_url_prefix, indiv_url_suffix)\n",
    "len(batch_names_q)"
   ]
  },
  {
   "cell_type": "markdown",
   "metadata": {},
   "source": [
    "#### Skip this section: Actual API call [only need to run once]\n",
    "\n",
    "Query Wikipedia for page sizes. For 136 queries (x48 terms/query ~= 6500 queries), takes about 4min 30sec (270 seconds)."
   ]
  },
  {
   "cell_type": "code",
   "execution_count": 359,
   "metadata": {
    "collapsed": false
   },
   "outputs": [
    {
     "name": "stdout",
     "output_type": "stream",
     "text": [
      "0 - 1 - 2 - 3 - 4 - 5 - 6 - 7 - 8 - 9 - 10 - 11 - 12 - 13 - 14 - 15 - 16 - 17 - 18 - 19 - 20 - 21 - 22 - 23 - 24 - 25 - 26 - 27 - 28 - 29 - 30 - 31 - 32 - 33 - 34 - 35 - 36 - 37 - 38 - 39 - 40 - 41 - 42 - 43 - 44 - 45 - 46 - 47 - 48 - 49 - 50 - 51 - 52 - 53 - 54 - 55 - 56 - 57 - 58 - 59 - 60 - 61 - 62 - 63 - 64 - 65 - 66 - 67 - 68 - 69 - 70 - 71 - 72 - 73 - 74 - 75 - 76 - 77 - 78 - 79 - 80 - 81 - 82 - 83 - 84 - 85 - 86 - 87 - 88 - 89 - 90 - 91 - 92 - 93 - 94 - 95 - 96 - 97 - 98 - 99 - 100 - 101 - 102 - 103 - 104 - 105 - 106 - 107 - 108 - 109 - 110 - 111 - 112 - 113 - 114 - 115 - 116 - 117 - 118 - 119 - 120 - 121 - 122 - 123 - 124 - 125 - 126 - 127 - 128 -CPU times: user 4.24 s, sys: 311 ms, total: 4.55 s\n",
      "Wall time: 4min 22s\n",
      "\n"
     ]
    }
   ],
   "source": [
    "%%time\n",
    "counter = 0\n",
    "\n",
    "# query API\n",
    "name_batch_results = []\n",
    "\n",
    "for batch in batch_names_q:\n",
    "    ret_val = requests.get(batch, headers=headers)\n",
    "    # print json_ret_val\n",
    "    try:\n",
    "        json_ret_val = ret_val.json()\n",
    "        name_batch_results.append(json_ret_val)\n",
    "    except ValueError:\n",
    "        continue\n",
    "    \n",
    "    # max rate etiquette: 1 query/second\n",
    "    time.sleep(1)\n",
    "    \n",
    "    print counter, \"-\",\n",
    "    counter += 1\n",
    "\n",
    "print \"\""
   ]
  },
  {
   "cell_type": "markdown",
   "metadata": {},
   "source": [
    "Unpack results from batch queries of page sizes"
   ]
  },
  {
   "cell_type": "code",
   "execution_count": 368,
   "metadata": {
    "collapsed": false
   },
   "outputs": [],
   "source": [
    "names_q_contents = []\n",
    "\n",
    "for result in name_batch_results:\n",
    "    for page_result in result['query']['pages'].values():\n",
    "        if 'revisions' in page_result.keys():\n",
    "            size_info = page_result['revisions']\n",
    "            new_contents = [page_result['title'], page_result['revisions'][0]['size']]\n",
    "            names_q_contents.append(new_contents)"
   ]
  },
  {
   "cell_type": "code",
   "execution_count": 369,
   "metadata": {
    "collapsed": false
   },
   "outputs": [
    {
     "data": {
      "text/plain": [
       "5952"
      ]
     },
     "execution_count": 369,
     "metadata": {},
     "output_type": "execute_result"
    }
   ],
   "source": [
    "len(names_q_contents)"
   ]
  },
  {
   "cell_type": "markdown",
   "metadata": {},
   "source": [
    "Save new page sizes obtained for the remaining set of names that didn't have page sizes:"
   ]
  },
  {
   "cell_type": "code",
   "execution_count": 375,
   "metadata": {
    "collapsed": false,
    "scrolled": true
   },
   "outputs": [],
   "source": [
    "with open('../out/names_fame_birth_death_1_rem.csv', 'wb') as remaining_outfile:\n",
    "    csv_rem_writer = csv.writer(remaining_outfile, delimiter=',')\n",
    "    for row in names_q_contents:\n",
    "        csv_rem_writer.writerow(row)\n",
    "    remaining_outfile.close()"
   ]
  },
  {
   "cell_type": "markdown",
   "metadata": {
    "collapsed": true
   },
   "source": [
    "#### Skip to here if code above already ran\n",
    "\n",
    "Merge in old page sizes with new page sizes:"
   ]
  },
  {
   "cell_type": "code",
   "execution_count": 23,
   "metadata": {
    "collapsed": false
   },
   "outputs": [],
   "source": [
    "df_names_page_rem = pd.read_csv('../out/names_fame_birth_death_1_rem.csv',\n",
    "                               names = ['name','page_size'],\n",
    "                               index_col = 'name')\n",
    "df_names_page_rem.reset_index(inplace=True)"
   ]
  },
  {
   "cell_type": "code",
   "execution_count": 24,
   "metadata": {
    "collapsed": false
   },
   "outputs": [
    {
     "data": {
      "text/html": [
       "<div>\n",
       "<table border=\"1\" class=\"dataframe\">\n",
       "  <thead>\n",
       "    <tr style=\"text-align: right;\">\n",
       "      <th></th>\n",
       "      <th>name</th>\n",
       "      <th>page_size</th>\n",
       "    </tr>\n",
       "  </thead>\n",
       "  <tbody>\n",
       "    <tr>\n",
       "      <th>0</th>\n",
       "      <td>Ernst Benda</td>\n",
       "      <td>5070</td>\n",
       "    </tr>\n",
       "    <tr>\n",
       "      <th>1</th>\n",
       "      <td>Rob Williams (entrepreneur)</td>\n",
       "      <td>44</td>\n",
       "    </tr>\n",
       "    <tr>\n",
       "      <th>2</th>\n",
       "      <td>João Bernardo Vieira</td>\n",
       "      <td>23245</td>\n",
       "    </tr>\n",
       "    <tr>\n",
       "      <th>3</th>\n",
       "      <td>Urban Sea</td>\n",
       "      <td>8704</td>\n",
       "    </tr>\n",
       "    <tr>\n",
       "      <th>4</th>\n",
       "      <td>Jack Schwartz</td>\n",
       "      <td>31</td>\n",
       "    </tr>\n",
       "  </tbody>\n",
       "</table>\n",
       "</div>"
      ],
      "text/plain": [
       "                          name  page_size\n",
       "0                  Ernst Benda       5070\n",
       "1  Rob Williams (entrepreneur)         44\n",
       "2         João Bernardo Vieira      23245\n",
       "3                    Urban Sea       8704\n",
       "4                Jack Schwartz         31"
      ]
     },
     "execution_count": 24,
     "metadata": {},
     "output_type": "execute_result"
    }
   ],
   "source": [
    "df_names_page_rem.head()"
   ]
  },
  {
   "cell_type": "code",
   "execution_count": 25,
   "metadata": {
    "collapsed": false
   },
   "outputs": [],
   "source": [
    "names_info_current[names_info_current.page_size.isnull()] = df_names_page_rem"
   ]
  },
  {
   "cell_type": "code",
   "execution_count": 26,
   "metadata": {
    "collapsed": false
   },
   "outputs": [
    {
     "data": {
      "text/plain": [
       "(5279, 4)"
      ]
     },
     "execution_count": 26,
     "metadata": {},
     "output_type": "execute_result"
    }
   ],
   "source": [
    "names_info_current[names_info_current.page_size.isnull()].shape"
   ]
  },
  {
   "cell_type": "markdown",
   "metadata": {},
   "source": [
    "### Write out file with additional information"
   ]
  },
  {
   "cell_type": "code",
   "execution_count": 27,
   "metadata": {
    "collapsed": true
   },
   "outputs": [],
   "source": [
    "df_full = df_full.merge(names_info_current, how='left')"
   ]
  },
  {
   "cell_type": "code",
   "execution_count": 28,
   "metadata": {
    "collapsed": false
   },
   "outputs": [
    {
     "data": {
      "text/html": [
       "<div>\n",
       "<table border=\"1\" class=\"dataframe\">\n",
       "  <thead>\n",
       "    <tr style=\"text-align: right;\">\n",
       "      <th></th>\n",
       "      <th>year</th>\n",
       "      <th>month</th>\n",
       "      <th>name</th>\n",
       "      <th>age</th>\n",
       "      <th>desc</th>\n",
       "      <th>cause_of_death</th>\n",
       "      <th>nationality</th>\n",
       "      <th>page_size</th>\n",
       "      <th>date_of_birth</th>\n",
       "      <th>date_of_death</th>\n",
       "    </tr>\n",
       "  </thead>\n",
       "  <tbody>\n",
       "    <tr>\n",
       "      <th>0</th>\n",
       "      <td>2013</td>\n",
       "      <td>9</td>\n",
       "      <td>Zvonko Bušić</td>\n",
       "      <td>67</td>\n",
       "      <td>Croatian airplane hijacker (TWA Flight 355), s...</td>\n",
       "      <td>suicide by gunshot</td>\n",
       "      <td>Croatian</td>\n",
       "      <td>NaN</td>\n",
       "      <td>NaN</td>\n",
       "      <td>NaN</td>\n",
       "    </tr>\n",
       "    <tr>\n",
       "      <th>1</th>\n",
       "      <td>2013</td>\n",
       "      <td>9</td>\n",
       "      <td>Joaquim Justino Carreira</td>\n",
       "      <td>63</td>\n",
       "      <td>Portuguese-born Brazilian Roman Catholic prela...</td>\n",
       "      <td>NaN</td>\n",
       "      <td>Portuguese-born Brazilian Roman Catholic</td>\n",
       "      <td>NaN</td>\n",
       "      <td>NaN</td>\n",
       "      <td>NaN</td>\n",
       "    </tr>\n",
       "    <tr>\n",
       "      <th>2</th>\n",
       "      <td>2013</td>\n",
       "      <td>9</td>\n",
       "      <td>Pál Csernai</td>\n",
       "      <td>80</td>\n",
       "      <td>Hungarian footballer and manager (FC Bayern Mu...</td>\n",
       "      <td>NaN</td>\n",
       "      <td>Hungarian</td>\n",
       "      <td>NaN</td>\n",
       "      <td>NaN</td>\n",
       "      <td>NaN</td>\n",
       "    </tr>\n",
       "    <tr>\n",
       "      <th>3</th>\n",
       "      <td>2013</td>\n",
       "      <td>9</td>\n",
       "      <td>Ignacio Eizaguirre</td>\n",
       "      <td>92</td>\n",
       "      <td>Spanish footballer (Valencia CF, Real Sociedad...</td>\n",
       "      <td>NaN</td>\n",
       "      <td>Spanish</td>\n",
       "      <td>NaN</td>\n",
       "      <td>NaN</td>\n",
       "      <td>NaN</td>\n",
       "    </tr>\n",
       "    <tr>\n",
       "      <th>4</th>\n",
       "      <td>2013</td>\n",
       "      <td>9</td>\n",
       "      <td>Ole Ernst</td>\n",
       "      <td>73</td>\n",
       "      <td>Danish actor</td>\n",
       "      <td>NaN</td>\n",
       "      <td>Danish</td>\n",
       "      <td>NaN</td>\n",
       "      <td>NaN</td>\n",
       "      <td>NaN</td>\n",
       "    </tr>\n",
       "  </tbody>\n",
       "</table>\n",
       "</div>"
      ],
      "text/plain": [
       "   year  month                      name  age  \\\n",
       "0  2013      9              Zvonko Bušić   67   \n",
       "1  2013      9  Joaquim Justino Carreira   63   \n",
       "2  2013      9               Pál Csernai   80   \n",
       "3  2013      9        Ignacio Eizaguirre   92   \n",
       "4  2013      9                 Ole Ernst   73   \n",
       "\n",
       "                                                desc      cause_of_death  \\\n",
       "0  Croatian airplane hijacker (TWA Flight 355), s...  suicide by gunshot   \n",
       "1  Portuguese-born Brazilian Roman Catholic prela...                 NaN   \n",
       "2  Hungarian footballer and manager (FC Bayern Mu...                 NaN   \n",
       "3  Spanish footballer (Valencia CF, Real Sociedad...                 NaN   \n",
       "4                                       Danish actor                 NaN   \n",
       "\n",
       "                                nationality  page_size date_of_birth  \\\n",
       "0                                  Croatian        NaN           NaN   \n",
       "1  Portuguese-born Brazilian Roman Catholic        NaN           NaN   \n",
       "2                                 Hungarian        NaN           NaN   \n",
       "3                                   Spanish        NaN           NaN   \n",
       "4                                    Danish        NaN           NaN   \n",
       "\n",
       "  date_of_death  \n",
       "0           NaN  \n",
       "1           NaN  \n",
       "2           NaN  \n",
       "3           NaN  \n",
       "4           NaN  "
      ]
     },
     "execution_count": 28,
     "metadata": {},
     "output_type": "execute_result"
    }
   ],
   "source": [
    "df_full.head()"
   ]
  },
  {
   "cell_type": "markdown",
   "metadata": {},
   "source": [
    "#### Write out file with additional info added"
   ]
  },
  {
   "cell_type": "markdown",
   "metadata": {},
   "source": [
    "Some data quality and sanity checks:"
   ]
  },
  {
   "cell_type": "code",
   "execution_count": 29,
   "metadata": {
    "collapsed": false
   },
   "outputs": [
    {
     "data": {
      "text/plain": [
       "55460"
      ]
     },
     "execution_count": 29,
     "metadata": {},
     "output_type": "execute_result"
    }
   ],
   "source": [
    "len(df_full.name.value_counts())"
   ]
  },
  {
   "cell_type": "code",
   "execution_count": 30,
   "metadata": {
    "collapsed": false
   },
   "outputs": [
    {
     "data": {
      "text/plain": [
       "30340"
      ]
     },
     "execution_count": 30,
     "metadata": {},
     "output_type": "execute_result"
    }
   ],
   "source": [
    "len(df_full[df_full.date_of_birth.isnull()])"
   ]
  },
  {
   "cell_type": "markdown",
   "metadata": {},
   "source": [
    "Actually writing out the file:"
   ]
  },
  {
   "cell_type": "code",
   "execution_count": 31,
   "metadata": {
    "collapsed": false
   },
   "outputs": [],
   "source": [
    "df_full.to_csv('../out/celeb_deaths_plus_1.csv', index=False)"
   ]
  },
  {
   "cell_type": "code",
   "execution_count": null,
   "metadata": {
    "collapsed": true
   },
   "outputs": [],
   "source": []
  }
 ],
 "metadata": {
  "kernelspec": {
   "display_name": "Python 2",
   "language": "python",
   "name": "python2"
  },
  "language_info": {
   "codemirror_mode": {
    "name": "ipython",
    "version": 2
   },
   "file_extension": ".py",
   "mimetype": "text/x-python",
   "name": "python",
   "nbconvert_exporter": "python",
   "pygments_lexer": "ipython2",
   "version": "2.7.10"
  }
 },
 "nbformat": 4,
 "nbformat_minor": 0
}
