{
 "cells": [
  {
   "cell_type": "markdown",
   "metadata": {},
   "source": [
    "# Celebrity Death Data (via Wikipedia)\n",
    "\n",
    "Creating a notebook to produce the dataset found at the [Kaggle Celebrity Deaths Page](https://www.kaggle.com/hugodarwood/celebrity-deaths).\n",
    "\n",
    "Attempting to replace/supplement the existing dataset since it isn't complete i.e., not up-to-date and has many missing values that should have been included. It also has bad parses for some fields e.g., nationality.\n",
    "\n",
    "Most importantly, there's no existing notebook that can be run to produce a similar dataset for the most recent version of Wikipedia pages.\n",
    "\n",
    "Also serves as a self-reference tutorial for regex and MediaWiki API."
   ]
  },
  {
   "cell_type": "markdown",
   "metadata": {},
   "source": [
    "### Table of Contents\n",
    "* [Shared Functions and Variables](#shared_fxns_vars)\n",
    "  * [Helper Functions](#helper-fxns)\n",
    "    * [Newly added functions](#new-fxns)\n",
    "\n",
    "\n",
    "* [Part 1: Batch query Wikipedia for monthly death pages](#part1)\n",
    "  * [API Batch Scrape](#api-batch-scrape)\n",
    "    * [Query Wikipedia API](#query-api-1)\n",
    "\n",
    "\n",
    "* [Part 2: Getting page size, date of birth, date of death, etc.](#part2)\n",
    "  * [Page Sizes](#get-page-sizes)\n",
    "    * [Actual API Call](#api-batch-2)\n",
    "    * [Skip to here if code above already ran](#pt2-skip-resume)\n",
    "  * [Write out file with additional info](#write-final-df)"
   ]
  },
  {
   "cell_type": "code",
   "execution_count": 1,
   "metadata": {
    "collapsed": true,
    "scrolled": false
   },
   "outputs": [],
   "source": [
    "import numpy as np\n",
    "import pandas as pd\n",
    "import re\n",
    "import json\n",
    "import csv\n",
    "import time\n",
    "import requests\n",
    "\n",
    "from os import listdir\n",
    "from os.path import isfile, join\n",
    "\n",
    "\n",
    "\"\"\"\n",
    "use for writing out unicode characters w/ csv module\n",
    "\"\"\"\n",
    "import sys\n",
    "# reload(sys)\n",
    "# sys.setdefaultencoding('utf-8')"
   ]
  },
  {
   "cell_type": "code",
   "execution_count": 2,
   "metadata": {
    "collapsed": false
   },
   "outputs": [],
   "source": [
    "import requests\n",
    "\n",
    "# Get a copy of the default headers that requests would use\n",
    "headers = requests.utils.default_headers()\n",
    "\n",
    "# Following the Wikipedia/Mediawiki API guidelines\n",
    "headers.update({'User-Agent': 'Celeb Death Scraper GZ',\n",
    "                'From': 'geordgez@gmail.com'\n",
    "               })"
   ]
  },
  {
   "cell_type": "markdown",
   "metadata": {},
   "source": [
    "# Shared functions and variables <a class='anchor' id='shared_fxns_vars'></a>"
   ]
  },
  {
   "cell_type": "markdown",
   "metadata": {},
   "source": [
    "Iterators"
   ]
  },
  {
   "cell_type": "code",
   "execution_count": 3,
   "metadata": {
    "collapsed": false
   },
   "outputs": [
    {
     "name": "stdout",
     "output_type": "stream",
     "text": [
      "Date range: 2004 - 2016\n"
     ]
    }
   ],
   "source": [
    "# batch query limit is 50\n",
    "year_list = range(2004,2017)\n",
    "print 'Date range:', min(year_list), '-', max(year_list)"
   ]
  },
  {
   "cell_type": "markdown",
   "metadata": {},
   "source": [
    "Other global variables"
   ]
  },
  {
   "cell_type": "code",
   "execution_count": 4,
   "metadata": {
    "collapsed": false
   },
   "outputs": [],
   "source": [
    "month_to_num = {\n",
    "    'January': 1,\n",
    "    'February': 2,\n",
    "    'March': 3,\n",
    "    'April': 4,\n",
    "    'May': 5,\n",
    "    'June': 6,\n",
    "    'July': 7,\n",
    "    'August': 8,\n",
    "    'September': 9,\n",
    "    'October': 10,\n",
    "    'November': 11,\n",
    "    'December': 12\n",
    "}"
   ]
  },
  {
   "cell_type": "markdown",
   "metadata": {},
   "source": [
    "Various information query skeletons for API calls"
   ]
  },
  {
   "cell_type": "code",
   "execution_count": 5,
   "metadata": {
    "collapsed": true
   },
   "outputs": [],
   "source": [
    "# base URL for death summaries by month (and year)\n",
    "mo_yr_url_prefix = 'https://en.wikipedia.org/w/api.php?action=query&titles='\n",
    "mo_yr_url_suffix = '&prop=revisions&rvprop=content&format=json'\n",
    "\n",
    "# page sizes for individuals\n",
    "indiv_url_prefix = 'https://en.wikipedia.org/w/api.php?action=query&titles='\n",
    "indiv_url_suffix = '&prop=revisions&rvprop=size&format=json'\n",
    "\n",
    "# dates of birth and death for individuals\n",
    "base_bday_prefix = 'https://en.wikipedia.org/w/api.php?action=query&titles='\n",
    "base_bday_suffix = '&prop=revisions&rvprop=content&rvsection=0&format=json'"
   ]
  },
  {
   "cell_type": "markdown",
   "metadata": {},
   "source": [
    "### Helper functions <a class='anchor' id='helper-fxns'></a>"
   ]
  },
  {
   "cell_type": "markdown",
   "metadata": {},
   "source": [
    "Functions from previous version (master branch) that ran individual queries (instead of batch queries) in serial."
   ]
  },
  {
   "cell_type": "code",
   "execution_count": 31,
   "metadata": {
    "collapsed": true
   },
   "outputs": [],
   "source": [
    "# Find wikitext links and convert them to the displayed text\n",
    "link_re = re.compile('\\[\\[([^\\|\\]]*)(?=\\||\\]\\])', re.DOTALL)\n",
    "link_all_re = re.compile('(\\[\\[(?:[^\\[\\]])+\\]\\])')\n",
    "\n",
    "def extract_link_text(link_block):\n",
    "    link_present = link_re.search(link_block)\n",
    "    if link_present:\n",
    "        return link_present.groups()\n",
    "    return link_block\n",
    "\n",
    "# essentially does the same thing as extract_link_text\n",
    "def get_wiki_url(name_text):\n",
    "    return re.sub('\\[\\]',name_text.split('|')[0])\n",
    "\n",
    "# Helper function for removing link text when using re.sub--identifies a wikitext URL\n",
    "def link_only(matchobj):\n",
    "    cleaned_text = extract_link_text(matchobj.groups()[0])[0]\n",
    "    return cleaned_text\n",
    "\n",
    "# Substitute all wikitext URL links with the display text for the URL\n",
    "def remove_link_text(text_block):\n",
    "    return re.sub(link_all_re, link_only, text_block)"
   ]
  },
  {
   "cell_type": "code",
   "execution_count": 7,
   "metadata": {
    "collapsed": false
   },
   "outputs": [],
   "source": [
    "# extract nationality\n",
    "natl_pattern1 = re.compile('\\s?((?:[A-Z][^\\s]+ ?)+) ', re.UNICODE)\n",
    "\n",
    "# keep a record of entries that didn't match to this nationality regex\n",
    "natl_unmatched_list = []\n",
    "\n",
    "def get_nationality_text(desc_text):\n",
    "    natl_match = natl_pattern1.match(desc_text.strip('['))\n",
    "    if natl_match:\n",
    "        return natl_match.groups()[0]\n",
    "    natl_unmatched_list.append(desc_text)\n",
    "    return desc_text\n",
    "\n",
    "# remove leading spaces and trailing period\n",
    "def clean_trim(text):\n",
    "    return re.sub('(^\\s*)|([\\.\\s]*$)', '', text)"
   ]
  },
  {
   "cell_type": "markdown",
   "metadata": {},
   "source": [
    "#### Newly added functions <a class='anchor' id='new-fxns'></a>\n",
    "\n",
    "New functions in this branch/notebook:"
   ]
  },
  {
   "cell_type": "code",
   "execution_count": 8,
   "metadata": {
    "collapsed": false
   },
   "outputs": [],
   "source": [
    "# Convert Wikipedia 'Deaths in (str: month) (int: year)' titles into '(int: month)_(int: year)'\n",
    "date_eol_re = re.compile('([A-Z][a-z]+) (\\d{4})$')\n",
    "\n",
    "def month_str2key(month_str):\n",
    "    date_eol = re.search(date_eol_re, month_str)\n",
    "    if date_eol:\n",
    "        month, year_num = date_eol.groups()\n",
    "        return year_num + '_' + str(month_to_num[month])\n",
    "    return month_str\n",
    "\n",
    "# Remove URLs from a text block\n",
    "no_url_re = re.compile('(\\[?https?:\\/\\/.*[\\r\\n]*$)|(\\<ref\\>)', re.MULTILINE)\n",
    "\n",
    "def remove_urls(text):\n",
    "    return no_url_re.sub('', text)"
   ]
  },
  {
   "cell_type": "code",
   "execution_count": 9,
   "metadata": {
    "collapsed": false
   },
   "outputs": [],
   "source": [
    "assert(month_str2key('asdfasdf asdf asdf December 2013') == '2013_12')"
   ]
  },
  {
   "cell_type": "markdown",
   "metadata": {},
   "source": [
    "Additional function for easily batch scraping in the future:"
   ]
  },
  {
   "cell_type": "code",
   "execution_count": 10,
   "metadata": {
    "collapsed": true
   },
   "outputs": [],
   "source": [
    "# Collect a list of individual query terms and group them into batch API queries\n",
    "def get_batch_queries(term_list, prefix_url, suffix_url, max_qlim = 48):\n",
    "    num_elems = len(term_list)\n",
    "    num_batches = num_elems / max_qlim\n",
    "    \n",
    "    batch_queries = []\n",
    "    \n",
    "    for i in xrange(0, num_batches):\n",
    "        start_idx = i * max_qlim\n",
    "        end_idx = start_idx + max_qlim\n",
    "        query_str = prefix_url + \"|\".join(term_list[start_idx:end_idx]) + suffix_url\n",
    "        batch_queries.append(query_str)\n",
    "        \n",
    "    batch_queries.append(prefix_url + \"|\".join(term_list[end_idx:num_elems]) + suffix_url)\n",
    "    \n",
    "    return batch_queries"
   ]
  },
  {
   "cell_type": "markdown",
   "metadata": {},
   "source": [
    "Function to process a row string into a row list of attributes.\n",
    "\n",
    "*Note:* Causes of death almost always don't end in parentheses and if there are parentheses at the end of an entry row they are usually associated with the description and not the cause of death."
   ]
  },
  {
   "cell_type": "code",
   "execution_count": 34,
   "metadata": {
    "collapsed": true
   },
   "outputs": [],
   "source": [
    "# converts string into list of info fields\n",
    "name_age_re = re.compile('(.*), (\\d+)[\\.,]? ?(.*)?$')\n",
    "\n",
    "def split_info(entry_text):\n",
    "    has_name_and_age = name_age_re.match(entry_text)\n",
    "    \n",
    "    if not has_name_and_age:\n",
    "        return\n",
    "    row_entries = list(has_name_and_age.groups()) + ['']\n",
    "    \n",
    "    if (len(row_entries) > 2 and row_entries[2] and \n",
    "        row_entries[2][-1] != ')'):\n",
    "        desc_parts = row_entries[2].split(',')\n",
    "        \n",
    "        if len(desc_parts) > 1:\n",
    "            row_entries[3] = desc_parts[-1].lstrip()\n",
    "    \n",
    "    return row_entries"
   ]
  },
  {
   "cell_type": "code",
   "execution_count": 49,
   "metadata": {
    "collapsed": true
   },
   "outputs": [],
   "source": [
    "# cleans and converts string into list of fields\n",
    "def unpack_info(row_text):\n",
    "    return split_info(clean_trim(remove_link_text(remove_urls(row_text))))"
   ]
  },
  {
   "cell_type": "markdown",
   "metadata": {},
   "source": [
    "# Part I: Batch query Wikipedia for monthly death pages <a class='anchor' id='part1'></a>"
   ]
  },
  {
   "cell_type": "markdown",
   "metadata": {},
   "source": [
    "### API Batch Scrape <a class='anchor' id='api-batch-scrape'></a>\n",
    "\n",
    "Batch scrapes to avoid API call limits and throttling. Also makes queries faster."
   ]
  },
  {
   "cell_type": "markdown",
   "metadata": {},
   "source": [
    "#### List of monthly death pages to be queried\n",
    "\n",
    "Create individual search terms for API query:"
   ]
  },
  {
   "cell_type": "code",
   "execution_count": 12,
   "metadata": {
    "collapsed": false
   },
   "outputs": [],
   "source": [
    "death_rep_words = 'Deaths_in_'\n",
    "mo_yr_elems = [death_rep_words + month + '_' + str(year) \n",
    "              for month in month_to_num.keys()\n",
    "              for year in year_list]\n",
    "\n",
    "mo_yr_elems.append('Deaths_in_January_2017')\n",
    "\n",
    "mo_yr_batch_queries = get_batch_queries(mo_yr_elems, mo_yr_url_prefix, mo_yr_url_suffix)"
   ]
  },
  {
   "cell_type": "markdown",
   "metadata": {},
   "source": [
    "#### Query Wikipedia API <a class='anchor' id='query-api-1'></a>\n",
    "\n",
    "Batch queries to Wikipedia API stored as a list of query results."
   ]
  },
  {
   "cell_type": "code",
   "execution_count": 13,
   "metadata": {
    "collapsed": false
   },
   "outputs": [
    {
     "name": "stdout",
     "output_type": "stream",
     "text": [
      "CPU times: user 773 ms, sys: 142 ms, total: 915 ms\n",
      "Wall time: 9.31 s\n"
     ]
    }
   ],
   "source": [
    "%%time \n",
    "# time won't show in unicode; takes 5-15 seconds\n",
    "\n",
    "# query API\n",
    "mo_yr_batch_results = [requests.get(query, headers=headers).json() \n",
    "                       for query in mo_yr_batch_queries]"
   ]
  },
  {
   "cell_type": "markdown",
   "metadata": {},
   "source": [
    "Unpack initial query results"
   ]
  },
  {
   "cell_type": "code",
   "execution_count": 53,
   "metadata": {
    "collapsed": false
   },
   "outputs": [],
   "source": [
    "q_contents = [[page_result['title'], \n",
    "               page_result['revisions'][0]['*']] \n",
    "              for result in mo_yr_batch_results\n",
    "              for page_result in result['query']['pages'].values()]"
   ]
  },
  {
   "cell_type": "markdown",
   "metadata": {},
   "source": [
    "Unpacking query results into dictionary of lists of summaries by month and tag month and year data to each entry. *Note:* Remember to encode in UTF-8!"
   ]
  },
  {
   "cell_type": "code",
   "execution_count": 54,
   "metadata": {
    "collapsed": false,
    "scrolled": true
   },
   "outputs": [
    {
     "name": "stdout",
     "output_type": "stream",
     "text": [
      "CPU times: user 2.37 s, sys: 329 ms, total: 2.7 s\n",
      "Wall time: 2.84 s\n"
     ]
    }
   ],
   "source": [
    "%%time\n",
    "q_contents_dict = {}\n",
    "\n",
    "for q_page in q_contents:\n",
    "    q_key = month_str2key(q_page[0])\n",
    "    mo_yr_info = q_key.split('_')\n",
    "    \n",
    "    q_list = [unpack_info(entry) for entry in q_page[1].encode('utf-8').split('*')]\n",
    "    q_contents_dict[q_key] = [mo_yr_info + entry for entry in q_list if entry]"
   ]
  },
  {
   "cell_type": "markdown",
   "metadata": {},
   "source": [
    "Flatten dictionary of lists into a single large list of entries"
   ]
  },
  {
   "cell_type": "code",
   "execution_count": 55,
   "metadata": {
    "collapsed": false
   },
   "outputs": [],
   "source": [
    "all_entries = [entry for entry_list in q_contents_dict.values() for entry in entry_list]\n",
    "df_full = pd.DataFrame(all_entries)\n",
    "df_full.columns = ['year', 'month', 'name', 'age', 'desc', 'cause_of_death']\n",
    "df_full['nationality'] = df_full.desc.map(get_nationality_text)"
   ]
  },
  {
   "cell_type": "code",
   "execution_count": 56,
   "metadata": {
    "collapsed": false,
    "scrolled": true
   },
   "outputs": [
    {
     "name": "stdout",
     "output_type": "stream",
     "text": [
      "(50826, 7)\n"
     ]
    },
    {
     "data": {
      "text/html": [
       "<div>\n",
       "<table border=\"1\" class=\"dataframe\">\n",
       "  <thead>\n",
       "    <tr style=\"text-align: right;\">\n",
       "      <th></th>\n",
       "      <th>year</th>\n",
       "      <th>month</th>\n",
       "      <th>name</th>\n",
       "      <th>age</th>\n",
       "      <th>desc</th>\n",
       "      <th>cause_of_death</th>\n",
       "      <th>nationality</th>\n",
       "    </tr>\n",
       "  </thead>\n",
       "  <tbody>\n",
       "    <tr>\n",
       "      <th>0</th>\n",
       "      <td>2013</td>\n",
       "      <td>9</td>\n",
       "      <td>Zvonko Bušić</td>\n",
       "      <td>67</td>\n",
       "      <td>Croatian airplane hijacker (TWA Flight 355), s...</td>\n",
       "      <td>suicide by gunshot</td>\n",
       "      <td>Croatian</td>\n",
       "    </tr>\n",
       "    <tr>\n",
       "      <th>1</th>\n",
       "      <td>2013</td>\n",
       "      <td>9</td>\n",
       "      <td>Joaquim Justino Carreira</td>\n",
       "      <td>63</td>\n",
       "      <td>Portuguese-born Brazilian Roman Catholic prela...</td>\n",
       "      <td></td>\n",
       "      <td>Portuguese-born Brazilian Roman Catholic</td>\n",
       "    </tr>\n",
       "    <tr>\n",
       "      <th>2</th>\n",
       "      <td>2013</td>\n",
       "      <td>9</td>\n",
       "      <td>Pál Csernai</td>\n",
       "      <td>80</td>\n",
       "      <td>Hungarian footballer and manager (FC Bayern Mu...</td>\n",
       "      <td></td>\n",
       "      <td>Hungarian</td>\n",
       "    </tr>\n",
       "    <tr>\n",
       "      <th>3</th>\n",
       "      <td>2013</td>\n",
       "      <td>9</td>\n",
       "      <td>Ignacio Eizaguirre</td>\n",
       "      <td>92</td>\n",
       "      <td>Spanish footballer (Valencia CF, Real Sociedad...</td>\n",
       "      <td></td>\n",
       "      <td>Spanish</td>\n",
       "    </tr>\n",
       "    <tr>\n",
       "      <th>4</th>\n",
       "      <td>2013</td>\n",
       "      <td>9</td>\n",
       "      <td>Ole Ernst</td>\n",
       "      <td>73</td>\n",
       "      <td>Danish actor</td>\n",
       "      <td></td>\n",
       "      <td>Danish</td>\n",
       "    </tr>\n",
       "  </tbody>\n",
       "</table>\n",
       "</div>"
      ],
      "text/plain": [
       "   year month                      name age  \\\n",
       "0  2013     9              Zvonko Bušić  67   \n",
       "1  2013     9  Joaquim Justino Carreira  63   \n",
       "2  2013     9               Pál Csernai  80   \n",
       "3  2013     9        Ignacio Eizaguirre  92   \n",
       "4  2013     9                 Ole Ernst  73   \n",
       "\n",
       "                                                desc      cause_of_death  \\\n",
       "0  Croatian airplane hijacker (TWA Flight 355), s...  suicide by gunshot   \n",
       "1  Portuguese-born Brazilian Roman Catholic prela...                       \n",
       "2  Hungarian footballer and manager (FC Bayern Mu...                       \n",
       "3  Spanish footballer (Valencia CF, Real Sociedad...                       \n",
       "4                                       Danish actor                       \n",
       "\n",
       "                                nationality  \n",
       "0                                  Croatian  \n",
       "1  Portuguese-born Brazilian Roman Catholic  \n",
       "2                                 Hungarian  \n",
       "3                                   Spanish  \n",
       "4                                    Danish  "
      ]
     },
     "execution_count": 56,
     "metadata": {},
     "output_type": "execute_result"
    }
   ],
   "source": [
    "print df_full.shape\n",
    "df_full.head()"
   ]
  },
  {
   "cell_type": "markdown",
   "metadata": {},
   "source": [
    "A small number (<50) entries end up having multiple hits in the queries but this isn't a major concern."
   ]
  },
  {
   "cell_type": "code",
   "execution_count": 57,
   "metadata": {
    "collapsed": false,
    "scrolled": false
   },
   "outputs": [
    {
     "data": {
      "text/plain": [
       "Victoria de los Ángeles       2\n",
       "Sonny Fai                     2\n",
       "Gyda Hansen                   2\n",
       "William Earl Reid             2\n",
       "Austin Cooper (lawyer)        2\n",
       "Abraham Bueno de Mesquita     2\n",
       "Francis Ray                   2\n",
       "Arnold Meri                   2\n",
       "Charles Newman (author)       2\n",
       "Quorthon                      2\n",
       "Carlos González Nova          2\n",
       "Rita Ridley                   2\n",
       "Joseph and Melissa Batten     2\n",
       "Robert O. Smith               2\n",
       "Miguel Galván                 2\n",
       "Belita                        2\n",
       "Johnny Byrne (writer)         2\n",
       "John McIntyre (theologian)    2\n",
       "Doreen Blumhardt              2\n",
       "Hans Joachim Alpers           2\n",
       "Hager Twins                   2\n",
       "dtype: int64"
      ]
     },
     "execution_count": 57,
     "metadata": {},
     "output_type": "execute_result"
    }
   ],
   "source": [
    "df_full.name.value_counts()[df_full.name.value_counts() > 1]"
   ]
  },
  {
   "cell_type": "markdown",
   "metadata": {},
   "source": [
    "#### Write out file\n",
    "\n",
    "Save progress on current scrape before moving on to Part II."
   ]
  },
  {
   "cell_type": "code",
   "execution_count": 58,
   "metadata": {
    "collapsed": false
   },
   "outputs": [],
   "source": [
    "df_full.to_csv('../out/celeb_deaths_wikipedia_full_1.csv', index=False)"
   ]
  },
  {
   "cell_type": "markdown",
   "metadata": {},
   "source": [
    "Checking out the number queries when iterating through person/name/entry. Store all names into a blank csv for future use in querying particular page sizes, dates of birth, dates of death, etc."
   ]
  },
  {
   "cell_type": "code",
   "execution_count": 60,
   "metadata": {
    "collapsed": false
   },
   "outputs": [
    {
     "name": "stdout",
     "output_type": "stream",
     "text": [
      "(50826,)\n"
     ]
    }
   ],
   "source": [
    "all_names = df_full.name.map(lambda name: name.replace(' ','_'))\n",
    "all_names.to_csv('../out/names_fame_birth_death_1_blank.csv')\n",
    "print all_names.shape"
   ]
  },
  {
   "cell_type": "markdown",
   "metadata": {},
   "source": [
    "# Part II: Getting page size, date of birth, date of death, etc. <a class='anchor' id='part2'></a>"
   ]
  },
  {
   "cell_type": "markdown",
   "metadata": {},
   "source": [
    "***Checkpoint:*** read initial batch scrape of monthly death pages"
   ]
  },
  {
   "cell_type": "code",
   "execution_count": 61,
   "metadata": {
    "collapsed": false
   },
   "outputs": [
    {
     "data": {
      "text/html": [
       "<div>\n",
       "<table border=\"1\" class=\"dataframe\">\n",
       "  <thead>\n",
       "    <tr style=\"text-align: right;\">\n",
       "      <th></th>\n",
       "      <th>year</th>\n",
       "      <th>month</th>\n",
       "      <th>name</th>\n",
       "      <th>age</th>\n",
       "      <th>desc</th>\n",
       "      <th>cause_of_death</th>\n",
       "      <th>nationality</th>\n",
       "    </tr>\n",
       "  </thead>\n",
       "  <tbody>\n",
       "    <tr>\n",
       "      <th>0</th>\n",
       "      <td>2013</td>\n",
       "      <td>9</td>\n",
       "      <td>Zvonko Bušić</td>\n",
       "      <td>67</td>\n",
       "      <td>Croatian airplane hijacker (TWA Flight 355), s...</td>\n",
       "      <td>suicide by gunshot</td>\n",
       "      <td>Croatian</td>\n",
       "    </tr>\n",
       "    <tr>\n",
       "      <th>1</th>\n",
       "      <td>2013</td>\n",
       "      <td>9</td>\n",
       "      <td>Joaquim Justino Carreira</td>\n",
       "      <td>63</td>\n",
       "      <td>Portuguese-born Brazilian Roman Catholic prela...</td>\n",
       "      <td>NaN</td>\n",
       "      <td>Portuguese-born Brazilian Roman Catholic</td>\n",
       "    </tr>\n",
       "    <tr>\n",
       "      <th>2</th>\n",
       "      <td>2013</td>\n",
       "      <td>9</td>\n",
       "      <td>Pál Csernai</td>\n",
       "      <td>80</td>\n",
       "      <td>Hungarian footballer and manager (FC Bayern Mu...</td>\n",
       "      <td>NaN</td>\n",
       "      <td>Hungarian</td>\n",
       "    </tr>\n",
       "    <tr>\n",
       "      <th>3</th>\n",
       "      <td>2013</td>\n",
       "      <td>9</td>\n",
       "      <td>Ignacio Eizaguirre</td>\n",
       "      <td>92</td>\n",
       "      <td>Spanish footballer (Valencia CF, Real Sociedad...</td>\n",
       "      <td>NaN</td>\n",
       "      <td>Spanish</td>\n",
       "    </tr>\n",
       "    <tr>\n",
       "      <th>4</th>\n",
       "      <td>2013</td>\n",
       "      <td>9</td>\n",
       "      <td>Ole Ernst</td>\n",
       "      <td>73</td>\n",
       "      <td>Danish actor</td>\n",
       "      <td>NaN</td>\n",
       "      <td>Danish</td>\n",
       "    </tr>\n",
       "  </tbody>\n",
       "</table>\n",
       "</div>"
      ],
      "text/plain": [
       "   year  month                      name  age  \\\n",
       "0  2013      9              Zvonko Bušić   67   \n",
       "1  2013      9  Joaquim Justino Carreira   63   \n",
       "2  2013      9               Pál Csernai   80   \n",
       "3  2013      9        Ignacio Eizaguirre   92   \n",
       "4  2013      9                 Ole Ernst   73   \n",
       "\n",
       "                                                desc      cause_of_death  \\\n",
       "0  Croatian airplane hijacker (TWA Flight 355), s...  suicide by gunshot   \n",
       "1  Portuguese-born Brazilian Roman Catholic prela...                 NaN   \n",
       "2  Hungarian footballer and manager (FC Bayern Mu...                 NaN   \n",
       "3  Spanish footballer (Valencia CF, Real Sociedad...                 NaN   \n",
       "4                                       Danish actor                 NaN   \n",
       "\n",
       "                                nationality  \n",
       "0                                  Croatian  \n",
       "1  Portuguese-born Brazilian Roman Catholic  \n",
       "2                                 Hungarian  \n",
       "3                                   Spanish  \n",
       "4                                    Danish  "
      ]
     },
     "execution_count": 61,
     "metadata": {},
     "output_type": "execute_result"
    }
   ],
   "source": [
    "df_full = pd.read_csv('../out/celeb_deaths_wikipedia_full_1.csv')\n",
    "df_full.head()"
   ]
  },
  {
   "cell_type": "markdown",
   "metadata": {},
   "source": [
    "### Page sizes <a class='anchor' id='get-page-sizes'></a>\n",
    "\n",
    "**Note:** Some code blocks here assume that you already ran through the whole notebook before. If the notebook hasn't been run before, you might need to replace the  '../out/names_fame_birth_death_1.csv' file names with '../out/names_fame_birth_death_1_blank.csv' instead."
   ]
  },
  {
   "cell_type": "markdown",
   "metadata": {},
   "source": [
    "#### Querying for page size info\n",
    "\n",
    "Find remaining entries with missing page sizes. \n",
    "\n",
    "*Code below might throw errors. Just edit the input file appropriately.* \n",
    "\n",
    "Note that this assumes you already have an existing sheet partially populated with information for some entries. If not, modify the first line in the cell below to read the blank names file produced in the previous section instead."
   ]
  },
  {
   "cell_type": "code",
   "execution_count": 67,
   "metadata": {
    "collapsed": false
   },
   "outputs": [
    {
     "data": {
      "text/plain": [
       "136"
      ]
     },
     "execution_count": 67,
     "metadata": {},
     "output_type": "execute_result"
    }
   ],
   "source": [
    "names_info_current = pd.read_csv('../out/names_fame_birth_death_1.csv')\n",
    "names_wo_pg_size = names_info_current[names_info_current.page_size.isnull()]\n",
    "batch_names_q = get_batch_queries(list(names_wo_pg_size.name.values), indiv_url_prefix, indiv_url_suffix)\n",
    "len(batch_names_q)"
   ]
  },
  {
   "cell_type": "markdown",
   "metadata": {},
   "source": [
    "#### Skip this section: Actual API call [only need to run once] <a class='anchor' id='api-batch-2'></a>\n",
    "\n",
    "Query Wikipedia for page sizes. No need to run this section again if it's already been run once.\n",
    "\n",
    "For 136 queries (x48 terms/query ~= 6500 queries), takes about 4min 30sec (270 seconds)."
   ]
  },
  {
   "cell_type": "code",
   "execution_count": 359,
   "metadata": {
    "collapsed": false
   },
   "outputs": [
    {
     "name": "stdout",
     "output_type": "stream",
     "text": [
      "0 - 1 - 2 - 3 - 4 - 5 - 6 - 7 - 8 - 9 - 10 - 11 - 12 - 13 - 14 - 15 - 16 - 17 - 18 - 19 - 20 - 21 - 22 - 23 - 24 - 25 - 26 - 27 - 28 - 29 - 30 - 31 - 32 - 33 - 34 - 35 - 36 - 37 - 38 - 39 - 40 - 41 - 42 - 43 - 44 - 45 - 46 - 47 - 48 - 49 - 50 - 51 - 52 - 53 - 54 - 55 - 56 - 57 - 58 - 59 - 60 - 61 - 62 - 63 - 64 - 65 - 66 - 67 - 68 - 69 - 70 - 71 - 72 - 73 - 74 - 75 - 76 - 77 - 78 - 79 - 80 - 81 - 82 - 83 - 84 - 85 - 86 - 87 - 88 - 89 - 90 - 91 - 92 - 93 - 94 - 95 - 96 - 97 - 98 - 99 - 100 - 101 - 102 - 103 - 104 - 105 - 106 - 107 - 108 - 109 - 110 - 111 - 112 - 113 - 114 - 115 - 116 - 117 - 118 - 119 - 120 - 121 - 122 - 123 - 124 - 125 - 126 - 127 - 128 -CPU times: user 4.24 s, sys: 311 ms, total: 4.55 s\n",
      "Wall time: 4min 22s\n",
      "\n"
     ]
    }
   ],
   "source": [
    "%%time\n",
    "counter = 0\n",
    "\n",
    "# query API\n",
    "name_batch_results = []\n",
    "\n",
    "for batch in batch_names_q:\n",
    "    ret_val = requests.get(batch, headers=headers)\n",
    "    try:\n",
    "        json_ret_val = ret_val.json()\n",
    "        name_batch_results.append(json_ret_val)\n",
    "    except ValueError:\n",
    "        continue\n",
    "    \n",
    "    # max rate etiquette: 1 query/second\n",
    "    time.sleep(1)\n",
    "    \n",
    "    print counter, \"-\",\n",
    "    counter += 1\n",
    "\n",
    "print \"\""
   ]
  },
  {
   "cell_type": "markdown",
   "metadata": {},
   "source": [
    "Unpack results from batch queries of page sizes"
   ]
  },
  {
   "cell_type": "code",
   "execution_count": 368,
   "metadata": {
    "collapsed": false
   },
   "outputs": [],
   "source": [
    "names_q_contents = []\n",
    "\n",
    "for result in name_batch_results:\n",
    "    for page_result in result['query']['pages'].values():\n",
    "        if 'revisions' in page_result.keys():\n",
    "            size_info = page_result['revisions']\n",
    "            new_contents = [page_result['title'], page_result['revisions'][0]['size']]\n",
    "            names_q_contents.append(new_contents)"
   ]
  },
  {
   "cell_type": "code",
   "execution_count": 369,
   "metadata": {
    "collapsed": false
   },
   "outputs": [
    {
     "data": {
      "text/plain": [
       "5952"
      ]
     },
     "execution_count": 369,
     "metadata": {},
     "output_type": "execute_result"
    }
   ],
   "source": [
    "len(names_q_contents)"
   ]
  },
  {
   "cell_type": "markdown",
   "metadata": {},
   "source": [
    "Save new page sizes obtained for the remaining set of names that didn't have page sizes:"
   ]
  },
  {
   "cell_type": "code",
   "execution_count": 375,
   "metadata": {
    "collapsed": false,
    "scrolled": true
   },
   "outputs": [],
   "source": [
    "with open('../out/names_fame_birth_death_1_rem.csv', 'wb') as remaining_outfile:\n",
    "    csv_rem_writer = csv.writer(remaining_outfile, delimiter=',')\n",
    "    for row in names_q_contents:\n",
    "        csv_rem_writer.writerow(row)\n",
    "    remaining_outfile.close()"
   ]
  },
  {
   "cell_type": "markdown",
   "metadata": {
    "collapsed": true
   },
   "source": [
    "#### Skip to here if code above already ran <a class='anchor' id='pt2-skip-resume'></a>\n",
    "\n",
    "Merge in old page sizes with new page sizes:"
   ]
  },
  {
   "cell_type": "code",
   "execution_count": 68,
   "metadata": {
    "collapsed": false
   },
   "outputs": [],
   "source": [
    "df_names_page_rem = pd.read_csv('../out/names_fame_birth_death_1_rem.csv',\n",
    "                               names = ['name','page_size'],\n",
    "                               index_col = 'name')\n",
    "df_names_page_rem.reset_index(inplace=True)"
   ]
  },
  {
   "cell_type": "code",
   "execution_count": 70,
   "metadata": {
    "collapsed": false
   },
   "outputs": [
    {
     "name": "stdout",
     "output_type": "stream",
     "text": [
      "(5952, 2)\n"
     ]
    },
    {
     "data": {
      "text/html": [
       "<div>\n",
       "<table border=\"1\" class=\"dataframe\">\n",
       "  <thead>\n",
       "    <tr style=\"text-align: right;\">\n",
       "      <th></th>\n",
       "      <th>name</th>\n",
       "      <th>page_size</th>\n",
       "    </tr>\n",
       "  </thead>\n",
       "  <tbody>\n",
       "    <tr>\n",
       "      <th>0</th>\n",
       "      <td>Ernst Benda</td>\n",
       "      <td>5070</td>\n",
       "    </tr>\n",
       "    <tr>\n",
       "      <th>1</th>\n",
       "      <td>Rob Williams (entrepreneur)</td>\n",
       "      <td>44</td>\n",
       "    </tr>\n",
       "    <tr>\n",
       "      <th>2</th>\n",
       "      <td>João Bernardo Vieira</td>\n",
       "      <td>23245</td>\n",
       "    </tr>\n",
       "    <tr>\n",
       "      <th>3</th>\n",
       "      <td>Urban Sea</td>\n",
       "      <td>8704</td>\n",
       "    </tr>\n",
       "    <tr>\n",
       "      <th>4</th>\n",
       "      <td>Jack Schwartz</td>\n",
       "      <td>31</td>\n",
       "    </tr>\n",
       "  </tbody>\n",
       "</table>\n",
       "</div>"
      ],
      "text/plain": [
       "                          name  page_size\n",
       "0                  Ernst Benda       5070\n",
       "1  Rob Williams (entrepreneur)         44\n",
       "2         João Bernardo Vieira      23245\n",
       "3                    Urban Sea       8704\n",
       "4                Jack Schwartz         31"
      ]
     },
     "execution_count": 70,
     "metadata": {},
     "output_type": "execute_result"
    }
   ],
   "source": [
    "print df_names_page_rem.shape\n",
    "df_names_page_rem.head()"
   ]
  },
  {
   "cell_type": "markdown",
   "metadata": {},
   "source": [
    "Fill in any entries for which additional information was found into the table of names, page sizes, dates of birth, and dates of death."
   ]
  },
  {
   "cell_type": "code",
   "execution_count": 71,
   "metadata": {
    "collapsed": false
   },
   "outputs": [
    {
     "name": "stdout",
     "output_type": "stream",
     "text": [
      "(5279, 4)\n"
     ]
    }
   ],
   "source": [
    "names_info_current[names_info_current.page_size.isnull()] = df_names_page_rem\n",
    "print names_info_current[names_info_current.page_size.isnull()].shape"
   ]
  },
  {
   "cell_type": "markdown",
   "metadata": {},
   "source": [
    "### Write out file with additional information <a class='anchor' id='write-final-df'></a>"
   ]
  },
  {
   "cell_type": "code",
   "execution_count": 72,
   "metadata": {
    "collapsed": false
   },
   "outputs": [
    {
     "name": "stdout",
     "output_type": "stream",
     "text": [
      "(51495, 10)\n"
     ]
    },
    {
     "data": {
      "text/html": [
       "<div>\n",
       "<table border=\"1\" class=\"dataframe\">\n",
       "  <thead>\n",
       "    <tr style=\"text-align: right;\">\n",
       "      <th></th>\n",
       "      <th>year</th>\n",
       "      <th>month</th>\n",
       "      <th>name</th>\n",
       "      <th>age</th>\n",
       "      <th>desc</th>\n",
       "      <th>cause_of_death</th>\n",
       "      <th>nationality</th>\n",
       "      <th>page_size</th>\n",
       "      <th>date_of_birth</th>\n",
       "      <th>date_of_death</th>\n",
       "    </tr>\n",
       "  </thead>\n",
       "  <tbody>\n",
       "    <tr>\n",
       "      <th>0</th>\n",
       "      <td>2013</td>\n",
       "      <td>9</td>\n",
       "      <td>Zvonko Bušić</td>\n",
       "      <td>67</td>\n",
       "      <td>Croatian airplane hijacker (TWA Flight 355), s...</td>\n",
       "      <td>suicide by gunshot</td>\n",
       "      <td>Croatian</td>\n",
       "      <td>NaN</td>\n",
       "      <td>NaN</td>\n",
       "      <td>NaN</td>\n",
       "    </tr>\n",
       "    <tr>\n",
       "      <th>1</th>\n",
       "      <td>2013</td>\n",
       "      <td>9</td>\n",
       "      <td>Joaquim Justino Carreira</td>\n",
       "      <td>63</td>\n",
       "      <td>Portuguese-born Brazilian Roman Catholic prela...</td>\n",
       "      <td>NaN</td>\n",
       "      <td>Portuguese-born Brazilian Roman Catholic</td>\n",
       "      <td>NaN</td>\n",
       "      <td>NaN</td>\n",
       "      <td>NaN</td>\n",
       "    </tr>\n",
       "    <tr>\n",
       "      <th>2</th>\n",
       "      <td>2013</td>\n",
       "      <td>9</td>\n",
       "      <td>Pál Csernai</td>\n",
       "      <td>80</td>\n",
       "      <td>Hungarian footballer and manager (FC Bayern Mu...</td>\n",
       "      <td>NaN</td>\n",
       "      <td>Hungarian</td>\n",
       "      <td>NaN</td>\n",
       "      <td>NaN</td>\n",
       "      <td>NaN</td>\n",
       "    </tr>\n",
       "    <tr>\n",
       "      <th>3</th>\n",
       "      <td>2013</td>\n",
       "      <td>9</td>\n",
       "      <td>Ignacio Eizaguirre</td>\n",
       "      <td>92</td>\n",
       "      <td>Spanish footballer (Valencia CF, Real Sociedad...</td>\n",
       "      <td>NaN</td>\n",
       "      <td>Spanish</td>\n",
       "      <td>NaN</td>\n",
       "      <td>NaN</td>\n",
       "      <td>NaN</td>\n",
       "    </tr>\n",
       "    <tr>\n",
       "      <th>4</th>\n",
       "      <td>2013</td>\n",
       "      <td>9</td>\n",
       "      <td>Ole Ernst</td>\n",
       "      <td>73</td>\n",
       "      <td>Danish actor</td>\n",
       "      <td>NaN</td>\n",
       "      <td>Danish</td>\n",
       "      <td>NaN</td>\n",
       "      <td>NaN</td>\n",
       "      <td>NaN</td>\n",
       "    </tr>\n",
       "  </tbody>\n",
       "</table>\n",
       "</div>"
      ],
      "text/plain": [
       "   year  month                      name  age  \\\n",
       "0  2013      9              Zvonko Bušić   67   \n",
       "1  2013      9  Joaquim Justino Carreira   63   \n",
       "2  2013      9               Pál Csernai   80   \n",
       "3  2013      9        Ignacio Eizaguirre   92   \n",
       "4  2013      9                 Ole Ernst   73   \n",
       "\n",
       "                                                desc      cause_of_death  \\\n",
       "0  Croatian airplane hijacker (TWA Flight 355), s...  suicide by gunshot   \n",
       "1  Portuguese-born Brazilian Roman Catholic prela...                 NaN   \n",
       "2  Hungarian footballer and manager (FC Bayern Mu...                 NaN   \n",
       "3  Spanish footballer (Valencia CF, Real Sociedad...                 NaN   \n",
       "4                                       Danish actor                 NaN   \n",
       "\n",
       "                                nationality  page_size date_of_birth  \\\n",
       "0                                  Croatian        NaN           NaN   \n",
       "1  Portuguese-born Brazilian Roman Catholic        NaN           NaN   \n",
       "2                                 Hungarian        NaN           NaN   \n",
       "3                                   Spanish        NaN           NaN   \n",
       "4                                    Danish        NaN           NaN   \n",
       "\n",
       "  date_of_death  \n",
       "0           NaN  \n",
       "1           NaN  \n",
       "2           NaN  \n",
       "3           NaN  \n",
       "4           NaN  "
      ]
     },
     "execution_count": 72,
     "metadata": {},
     "output_type": "execute_result"
    }
   ],
   "source": [
    "df_full = df_full.merge(names_info_current, how='left')\n",
    "print df_full.shape\n",
    "df_full.head()"
   ]
  },
  {
   "cell_type": "markdown",
   "metadata": {},
   "source": [
    "#### Write out file with additional info added"
   ]
  },
  {
   "cell_type": "markdown",
   "metadata": {},
   "source": [
    "Some data quality and sanity checks:"
   ]
  },
  {
   "cell_type": "code",
   "execution_count": 73,
   "metadata": {
    "collapsed": false
   },
   "outputs": [
    {
     "name": "stdout",
     "output_type": "stream",
     "text": [
      "Total:                 50805\n",
      "Missing page size:     6740\n",
      "Missing date of birth: 28525\n",
      "Missing date of death: 26676\n"
     ]
    }
   ],
   "source": [
    "print \"Total:                \", len(df_full.name.value_counts())\n",
    "print \"Missing page size:    \", len(df_full[df_full.page_size.isnull()])\n",
    "print \"Missing date of birth:\", len(df_full[df_full.date_of_birth.isnull()])\n",
    "print \"Missing date of death:\", len(df_full[df_full.date_of_death.isnull()])"
   ]
  },
  {
   "cell_type": "markdown",
   "metadata": {},
   "source": [
    "Actually writing out the file:"
   ]
  },
  {
   "cell_type": "code",
   "execution_count": 74,
   "metadata": {
    "collapsed": false
   },
   "outputs": [],
   "source": [
    "df_full.to_csv('../out/celeb_deaths_plus_1.csv', index=False)"
   ]
  },
  {
   "cell_type": "code",
   "execution_count": null,
   "metadata": {
    "collapsed": true
   },
   "outputs": [],
   "source": []
  }
 ],
 "metadata": {
  "kernelspec": {
   "display_name": "Python 2",
   "language": "python",
   "name": "python2"
  },
  "language_info": {
   "codemirror_mode": {
    "name": "ipython",
    "version": 2
   },
   "file_extension": ".py",
   "mimetype": "text/x-python",
   "name": "python",
   "nbconvert_exporter": "python",
   "pygments_lexer": "ipython2",
   "version": "2.7.10"
  }
 },
 "nbformat": 4,
 "nbformat_minor": 0
}
