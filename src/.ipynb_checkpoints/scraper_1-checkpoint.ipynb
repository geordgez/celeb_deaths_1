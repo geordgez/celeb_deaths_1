{
 "cells": [
  {
   "cell_type": "markdown",
   "metadata": {},
   "source": [
    "### Scraping Wikipedia Celebrity Deaths\n",
    "\n",
    "Creating a notebook to produce the dataset found at the [Kaggle Celebrity Deaths Page](https://www.kaggle.com/hugodarwood/celebrity-deaths).\n",
    "\n",
    "Attempting to replace the current dataset since it isn't complete (up-to-date) since there's no notebook to run to get up-to-date information and it has bad parses for some of the fields.\n",
    "\n",
    "This notebook isn't perfect either but does a better job."
   ]
  },
  {
   "cell_type": "code",
   "execution_count": 1,
   "metadata": {
    "collapsed": true
   },
   "outputs": [],
   "source": [
    "%matplotlib inline"
   ]
  },
  {
   "cell_type": "code",
   "execution_count": 2,
   "metadata": {
    "collapsed": true
   },
   "outputs": [],
   "source": [
    "import numpy as np\n",
    "import pandas as pd\n",
    "import re\n",
    "import requests\n",
    "\n",
    "from bs4 import BeautifulSoup as bs"
   ]
  },
  {
   "cell_type": "markdown",
   "metadata": {},
   "source": [
    "Get death summary page:"
   ]
  },
  {
   "cell_type": "code",
   "execution_count": 3,
   "metadata": {
    "collapsed": true
   },
   "outputs": [],
   "source": [
    "month_select = 'February'\n",
    "year_select = 2007"
   ]
  },
  {
   "cell_type": "code",
   "execution_count": 4,
   "metadata": {
    "collapsed": false
   },
   "outputs": [],
   "source": [
    "url1 = ('https://en.wikipedia.org/w/api.php?action=query&titles=Deaths_in_' +  \n",
    "        month_select + '_' + str(year_select) + \n",
    "        '&prop=revisions&rvprop=content&format=json')\n",
    "page1_mkdown = bs(requests.get(url1).json()['query']['pages'].values()[0]['revisions'][0]['*'])\n",
    "page1_txt_list = page1_mkdown.text.split('*')"
   ]
  },
  {
   "cell_type": "markdown",
   "metadata": {},
   "source": [
    "Verify wikitext format parser doesn't skip rows with actual entries."
   ]
  },
  {
   "cell_type": "code",
   "execution_count": 5,
   "metadata": {
    "collapsed": false
   },
   "outputs": [
    {
     "name": "stdout",
     "output_type": "stream",
     "text": [
      "Error:  {{Deaths in month TOC}}\n",
      "The following is\n",
      "\n",
      "Error:  2007-02]]\n",
      "[[Category:2007-related lists|\n",
      "\n"
     ]
    }
   ],
   "source": [
    "for i in xrange(0,len(page1_txt_list)):\n",
    "    first_two_chars = page1_txt_list[i][:2]\n",
    "    if first_two_chars != '[[':\n",
    "        print \"Error: \", page1_txt_list[i][:40]\n",
    "        print \"\""
   ]
  },
  {
   "cell_type": "markdown",
   "metadata": {},
   "source": [
    "#### Regex for creating columns\n",
    "\n",
    "Compile regex to extract data fields."
   ]
  },
  {
   "cell_type": "code",
   "execution_count": 6,
   "metadata": {
    "collapsed": false
   },
   "outputs": [
    {
     "name": "stdout",
     "output_type": "stream",
     "text": [
      "Error:  {{Deaths in month TO\n",
      "\n",
      "Error:  [[Ismail Semed]], Ch\n",
      "\n",
      "Error:  [[George André Rober\n",
      "\n",
      "Error:  2007-02]]\n",
      "[[Category\n",
      "\n",
      "Total entries:  235\n",
      "Number of skipped entries:  4\n"
     ]
    }
   ],
   "source": [
    "# full populated (although some might not have death)\n",
    "row_pattern_full = re.compile('\\[\\[(.*?)\\]\\], (\\d+), (?:(.+), )+(.*?). ?\\[{1}(h.+)\\]{1}')\n",
    "\n",
    "# missing death and no extra commas\n",
    "row_pattern_m1 = re.compile('\\[\\[(.*?)\\]\\], (\\d+), (.+). ?\\[{1}(h.+)\\]{1}')\n",
    "\n",
    "count_errors = 0\n",
    "entry_dict = {}\n",
    "\n",
    "for entry in page1_txt_list:\n",
    "    try:\n",
    "        entry_items = row_pattern_full.match(str(entry.encode('utf-8'))).groups()\n",
    "        entry_dict[entry_items[0]] = entry_items[1:]\n",
    "    except AttributeError, e1:\n",
    "        try:\n",
    "            entry_items = row_pattern_m1.match(str(entry.encode('utf-8'))).groups()\n",
    "            entry_dict[entry_items[0]] = list(entry_items[1:3]) + ['', entry_items[3]]\n",
    "        except AttributeError, e2:\n",
    "            print \"Error: \", entry[:20]\n",
    "            print \"\"\n",
    "            count_errors += 1\n",
    "\n",
    "print \"Total entries: \", len(page1_txt_list)\n",
    "print \"Number of skipped entries: \", count_errors"
   ]
  },
  {
   "cell_type": "code",
   "execution_count": 7,
   "metadata": {
    "collapsed": false
   },
   "outputs": [],
   "source": [
    "df_entries = pd.DataFrame(entry_dict).T\n",
    "df_entries.reset_index(inplace=True)\n",
    "df_entries.columns = ['name', 'age', 'description', 'death', 'obituary_url']\n",
    "del df_entries['obituary_url']"
   ]
  },
  {
   "cell_type": "markdown",
   "metadata": {},
   "source": [
    "#### Extract Nationality\n",
    "\n",
    "Extracting nationality text as well as possible by taking the first consecutive capitalized words in the description. 'Olympic' and similar capitalized words might throw this off."
   ]
  },
  {
   "cell_type": "code",
   "execution_count": 8,
   "metadata": {
    "collapsed": false
   },
   "outputs": [],
   "source": [
    "natl_pattern1 = re.compile('((?:[A-Z][a-z\\-]+ ?)+) ')\n",
    "\n",
    "def get_nationality_text(desc_text):\n",
    "    try:\n",
    "        # get rid of url links\n",
    "        return natl_pattern1.match(desc_text.strip('[')).groups()[0]\n",
    "    except AttributeError, e:\n",
    "        print desc_text"
   ]
  },
  {
   "cell_type": "code",
   "execution_count": 9,
   "metadata": {
    "collapsed": false
   },
   "outputs": [
    {
     "name": "stdout",
     "output_type": "stream",
     "text": [
      "Cuban–American musician and husband of [[Celia Cruz]].\n"
     ]
    }
   ],
   "source": [
    "df_entries['nationality_text'] = df_entries.description.apply(get_nationality_text)"
   ]
  },
  {
   "cell_type": "markdown",
   "metadata": {},
   "source": [
    "#### Article length: Fame Score\n",
    "\n",
    "Get Wikipedia URL for getting fame score i.e. size of article:"
   ]
  },
  {
   "cell_type": "code",
   "execution_count": 10,
   "metadata": {
    "collapsed": false
   },
   "outputs": [],
   "source": [
    "def get_wiki_url(name_text):\n",
    "    return name_text.strip('[').strip(']').split('|')[0]"
   ]
  },
  {
   "cell_type": "code",
   "execution_count": 11,
   "metadata": {
    "collapsed": false
   },
   "outputs": [],
   "source": [
    "df_entries['name'] = df_entries.name.map(get_wiki_url)"
   ]
  },
  {
   "cell_type": "markdown",
   "metadata": {},
   "source": [
    "Get page metadata:"
   ]
  },
  {
   "cell_type": "code",
   "execution_count": 12,
   "metadata": {
    "collapsed": true
   },
   "outputs": [],
   "source": [
    "base_url_prefix = 'https://en.wikipedia.org/w/api.php?action=query&format=json&titles=' \n",
    "base_url_suffix = '&prop=revisions&rvprop=size'"
   ]
  },
  {
   "cell_type": "code",
   "execution_count": 13,
   "metadata": {
    "collapsed": true
   },
   "outputs": [],
   "source": [
    "def get_page_size(wiki_name):\n",
    "    size_url = base_url_prefix + wiki_name.replace(' ','_') + base_url_suffix\n",
    "    size_page = requests.get(size_url)\n",
    "    return size_page.json()['query']['pages'].values()[0]['revisions'][0]['size']"
   ]
  },
  {
   "cell_type": "code",
   "execution_count": 14,
   "metadata": {
    "collapsed": false
   },
   "outputs": [
    {
     "name": "stdout",
     "output_type": "stream",
     "text": [
      "CPU times: user 6.56 s, sys: 340 ms, total: 6.9 s\n",
      "Wall time: 40.6 s\n"
     ]
    }
   ],
   "source": [
    "%%time\n",
    "df_entries['page_size'] = df_entries.name.map(get_page_size)"
   ]
  },
  {
   "cell_type": "markdown",
   "metadata": {},
   "source": [
    "Clean up wiki link text"
   ]
  },
  {
   "cell_type": "code",
   "execution_count": 15,
   "metadata": {
    "collapsed": true
   },
   "outputs": [],
   "source": [
    "def remove_wiki_url_delims(text):\n",
    "    return text.replace('[[','').replace(']]','')"
   ]
  },
  {
   "cell_type": "code",
   "execution_count": 16,
   "metadata": {
    "collapsed": false
   },
   "outputs": [],
   "source": [
    "df_entries['description'] = df_entries.description.map(remove_wiki_url_delims)\n",
    "df_entries['death'] = df_entries.death.map(remove_wiki_url_delims)"
   ]
  },
  {
   "cell_type": "code",
   "execution_count": 17,
   "metadata": {
    "collapsed": false
   },
   "outputs": [
    {
     "data": {
      "text/html": [
       "<div>\n",
       "<table border=\"1\" class=\"dataframe\">\n",
       "  <thead>\n",
       "    <tr style=\"text-align: right;\">\n",
       "      <th></th>\n",
       "      <th>name</th>\n",
       "      <th>age</th>\n",
       "      <th>description</th>\n",
       "      <th>death</th>\n",
       "      <th>nationality_text</th>\n",
       "      <th>page_size</th>\n",
       "    </tr>\n",
       "  </thead>\n",
       "  <tbody>\n",
       "    <tr>\n",
       "      <th>0</th>\n",
       "      <td>Adele Faccio</td>\n",
       "      <td>86</td>\n",
       "      <td>Italian civil right activist.</td>\n",
       "      <td></td>\n",
       "      <td>Italian</td>\n",
       "      <td>3028</td>\n",
       "    </tr>\n",
       "    <tr>\n",
       "      <th>1</th>\n",
       "      <td>Adelina Tattilo</td>\n",
       "      <td>78</td>\n",
       "      <td>Italian founder of ''Playmen'' magazine.</td>\n",
       "      <td></td>\n",
       "      <td>Italian</td>\n",
       "      <td>2600</td>\n",
       "    </tr>\n",
       "    <tr>\n",
       "      <th>2</th>\n",
       "      <td>Ahmad Abu Laban</td>\n",
       "      <td>60</td>\n",
       "      <td>Egyptian-born Danish Muslim leader, key figure...</td>\n",
       "      <td>cancer</td>\n",
       "      <td>Egyptian-born Danish Muslim</td>\n",
       "      <td>8303</td>\n",
       "    </tr>\n",
       "    <tr>\n",
       "      <th>3</th>\n",
       "      <td>Aida Mason</td>\n",
       "      <td>111</td>\n",
       "      <td>British oldest person.</td>\n",
       "      <td></td>\n",
       "      <td>British</td>\n",
       "      <td>2101</td>\n",
       "    </tr>\n",
       "    <tr>\n",
       "      <th>4</th>\n",
       "      <td>Alan MacDiarmid</td>\n",
       "      <td>79</td>\n",
       "      <td>New Zealand recipient of Nobel Prize in Chemis...</td>\n",
       "      <td>injuries from a fall</td>\n",
       "      <td>New Zealand</td>\n",
       "      <td>21321</td>\n",
       "    </tr>\n",
       "  </tbody>\n",
       "</table>\n",
       "</div>"
      ],
      "text/plain": [
       "              name  age                                        description  \\\n",
       "0     Adele Faccio   86                      Italian civil right activist.   \n",
       "1  Adelina Tattilo   78           Italian founder of ''Playmen'' magazine.   \n",
       "2  Ahmad Abu Laban   60  Egyptian-born Danish Muslim leader, key figure...   \n",
       "3       Aida Mason  111                             British oldest person.   \n",
       "4  Alan MacDiarmid   79  New Zealand recipient of Nobel Prize in Chemis...   \n",
       "\n",
       "                  death             nationality_text  page_size  \n",
       "0                                            Italian       3028  \n",
       "1                                            Italian       2600  \n",
       "2                cancer  Egyptian-born Danish Muslim       8303  \n",
       "3                                            British       2101  \n",
       "4  injuries from a fall                  New Zealand      21321  "
      ]
     },
     "execution_count": 17,
     "metadata": {},
     "output_type": "execute_result"
    }
   ],
   "source": [
    "df_entries.head()"
   ]
  },
  {
   "cell_type": "markdown",
   "metadata": {},
   "source": [
    "Sandbox for checking particular observations in February 2007:"
   ]
  },
  {
   "cell_type": "code",
   "execution_count": 18,
   "metadata": {
    "collapsed": false
   },
   "outputs": [
    {
     "data": {
      "text/plain": [
       "array([['Ian Richardson', '72',\n",
       "        \"British actor (''House of Cards (UK TV series)|House of Cards'', ''Tinker, Tailor, Soldier, Spy'') and member of the Royal Shakespeare Company|RSC\",\n",
       "        'in his sleep', 'British', 22671]], dtype=object)"
      ]
     },
     "execution_count": 18,
     "metadata": {},
     "output_type": "execute_result"
    }
   ],
   "source": [
    "#df_entries[df_entries.name == 'Lew Burdette']['description'][86]\n",
    "df_entries[df_entries.name == 'Lew Burdette']\n",
    "df_entries[df_entries.name == 'Fred Mustard Stewart'].values \n",
    "df_entries[df_entries.name == 'Aida Mason'].values\n",
    "df_entries[df_entries.name == 'Ian Richardson'].values"
   ]
  },
  {
   "cell_type": "code",
   "execution_count": 19,
   "metadata": {
    "collapsed": false
   },
   "outputs": [
    {
     "data": {
      "text/html": [
       "<div>\n",
       "<table border=\"1\" class=\"dataframe\">\n",
       "  <thead>\n",
       "    <tr style=\"text-align: right;\">\n",
       "      <th></th>\n",
       "      <th>name</th>\n",
       "      <th>age</th>\n",
       "      <th>description</th>\n",
       "      <th>death</th>\n",
       "      <th>nationality_text</th>\n",
       "      <th>page_size</th>\n",
       "    </tr>\n",
       "  </thead>\n",
       "  <tbody>\n",
       "    <tr>\n",
       "      <th>100</th>\n",
       "      <td>Ian Richardson</td>\n",
       "      <td>72</td>\n",
       "      <td>British actor (''House of Cards (UK TV series)...</td>\n",
       "      <td>in his sleep</td>\n",
       "      <td>British</td>\n",
       "      <td>22671</td>\n",
       "    </tr>\n",
       "    <tr>\n",
       "      <th>101</th>\n",
       "      <td>Ian Stevenson</td>\n",
       "      <td>88</td>\n",
       "      <td>Canadian psychiatrist and reincarnation resear...</td>\n",
       "      <td></td>\n",
       "      <td>Canadian</td>\n",
       "      <td>65916</td>\n",
       "    </tr>\n",
       "  </tbody>\n",
       "</table>\n",
       "</div>"
      ],
      "text/plain": [
       "               name age                                        description  \\\n",
       "100  Ian Richardson  72  British actor (''House of Cards (UK TV series)...   \n",
       "101   Ian Stevenson  88  Canadian psychiatrist and reincarnation resear...   \n",
       "\n",
       "            death nationality_text  page_size  \n",
       "100  in his sleep          British      22671  \n",
       "101                       Canadian      65916  "
      ]
     },
     "execution_count": 19,
     "metadata": {},
     "output_type": "execute_result"
    }
   ],
   "source": [
    "df_entries.loc[100:101]"
   ]
  },
  {
   "cell_type": "markdown",
   "metadata": {},
   "source": [
    "#### Birth and death data\n",
    "\n",
    "Getting birthday data. It's probably helpful to see [Stack Overflow thread](https://stackoverflow.com/questions/12250580/parse-birth-and-death-dates-from-wikipedia)"
   ]
  },
  {
   "cell_type": "code",
   "execution_count": 20,
   "metadata": {
    "collapsed": true
   },
   "outputs": [],
   "source": [
    "text_for_search = '         = Adele Faccio\\n| honorific-suffix    =\\n| image               =\\n| caption             =\\n| constituency_MP     =<!-- Can be repeated up to eight times by adding a number -->\\n| parliament          =<!-- Can be repeated up to eight times by adding a number -->\\n| majority            =<!-- Can be repeated up to eight times by adding a number -->\\n| term_start          =<!-- Can be repeated up to eight times by adding a number -->\\n| term_end            =<!-- Can be repeated up to eight times by adding a number -->\\n| predecessor         =<!-- Can be repeated up to eight times by adding a number -->\\n| successor           =<!-- Can be repeated up to eight times by adding a number -->\\n| birth_date          ={{birth date|1920|11|13|df=y}} \\n| birth_place         =Pontebba, Udine\\n| death_date          ={{death date and age|2007|02|08|1920|11|13}}\\n| death_place         =Rome\\n| nationality         ={{ITA}}\\n| party               = Radical Party (Partito Radicale)\\n| otherparty          = <!--For additional political affiliations -->\\n| spouse              =\\n| partner             = <!--For those with a domestic partner and not married -->\\n| relations           =\\n| children            =\\n| residence           =\\n| alma_mater          =\\n| occupation          =\\n| profession          =\\n| religion            =\\n| signature           =\\n| website             =\\n| footnotes           =\\n}}\\n\\n\\'\\'\\'Adele Faccio\\'\\'\\' (November 13, 1920 in [[Pontebba]], [[Udine]] \\xe2\\x80\\x93 February 8, 2007 in [[Rome]]) was an [[Italy|Italian]] [[politician]] and deputy of the [[Radical Party (Italy)|Radical Party]] (\\'\\'Partito Radicale\\'\\').<ref>{{It icon}} \"[http://www.corriere.it/Primo_Piano/Cronache/2007/02_Febbraio/09/adelefaccio.shtml Morta la radicale Adele Faccio].\" (February 9, 2007). \\'\\'Corriere della Sera.\\'\\' Retrieved June 21, 2007.</ref>'"
   ]
  },
  {
   "cell_type": "code",
   "execution_count": 21,
   "metadata": {
    "collapsed": false
   },
   "outputs": [],
   "source": [
    "base_bday_prefix = 'https://en.wikipedia.org/w/api.php?action=query&format=json&titles='\n",
    "base_bday_suffix = '&prop=revisions&rvprop=content&rvsection=0'\n",
    "\n",
    "def check_if_number(elem):\n",
    "    try:\n",
    "        return type(int(elem)) == int\n",
    "    except ValueError:\n",
    "        return False\n",
    "\n",
    "    \n",
    "def get_only_ints(date_list):\n",
    "    return [e for e in date_list if check_if_number(e) > 0]\n",
    "\n",
    "\n",
    "no_birth_death_urls = []\n",
    "\n",
    "def get_life_death(name, extract_bday=True):\n",
    "    try:        \n",
    "        entry_url = base_bday_prefix + name.replace(' ','_') + base_bday_suffix\n",
    "        entry_text = str((requests.get(entry_url).json()['query']['pages'].values()[0]['revisions'][0]['*'].encode('utf-8')))\n",
    "        \n",
    "        if extract_bday:\n",
    "            pattern = re.compile('.*?\\{{2}(?:B|b)irth (?:D|d)ate(.+?)\\}{2}', \n",
    "                                 re.MULTILINE|re.DOTALL)\n",
    "        else:\n",
    "            pattern = re.compile('.*?\\{{2}(?:D|d)eath (?:D|d)ate(.+?)\\}{2}', \n",
    "                                 re.MULTILINE|re.DOTALL)\n",
    "\n",
    "        date_re = re.match(pattern, entry_text)\n",
    "        date_data = \"-\".join(get_only_ints(date_re.groups()[0].strip(\" \").split('|'))[:3])\n",
    "        \n",
    "        #print date_data\n",
    "        return date_data\n",
    "    \n",
    "    except AttributeError, e:\n",
    "        no_birth_death_urls.append(entry_url)"
   ]
  },
  {
   "cell_type": "markdown",
   "metadata": {},
   "source": [
    "Birthday"
   ]
  },
  {
   "cell_type": "code",
   "execution_count": 22,
   "metadata": {
    "collapsed": false,
    "scrolled": true
   },
   "outputs": [
    {
     "name": "stdout",
     "output_type": "stream",
     "text": [
      "1920-11-13\n",
      "1912-11-07\n",
      "1931-3-30\n",
      "1968-08-07\n",
      "1955-9-25\n",
      "1967-11-28\n",
      "1937-06-13\n",
      "1919-12-1\n",
      "1932-7-31\n",
      "1934-3-4\n",
      "1963-1-17\n",
      "1919-8-15\n",
      "1922-12-17\n",
      "1945-1-25\n",
      "1914-2-6\n",
      "1915-4-9\n",
      "1946-3-29\n",
      "1916-10-14\n",
      "1924-4-23\n",
      "1914-4-7\n",
      "1906-5-19\n",
      "1914-8-30\n",
      "1937-4-20\n",
      "1921-6-25\n",
      "1908-11-26\n",
      "1922-12-09\n",
      "1941-7-27\n",
      "1982-4-14\n",
      "1960-7-30\n",
      "1931-11-13\n",
      "1954-9-18\n",
      "1927-4-26\n",
      "1936-2-6\n",
      "1914-08-31\n",
      "1988-12-23\n",
      "1923-7-4\n",
      "1926-5-15\n",
      "1930-04-09\n",
      "1920-09-05\n",
      "1922-11-9\n",
      "1913-3-30\n",
      "1932-09-17\n",
      "1928-01-26\n",
      "1925-12-26\n",
      "1928-10-20\n",
      "1933-6-25\n",
      "1930-9-9\n",
      "1922-7-31\n",
      "1927-6-2\n",
      "1934-4-7\n",
      "1918-10-31\n",
      "1946-9-29\n",
      "1959-09-26\n",
      "1927-02-11\n",
      "1921-4-23\n",
      "1932-8-31\n",
      "1927-10-8\n",
      "1915-9-7\n",
      "1921-12-6\n",
      "1974-12-30\n",
      "1926-12-25\n",
      "1934-9-7\n",
      "1932-1-15\n",
      "1922-3-27\n",
      "1945-08-12\n",
      "1913-11-12\n",
      "1935-4-17\n",
      "1928-3-2\n",
      "1915-11-19\n",
      "1930-08-15\n",
      "1932-03-11\n",
      "1926-11-22\n",
      " 1938 - 9 - 3\n",
      "1918-02-06\n",
      "1952-11-2\n",
      "1940-6-30\n",
      "1919-09-29\n",
      "1910-09-03\n",
      "1919-6-25\n",
      "1965-1-24\n",
      "1925-2-20\n",
      "1924-4-21\n",
      "1921-9-30\n",
      "1905-01-17\n",
      "1958-08-26\n",
      "1907-8-31\n",
      "1915-2-4\n",
      "1943-07-31\n",
      "1930-12-23\n",
      "1941-12-05\n",
      "1935-2-10\n",
      "1938-2-22\n",
      "1915-06-15\n",
      "1930-10-09\n",
      "1944-12-27\n",
      "1975-6-21\n",
      "1925-2-6\n",
      "1917-4-18\n",
      "1920-7-4\n",
      "1921-6-17\n",
      "75-2007-02\n",
      "CPU times: user 6.66 s, sys: 391 ms, total: 7.05 s\n",
      "Wall time: 43.5 s\n"
     ]
    }
   ],
   "source": [
    "%%time\n",
    "df_entries['birthday'] = df_entries.name.map(get_life_death)"
   ]
  },
  {
   "cell_type": "markdown",
   "metadata": {},
   "source": [
    "Deathday"
   ]
  },
  {
   "cell_type": "code",
   "execution_count": 23,
   "metadata": {
    "collapsed": false,
    "scrolled": true
   },
   "outputs": [
    {
     "name": "stdout",
     "output_type": "stream",
     "text": [
      "2007-02-08\n",
      "2007-02-24\n",
      "2007-2-20\n",
      "2007-02-09\n",
      "2007-2-26\n",
      "2007-2-8\n",
      "2007-02-19\n",
      "2007-2-5\n",
      "2007-2-18\n",
      "2007-2-4\n",
      "2007-2-21\n",
      "2007-2-9\n",
      "2007-2-6\n",
      "2007-2-27\n",
      "2007-02-10\n",
      "2007-2-28\n",
      "2007-2-18\n",
      "2007-2-27\n",
      "2007-2-27\n",
      "2007-2-24\n",
      "2007-2-15\n",
      "2007-2-10\n",
      "2007-2-19\n",
      "2007-2-28\n",
      "2007-2-11\n",
      "2007-02-13\n",
      "2007-2-24\n",
      "2007-2-15\n",
      "2007-2-26\n",
      "2007-2-22\n",
      "2007-2-20\n",
      "2007-2-23\n",
      "2007-02-20\n",
      "2007-02-13\n",
      "2007-2-13\n",
      "2007-2-12\n",
      "2007-02-20\n",
      "2007-02-22\n",
      "2007-2-9\n",
      "2007-2-6\n",
      "2007-02-7\n",
      "2007-2-14\n",
      "2007-02-16\n",
      "2007-2-12\n",
      "2007-02-03\n",
      "2007-2-22\n",
      "2007-2-24\n",
      "2007-2-1\n",
      "2007-2-2\n",
      "2007-2-6\n",
      "2007-2-9\n",
      "2007-2-8\n",
      "2007-02-06\n",
      "2007-2-9\n",
      "2007-02-08\n",
      "2007-02-04\n",
      "2007-02-27\n",
      "2007-2-19\n",
      "2007-2-21\n",
      "2007-02-11\n",
      "2007-2-23\n",
      "2007-2-8\n",
      "2007-2-13\n",
      "2007-2-20\n",
      "2007-2-21\n",
      "2007-2-6\n",
      "2007-2-18\n",
      "2007-2-11\n",
      "2007-2-4\n",
      "2007-02-07\n",
      "2007-2-20\n",
      "2007-2-24\n",
      "2007-2-18\n",
      "2007-2-6\n",
      "2007-02-26\n",
      "2007-02-05\n",
      "2007-02-24\n",
      "2007-2-6\n",
      " 2007 - 02 - 5 \n",
      "2007-02-22\n",
      "2007-2-17\n",
      "2007-2-25\n",
      "2007-02-02\n",
      "2007-02-17\n",
      "2007-2-27\n",
      "2007-2-17\n",
      "2007-2-16\n",
      "2007-2-25\n",
      "2007-02-24\n",
      "2007-2-3\n",
      "2007-02-12\n",
      "2007-02-12\n",
      "2007-2-1\n",
      "2007-2-15\n",
      "2007-2-15\n",
      "2007-02-14\n",
      "2007-2-8\n",
      "2007-02-16\n",
      "2007-2-21\n",
      "2007-2-4\n",
      "2007-02-14\n",
      "2007-2-12\n",
      "2007-02-02\n",
      "2007-2-12\n",
      "2007-2-15\n",
      "2007-2-12\n",
      "2007-2-27\n",
      "2007-2-25\n",
      "2007-02-11\n",
      "CPU times: user 6.71 s, sys: 330 ms, total: 7.04 s\n",
      "Wall time: 43.5 s\n"
     ]
    }
   ],
   "source": [
    "%%time\n",
    "df_entries['deathday'] = df_entries.name.map(lambda text: get_life_death(text, extract_bday=False))"
   ]
  },
  {
   "cell_type": "markdown",
   "metadata": {},
   "source": [
    "### Write out file"
   ]
  },
  {
   "cell_type": "code",
   "execution_count": 27,
   "metadata": {
    "collapsed": false
   },
   "outputs": [],
   "source": [
    "df_entries['name'] = df_entries.name.apply(lambda x: unicode(x, errors='ignore'))"
   ]
  },
  {
   "cell_type": "code",
   "execution_count": 28,
   "metadata": {
    "collapsed": true
   },
   "outputs": [],
   "source": [
    "df_entries.to_csv('../out/celeb_deaths_wikipedia_' +\n",
    "                  month_select + '_' + str(year_select) + '.csv', \n",
    "                  index=False)"
   ]
  },
  {
   "cell_type": "markdown",
   "metadata": {},
   "source": [
    "It would be useful to plot missing data by page_size i.e. fame or \"importance.\""
   ]
  },
  {
   "cell_type": "code",
   "execution_count": null,
   "metadata": {
    "collapsed": true
   },
   "outputs": [],
   "source": []
  }
 ],
 "metadata": {
  "kernelspec": {
   "display_name": "Python 2",
   "language": "python",
   "name": "python2"
  },
  "language_info": {
   "codemirror_mode": {
    "name": "ipython",
    "version": 2
   },
   "file_extension": ".py",
   "mimetype": "text/x-python",
   "name": "python",
   "nbconvert_exporter": "python",
   "pygments_lexer": "ipython2",
   "version": "2.7.10"
  }
 },
 "nbformat": 4,
 "nbformat_minor": 0
}
