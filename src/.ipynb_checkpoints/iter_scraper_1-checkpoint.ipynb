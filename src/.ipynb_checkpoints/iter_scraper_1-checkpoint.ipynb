{
 "cells": [
  {
   "cell_type": "markdown",
   "metadata": {},
   "source": [
    "# Scraping Wikipedia Celebrity Deaths\n",
    "\n",
    "Creating a notebook to produce the dataset found at the [Kaggle Celebrity Deaths Page](https://www.kaggle.com/hugodarwood/celebrity-deaths).\n",
    "\n",
    "Attempting to replace the current dataset since it isn't complete (up-to-date) since there's no notebook to run to get up-to-date information and it has bad parses for some of the fields.\n",
    "\n",
    "This notebook isn't perfect either but does a better job."
   ]
  },
  {
   "cell_type": "code",
   "execution_count": null,
   "metadata": {
    "collapsed": true
   },
   "outputs": [],
   "source": [
    "%matplotlib inline"
   ]
  },
  {
   "cell_type": "code",
   "execution_count": 2,
   "metadata": {
    "collapsed": true
   },
   "outputs": [],
   "source": [
    "import numpy as np\n",
    "import pandas as pd\n",
    "import re\n",
    "import requests\n",
    "import json\n",
    "\n",
    "from os import listdir\n",
    "from os.path import isfile, join\n",
    "\n",
    "from bs4 import BeautifulSoup as bs"
   ]
  },
  {
   "cell_type": "code",
   "execution_count": 3,
   "metadata": {
    "collapsed": false
   },
   "outputs": [],
   "source": [
    "month_to_num = {\n",
    "    'January': 1,\n",
    "    'February': 2,\n",
    "    'March': 3,\n",
    "    'April': 4,\n",
    "    'May': 5,\n",
    "    'June': 6,\n",
    "    'July': 7,\n",
    "    'August': 8,\n",
    "    'September': 9,\n",
    "    'October': 10,\n",
    "    'November': 11,\n",
    "    'December': 12\n",
    "}"
   ]
  },
  {
   "cell_type": "markdown",
   "metadata": {},
   "source": [
    "Iterators:"
   ]
  },
  {
   "cell_type": "code",
   "execution_count": 4,
   "metadata": {
    "collapsed": false
   },
   "outputs": [
    {
     "data": {
      "text/plain": [
       "list"
      ]
     },
     "execution_count": 4,
     "metadata": {},
     "output_type": "execute_result"
    }
   ],
   "source": [
    "year_list = range(2004,2017)\n",
    "type(year_list)"
   ]
  },
  {
   "cell_type": "markdown",
   "metadata": {},
   "source": [
    "### [DON'T RUN AGAIN] Scrape all monthly death pages"
   ]
  },
  {
   "cell_type": "markdown",
   "metadata": {},
   "source": [
    "Scrape all death pages and store into the '../out/raw_pages' directory"
   ]
  },
  {
   "cell_type": "code",
   "execution_count": 228,
   "metadata": {
    "collapsed": false
   },
   "outputs": [
    {
     "data": {
      "text/plain": [
       "''"
      ]
     },
     "execution_count": 228,
     "metadata": {},
     "output_type": "execute_result"
    }
   ],
   "source": [
    "\"\"\"\n",
    "for year in year_list:\n",
    "    for month in month_to_num.keys():\n",
    "        filename = str(year) + '_' + str(month_to_num[month]) + '_deaths.json'\n",
    "        url = ('https://en.wikipedia.org/w/api.php?action=query&titles=Deaths_in_' +  \n",
    "               month + '_' + str(year) + \n",
    "               '&prop=revisions&rvprop=content&format=json')\n",
    "        content = requests.get(url).json()\n",
    "        with open(\"../out/raw_pages/\" + filename, \"wb\") as outfile:\n",
    "            json.dump(content, outfile)         \n",
    "\"\"\"\n",
    "''"
   ]
  },
  {
   "cell_type": "markdown",
   "metadata": {},
   "source": [
    "### Helper functions"
   ]
  },
  {
   "cell_type": "code",
   "execution_count": null,
   "metadata": {
    "collapsed": true
   },
   "outputs": [],
   "source": [
    "desc_death_re = re.compile('(.*?),? ?((?:.+)*?). (?:.*?)?', re.DOTALL|re.MULTILINE)\n",
    "death_clean_no_url_re = re.compile('\\s?(.[^<]+)\\.? ?(?=<|\\[?http)(?:.*)?$')\n",
    "# death_clean_no_url_re = re.compile('\\s?\\w(.[^<])+[.]?(?:<|\\[?http)(?:.*)?$')\n",
    "\n",
    "\"\"\"\n",
    "Input: single text string to be processed\n",
    "\n",
    "Output: list of strings of length two\n",
    "  - first string is description of person\n",
    "  - second string is cause of death \n",
    "  (last clause of input when more than one comma in field)\n",
    "  \n",
    "\"\"\"\n",
    "def get_description_and_death(text):\n",
    "    text_no_url = text\n",
    "    if ('http' in text_no_url) or ('<ref' in text_no_url):\n",
    "        try:\n",
    "            text_no_url = death_clean_no_url_re.match(text).groups()[0]\n",
    "        except AttributeError:\n",
    "            print text\n",
    "            raw_input(\"Press enter to continue\")\n",
    "            raw_input(\"Press enter to continue\")\n",
    "    text_parts = text_no_url.replace('=','').split(',')\n",
    "    num_parts = len(text_parts)\n",
    "    if num_parts == 0:\n",
    "        return ['', '']\n",
    "    elif num_parts == 1:\n",
    "        return text_parts + ['']\n",
    "    elif num_parts == 2:\n",
    "        return [\",\".join(text_parts)] + [text_parts[1]]\n",
    "    else:\n",
    "        return ([\",\".join(text_parts[:-1])] + [text_parts[-1]])\n",
    "                #[death_clean_no_url_re.match(text_parts[-1]).groups()[0]])"
   ]
  },
  {
   "cell_type": "code",
   "execution_count": null,
   "metadata": {
    "collapsed": false
   },
   "outputs": [],
   "source": [
    "\"\"\"\n",
    "Runs get_description_and_death on the last element of a list\n",
    "\"\"\"\n",
    "def add_description_and_death(entry_list):\n",
    "    return entry_list[:-1] + get_description_and_death(entry_list[-1])"
   ]
  },
  {
   "cell_type": "markdown",
   "metadata": {},
   "source": [
    "Testing functions:"
   ]
  },
  {
   "cell_type": "code",
   "execution_count": null,
   "metadata": {
    "collapsed": false
   },
   "outputs": [],
   "source": [
    "get_description_and_death('English singer-songwriter (\"[[Won\\'t Somebody Dance with Me]]\"), brain haemorrhage.<ref>[http://www.bbc.co.uk/news/entertainment-arts-29457228 Singer Lynsey De Paul dies aged 64]</ref>')"
   ]
  },
  {
   "cell_type": "code",
   "execution_count": null,
   "metadata": {
    "collapsed": true
   },
   "outputs": [],
   "source": [
    "\"\"\"\n",
    "This is for input as a list cleaning a particular list entry. \n",
    "See below for the pandas dataframe version\n",
    "\n",
    "Inputs: list, index number, character pattern to be replaced\n",
    "\n",
    "Outputs: list with entry in index number cleaned of the character pattern to be replaced\n",
    "\"\"\"\n",
    "def clean_text(text_list, idx_num, chars):\n",
    "    text_list_out = text_list\n",
    "    text_list_out[idx_num] = text_list[idx_num].replace(chars, '')\n",
    "    return text_list_out"
   ]
  },
  {
   "cell_type": "code",
   "execution_count": null,
   "metadata": {
    "collapsed": true
   },
   "outputs": [],
   "source": [
    "mo_yr_key_re = re.compile('(\\d+)_(\\d+).*?')\n",
    "name_age_re = re.compile('\\[\\[(.*?)\\]\\], (\\d+), (.+)?$', re.MULTILINE)\n",
    "\n",
    "\"\"\"\n",
    "Inputs: month-year key string, text entry string\n",
    "\n",
    "Outputs: list of month, year, name, and age\n",
    "\"\"\"\n",
    "def parse_month_year_name_age(my_key, text_entry):\n",
    "    return (list(re.match(mo_yr_key_re, my_key).groups()) +\n",
    "            list(re.match(name_age_re, text_entry.replace('\\n', '')).groups()))"
   ]
  },
  {
   "cell_type": "code",
   "execution_count": null,
   "metadata": {
    "collapsed": false
   },
   "outputs": [],
   "source": [
    "\"\"\"\n",
    "Find links and convert them to the displayed text\n",
    "\"\"\"\n",
    "link_re = re.compile('\\[\\[([^\\|(?:\\]\\])]*)(?=\\||\\]\\])', re.DOTALL)\n",
    "\n",
    "# need to check if contains link\n",
    "def extract_link_text(link_block):\n",
    "    link_present = link_re.search(link_block)\n",
    "    if link_present:\n",
    "        return link_present.groups()\n",
    "    return link_block"
   ]
  },
  {
   "cell_type": "code",
   "execution_count": null,
   "metadata": {
    "collapsed": false
   },
   "outputs": [],
   "source": [
    "extract_link_text('asdf asdf [[1asdf|2]]')"
   ]
  },
  {
   "cell_type": "code",
   "execution_count": null,
   "metadata": {
    "collapsed": false
   },
   "outputs": [],
   "source": [
    "link_all_re = re.compile('(\\[\\[([^(\\]\\])]*)(\\]\\]))')\n",
    "\n",
    "\"\"\"\n",
    "Used to be messy, not anymore!\n",
    "\"\"\"\n",
    "def link_only(matchobj):\n",
    "    cleaned_text = extract_link_text(matchobj.groups()[0])[0]\n",
    "    return cleaned_text\n",
    "\n",
    "def remove_link_text(text_block):\n",
    "    return re.sub(link_all_re, link_only, text_block)"
   ]
  },
  {
   "cell_type": "code",
   "execution_count": 763,
   "metadata": {
    "collapsed": false,
    "scrolled": true
   },
   "outputs": [
    {
     "data": {
      "text/plain": [
       "'asdf asdf ab cd'"
      ]
     },
     "execution_count": 763,
     "metadata": {},
     "output_type": "execute_result"
    }
   ],
   "source": [
    "remove_link_text('asdf asdf [[ab]] [[cd|efg]]')"
   ]
  },
  {
   "cell_type": "code",
   "execution_count": 809,
   "metadata": {
    "collapsed": false
   },
   "outputs": [],
   "source": [
    "def remove_end_period(text):\n",
    "    return re.sub('\\. ?$','',text)"
   ]
  },
  {
   "cell_type": "code",
   "execution_count": 810,
   "metadata": {
    "collapsed": true
   },
   "outputs": [],
   "source": [
    "\"\"\"\n",
    "for a single entry in the dataframe\n",
    "\"\"\"\n",
    "def text_clean(text):\n",
    "    return remove_end_period(remove_link_text(text)).replace(\"'\",\"\").replace('[','').replace(']','')"
   ]
  },
  {
   "cell_type": "markdown",
   "metadata": {},
   "source": [
    "### Re-read and process scraped file data locally"
   ]
  },
  {
   "cell_type": "code",
   "execution_count": 811,
   "metadata": {
    "collapsed": false
   },
   "outputs": [],
   "source": [
    "jsonfiles = [f for f in listdir('../out/raw_pages/') if (isfile(join('../out/raw_pages/', f)) and f[-4:] == 'json')]"
   ]
  },
  {
   "cell_type": "code",
   "execution_count": 812,
   "metadata": {
    "collapsed": false
   },
   "outputs": [],
   "source": [
    "month_year_pages = {}\n",
    "\n",
    "for jfilename in jsonfiles:\n",
    "    my_key = \"_\".join(re.match(mo_yr_key_re, jfilename).groups())\n",
    "    with open('../out/raw_pages/' + jfilename, 'rb') as infile:\n",
    "        contents = infile.read()\n",
    "        infile.close()\n",
    "    month_year_pages[my_key] = json.loads(contents)['query']['pages'].values()[0]['revisions'][0]['*']"
   ]
  },
  {
   "cell_type": "code",
   "execution_count": 813,
   "metadata": {
    "collapsed": false
   },
   "outputs": [
    {
     "data": {
      "text/plain": [
       "57927"
      ]
     },
     "execution_count": 813,
     "metadata": {},
     "output_type": "execute_result"
    }
   ],
   "source": [
    "counter = 0\n",
    "for value in month_year_pages.values():\n",
    "    new_entries = len(value.encode('utf-8').rstrip().split('*'))\n",
    "    counter += new_entries\n",
    "counter"
   ]
  },
  {
   "cell_type": "markdown",
   "metadata": {},
   "source": [
    "Should combine cell below with cell above (later)."
   ]
  },
  {
   "cell_type": "code",
   "execution_count": 814,
   "metadata": {
    "collapsed": false,
    "scrolled": true
   },
   "outputs": [],
   "source": [
    "for my_key in month_year_pages.keys():\n",
    "    month_year_pages[my_key] = [\n",
    "        add_description_and_death(\n",
    "            parse_month_year_name_age(my_key, entry)\n",
    "        )\n",
    "        for entry in month_year_pages[my_key].encode('utf-8').rstrip().split('*')\n",
    "        if re.match(name_age_re, entry.replace('\\n', ''))]"
   ]
  },
  {
   "cell_type": "markdown",
   "metadata": {
    "collapsed": true
   },
   "source": [
    "Make dataframe:"
   ]
  },
  {
   "cell_type": "code",
   "execution_count": 815,
   "metadata": {
    "collapsed": false
   },
   "outputs": [
    {
     "name": "stdout",
     "output_type": "stream",
     "text": [
      "(0, 6)\n"
     ]
    },
    {
     "data": {
      "text/html": [
       "<div>\n",
       "<table border=\"1\" class=\"dataframe\">\n",
       "  <thead>\n",
       "    <tr style=\"text-align: right;\">\n",
       "      <th></th>\n",
       "      <th>year</th>\n",
       "      <th>month</th>\n",
       "      <th>name</th>\n",
       "      <th>age</th>\n",
       "      <th>desc</th>\n",
       "      <th>cause_of_death</th>\n",
       "    </tr>\n",
       "  </thead>\n",
       "  <tbody>\n",
       "  </tbody>\n",
       "</table>\n",
       "</div>"
      ],
      "text/plain": [
       "Empty DataFrame\n",
       "Columns: [year, month, name, age, desc, cause_of_death]\n",
       "Index: []"
      ]
     },
     "execution_count": 815,
     "metadata": {},
     "output_type": "execute_result"
    }
   ],
   "source": [
    "df_full = pd.DataFrame(columns=['year','month','name','age','desc','cause_of_death'])\n",
    "print df_full.shape\n",
    "df_full.head()"
   ]
  },
  {
   "cell_type": "code",
   "execution_count": 816,
   "metadata": {
    "collapsed": false
   },
   "outputs": [],
   "source": [
    "for entry in month_year_pages.values():\n",
    "    df_sub = pd.DataFrame(entry, columns=['year','month','name','age','desc','cause_of_death'])\n",
    "    df_full = pd.concat([df_full, df_sub], axis=0)"
   ]
  },
  {
   "cell_type": "code",
   "execution_count": 840,
   "metadata": {
    "collapsed": false
   },
   "outputs": [
    {
     "name": "stdout",
     "output_type": "stream",
     "text": [
      "(49051, 7)\n"
     ]
    },
    {
     "data": {
      "text/html": [
       "<div>\n",
       "<table border=\"1\" class=\"dataframe\">\n",
       "  <thead>\n",
       "    <tr style=\"text-align: right;\">\n",
       "      <th></th>\n",
       "      <th>year</th>\n",
       "      <th>month</th>\n",
       "      <th>name</th>\n",
       "      <th>age</th>\n",
       "      <th>desc</th>\n",
       "      <th>cause_of_death</th>\n",
       "      <th>nationality</th>\n",
       "    </tr>\n",
       "  </thead>\n",
       "  <tbody>\n",
       "    <tr>\n",
       "      <th>0</th>\n",
       "      <td>2014</td>\n",
       "      <td>10</td>\n",
       "      <td>Lynsey de Paul</td>\n",
       "      <td>64</td>\n",
       "      <td>English singer-songwriter (\"Wont Somebody Danc...</td>\n",
       "      <td>brain haemorrhage</td>\n",
       "      <td>English</td>\n",
       "    </tr>\n",
       "    <tr>\n",
       "      <th>1</th>\n",
       "      <td>2014</td>\n",
       "      <td>10</td>\n",
       "      <td>Maurice Hodgson|Sir Maurice Hodgson</td>\n",
       "      <td>94</td>\n",
       "      <td>British business executive</td>\n",
       "      <td></td>\n",
       "      <td>British</td>\n",
       "    </tr>\n",
       "    <tr>\n",
       "      <th>2</th>\n",
       "      <td>2014</td>\n",
       "      <td>10</td>\n",
       "      <td>Shlomo Lahat</td>\n",
       "      <td>86</td>\n",
       "      <td>Israeli general and politician, Mayor of Tel A...</td>\n",
       "      <td>lung infection</td>\n",
       "      <td>Israeli</td>\n",
       "    </tr>\n",
       "    <tr>\n",
       "      <th>3</th>\n",
       "      <td>2014</td>\n",
       "      <td>10</td>\n",
       "      <td>José Martínez (infielder)|José Martínez</td>\n",
       "      <td>72</td>\n",
       "      <td>Cuban baseball player (Pittsburgh Pirates), co...</td>\n",
       "      <td>Chicago Cubs) and executive (Atlanta Braves)</td>\n",
       "      <td>Cuban</td>\n",
       "    </tr>\n",
       "    <tr>\n",
       "      <th>4</th>\n",
       "      <td>2014</td>\n",
       "      <td>10</td>\n",
       "      <td>Oluremi Oyo</td>\n",
       "      <td>61</td>\n",
       "      <td>Nigerian journalist, cancer</td>\n",
       "      <td>cancer</td>\n",
       "      <td>Nigerian</td>\n",
       "    </tr>\n",
       "    <tr>\n",
       "      <th>5</th>\n",
       "      <td>2014</td>\n",
       "      <td>10</td>\n",
       "      <td>Charlie Paulk</td>\n",
       "      <td>68</td>\n",
       "      <td>American basketball player</td>\n",
       "      <td></td>\n",
       "      <td>American</td>\n",
       "    </tr>\n",
       "    <tr>\n",
       "      <th>6</th>\n",
       "      <td>2014</td>\n",
       "      <td>10</td>\n",
       "      <td>Matilde Pérez</td>\n",
       "      <td>97</td>\n",
       "      <td>Chilean painter and kinetic artist</td>\n",
       "      <td></td>\n",
       "      <td>Chilean</td>\n",
       "    </tr>\n",
       "    <tr>\n",
       "      <th>7</th>\n",
       "      <td>2014</td>\n",
       "      <td>10</td>\n",
       "      <td>Jerome Reppa</td>\n",
       "      <td>89</td>\n",
       "      <td>American politician, member of the Indiana Hou...</td>\n",
       "      <td>member of the Indiana House of Representative...</td>\n",
       "      <td>American</td>\n",
       "    </tr>\n",
       "    <tr>\n",
       "      <th>8</th>\n",
       "      <td>2014</td>\n",
       "      <td>10</td>\n",
       "      <td>George Savage (politician)|George Savage</td>\n",
       "      <td>72</td>\n",
       "      <td>British politician, Member of the Legislative ...</td>\n",
       "      <td>2007–2011)</td>\n",
       "      <td>British</td>\n",
       "    </tr>\n",
       "    <tr>\n",
       "      <th>9</th>\n",
       "      <td>2014</td>\n",
       "      <td>10</td>\n",
       "      <td>Robert Serra</td>\n",
       "      <td>27</td>\n",
       "      <td>Venezuelan politician, National Assembly (Vene...</td>\n",
       "      <td>stabbed</td>\n",
       "      <td>Venezuelan</td>\n",
       "    </tr>\n",
       "    <tr>\n",
       "      <th>10</th>\n",
       "      <td>2014</td>\n",
       "      <td>10</td>\n",
       "      <td>Guido van Gheluwe</td>\n",
       "      <td>88</td>\n",
       "      <td>Belgian lawyer, founded Orde van den Prince</td>\n",
       "      <td>founded Orde van den Prince</td>\n",
       "      <td>Belgian</td>\n",
       "    </tr>\n",
       "    <tr>\n",
       "      <th>11</th>\n",
       "      <td>2014</td>\n",
       "      <td>10</td>\n",
       "      <td>Bob Young (cricketer)|Bob Young</td>\n",
       "      <td>81</td>\n",
       "      <td>Scottish cricketer</td>\n",
       "      <td></td>\n",
       "      <td>Scottish</td>\n",
       "    </tr>\n",
       "    <tr>\n",
       "      <th>12</th>\n",
       "      <td>2014</td>\n",
       "      <td>10</td>\n",
       "      <td>Fyodor Bogdanovsky</td>\n",
       "      <td>84</td>\n",
       "      <td>Russian weightlifter, Olympic champion (1956 S...</td>\n",
       "      <td>Olympic champion (1956 Summer Olympics)</td>\n",
       "      <td>Russian</td>\n",
       "    </tr>\n",
       "    <tr>\n",
       "      <th>13</th>\n",
       "      <td>2014</td>\n",
       "      <td>10</td>\n",
       "      <td>André Buffière</td>\n",
       "      <td>91</td>\n",
       "      <td>French Olympic basketball player (Basketball a...</td>\n",
       "      <td>Basketball at the 1952 Summer Olympics)</td>\n",
       "      <td>French Olympic</td>\n",
       "    </tr>\n",
       "    <tr>\n",
       "      <th>14</th>\n",
       "      <td>2014</td>\n",
       "      <td>10</td>\n",
       "      <td>Robert Flower</td>\n",
       "      <td>59</td>\n",
       "      <td>Australian Australian Football Hall of Fame Au...</td>\n",
       "      <td></td>\n",
       "      <td>Australian Australian Football Hall</td>\n",
       "    </tr>\n",
       "    <tr>\n",
       "      <th>15</th>\n",
       "      <td>2014</td>\n",
       "      <td>10</td>\n",
       "      <td>Michael Goldberg (screenwriter)|Michael Goldberg</td>\n",
       "      <td>55</td>\n",
       "      <td>American screenwriter (Cool Runnings, Snow Dog...</td>\n",
       "      <td>brain and sinus cancer</td>\n",
       "      <td>American</td>\n",
       "    </tr>\n",
       "    <tr>\n",
       "      <th>16</th>\n",
       "      <td>2014</td>\n",
       "      <td>10</td>\n",
       "      <td>Joanne M. Holden</td>\n",
       "      <td>68</td>\n",
       "      <td>American nutritionist, cancer</td>\n",
       "      <td>cancer</td>\n",
       "      <td>American</td>\n",
       "    </tr>\n",
       "    <tr>\n",
       "      <th>17</th>\n",
       "      <td>2014</td>\n",
       "      <td>10</td>\n",
       "      <td>Vaughn O. Lang</td>\n",
       "      <td>86</td>\n",
       "      <td>American Army lieutenant general</td>\n",
       "      <td></td>\n",
       "      <td>American Army</td>\n",
       "    </tr>\n",
       "    <tr>\n",
       "      <th>18</th>\n",
       "      <td>2014</td>\n",
       "      <td>10</td>\n",
       "      <td>György Lázár</td>\n",
       "      <td>90</td>\n",
       "      <td>Hungarian politician, Prime Minister of Hungar...</td>\n",
       "      <td>Prime Minister of Hungary (1975–1987)</td>\n",
       "      <td>Hungarian</td>\n",
       "    </tr>\n",
       "    <tr>\n",
       "      <th>19</th>\n",
       "      <td>2014</td>\n",
       "      <td>10</td>\n",
       "      <td>Carlos Lopez (stuntman)|Carlos Lopez</td>\n",
       "      <td>26</td>\n",
       "      <td>American stunt performer (, Teenage Mutant Nin...</td>\n",
       "      <td>fall</td>\n",
       "      <td>American</td>\n",
       "    </tr>\n",
       "    <tr>\n",
       "      <th>20</th>\n",
       "      <td>2014</td>\n",
       "      <td>10</td>\n",
       "      <td>N. Mahalingam</td>\n",
       "      <td>91</td>\n",
       "      <td>Indian businessman</td>\n",
       "      <td></td>\n",
       "      <td>Indian</td>\n",
       "    </tr>\n",
       "    <tr>\n",
       "      <th>21</th>\n",
       "      <td>2014</td>\n",
       "      <td>10</td>\n",
       "      <td>Pedro Peña (actor)|Pedro Peña</td>\n",
       "      <td>88</td>\n",
       "      <td>Spanish actor (Médico de familia), Alzheimers ...</td>\n",
       "      <td>Alzheimers disease</td>\n",
       "      <td>Spanish</td>\n",
       "    </tr>\n",
       "    <tr>\n",
       "      <th>22</th>\n",
       "      <td>2014</td>\n",
       "      <td>10</td>\n",
       "      <td>Carolyn Rovee-Collier</td>\n",
       "      <td>72</td>\n",
       "      <td>American professor of psychology, breast cance...</td>\n",
       "      <td>breast cancer and multiple sclerosis</td>\n",
       "      <td>American</td>\n",
       "    </tr>\n",
       "    <tr>\n",
       "      <th>23</th>\n",
       "      <td>2014</td>\n",
       "      <td>10</td>\n",
       "      <td>Yoshikazu Sakamoto</td>\n",
       "      <td>87</td>\n",
       "      <td>Japanese political scientist, heart failure</td>\n",
       "      <td>heart failure</td>\n",
       "      <td>Japanese</td>\n",
       "    </tr>\n",
       "    <tr>\n",
       "      <th>24</th>\n",
       "      <td>2014</td>\n",
       "      <td>10</td>\n",
       "      <td>Frederic Tamler Sommers</td>\n",
       "      <td>91</td>\n",
       "      <td>American philosopher</td>\n",
       "      <td></td>\n",
       "      <td>American</td>\n",
       "    </tr>\n",
       "    <tr>\n",
       "      <th>25</th>\n",
       "      <td>2014</td>\n",
       "      <td>10</td>\n",
       "      <td>The Spaceape</td>\n",
       "      <td>44</td>\n",
       "      <td>British poet and disc jockey, cancer</td>\n",
       "      <td>cancer</td>\n",
       "      <td>British</td>\n",
       "    </tr>\n",
       "    <tr>\n",
       "      <th>26</th>\n",
       "      <td>2014</td>\n",
       "      <td>10</td>\n",
       "      <td>Michael Allenby, 3rd Viscount Allenby</td>\n",
       "      <td>83</td>\n",
       "      <td>British aristocrat and politician</td>\n",
       "      <td></td>\n",
       "      <td>British</td>\n",
       "    </tr>\n",
       "    <tr>\n",
       "      <th>27</th>\n",
       "      <td>2014</td>\n",
       "      <td>10</td>\n",
       "      <td>Peer Augustinski</td>\n",
       "      <td>74</td>\n",
       "      <td>German actor</td>\n",
       "      <td></td>\n",
       "      <td>German</td>\n",
       "    </tr>\n",
       "    <tr>\n",
       "      <th>28</th>\n",
       "      <td>2014</td>\n",
       "      <td>10</td>\n",
       "      <td>Comer Cottrell</td>\n",
       "      <td>82</td>\n",
       "      <td>American businessman and baseball team part-ow...</td>\n",
       "      <td></td>\n",
       "      <td>American</td>\n",
       "    </tr>\n",
       "    <tr>\n",
       "      <th>29</th>\n",
       "      <td>2014</td>\n",
       "      <td>10</td>\n",
       "      <td>Ewen Gilmour</td>\n",
       "      <td>51</td>\n",
       "      <td>New Zealand comedian</td>\n",
       "      <td></td>\n",
       "      <td>New Zealand</td>\n",
       "    </tr>\n",
       "    <tr>\n",
       "      <th>30</th>\n",
       "      <td>2014</td>\n",
       "      <td>10</td>\n",
       "      <td>Nati Cano</td>\n",
       "      <td>81</td>\n",
       "      <td>Mexican-born American mariachi musician (Maria...</td>\n",
       "      <td>recipient of the National Heritage Fellowship...</td>\n",
       "      <td>Mexican-born American</td>\n",
       "    </tr>\n",
       "    <tr>\n",
       "      <th>31</th>\n",
       "      <td>2014</td>\n",
       "      <td>10</td>\n",
       "      <td>'Elisiva Fusipala Vaha'i</td>\n",
       "      <td>65</td>\n",
       "      <td>Tongan royal</td>\n",
       "      <td></td>\n",
       "      <td>Tongan</td>\n",
       "    </tr>\n",
       "    <tr>\n",
       "      <th>32</th>\n",
       "      <td>2014</td>\n",
       "      <td>10</td>\n",
       "      <td>Benedict Groeschel</td>\n",
       "      <td>81</td>\n",
       "      <td>American Roman Catholic priest, author and tel...</td>\n",
       "      <td>a founder of the Franciscan Friars of the Ren...</td>\n",
       "      <td>American Roman Catholic</td>\n",
       "    </tr>\n",
       "    <tr>\n",
       "      <th>33</th>\n",
       "      <td>2014</td>\n",
       "      <td>10</td>\n",
       "      <td>Alan Henning</td>\n",
       "      <td>47</td>\n",
       "      <td>British humanitarian aid worker and Islamic St...</td>\n",
       "      <td>beheading</td>\n",
       "      <td>British</td>\n",
       "    </tr>\n",
       "    <tr>\n",
       "      <th>34</th>\n",
       "      <td>2014</td>\n",
       "      <td>10</td>\n",
       "      <td>Peter Knecht</td>\n",
       "      <td>78</td>\n",
       "      <td>American defense attorney, cancer</td>\n",
       "      <td>cancer</td>\n",
       "      <td>American</td>\n",
       "    </tr>\n",
       "    <tr>\n",
       "      <th>35</th>\n",
       "      <td>2014</td>\n",
       "      <td>10</td>\n",
       "      <td>Jean-Jacques Marcel</td>\n",
       "      <td>83</td>\n",
       "      <td>French footballer (Olympique de Marseille)</td>\n",
       "      <td></td>\n",
       "      <td>French</td>\n",
       "    </tr>\n",
       "    <tr>\n",
       "      <th>36</th>\n",
       "      <td>2014</td>\n",
       "      <td>10</td>\n",
       "      <td>Kevin Metheny</td>\n",
       "      <td>60</td>\n",
       "      <td>American radio executive (WNBC (AM), WGN (AM))</td>\n",
       "      <td>suspected heart attack</td>\n",
       "      <td>American</td>\n",
       "    </tr>\n",
       "    <tr>\n",
       "      <th>37</th>\n",
       "      <td>2014</td>\n",
       "      <td>10</td>\n",
       "      <td>Ward Ruyslinck</td>\n",
       "      <td>85</td>\n",
       "      <td>Belgian author, Alzheimers disease</td>\n",
       "      <td>Alzheimers disease</td>\n",
       "      <td>Belgian</td>\n",
       "    </tr>\n",
       "    <tr>\n",
       "      <th>38</th>\n",
       "      <td>2014</td>\n",
       "      <td>10</td>\n",
       "      <td>Lori Sandri</td>\n",
       "      <td>65</td>\n",
       "      <td>Brazilian football manager, brain tumor</td>\n",
       "      <td>brain tumor</td>\n",
       "      <td>Brazilian</td>\n",
       "    </tr>\n",
       "    <tr>\n",
       "      <th>39</th>\n",
       "      <td>2014</td>\n",
       "      <td>10</td>\n",
       "      <td>Christopher van Wyk</td>\n",
       "      <td>57</td>\n",
       "      <td>South African writer</td>\n",
       "      <td></td>\n",
       "      <td>South African</td>\n",
       "    </tr>\n",
       "    <tr>\n",
       "      <th>40</th>\n",
       "      <td>2014</td>\n",
       "      <td>10</td>\n",
       "      <td>Konrad Boehmer</td>\n",
       "      <td>73</td>\n",
       "      <td>German-born Dutch composer and writer, stroke</td>\n",
       "      <td>stroke</td>\n",
       "      <td>German-born Dutch</td>\n",
       "    </tr>\n",
       "    <tr>\n",
       "      <th>41</th>\n",
       "      <td>2014</td>\n",
       "      <td>10</td>\n",
       "      <td>Hugo Carvana</td>\n",
       "      <td>77</td>\n",
       "      <td>Brazilian actor (Entranced Earth, Antonio das ...</td>\n",
       "      <td>Antonio das Mortes) and director (Casa da Mãe...</td>\n",
       "      <td>Brazilian</td>\n",
       "    </tr>\n",
       "    <tr>\n",
       "      <th>42</th>\n",
       "      <td>2014</td>\n",
       "      <td>10</td>\n",
       "      <td>Fyodor Cherenkov</td>\n",
       "      <td>55</td>\n",
       "      <td>Russian footballer (FC Spartak Moscow, Soviet ...</td>\n",
       "      <td>Soviet Union national football team)</td>\n",
       "      <td>Russian</td>\n",
       "    </tr>\n",
       "    <tr>\n",
       "      <th>43</th>\n",
       "      <td>2014</td>\n",
       "      <td>10</td>\n",
       "      <td>Jean-Claude Duvalier</td>\n",
       "      <td>63</td>\n",
       "      <td>Haitian politician, President of Haiti (1971–1...</td>\n",
       "      <td>heart attack</td>\n",
       "      <td>Haitian</td>\n",
       "    </tr>\n",
       "    <tr>\n",
       "      <th>44</th>\n",
       "      <td>2014</td>\n",
       "      <td>10</td>\n",
       "      <td>Herman Mandui</td>\n",
       "      <td>45</td>\n",
       "      <td>Papua New Guinean archaeologist</td>\n",
       "      <td></td>\n",
       "      <td>Papua New Guinean</td>\n",
       "    </tr>\n",
       "    <tr>\n",
       "      <th>45</th>\n",
       "      <td>2014</td>\n",
       "      <td>10</td>\n",
       "      <td>Joan Molina</td>\n",
       "      <td>73</td>\n",
       "      <td>Spanish actor (Doctor Mateo)</td>\n",
       "      <td></td>\n",
       "      <td>Spanish</td>\n",
       "    </tr>\n",
       "    <tr>\n",
       "      <th>46</th>\n",
       "      <td>2014</td>\n",
       "      <td>10</td>\n",
       "      <td>Jewel Joseph Newman</td>\n",
       "      <td>93</td>\n",
       "      <td>American politician and community organizer</td>\n",
       "      <td></td>\n",
       "      <td>American</td>\n",
       "    </tr>\n",
       "    <tr>\n",
       "      <th>47</th>\n",
       "      <td>2014</td>\n",
       "      <td>10</td>\n",
       "      <td>Suhaila Noah</td>\n",
       "      <td>82</td>\n",
       "      <td>Malaysian public figure, Spouse of the Prime M...</td>\n",
       "      <td>widow of Hussein Onn</td>\n",
       "      <td>Malaysian</td>\n",
       "    </tr>\n",
       "    <tr>\n",
       "      <th>48</th>\n",
       "      <td>2014</td>\n",
       "      <td>10</td>\n",
       "      <td>Gholamali Pouratayi</td>\n",
       "      <td>73</td>\n",
       "      <td>Iranian musician</td>\n",
       "      <td></td>\n",
       "      <td>Iranian</td>\n",
       "    </tr>\n",
       "    <tr>\n",
       "      <th>49</th>\n",
       "      <td>2014</td>\n",
       "      <td>10</td>\n",
       "      <td>Rajesh Sanghi</td>\n",
       "      <td>42</td>\n",
       "      <td>Indian cricketer</td>\n",
       "      <td></td>\n",
       "      <td>Indian</td>\n",
       "    </tr>\n",
       "  </tbody>\n",
       "</table>\n",
       "</div>"
      ],
      "text/plain": [
       "    year month                                              name age  \\\n",
       "0   2014    10                                    Lynsey de Paul  64   \n",
       "1   2014    10               Maurice Hodgson|Sir Maurice Hodgson  94   \n",
       "2   2014    10                                      Shlomo Lahat  86   \n",
       "3   2014    10           José Martínez (infielder)|José Martínez  72   \n",
       "4   2014    10                                       Oluremi Oyo  61   \n",
       "5   2014    10                                     Charlie Paulk  68   \n",
       "6   2014    10                                     Matilde Pérez  97   \n",
       "7   2014    10                                      Jerome Reppa  89   \n",
       "8   2014    10          George Savage (politician)|George Savage  72   \n",
       "9   2014    10                                      Robert Serra  27   \n",
       "10  2014    10                                 Guido van Gheluwe  88   \n",
       "11  2014    10                   Bob Young (cricketer)|Bob Young  81   \n",
       "12  2014    10                                Fyodor Bogdanovsky  84   \n",
       "13  2014    10                                    André Buffière  91   \n",
       "14  2014    10                                     Robert Flower  59   \n",
       "15  2014    10  Michael Goldberg (screenwriter)|Michael Goldberg  55   \n",
       "16  2014    10                                  Joanne M. Holden  68   \n",
       "17  2014    10                                    Vaughn O. Lang  86   \n",
       "18  2014    10                                      György Lázár  90   \n",
       "19  2014    10              Carlos Lopez (stuntman)|Carlos Lopez  26   \n",
       "20  2014    10                                     N. Mahalingam  91   \n",
       "21  2014    10                     Pedro Peña (actor)|Pedro Peña  88   \n",
       "22  2014    10                             Carolyn Rovee-Collier  72   \n",
       "23  2014    10                                Yoshikazu Sakamoto  87   \n",
       "24  2014    10                           Frederic Tamler Sommers  91   \n",
       "25  2014    10                                      The Spaceape  44   \n",
       "26  2014    10             Michael Allenby, 3rd Viscount Allenby  83   \n",
       "27  2014    10                                  Peer Augustinski  74   \n",
       "28  2014    10                                    Comer Cottrell  82   \n",
       "29  2014    10                                      Ewen Gilmour  51   \n",
       "30  2014    10                                         Nati Cano  81   \n",
       "31  2014    10                          'Elisiva Fusipala Vaha'i  65   \n",
       "32  2014    10                                Benedict Groeschel  81   \n",
       "33  2014    10                                      Alan Henning  47   \n",
       "34  2014    10                                      Peter Knecht  78   \n",
       "35  2014    10                               Jean-Jacques Marcel  83   \n",
       "36  2014    10                                     Kevin Metheny  60   \n",
       "37  2014    10                                    Ward Ruyslinck  85   \n",
       "38  2014    10                                       Lori Sandri  65   \n",
       "39  2014    10                               Christopher van Wyk  57   \n",
       "40  2014    10                                    Konrad Boehmer  73   \n",
       "41  2014    10                                      Hugo Carvana  77   \n",
       "42  2014    10                                  Fyodor Cherenkov  55   \n",
       "43  2014    10                              Jean-Claude Duvalier  63   \n",
       "44  2014    10                                     Herman Mandui  45   \n",
       "45  2014    10                                       Joan Molina  73   \n",
       "46  2014    10                               Jewel Joseph Newman  93   \n",
       "47  2014    10                                      Suhaila Noah  82   \n",
       "48  2014    10                               Gholamali Pouratayi  73   \n",
       "49  2014    10                                     Rajesh Sanghi  42   \n",
       "\n",
       "                                                 desc  \\\n",
       "0   English singer-songwriter (\"Wont Somebody Danc...   \n",
       "1                          British business executive   \n",
       "2   Israeli general and politician, Mayor of Tel A...   \n",
       "3   Cuban baseball player (Pittsburgh Pirates), co...   \n",
       "4                         Nigerian journalist, cancer   \n",
       "5                          American basketball player   \n",
       "6                  Chilean painter and kinetic artist   \n",
       "7   American politician, member of the Indiana Hou...   \n",
       "8   British politician, Member of the Legislative ...   \n",
       "9   Venezuelan politician, National Assembly (Vene...   \n",
       "10        Belgian lawyer, founded Orde van den Prince   \n",
       "11                                 Scottish cricketer   \n",
       "12  Russian weightlifter, Olympic champion (1956 S...   \n",
       "13  French Olympic basketball player (Basketball a...   \n",
       "14  Australian Australian Football Hall of Fame Au...   \n",
       "15  American screenwriter (Cool Runnings, Snow Dog...   \n",
       "16                      American nutritionist, cancer   \n",
       "17                   American Army lieutenant general   \n",
       "18  Hungarian politician, Prime Minister of Hungar...   \n",
       "19  American stunt performer (, Teenage Mutant Nin...   \n",
       "20                                 Indian businessman   \n",
       "21  Spanish actor (Médico de familia), Alzheimers ...   \n",
       "22  American professor of psychology, breast cance...   \n",
       "23        Japanese political scientist, heart failure   \n",
       "24                               American philosopher   \n",
       "25               British poet and disc jockey, cancer   \n",
       "26                  British aristocrat and politician   \n",
       "27                                      German actor    \n",
       "28  American businessman and baseball team part-ow...   \n",
       "29                               New Zealand comedian   \n",
       "30  Mexican-born American mariachi musician (Maria...   \n",
       "31                                       Tongan royal   \n",
       "32  American Roman Catholic priest, author and tel...   \n",
       "33  British humanitarian aid worker and Islamic St...   \n",
       "34                  American defense attorney, cancer   \n",
       "35         French footballer (Olympique de Marseille)   \n",
       "36     American radio executive (WNBC (AM), WGN (AM))   \n",
       "37                 Belgian author, Alzheimers disease   \n",
       "38            Brazilian football manager, brain tumor   \n",
       "39                               South African writer   \n",
       "40      German-born Dutch composer and writer, stroke   \n",
       "41  Brazilian actor (Entranced Earth, Antonio das ...   \n",
       "42  Russian footballer (FC Spartak Moscow, Soviet ...   \n",
       "43  Haitian politician, President of Haiti (1971–1...   \n",
       "44                    Papua New Guinean archaeologist   \n",
       "45                       Spanish actor (Doctor Mateo)   \n",
       "46        American politician and community organizer   \n",
       "47  Malaysian public figure, Spouse of the Prime M...   \n",
       "48                                   Iranian musician   \n",
       "49                                   Indian cricketer   \n",
       "\n",
       "                                       cause_of_death  \\\n",
       "0                                   brain haemorrhage   \n",
       "1                                                       \n",
       "2                                      lung infection   \n",
       "3        Chicago Cubs) and executive (Atlanta Braves)   \n",
       "4                                              cancer   \n",
       "5                                                       \n",
       "6                                                       \n",
       "7    member of the Indiana House of Representative...   \n",
       "8                                          2007–2011)   \n",
       "9                                             stabbed   \n",
       "10                        founded Orde van den Prince   \n",
       "11                                                      \n",
       "12            Olympic champion (1956 Summer Olympics)   \n",
       "13            Basketball at the 1952 Summer Olympics)   \n",
       "14                                                      \n",
       "15                             brain and sinus cancer   \n",
       "16                                             cancer   \n",
       "17                                                      \n",
       "18              Prime Minister of Hungary (1975–1987)   \n",
       "19                                               fall   \n",
       "20                                                      \n",
       "21                                 Alzheimers disease   \n",
       "22               breast cancer and multiple sclerosis   \n",
       "23                                      heart failure   \n",
       "24                                                      \n",
       "25                                             cancer   \n",
       "26                                                      \n",
       "27                                                      \n",
       "28                                                      \n",
       "29                                                      \n",
       "30   recipient of the National Heritage Fellowship...   \n",
       "31                                                      \n",
       "32   a founder of the Franciscan Friars of the Ren...   \n",
       "33                                          beheading   \n",
       "34                                             cancer   \n",
       "35                                                      \n",
       "36                             suspected heart attack   \n",
       "37                                 Alzheimers disease   \n",
       "38                                        brain tumor   \n",
       "39                                                      \n",
       "40                                             stroke   \n",
       "41   Antonio das Mortes) and director (Casa da Mãe...   \n",
       "42               Soviet Union national football team)   \n",
       "43                                       heart attack   \n",
       "44                                                      \n",
       "45                                                      \n",
       "46                                                      \n",
       "47                               widow of Hussein Onn   \n",
       "48                                                      \n",
       "49                                                      \n",
       "\n",
       "                            nationality  \n",
       "0                               English  \n",
       "1                               British  \n",
       "2                               Israeli  \n",
       "3                                 Cuban  \n",
       "4                              Nigerian  \n",
       "5                              American  \n",
       "6                               Chilean  \n",
       "7                              American  \n",
       "8                               British  \n",
       "9                            Venezuelan  \n",
       "10                              Belgian  \n",
       "11                             Scottish  \n",
       "12                              Russian  \n",
       "13                       French Olympic  \n",
       "14  Australian Australian Football Hall  \n",
       "15                             American  \n",
       "16                             American  \n",
       "17                        American Army  \n",
       "18                            Hungarian  \n",
       "19                             American  \n",
       "20                               Indian  \n",
       "21                              Spanish  \n",
       "22                             American  \n",
       "23                             Japanese  \n",
       "24                             American  \n",
       "25                              British  \n",
       "26                              British  \n",
       "27                               German  \n",
       "28                             American  \n",
       "29                          New Zealand  \n",
       "30                Mexican-born American  \n",
       "31                               Tongan  \n",
       "32              American Roman Catholic  \n",
       "33                              British  \n",
       "34                             American  \n",
       "35                               French  \n",
       "36                             American  \n",
       "37                              Belgian  \n",
       "38                            Brazilian  \n",
       "39                        South African  \n",
       "40                    German-born Dutch  \n",
       "41                            Brazilian  \n",
       "42                              Russian  \n",
       "43                              Haitian  \n",
       "44                    Papua New Guinean  \n",
       "45                              Spanish  \n",
       "46                             American  \n",
       "47                            Malaysian  \n",
       "48                              Iranian  \n",
       "49                               Indian  "
      ]
     },
     "execution_count": 840,
     "metadata": {},
     "output_type": "execute_result"
    }
   ],
   "source": [
    "print df_full.shape\n",
    "df_full.head(50)"
   ]
  },
  {
   "cell_type": "code",
   "execution_count": 839,
   "metadata": {
    "collapsed": false
   },
   "outputs": [
    {
     "data": {
      "text/plain": [
       "'Australian Australian Football Hall of Fame Australian Football League footballer (Melbourne Football Club)'"
      ]
     },
     "execution_count": 839,
     "metadata": {},
     "output_type": "execute_result"
    }
   ],
   "source": [
    "df_full.iloc[14].values[4]"
   ]
  },
  {
   "cell_type": "markdown",
   "metadata": {},
   "source": [
    "### Further Processing"
   ]
  },
  {
   "cell_type": "markdown",
   "metadata": {},
   "source": [
    "#### Reminder: Strip links, quotes, and brackets before extracting Nationality text"
   ]
  },
  {
   "cell_type": "code",
   "execution_count": 819,
   "metadata": {
    "collapsed": true
   },
   "outputs": [],
   "source": [
    "df_full['desc'] = df_full.desc.map(text_clean)\n",
    "df_full['cause_of_death'] = df_full.cause_of_death.map(text_clean)"
   ]
  },
  {
   "cell_type": "code",
   "execution_count": null,
   "metadata": {
    "collapsed": true
   },
   "outputs": [],
   "source": []
  },
  {
   "cell_type": "code",
   "execution_count": null,
   "metadata": {
    "collapsed": true
   },
   "outputs": [],
   "source": []
  },
  {
   "cell_type": "markdown",
   "metadata": {},
   "source": [
    "#### Extract Nationality\n",
    "\n",
    "Extracting nationality text as well as possible by taking the first consecutive capitalized words in the description. 'Olympic' and similar capitalized words might throw this off."
   ]
  },
  {
   "cell_type": "code",
   "execution_count": 820,
   "metadata": {
    "collapsed": false
   },
   "outputs": [],
   "source": [
    "natl_pattern1 = re.compile(' ?((?:[A-Z][^\\s]+ ?)+) ', re.UNICODE)\n",
    "\n",
    "def get_nationality_text(desc_text):\n",
    "    try:\n",
    "        # get rid of url links\n",
    "        return natl_pattern1.match(desc_text.strip('[')).groups()[0]\n",
    "    except AttributeError, e:\n",
    "        print desc_text"
   ]
  },
  {
   "cell_type": "code",
   "execution_count": 821,
   "metadata": {
    "collapsed": false
   },
   "outputs": [
    {
     "data": {
      "text/plain": [
       "('Native American',)"
      ]
     },
     "execution_count": 821,
     "metadata": {},
     "output_type": "execute_result"
    }
   ],
   "source": [
    "natl_pattern1.match('Native American asdf asdfasdf ').groups()"
   ]
  },
  {
   "cell_type": "code",
   "execution_count": 822,
   "metadata": {
    "collapsed": true
   },
   "outputs": [
    {
     "name": "stdout",
     "output_type": "stream",
     "text": [
      "ni-Vanuatu international footballer\n",
      "chief of web security at AOL, pancreatic cancer \n",
      "<!-- date of birth unknown -->British artist. \n",
      "former Canadian Football League player and NHL referee. \n",
      "former Soviet FIFA World Cup footballer & title-winning coach for Dynamo Kiev \n",
      "former German Nazi SS officer. \n",
      "former Second Deputy Prime Minister of Singapore, heart failure. \n",
      "former professional wrestling promoter, natural causes \n",
      "last American survivor of the RMS Titanic sinking, died in sleep. \n",
      "former CEO of Firestone Tire and Rubber Company, heart attack. \n",
      "fled the U.S. with granddaughter in Elizabeth Morgan case custody battle \n",
      "lawyer & professor at New York Law School \n",
      "founder of Ninety Nine Restaurant & Pub, cancer. \n",
      "first Asian-American to be editor of a major American daily newspaper, the St. Louis Post-Dispatch\n",
      "first Australian Defence Force serviceperson killed in Iraq. \n",
      "humanitarian worker and charity activist\n",
      "scholar and journalist, Director of the Department of Culture (since 2013)\n",
      "military band conductor\n",
      "football player (Associação Chapecoense de Futebol)\n",
      "football player (Associação Chapecoense de Futebol)\n",
      "football player (Associação Chapecoense de Futebol)\n",
      "football player (Associação Chapecoense de Futebol, Grêmio Foot-Ball Porto Alegrense)\n",
      "football player (Associação Chapecoense de Futebol)\n",
      "football player (Associação Chapecoense de Futebol, Associação Portuguesa de Desportos)\n",
      "reporter (Fox Sports)\n",
      "commentator (Fox Sports)\n",
      "football player (Associação Chapecoense de Futebol, Coritiba Foot Ball Club)\n",
      "football player (Associação Chapecoense de Futebol)\n",
      "football player (Associação Chapecoense de Futebol)\n",
      "football player (Associação Chapecoense de Futebol)\n",
      "football player and manager (Associação Chapecoense de Futebol, Vitória S.C.)\n",
      "football player (Associação Chapecoense de Futebol, JEF United Chiba)\n",
      "football player (Associação Chapecoense de Futebol, PFC CSKA Sofia)\n",
      "football player (Associação Chapecoense de Futebol, Esporte Clube Vitória)\n",
      "football player (Associação Chapecoense de Futebol, Clube de Regatas do Flamengo)\n",
      "politician and football executive, vice-president of Brazilian Football Confederation\n",
      "football player, manager\n",
      "football player (Associação Chapecoense de Futebol)\n",
      "football player (Associação Chapecoense de Futebol, Atlético Madrid)\n",
      "football player (Associação Chapecoense de Futebol, Grêmio Foot-Ball Porto Alegrense)\n",
      "Brazilian\n",
      "sailor\n",
      "swimmer, Olympic gold medalist (Swimming at the 2012 Summer Olympics – Womens 400 metre freestyle)\n",
      "boxer, Olympic bronze medalist (Boxing at the 2008 Summer Olympics – Light welterweight)March 10\n",
      "opera singer.March 25\n",
      "cartoonist\n",
      "psychoanalyst and columnist\n",
      "caricaturist and journalist\n",
      "cartoonist\n",
      "economist and journalist\n",
      "cartoonist\n",
      "cartoonistJanuary 8\n",
      "<!-- biological age 6, considered 7 for competition purposes -->Irish racehorse\n",
      "political scientist\n",
      "attorney, President of the Polish Bar Council (since 2007)\n",
      "general, Chief of the Air Force (since 2007)\n",
      "senator, vice president of Senate\n",
      "general, head of Polish Land Forces\n",
      "member of the Sejm of the Republic of Poland\n",
      "member of the Sejm\n",
      "senator\n",
      "general, Chief of the General Staff (since 2006)\n",
      "politician, Minister of Regional Development (2006–2007)\n",
      "member of the Sejm, Deputy Prime Minister (2007)\n",
      "diplomat, Undersecretary of State in the Office of the President\n",
      "member of the Sejm, Deputy Prime Minister (2004–2005)\n",
      "politician, President in exile (1989–1990)\n",
      "member of the Sejm\n",
      "diplomat, Director of Diplomatic Protocol in the Ministry of Foreign Affairs\n",
      "lawyer and diplomat, Commissioner for Civil Rights Protection (Ombudsman) (since 2006)\n",
      "general, Chancellor of the Order Virtuti Militari\n",
      "lawyer and diplomat, Deputy Foreign Minister (since 2008)\n",
      "historian, president of the Institute of National Remembrance\n",
      "general, Commander of the Armed Forces Operational Command\n",
      "member of the Sejm\n",
      "sports administrator, head of the Polish Olympic Committee (since 2005)\n",
      "member of the Sejm\n",
      "politician, Vice-Marshal of the Sejm (since 2007)\n",
      "rector of the Cardinal Stefan Wyszyński University in Warsaw\n",
      "member of the Sejm\n",
      "banker, President of National Bank of Poland\n",
      "politician, Minister of Defence (2007)\n",
      "politician, Minister of Defence (2001–2005)\n",
      "member of the Sejm\n",
      "trade unionist whose 1980 firing led to the creation of the Solidarity (Polish trade union)|Solidarity movement\n",
      "member of the Sejm\n",
      "member of the Sejm\n",
      "member of the Sejm\n",
      "politician, Secretary of State (since 2009)\n",
      "senator\n",
      "actor.April 11\n",
      "<!-- note: see article and article talk page -->American singer, heart failure\n",
      "former leader of the Inner London Education Authority.{{Citation needed|dateJuly 2011}}November 18\n",
      "spiritual leader and head of the Sikhism Dharma in the western hemisphere, heart failure. \n",
      "musician, filmmaker and author\n",
      "brother of former president of Mexico Carlos Salinas, asphyxiation. \n",
      "pornographic film actress, brain cancer. \n",
      "chief minister of Jammu and Kashmir (1971–1975). \n",
      "first Bahamian to play in Major League Baseball. \n",
      "painter, lithographer\n",
      "computer scientist. \n",
      "widow of Chiang Ching-kuo and First Lady of the Republic of China on Taiwan (1978–1988), pulmonary and cardiac failure. \n",
      "mother of former US vice-president Al Gore, wife of Albert Gore\n",
      "former United States Ambassador to Sweden, complications of pancreatitis. \n",
      "baseball pitching machine innovator, cancer-related illness. \n",
      "astrologer, breast cancer. \n",
      "Icelandic\n",
      "<!-- 90 not 91 -->Polish actress, lung cancer. \n",
      "former wife and agent of British TV entertainer Michael Barrymore, lung cancer. \n",
      "songwriter, wrote themes to Bewitched and Gidget\n",
      "drummer for the bands Trouble (band)|Trouble and Zoetrope (band)|Zoetrope, from complications following surgery\n",
      "second Secretary of Housing and Urban Development, appointed by Lyndon B. Johnson in 1969; later served as University of Massachusetts President 1970-1977\n",
      "former U.S. ambassador to Chile, Lou Gehrigs disease\n",
      "creator of the Brenda Starr comic strip\n",
      "actress (Mary Hartman, Mary Hartman)\n",
      "landscape painter mainly in his native Maine.6\n",
      "memoirist and head of the University of Iowas famous Iowa Writers Workshop\n",
      "doctor, teacher\n",
      "reigning Prince of Monaco since 1949.7\n",
      "former Formula One driver\n",
      "a former Major League Baseball player and manager, who hit the first grand slam in Baltimore Orioles history and was the Oakland Athletics first manager\n",
      "last surviving French World War I veteran to fight for Germany, cardiac arrest\n",
      "former bandleader for The Tonight Show\n",
      "radical feminist writer and anti-pornography activist\n",
      "first Afro-American Marine Corps officer\n",
      "former primate of the Greek Orthodox Archbishop of America (1959–1996)\n",
      "ex-National Football League player, spinal cord injury suffered playing an Arena Football League (1987–2008)|Arena Football League game\n",
      "microbiologist\n",
      "a MLB All-Star, who also managed two of Japans professional baseball teams\n",
      "musician, leader of \"Tuttis Trumpets\" and co-founder of Disneyland Records\n",
      "novelist and poet\n",
      "founder of the Canadian white supremacist group the Heritage Front, shot to death\n",
      "television critic for the New York Daily News, cancer\n",
      "musician\n",
      "president of Serbia from 1982 to 1984\n",
      "writer, economist who testified in the Alger Hiss case\n",
      "jazz trumpeter\n",
      "1960s pop singer\n",
      "former National Basketball Association player for the Portland Trail Blazers\n",
      "former NFL player and assistant coach, cancer\n",
      "music director and conductor of the Nashville Symphony Orchestra, Non-Hodgkin lymphoma.19\n",
      "jazz drummer\n",
      "world-renowned Danish jazz bassist.20\n",
      "member of the Gang of Four (China)|Gang of Four\n",
      "physicist and group leader in the Manhattan Project\n",
      "a leading pitcher for the 1968 World Series champion Detroit Tigers and first black pitcher to throw a no-hitter in Major League Baseball\n",
      "aka Tonito Rivera, Puerto Rican world champion boxer\n",
      "pioneering Chinese anthropologist and sociologist\n",
      "former Israeli president.25\n",
      "former Formula One driver\n",
      "former head of Ford Motor Company and later a life peer.26\n",
      "former NHL player with the Toronto Maple Leafs, was oldest living member of the Hockey Hall of Fame\n",
      "former National Football League player\n",
      "former foreign minister of Bangladesh\n",
      "principal founder of the Free University of Berlin.\n",
      "professional wrestler; blood clot from surgery complications\n",
      "bassist for the Modern Jazz Quartet\n",
      "soap opera creator (The Young and the Restless, The Bold and the Beautiful)\n",
      "theatre critic for The New York Times, cancer\n",
      "former general secretary of the Transport and General Workers Union.{{Navbox deaths}}{{DEFAULTSORT:April 2005, Deaths in}}Category:2005 deaths|\n",
      "oldest man in Wales and World War I survivor\n",
      "former World Wrestling Entertainment (WWE) wrestler, of cancer\n",
      "mathematician, \"father of linear programming\"\n",
      "convicted serial killer, executed by lethal injection. 14 \n",
      "bluegrass singer\n",
      "former coach of the Toronto Rock of the National Lacrosse League, colon cancer\n",
      "retired Chief Justice of the Quebec Superior Court, negotiated an end to the Oka standoff and numerous strikes\n",
      "former leader of NATO and veteran of World War II\n",
      "former mayor of Minneapolis, Minnesota. 17 \n",
      "seismologist. \n",
      "organic farmer 18 \n",
      "former TV presenter of Hop, an Afghan programme similar to MTV\n",
      "convicted murderer, executed by lethal injection\n",
      "former NFL running back with the Los Angeles Rams and Dallas Cowboys\n",
      "former Foreign Minister of Austria. 21 \n",
      "former Fulham FC football player and manager\n",
      "disgraced Scottish former bishop. 24 \n",
      "film producer. \n",
      "former president of Burkina Faso\n",
      "football player for VfL Wolfsburg and the Polish national team, suffered from amyotrophic lateral sclerosis\n",
      "founder of Mortons of Chicago steakhouses\n",
      "musician, playwright\n",
      "former Pakistani cricket captain\n",
      "founder of Nordic Ware, creator of the Bundt cake pan\n",
      "retired right wing for Toronto Maple Leafs and Detroit Red Wings in the 1940s and 50s, member of Hockey Hall of Fame\n",
      "former Irish politician, Minister for Health and Social Welfare (1981–1982)\n",
      "sister of John F. Kennedy, natural causes\n",
      "one of the first television presenters on French television\n",
      "choreographer, dancer\n",
      "sound effects creator (The Exorcist (film)|The Exorcist, The Towering Inferno (film)|The Towering Inferno)\n",
      "comedian\n",
      "who pitched in Major League Baseball for the Boston Red Sox and St. Louis Browns in the 1940s and 50s\n",
      "drummer for American rock band Jefferson Airplane, cancer\n",
      "member of 1970s rock band Bread (band)|Bread, cancer\n",
      "co-owner of the NHLs Calgary Flames\n",
      "animator for Finding Nemo\n",
      "prolific Spanish film actor\n",
      "former CEO of McDonalds Corporation, colon cancer\n",
      "microbiologist, discoverer of streptomycin\n",
      "former Chinese Communist Party General Secretary, complications of multiple strokes.18\n",
      "professional wrestler.19\n",
      "former Prime Minister of Norway\n",
      "journalist\n",
      "developer active in New York City and Aspen, Colorado\n",
      "former Deputy Speaker of the UK House of Lords\n",
      "former president of Lawrence University and Duke University\n",
      "retired NFL player, renal disease. \n",
      "activist on behalf of senior citizens and the elderly, natural causes\n",
      "rugby union coach.25\n",
      "ex-wife of American boxer Jake LaMotta, following open-heart surgery\n",
      "one of the last four surviving Australian veterans of World War I\n",
      "retired Norwegian footballer\n",
      "composer and conductor\n",
      "evolutionary biologist\n",
      "actor and activist, natural causes\n",
      "former major league closer for the Los Angeles Angels of Anaheim. \n",
      "president of Togo since 1967\n",
      "classical pianist\n",
      "country music manager and songwriter. 7 \n",
      "socialite and political hostess, cancer\n",
      "former Prime Minister of the Faroe Islands\n",
      "political figure in India, former governor of three states\n",
      "television and film director\n",
      "cardiologist, co-inventor of the Swan-Ganz heart catheter. 8 \n",
      "journalist and moderator of CBS Face the Nation for 15 years\n",
      "drummer for American rock band Doobie Brothers, pneumonia\n",
      "jazz organist. 9 \n",
      "inventor of intermittent windshield wipers. \n",
      "physicist, presidential advisor\n",
      "former prime minister and foreign minister of Grenada\n",
      "first woman to join the United States Army\n",
      "former footballer with Tottenham Hotspur F.C. and Wales national football team\n",
      "twice Prime Minister of Lebanon, car bomb\n",
      "boxer, participant in boxing reality show \"The Contender\"\n",
      "professional bowler, father of Pete Weber. 15 \n",
      "daughter of former President of Paraguay Raúl Cubas Grau, kidnap victim (body found). 17 \n",
      "airline stewardess, protagonist in 1985 airplane hijacking\n",
      "jazz vocalist and music professor, suicide\n",
      "classic Broadway star and father of Bonnie Raitt, pneumonia\n",
      "co-founder of United Cerebral Palsy\n",
      "exiled Cuban writer\n",
      "former governor of the U.S. state of Georgia (1959–1963). 22 \n",
      "founder of the \"Communion and Liberation\" Catholic youth movement\n",
      "retired NFL punter\n",
      "co-authored Christmas songs (Little Drummer Boy)\n",
      "founder of the Stratford Festival of Canada\n",
      "historian primarily concerned with The Church of Jesus Christ of Latter-day Saints\n",
      "incumbent governor of Colima (state)|Colima, Mexico\n",
      "founder of Amnesty International\n",
      "former Los Angeles Dodgers third baseman\n",
      "member of The Pips\n",
      "former prime minister of Egypt\n",
      "former managing editor of TIME and U.S. ambassador to Austria (1988–1990)\n",
      "creator of the Apple Macintosh, pancreatic cancer\n",
      "former NFL defensive back and assistant coach. 28 \n",
      "drummer with The Searchers (band)|The Searchers\n",
      "priest who participated in the exorcism on which The Exorcist (novel)|The Exorcist was based\n",
      "convicted murderer, executed by lethal injection\n",
      "founder of exotica musical genre, bandleader\n",
      "retired American baseball pitcher, heart attack. 3 \n",
      "inventor of the video rental\n",
      "millionaire philanthropist listed in Forbes 400\n",
      "former Dutch national football team coach\n",
      "operatic soprano\n",
      "former interior minister of Ukraine\n",
      "former international cricketer and Church of England bishop, cancer. 6 \n",
      "actress, heart attack. 7 \n",
      "accused in the Laura Hernandez drug case; killed during a riot in a Dominican Republic jail\n",
      "film production designer, worked closely with David Lean\n",
      "screenwriter and film producer, co-writer of Halloween\n",
      "cofounding member of the band Blue Cheer. 9 \n",
      "retired Hungarian footballer\n",
      "professional transsexual whistler\n",
      "lead singer for Molly Hatchet\n",
      "author of atlases of fictional worlds, breast cancer\n",
      "soul singer, aka \"Female Preacher\"\n",
      "star of B-movie Brain That Wouldnt Die\n",
      "a retired New York Giants (NL)|New York Giants outfielder who challenged baseballs reserve clause in a 1947 federal lawsuit\n",
      "retired Major League Baseball catcher and Alabama legislator\n",
      "wife of Jim Callaghan\n",
      "a Japanese aikido teacher holding the rank of 8th dan shihan from the Aikikai. 16 \n",
      "former Chicago Bears player\n",
      "first Indigenous Australian judge\n",
      "actor\n",
      "represented Miami-Dade County, Florida\n",
      "former baseball player. 17 \n",
      "former NFL player\n",
      "father of Chicano music\n",
      "former Pittsburgh Steelers player\n",
      "science fiction and fantasy author. 18 \n",
      "musicologist and critic, Lou Gehrigs disease\n",
      "cabaret singer and pianist, leukemia\n",
      "school shooter, suicide. 22 \n",
      "president of the Polish American Congress\n",
      "guitarist and founding member of Foghat\n",
      "founder of Bushnell Optical binoculars, non-Hodgkins lymphoma. 25 \n",
      "former baseball pitcher, member of 1941 and 1943 World Series New York Yankees teams\n",
      "anarchist historian and journalist\n",
      "scriptwriter (Benny Hill, Carry On films\n",
      "former chairman of the Presidential Council of Hungary (head of state)\n",
      "poet, died of complications from respiratory disease\n",
      "world-renowned folklorist, who was central in establishing folklore as a discipline\n",
      "former record holder in hurdles, boycotted the 1936 Summer Olympics as a protest against Adolf Hitler\n",
      "comedian, intoxication\n",
      "former drummer of two California punk bands (Lagwagon and the Ataris), suicide\n",
      "record-setting United States Navy test pilot, heart attack. \n"
     ]
    }
   ],
   "source": [
    "df_full['nationality'] = df_full.desc.map(get_nationality_text)"
   ]
  },
  {
   "cell_type": "markdown",
   "metadata": {},
   "source": [
    "## Further attributes outside of the death summary Wiki page"
   ]
  },
  {
   "cell_type": "markdown",
   "metadata": {},
   "source": [
    "### Article length: Fame Score\n",
    "\n",
    "Get Wikipedia URL for getting fame score i.e. size of article:"
   ]
  },
  {
   "cell_type": "code",
   "execution_count": 844,
   "metadata": {
    "collapsed": false
   },
   "outputs": [],
   "source": [
    "def get_wiki_url(name_text):\n",
    "    return name_text.split('|')[0].strip('[').strip(']')"
   ]
  },
  {
   "cell_type": "code",
   "execution_count": 845,
   "metadata": {
    "collapsed": false
   },
   "outputs": [],
   "source": [
    "df_full['name'] = df_full.name.map(get_wiki_url)"
   ]
  },
  {
   "cell_type": "code",
   "execution_count": null,
   "metadata": {
    "collapsed": false
   },
   "outputs": [],
   "source": [
    "df_full.head()"
   ]
  },
  {
   "cell_type": "markdown",
   "metadata": {},
   "source": [
    "Get page metadata:"
   ]
  },
  {
   "cell_type": "code",
   "execution_count": 847,
   "metadata": {
    "collapsed": true
   },
   "outputs": [],
   "source": [
    "base_url_prefix = 'https://en.wikipedia.org/w/api.php?action=query&format=json&titles=' \n",
    "base_url_suffix = '&prop=revisions&rvprop=size'"
   ]
  },
  {
   "cell_type": "code",
   "execution_count": 848,
   "metadata": {
    "collapsed": true
   },
   "outputs": [],
   "source": [
    "def get_page_size(wiki_name):\n",
    "    size_url = base_url_prefix + wiki_name.replace(' ','_') + base_url_suffix\n",
    "    size_page = requests.get(size_url)\n",
    "    return size_page.json()['query']['pages'].values()[0]['revisions'][0]['size']"
   ]
  },
  {
   "cell_type": "markdown",
   "metadata": {},
   "source": [
    "### Birth and death data\n",
    "\n",
    "Getting birthday data. It's probably helpful to see [Stack Overflow thread](https://stackoverflow.com/questions/12250580/parse-birth-and-death-dates-from-wikipedia)"
   ]
  },
  {
   "cell_type": "code",
   "execution_count": 849,
   "metadata": {
    "collapsed": true
   },
   "outputs": [],
   "source": [
    "text_for_search = '         = Adele Faccio\\n| honorific-suffix    =\\n| image               =\\n| caption             =\\n| constituency_MP     =<!-- Can be repeated up to eight times by adding a number -->\\n| parliament          =<!-- Can be repeated up to eight times by adding a number -->\\n| majority            =<!-- Can be repeated up to eight times by adding a number -->\\n| term_start          =<!-- Can be repeated up to eight times by adding a number -->\\n| term_end            =<!-- Can be repeated up to eight times by adding a number -->\\n| predecessor         =<!-- Can be repeated up to eight times by adding a number -->\\n| successor           =<!-- Can be repeated up to eight times by adding a number -->\\n| birth_date          ={{birth date|1920|11|13|df=y}} \\n| birth_place         =Pontebba, Udine\\n| death_date          ={{death date and age|2007|02|08|1920|11|13}}\\n| death_place         =Rome\\n| nationality         ={{ITA}}\\n| party               = Radical Party (Partito Radicale)\\n| otherparty          = <!--For additional political affiliations -->\\n| spouse              =\\n| partner             = <!--For those with a domestic partner and not married -->\\n| relations           =\\n| children            =\\n| residence           =\\n| alma_mater          =\\n| occupation          =\\n| profession          =\\n| religion            =\\n| signature           =\\n| website             =\\n| footnotes           =\\n}}\\n\\n\\'\\'\\'Adele Faccio\\'\\'\\' (November 13, 1920 in [[Pontebba]], [[Udine]] \\xe2\\x80\\x93 February 8, 2007 in [[Rome]]) was an [[Italy|Italian]] [[politician]] and deputy of the [[Radical Party (Italy)|Radical Party]] (\\'\\'Partito Radicale\\'\\').<ref>{{It icon}} \"[http://www.corriere.it/Primo_Piano/Cronache/2007/02_Febbraio/09/adelefaccio.shtml Morta la radicale Adele Faccio].\" (February 9, 2007). \\'\\'Corriere della Sera.\\'\\' Retrieved June 21, 2007.</ref>'"
   ]
  },
  {
   "cell_type": "code",
   "execution_count": 850,
   "metadata": {
    "collapsed": false
   },
   "outputs": [],
   "source": [
    "base_bday_prefix = 'https://en.wikipedia.org/w/api.php?action=query&format=json&titles='\n",
    "base_bday_suffix = '&prop=revisions&rvprop=content&rvsection=0'\n",
    "\n",
    "def check_if_number(elem):\n",
    "    try:\n",
    "        return type(int(elem)) == int\n",
    "    except ValueError:\n",
    "        return False\n",
    "\n",
    "    \n",
    "def get_only_ints(date_list):\n",
    "    return [e for e in date_list if check_if_number(e) > 0]\n",
    "\n",
    "\n",
    "no_birth_death_urls = []\n",
    "\n",
    "def get_life_death(name, extract_bday=True):\n",
    "    try:        \n",
    "        entry_url = base_bday_prefix + name.replace(' ','_') + base_bday_suffix\n",
    "        entry_text = requests.get(entry_url).json()['query']['pages']\n",
    "        entry_text = str(entry_text.values()[0]['revisions'][0]['*'].encode('utf-8'))\n",
    "        \n",
    "        if extract_bday:\n",
    "            pattern = re.compile('.*?\\{{2}(?:B|b)irth (?:D|d)ate(.+?)\\}{2}', \n",
    "                                 re.MULTILINE|re.DOTALL)\n",
    "        else:\n",
    "            pattern = re.compile('.*?\\{{2}(?:D|d)eath (?:D|d)ate(.+?)\\}{2}', \n",
    "                                 re.MULTILINE|re.DOTALL)\n",
    "\n",
    "        date_re = re.match(pattern, entry_text)\n",
    "        date_data = \"-\".join(get_only_ints(date_re.groups()[0].strip(\" \").split('|'))[:3])\n",
    "        \n",
    "        #print date_data\n",
    "        return date_data\n",
    "    \n",
    "    except (AttributeError, KeyError) as e:\n",
    "        no_birth_death_urls.append(entry_url)"
   ]
  },
  {
   "cell_type": "markdown",
   "metadata": {},
   "source": [
    "Birthday"
   ]
  },
  {
   "cell_type": "code",
   "execution_count": 851,
   "metadata": {
    "collapsed": false
   },
   "outputs": [
    {
     "ename": "KeyError",
     "evalue": "'revisions'",
     "output_type": "error",
     "traceback": [
      "\u001b[0;31m---------------------------------------------------------------------------\u001b[0m",
      "\u001b[0;31mKeyError\u001b[0m                                  Traceback (most recent call last)",
      "\u001b[0;32m<ipython-input-851-ec33ef0cd0d2>\u001b[0m in \u001b[0;36m<module>\u001b[0;34m()\u001b[0m\n\u001b[0;32m----> 1\u001b[0;31m \u001b[0mget_ipython\u001b[0m\u001b[0;34m(\u001b[0m\u001b[0;34m)\u001b[0m\u001b[0;34m.\u001b[0m\u001b[0mrun_cell_magic\u001b[0m\u001b[0;34m(\u001b[0m\u001b[0;34mu'time'\u001b[0m\u001b[0;34m,\u001b[0m \u001b[0;34mu''\u001b[0m\u001b[0;34m,\u001b[0m \u001b[0;34mu\"df_full['date_of_birth'] = df_full.name.map(get_life_death)\"\u001b[0m\u001b[0;34m)\u001b[0m\u001b[0;34m\u001b[0m\u001b[0m\n\u001b[0m",
      "\u001b[0;32m/Users/George/anaconda/lib/python2.7/site-packages/IPython/core/interactiveshell.pyc\u001b[0m in \u001b[0;36mrun_cell_magic\u001b[0;34m(self, magic_name, line, cell)\u001b[0m\n\u001b[1;32m   2262\u001b[0m             \u001b[0mmagic_arg_s\u001b[0m \u001b[0;34m=\u001b[0m \u001b[0mself\u001b[0m\u001b[0;34m.\u001b[0m\u001b[0mvar_expand\u001b[0m\u001b[0;34m(\u001b[0m\u001b[0mline\u001b[0m\u001b[0;34m,\u001b[0m \u001b[0mstack_depth\u001b[0m\u001b[0;34m)\u001b[0m\u001b[0;34m\u001b[0m\u001b[0m\n\u001b[1;32m   2263\u001b[0m             \u001b[0;32mwith\u001b[0m \u001b[0mself\u001b[0m\u001b[0;34m.\u001b[0m\u001b[0mbuiltin_trap\u001b[0m\u001b[0;34m:\u001b[0m\u001b[0;34m\u001b[0m\u001b[0m\n\u001b[0;32m-> 2264\u001b[0;31m                 \u001b[0mresult\u001b[0m \u001b[0;34m=\u001b[0m \u001b[0mfn\u001b[0m\u001b[0;34m(\u001b[0m\u001b[0mmagic_arg_s\u001b[0m\u001b[0;34m,\u001b[0m \u001b[0mcell\u001b[0m\u001b[0;34m)\u001b[0m\u001b[0;34m\u001b[0m\u001b[0m\n\u001b[0m\u001b[1;32m   2265\u001b[0m             \u001b[0;32mreturn\u001b[0m \u001b[0mresult\u001b[0m\u001b[0;34m\u001b[0m\u001b[0m\n\u001b[1;32m   2266\u001b[0m \u001b[0;34m\u001b[0m\u001b[0m\n",
      "\u001b[0;32m/Users/George/anaconda/lib/python2.7/site-packages/IPython/core/magics/execution.pyc\u001b[0m in \u001b[0;36mtime\u001b[0;34m(self, line, cell, local_ns)\u001b[0m\n",
      "\u001b[0;32m/Users/George/anaconda/lib/python2.7/site-packages/IPython/core/magic.pyc\u001b[0m in \u001b[0;36m<lambda>\u001b[0;34m(f, *a, **k)\u001b[0m\n\u001b[1;32m    191\u001b[0m     \u001b[0;31m# but it's overkill for just that one bit of state.\u001b[0m\u001b[0;34m\u001b[0m\u001b[0;34m\u001b[0m\u001b[0m\n\u001b[1;32m    192\u001b[0m     \u001b[0;32mdef\u001b[0m \u001b[0mmagic_deco\u001b[0m\u001b[0;34m(\u001b[0m\u001b[0marg\u001b[0m\u001b[0;34m)\u001b[0m\u001b[0;34m:\u001b[0m\u001b[0;34m\u001b[0m\u001b[0m\n\u001b[0;32m--> 193\u001b[0;31m         \u001b[0mcall\u001b[0m \u001b[0;34m=\u001b[0m \u001b[0;32mlambda\u001b[0m \u001b[0mf\u001b[0m\u001b[0;34m,\u001b[0m \u001b[0;34m*\u001b[0m\u001b[0ma\u001b[0m\u001b[0;34m,\u001b[0m \u001b[0;34m**\u001b[0m\u001b[0mk\u001b[0m\u001b[0;34m:\u001b[0m \u001b[0mf\u001b[0m\u001b[0;34m(\u001b[0m\u001b[0;34m*\u001b[0m\u001b[0ma\u001b[0m\u001b[0;34m,\u001b[0m \u001b[0;34m**\u001b[0m\u001b[0mk\u001b[0m\u001b[0;34m)\u001b[0m\u001b[0;34m\u001b[0m\u001b[0m\n\u001b[0m\u001b[1;32m    194\u001b[0m \u001b[0;34m\u001b[0m\u001b[0m\n\u001b[1;32m    195\u001b[0m         \u001b[0;32mif\u001b[0m \u001b[0mcallable\u001b[0m\u001b[0;34m(\u001b[0m\u001b[0marg\u001b[0m\u001b[0;34m)\u001b[0m\u001b[0;34m:\u001b[0m\u001b[0;34m\u001b[0m\u001b[0m\n",
      "\u001b[0;32m/Users/George/anaconda/lib/python2.7/site-packages/IPython/core/magics/execution.pyc\u001b[0m in \u001b[0;36mtime\u001b[0;34m(self, line, cell, local_ns)\u001b[0m\n\u001b[1;32m   1164\u001b[0m         \u001b[0;32melse\u001b[0m\u001b[0;34m:\u001b[0m\u001b[0;34m\u001b[0m\u001b[0m\n\u001b[1;32m   1165\u001b[0m             \u001b[0mst\u001b[0m \u001b[0;34m=\u001b[0m \u001b[0mclock2\u001b[0m\u001b[0;34m(\u001b[0m\u001b[0;34m)\u001b[0m\u001b[0;34m\u001b[0m\u001b[0m\n\u001b[0;32m-> 1166\u001b[0;31m             \u001b[0;32mexec\u001b[0m\u001b[0;34m(\u001b[0m\u001b[0mcode\u001b[0m\u001b[0;34m,\u001b[0m \u001b[0mglob\u001b[0m\u001b[0;34m,\u001b[0m \u001b[0mlocal_ns\u001b[0m\u001b[0;34m)\u001b[0m\u001b[0;34m\u001b[0m\u001b[0m\n\u001b[0m\u001b[1;32m   1167\u001b[0m             \u001b[0mend\u001b[0m \u001b[0;34m=\u001b[0m \u001b[0mclock2\u001b[0m\u001b[0;34m(\u001b[0m\u001b[0;34m)\u001b[0m\u001b[0;34m\u001b[0m\u001b[0m\n\u001b[1;32m   1168\u001b[0m             \u001b[0mout\u001b[0m \u001b[0;34m=\u001b[0m \u001b[0mNone\u001b[0m\u001b[0;34m\u001b[0m\u001b[0m\n",
      "\u001b[0;32m<timed exec>\u001b[0m in \u001b[0;36m<module>\u001b[0;34m()\u001b[0m\n",
      "\u001b[0;32m/Users/George/anaconda/lib/python2.7/site-packages/pandas/core/series.pyc\u001b[0m in \u001b[0;36mmap\u001b[0;34m(self, arg, na_action)\u001b[0m\n\u001b[1;32m   2014\u001b[0m                                      index=self.index).__finalize__(self)\n\u001b[1;32m   2015\u001b[0m         \u001b[0;32melse\u001b[0m\u001b[0;34m:\u001b[0m\u001b[0;34m\u001b[0m\u001b[0m\n\u001b[0;32m-> 2016\u001b[0;31m             \u001b[0mmapped\u001b[0m \u001b[0;34m=\u001b[0m \u001b[0mmap_f\u001b[0m\u001b[0;34m(\u001b[0m\u001b[0mvalues\u001b[0m\u001b[0;34m,\u001b[0m \u001b[0marg\u001b[0m\u001b[0;34m)\u001b[0m\u001b[0;34m\u001b[0m\u001b[0m\n\u001b[0m\u001b[1;32m   2017\u001b[0m             return self._constructor(mapped,\n\u001b[1;32m   2018\u001b[0m                                      index=self.index).__finalize__(self)\n",
      "\u001b[0;32mpandas/src/inference.pyx\u001b[0m in \u001b[0;36mpandas.lib.map_infer (pandas/lib.c:58435)\u001b[0;34m()\u001b[0m\n",
      "\u001b[0;32m<ipython-input-850-dff1b0658c1e>\u001b[0m in \u001b[0;36mget_life_death\u001b[0;34m(name, extract_bday)\u001b[0m\n\u001b[1;32m     19\u001b[0m         \u001b[0mentry_url\u001b[0m \u001b[0;34m=\u001b[0m \u001b[0mbase_bday_prefix\u001b[0m \u001b[0;34m+\u001b[0m \u001b[0mname\u001b[0m\u001b[0;34m.\u001b[0m\u001b[0mreplace\u001b[0m\u001b[0;34m(\u001b[0m\u001b[0;34m' '\u001b[0m\u001b[0;34m,\u001b[0m\u001b[0;34m'_'\u001b[0m\u001b[0;34m)\u001b[0m \u001b[0;34m+\u001b[0m \u001b[0mbase_bday_suffix\u001b[0m\u001b[0;34m\u001b[0m\u001b[0m\n\u001b[1;32m     20\u001b[0m         \u001b[0mentry_text\u001b[0m \u001b[0;34m=\u001b[0m \u001b[0mrequests\u001b[0m\u001b[0;34m.\u001b[0m\u001b[0mget\u001b[0m\u001b[0;34m(\u001b[0m\u001b[0mentry_url\u001b[0m\u001b[0;34m)\u001b[0m\u001b[0;34m.\u001b[0m\u001b[0mjson\u001b[0m\u001b[0;34m(\u001b[0m\u001b[0;34m)\u001b[0m\u001b[0;34m[\u001b[0m\u001b[0;34m'query'\u001b[0m\u001b[0;34m]\u001b[0m\u001b[0;34m[\u001b[0m\u001b[0;34m'pages'\u001b[0m\u001b[0;34m]\u001b[0m\u001b[0;34m\u001b[0m\u001b[0m\n\u001b[0;32m---> 21\u001b[0;31m         \u001b[0mentry_text\u001b[0m \u001b[0;34m=\u001b[0m \u001b[0mstr\u001b[0m\u001b[0;34m(\u001b[0m\u001b[0mentry_text\u001b[0m\u001b[0;34m.\u001b[0m\u001b[0mvalues\u001b[0m\u001b[0;34m(\u001b[0m\u001b[0;34m)\u001b[0m\u001b[0;34m[\u001b[0m\u001b[0;36m0\u001b[0m\u001b[0;34m]\u001b[0m\u001b[0;34m[\u001b[0m\u001b[0;34m'revisions'\u001b[0m\u001b[0;34m]\u001b[0m\u001b[0;34m[\u001b[0m\u001b[0;36m0\u001b[0m\u001b[0;34m]\u001b[0m\u001b[0;34m[\u001b[0m\u001b[0;34m'*'\u001b[0m\u001b[0;34m]\u001b[0m\u001b[0;34m.\u001b[0m\u001b[0mencode\u001b[0m\u001b[0;34m(\u001b[0m\u001b[0;34m'utf-8'\u001b[0m\u001b[0;34m)\u001b[0m\u001b[0;34m)\u001b[0m\u001b[0;34m\u001b[0m\u001b[0m\n\u001b[0m\u001b[1;32m     22\u001b[0m \u001b[0;34m\u001b[0m\u001b[0m\n\u001b[1;32m     23\u001b[0m         \u001b[0;32mif\u001b[0m \u001b[0mextract_bday\u001b[0m\u001b[0;34m:\u001b[0m\u001b[0;34m\u001b[0m\u001b[0m\n",
      "\u001b[0;31mKeyError\u001b[0m: 'revisions'"
     ]
    }
   ],
   "source": [
    "%%time\n",
    "df_full['date_of_birth'] = df_full.name.map(get_life_death)"
   ]
  },
  {
   "cell_type": "code",
   "execution_count": null,
   "metadata": {
    "collapsed": true
   },
   "outputs": [],
   "source": [
    "df_full.shape"
   ]
  },
  {
   "cell_type": "markdown",
   "metadata": {},
   "source": [
    "Deathday"
   ]
  },
  {
   "cell_type": "code",
   "execution_count": null,
   "metadata": {
    "collapsed": true
   },
   "outputs": [],
   "source": [
    "%%time\n",
    "df_full['date_of_death'] = df_full.name.map(lambda name: get_life_death(name, extract_bday=False))"
   ]
  },
  {
   "cell_type": "code",
   "execution_count": null,
   "metadata": {
    "collapsed": true
   },
   "outputs": [],
   "source": []
  },
  {
   "cell_type": "markdown",
   "metadata": {},
   "source": [
    "## Write out file"
   ]
  },
  {
   "cell_type": "code",
   "execution_count": 28,
   "metadata": {
    "collapsed": true
   },
   "outputs": [],
   "source": [
    "df_full.to_csv('../out/celeb_deaths_wikipedia_' +\n",
    "                  month_select + '_' + str(year_select) + '.csv', \n",
    "                  index=False)"
   ]
  },
  {
   "cell_type": "markdown",
   "metadata": {},
   "source": [
    "It would be useful to plot missing data by page_size i.e. fame or \"importance.\""
   ]
  },
  {
   "cell_type": "code",
   "execution_count": null,
   "metadata": {
    "collapsed": true
   },
   "outputs": [],
   "source": []
  }
 ],
 "metadata": {
  "kernelspec": {
   "display_name": "Python 2",
   "language": "python",
   "name": "python2"
  },
  "language_info": {
   "codemirror_mode": {
    "name": "ipython",
    "version": 2
   },
   "file_extension": ".py",
   "mimetype": "text/x-python",
   "name": "python",
   "nbconvert_exporter": "python",
   "pygments_lexer": "ipython2",
   "version": "2.7.10"
  }
 },
 "nbformat": 4,
 "nbformat_minor": 0
}
