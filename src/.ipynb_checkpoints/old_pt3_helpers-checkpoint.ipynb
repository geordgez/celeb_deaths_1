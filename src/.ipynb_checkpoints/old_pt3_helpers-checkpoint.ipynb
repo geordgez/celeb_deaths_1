{
 "cells": [
  {
   "cell_type": "code",
   "execution_count": 1,
   "metadata": {
    "collapsed": true
   },
   "outputs": [],
   "source": [
    "import re\n",
    "import requests\n",
    "import json\n",
    "import sys, time"
   ]
  },
  {
   "cell_type": "code",
   "execution_count": 2,
   "metadata": {
    "collapsed": false
   },
   "outputs": [],
   "source": [
    "base_bday_prefix = 'https://en.wikipedia.org/w/api.php?action=query&format=json&titles='\n",
    "base_bday_suffix = '&prop=revisions&rvprop=content&rvsection=0'\n",
    "\n",
    "\"\"\"\n",
    "Check if an object is type int\n",
    "\"\"\"\n",
    "def is_number(elem):\n",
    "    try:\n",
    "        return type(int(elem)) == int\n",
    "    except ValueError:\n",
    "        return False\n",
    "\n",
    "\"\"\"\n",
    "Filter a list: only keep ints\n",
    "\"\"\"\n",
    "def get_only_ints(date_list):\n",
    "    return [e for e in date_list if is_number(e)]\n",
    "\n",
    "\"\"\"\n",
    "Create a date string from a match object by first extractin the numbers\n",
    "\"\"\"\n",
    "def get_date_string(date_match):\n",
    "    return \"-\".join(get_only_ints(date_match.groups()[0].strip(\" \").split('|'))[:3])\n",
    "\n",
    "\"\"\"\n",
    "For a given name (person), query Wikipedia API and return dates of birth and death\n",
    "\n",
    "Input: name\n",
    "Output: list of two [date of birth, date of death]\n",
    "\"\"\"\n",
    "life_death_counter = [0]\n",
    "no_birth_death_urls = []\n",
    "\n",
    "bday_re = re.compile('.*?\\{{2}(?:B|b)irth (?:D|d)ate(.+?)\\}{2}', re.MULTILINE|re.DOTALL)\n",
    "dday_re = re.compile('.*?\\{{2}(?:D|d)eath (?:D|d)ate(.+?)\\}{2}', re.MULTILINE|re.DOTALL)\n",
    "\n",
    "def get_life_death(name_text):\n",
    "    \n",
    "    # return value\n",
    "    life_dates_out = ['', '', True]\n",
    "    \n",
    "    try:        \n",
    "        # get page\n",
    "        entry_url = get_name_url(base_bday_prefix, name_text, base_bday_suffix)\n",
    "        entry_text = requests.get(entry_url).json()['query']['pages']\n",
    "        entry_text = str(entry_text.values()[0]['revisions'][0]['*'].encode('utf-8'))\n",
    "\n",
    "        # check for matches\n",
    "        bday_match = re.match(bday_re, entry_text)\n",
    "        dday_match = re.match(dday_re, entry_text)\n",
    "        \n",
    "        # extract dates if match\n",
    "        if bday_match:\n",
    "            life_dates_out[0] = get_date_string(bday_match)\n",
    "        if dday_match:\n",
    "            life_dates_out[1] = get_date_string(dday_match)\n",
    "        \n",
    "        # print url if no match found\n",
    "        life_dates_out[2] = not (bday_match or dday_match)\n",
    "    \n",
    "    except (AttributeError, KeyError, ValueError) as e:\n",
    "        print entry_url\n",
    "        no_birth_death_urls.append(entry_url)\n",
    "    \n",
    "    return life_dates_out"
   ]
  },
  {
   "cell_type": "code",
   "execution_count": null,
   "metadata": {
    "collapsed": true
   },
   "outputs": [],
   "source": []
  }
 ],
 "metadata": {
  "kernelspec": {
   "display_name": "Python 2",
   "language": "python",
   "name": "python2"
  },
  "language_info": {
   "codemirror_mode": {
    "name": "ipython",
    "version": 2
   },
   "file_extension": ".py",
   "mimetype": "text/x-python",
   "name": "python",
   "nbconvert_exporter": "python",
   "pygments_lexer": "ipython2",
   "version": "2.7.10"
  }
 },
 "nbformat": 4,
 "nbformat_minor": 0
}
