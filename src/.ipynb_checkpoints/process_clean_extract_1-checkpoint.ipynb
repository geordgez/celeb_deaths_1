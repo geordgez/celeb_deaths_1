{
 "cells": [
  {
   "cell_type": "code",
   "execution_count": 1,
   "metadata": {
    "collapsed": true
   },
   "outputs": [],
   "source": [
    "%matplotlib inline"
   ]
  },
  {
   "cell_type": "code",
   "execution_count": 96,
   "metadata": {
    "collapsed": true
   },
   "outputs": [],
   "source": [
    "import string\n",
    "\n",
    "import numpy as np\n",
    "import pandas as pd\n",
    "import nltk\n",
    "\n",
    "from functools import reduce\n",
    "from collections import Counter"
   ]
  },
  {
   "cell_type": "markdown",
   "metadata": {},
   "source": [
    "Initial file read and check"
   ]
  },
  {
   "cell_type": "code",
   "execution_count": 163,
   "metadata": {
    "collapsed": true
   },
   "outputs": [],
   "source": [
    "df_mont = pd.read_csv('../data/montgomery_dh_1.csv')\n",
    "df_wiki = pd.read_csv('../data/wikipedia_celebrity_deaths_4.csv')"
   ]
  },
  {
   "cell_type": "code",
   "execution_count": 154,
   "metadata": {
    "collapsed": false
   },
   "outputs": [
    {
     "name": "stdout",
     "output_type": "stream",
     "text": [
      "(158512, 4)\n"
     ]
    }
   ],
   "source": [
    "print df_mont.shape\n",
    "# dh_csv.head()"
   ]
  },
  {
   "cell_type": "code",
   "execution_count": 155,
   "metadata": {
    "collapsed": false
   },
   "outputs": [
    {
     "name": "stdout",
     "output_type": "stream",
     "text": [
      "(21458, 9)\n"
     ]
    }
   ],
   "source": [
    "print df_wiki.shape\n",
    "# wiki_csv.head()"
   ]
  },
  {
   "cell_type": "code",
   "execution_count": 156,
   "metadata": {
    "collapsed": false
   },
   "outputs": [],
   "source": [
    "# df_wiki.birth_year.value_counts()\n",
    "# df_wiki[df_wiki.birth_year < 1900]\n",
    "# df_wiki.death_year.value_counts()"
   ]
  },
  {
   "cell_type": "code",
   "execution_count": 157,
   "metadata": {
    "collapsed": false,
    "scrolled": true
   },
   "outputs": [],
   "source": [
    "# df_wiki.nationality.value_counts()"
   ]
  },
  {
   "cell_type": "code",
   "execution_count": 159,
   "metadata": {
    "collapsed": false
   },
   "outputs": [
    {
     "data": {
      "text/html": [
       "<div>\n",
       "<table border=\"1\" class=\"dataframe\">\n",
       "  <thead>\n",
       "    <tr style=\"text-align: right;\">\n",
       "      <th></th>\n",
       "      <th>age</th>\n",
       "      <th>birth_year</th>\n",
       "      <th>cause_of_death</th>\n",
       "      <th>death_month</th>\n",
       "      <th>death_year</th>\n",
       "      <th>famous_for</th>\n",
       "      <th>name</th>\n",
       "      <th>nationality</th>\n",
       "      <th>fame_score</th>\n",
       "    </tr>\n",
       "  </thead>\n",
       "  <tbody>\n",
       "    <tr>\n",
       "      <th>0</th>\n",
       "      <td>85</td>\n",
       "      <td>1921</td>\n",
       "      <td>natural causes</td>\n",
       "      <td>January</td>\n",
       "      <td>2006</td>\n",
       "      <td>businessman chairman of IBM (1973���1981)</td>\n",
       "      <td>Frank Cary</td>\n",
       "      <td>American</td>\n",
       "      <td>1</td>\n",
       "    </tr>\n",
       "    <tr>\n",
       "      <th>1</th>\n",
       "      <td>49</td>\n",
       "      <td>1957</td>\n",
       "      <td>murdered</td>\n",
       "      <td>January</td>\n",
       "      <td>2006</td>\n",
       "      <td>musician (House of Freaks Gutterball)</td>\n",
       "      <td>Bryan Harvey</td>\n",
       "      <td>American</td>\n",
       "      <td>2</td>\n",
       "    </tr>\n",
       "    <tr>\n",
       "      <th>2</th>\n",
       "      <td>64</td>\n",
       "      <td>1942</td>\n",
       "      <td>Alzheimer's disease</td>\n",
       "      <td>January</td>\n",
       "      <td>2006</td>\n",
       "      <td>baseball player (Oakland Athletics)</td>\n",
       "      <td>Paul Lindblad</td>\n",
       "      <td>American</td>\n",
       "      <td>1</td>\n",
       "    </tr>\n",
       "    <tr>\n",
       "      <th>3</th>\n",
       "      <td>86</td>\n",
       "      <td>1920</td>\n",
       "      <td>Alzheimer's disease</td>\n",
       "      <td>January</td>\n",
       "      <td>2006</td>\n",
       "      <td>politician Representative from Oregon (1957��...</td>\n",
       "      <td>Charles O. Porter</td>\n",
       "      <td>American</td>\n",
       "      <td>2</td>\n",
       "    </tr>\n",
       "    <tr>\n",
       "      <th>4</th>\n",
       "      <td>82</td>\n",
       "      <td>1924</td>\n",
       "      <td>cancer</td>\n",
       "      <td>January</td>\n",
       "      <td>2006</td>\n",
       "      <td>nightclub owner (Tropicana Club)</td>\n",
       "      <td>Ofelia Fox</td>\n",
       "      <td>Cuban</td>\n",
       "      <td>NaN</td>\n",
       "    </tr>\n",
       "  </tbody>\n",
       "</table>\n",
       "</div>"
      ],
      "text/plain": [
       "   age  birth_year        cause_of_death death_month  death_year  \\\n",
       "0   85        1921        natural causes     January        2006   \n",
       "1   49        1957              murdered     January        2006   \n",
       "2   64        1942   Alzheimer's disease     January        2006   \n",
       "3   86        1920   Alzheimer's disease     January        2006   \n",
       "4   82        1924                cancer     January        2006   \n",
       "\n",
       "                                          famous_for               name  \\\n",
       "0          businessman chairman of IBM (1973���1981)         Frank Cary   \n",
       "1              musician (House of Freaks Gutterball)       Bryan Harvey   \n",
       "2                baseball player (Oakland Athletics)      Paul Lindblad   \n",
       "3   politician Representative from Oregon (1957��...  Charles O. Porter   \n",
       "4                   nightclub owner (Tropicana Club)         Ofelia Fox   \n",
       "\n",
       "  nationality  fame_score  \n",
       "0    American           1  \n",
       "1    American           2  \n",
       "2    American           1  \n",
       "3    American           2  \n",
       "4       Cuban         NaN  "
      ]
     },
     "execution_count": 159,
     "metadata": {},
     "output_type": "execute_result"
    }
   ],
   "source": [
    "df_wiki.head()\n",
    "# df_wiki[df_wiki.nationality == 'Libyan']"
   ]
  },
  {
   "cell_type": "code",
   "execution_count": 165,
   "metadata": {
    "collapsed": true
   },
   "outputs": [],
   "source": [
    "df_wiki['nationality'] = df_wiki.nationality.map(lambda text: text.replace(\"-born\", \"\"))"
   ]
  },
  {
   "cell_type": "code",
   "execution_count": 166,
   "metadata": {
    "collapsed": false
   },
   "outputs": [
    {
     "data": {
      "text/plain": [
       "American             8068\n",
       "British              1506\n",
       "Canadian              916\n",
       "English               628\n",
       "Australian            619\n",
       "Italian               553\n",
       "German                537\n",
       "French                448\n",
       "Indian                402\n",
       "Russian               376\n",
       "Norwegian             292\n",
       "Dutch                 280\n",
       "Brazilian             273\n",
       "Japanese              267\n",
       "Irish                 266\n",
       "Spanish               249\n",
       "Scottish              237\n",
       "Polish                230\n",
       "Swedish               207\n",
       "Mexican               204\n",
       "New                   183\n",
       "Hungarian             168\n",
       "Argentine             160\n",
       "South                 136\n",
       "Belgian               128\n",
       "Austrian              122\n",
       "Romanian              119\n",
       "Filipino              118\n",
       "Czech                 113\n",
       "Chinese               105\n",
       "                     ... \n",
       "built                   1\n",
       "Violinist               1\n",
       "Greek-Cypriot           1\n",
       "Sandinista              1\n",
       "Chief                   1\n",
       "Environmental           1\n",
       "Guernsey                1\n",
       "English-American        1\n",
       "boxer                   1\n",
       "Gordon                  1\n",
       "Marshall                1\n",
       "Kentucky                1\n",
       "screenwriter            1\n",
       "Korean                  1\n",
       "Wife                    1\n",
       "Historian               1\n",
       "Dancer                  1\n",
       "Ghoulish                1\n",
       "Uruguayan-Italian       1\n",
       "Omani                   1\n",
       "sailor\\rCamille         1\n",
       "Bavarian                1\n",
       "humanitarian            1\n",
       "Soviet-Ukrainian        1\n",
       "Samoan                  1\n",
       "Luxembourg              1\n",
       "Lebanese-Canadian       1\n",
       "N.B.A.                  1\n",
       "Wallisian               1\n",
       "British-German          1\n",
       "dtype: int64"
      ]
     },
     "execution_count": 166,
     "metadata": {},
     "output_type": "execute_result"
    }
   ],
   "source": [
    "df_wiki.nationality.value_counts()"
   ]
  },
  {
   "cell_type": "code",
   "execution_count": 125,
   "metadata": {
    "collapsed": false,
    "scrolled": true
   },
   "outputs": [
    {
     "data": {
      "text/html": [
       "<div>\n",
       "<table border=\"1\" class=\"dataframe\">\n",
       "  <thead>\n",
       "    <tr style=\"text-align: right;\">\n",
       "      <th></th>\n",
       "      <th>age</th>\n",
       "      <th>birth_year</th>\n",
       "      <th>cause_of_death</th>\n",
       "      <th>death_month</th>\n",
       "      <th>death_year</th>\n",
       "      <th>famous_for</th>\n",
       "      <th>name</th>\n",
       "      <th>nationality</th>\n",
       "      <th>fame_score</th>\n",
       "      <th>fame_text</th>\n",
       "    </tr>\n",
       "  </thead>\n",
       "  <tbody>\n",
       "    <tr>\n",
       "      <th>882</th>\n",
       "      <td>62</td>\n",
       "      <td>1945</td>\n",
       "      <td>cancer</td>\n",
       "      <td>August</td>\n",
       "      <td>2007</td>\n",
       "      <td>member of parliament</td>\n",
       "      <td>Bahaedin Adab</td>\n",
       "      <td>Irania</td>\n",
       "      <td>2</td>\n",
       "      <td>member of parliament</td>\n",
       "    </tr>\n",
       "    <tr>\n",
       "      <th>6521</th>\n",
       "      <td>59</td>\n",
       "      <td>1952</td>\n",
       "      <td>NaN</td>\n",
       "      <td>April</td>\n",
       "      <td>2011</td>\n",
       "      <td>parliamentary leader of One Nation (2001���2004)</td>\n",
       "      <td>Bill Flynn</td>\n",
       "      <td>Australia</td>\n",
       "      <td>2</td>\n",
       "      <td>parliamentary leader of One Nation 2001���2004</td>\n",
       "    </tr>\n",
       "    <tr>\n",
       "      <th>8287</th>\n",
       "      <td>88</td>\n",
       "      <td>1924</td>\n",
       "      <td>NaN</td>\n",
       "      <td>February</td>\n",
       "      <td>2012</td>\n",
       "      <td>member of parliament (1973���1977)</td>\n",
       "      <td>Reidar T. Larsen</td>\n",
       "      <td>Norwegia</td>\n",
       "      <td>3</td>\n",
       "      <td>member of parliament 1973���1977</td>\n",
       "    </tr>\n",
       "    <tr>\n",
       "      <th>13458</th>\n",
       "      <td>79</td>\n",
       "      <td>1935</td>\n",
       "      <td>stroke</td>\n",
       "      <td>April</td>\n",
       "      <td>2014</td>\n",
       "      <td>politician Senator for Tasmania (1975���2005)...</td>\n",
       "      <td>Brian Harradine</td>\n",
       "      <td>Australia</td>\n",
       "      <td>14</td>\n",
       "      <td>politician Senator for Tasmania 1975���2005 l...</td>\n",
       "    </tr>\n",
       "  </tbody>\n",
       "</table>\n",
       "</div>"
      ],
      "text/plain": [
       "       age  birth_year cause_of_death death_month  death_year  \\\n",
       "882     62        1945         cancer      August        2007   \n",
       "6521    59        1952            NaN       April        2011   \n",
       "8287    88        1924            NaN    February        2012   \n",
       "13458   79        1935         stroke       April        2014   \n",
       "\n",
       "                                              famous_for              name  \\\n",
       "882                                 member of parliament     Bahaedin Adab   \n",
       "6521    parliamentary leader of One Nation (2001���2004)        Bill Flynn   \n",
       "8287                  member of parliament (1973���1977)  Reidar T. Larsen   \n",
       "13458   politician Senator for Tasmania (1975���2005)...   Brian Harradine   \n",
       "\n",
       "      nationality  fame_score  \\\n",
       "882        Irania           2   \n",
       "6521    Australia           2   \n",
       "8287     Norwegia           3   \n",
       "13458   Australia          14   \n",
       "\n",
       "                                               fame_text  \n",
       "882                                 member of parliament  \n",
       "6521      parliamentary leader of One Nation 2001���2004  \n",
       "8287                    member of parliament 1973���1977  \n",
       "13458   politician Senator for Tasmania 1975���2005 l...  "
      ]
     },
     "execution_count": 125,
     "metadata": {},
     "output_type": "execute_result"
    }
   ],
   "source": [
    "keyword = \"parliament\"\n",
    "df_wiki[df_wiki.famous_for.map(lambda text: keyword in str(text))]"
   ]
  },
  {
   "cell_type": "code",
   "execution_count": 128,
   "metadata": {
    "collapsed": false
   },
   "outputs": [
    {
     "data": {
      "text/html": [
       "<div>\n",
       "<table border=\"1\" class=\"dataframe\">\n",
       "  <thead>\n",
       "    <tr style=\"text-align: right;\">\n",
       "      <th></th>\n",
       "      <th>age</th>\n",
       "      <th>birth_year</th>\n",
       "      <th>cause_of_death</th>\n",
       "      <th>death_month</th>\n",
       "      <th>death_year</th>\n",
       "      <th>famous_for</th>\n",
       "      <th>name</th>\n",
       "      <th>nationality</th>\n",
       "      <th>fame_score</th>\n",
       "      <th>fame_text</th>\n",
       "    </tr>\n",
       "  </thead>\n",
       "  <tbody>\n",
       "  </tbody>\n",
       "</table>\n",
       "</div>"
      ],
      "text/plain": [
       "Empty DataFrame\n",
       "Columns: [age, birth_year, cause_of_death, death_month, death_year, famous_for, name, nationality, fame_score, fame_text]\n",
       "Index: []"
      ]
     },
     "execution_count": 128,
     "metadata": {},
     "output_type": "execute_result"
    }
   ],
   "source": [
    "keyword = \"born\"\n",
    "df_wiki[df_wiki.nationality.map(lambda text: keyword in str(text))]"
   ]
  },
  {
   "cell_type": "markdown",
   "metadata": {},
   "source": [
    "Don't do this:"
   ]
  },
  {
   "cell_type": "markdown",
   "metadata": {},
   "source": [
    "all_text = []\n",
    "word_counter = {}\n",
    "df_wiki['fame_text'] = df_wiki.famous_for.map(\n",
    "    lambda text: \"\".join([w.translate(None, string.punctuation) for w in str(text).split(\" \")])\n",
    "\n",
    "for idx, row in df_wiki.iterrows():\n",
    "    all_text += extend(row['fame_text'])\n",
    "    \n",
    "all_text = [word for word in all_text if word != '']"
   ]
  },
  {
   "cell_type": "markdown",
   "metadata": {},
   "source": [
    "This is more efficient:"
   ]
  },
  {
   "cell_type": "code",
   "execution_count": 129,
   "metadata": {
    "collapsed": false
   },
   "outputs": [],
   "source": [
    "all_text_string = \"\"\n",
    "word_counter = {}\n",
    "df_wiki['fame_text'] = df_wiki.famous_for.map(\n",
    "    lambda text: \" \".join([w.translate(None, string.punctuation) for w in str(text).split(\" \")]))\n",
    "\n",
    "for idx, row in df_wiki.iterrows():\n",
    "    all_text_string += row['fame_text']"
   ]
  },
  {
   "cell_type": "code",
   "execution_count": 12,
   "metadata": {
    "collapsed": false
   },
   "outputs": [],
   "source": [
    "def get_word_counts(text_block):\n",
    "    word_list = nltk.word_tokenize(text_block)\n",
    "    word_counts = {}\n",
    "    for word in word_list:\n",
    "        if word in word_counts.keys():\n",
    "            word_counts[word] += 1\n",
    "        else:\n",
    "            word_counts[word] = 1\n",
    "    print \"Number of words:\", len(word_counts)\n",
    "    return word_counts"
   ]
  },
  {
   "cell_type": "code",
   "execution_count": 13,
   "metadata": {
    "collapsed": false
   },
   "outputs": [
    {
     "name": "stdout",
     "output_type": "stream",
     "text": [
      "Number of words: 16526\n",
      "CPU times: user 49 s, sys: 492 ms, total: 49.5 s\n",
      "Wall time: 51.2 s\n"
     ]
    }
   ],
   "source": [
    "%%time\n",
    "word_counter = get_word_counts(all_text_string)"
   ]
  },
  {
   "cell_type": "code",
   "execution_count": 14,
   "metadata": {
    "collapsed": false
   },
   "outputs": [],
   "source": [
    "word_count_table = pd.DataFrame.from_dict(word_counter, orient='index')\n",
    "word_count_table.reset_index(inplace=True)\n",
    "word_count_table.columns = ['word', 'count']"
   ]
  },
  {
   "cell_type": "code",
   "execution_count": 15,
   "metadata": {
    "collapsed": false
   },
   "outputs": [],
   "source": [
    "word_count_table['part_of_speech'] = word_count_table.word.map(\n",
    "    lambda word: nltk.pos_tag([word])[0][1])"
   ]
  },
  {
   "cell_type": "code",
   "execution_count": 16,
   "metadata": {
    "collapsed": false,
    "scrolled": true
   },
   "outputs": [
    {
     "data": {
      "text/html": [
       "<div>\n",
       "<table border=\"1\" class=\"dataframe\">\n",
       "  <thead>\n",
       "    <tr style=\"text-align: right;\">\n",
       "      <th></th>\n",
       "      <th>word</th>\n",
       "      <th>count</th>\n",
       "      <th>part_of_speech</th>\n",
       "    </tr>\n",
       "  </thead>\n",
       "  <tbody>\n",
       "    <tr>\n",
       "      <th>702</th>\n",
       "      <td>player</td>\n",
       "      <td>2649</td>\n",
       "      <td>NN</td>\n",
       "    </tr>\n",
       "    <tr>\n",
       "      <th>10984</th>\n",
       "      <td>politician</td>\n",
       "      <td>1788</td>\n",
       "      <td>NN</td>\n",
       "    </tr>\n",
       "    <tr>\n",
       "      <th>965</th>\n",
       "      <td>actor</td>\n",
       "      <td>1551</td>\n",
       "      <td>NN</td>\n",
       "    </tr>\n",
       "    <tr>\n",
       "      <th>7978</th>\n",
       "      <td>footballer</td>\n",
       "      <td>1243</td>\n",
       "      <td>NN</td>\n",
       "    </tr>\n",
       "    <tr>\n",
       "      <th>13385</th>\n",
       "      <td>football</td>\n",
       "      <td>1221</td>\n",
       "      <td>NN</td>\n",
       "    </tr>\n",
       "    <tr>\n",
       "      <th>16217</th>\n",
       "      <td>member</td>\n",
       "      <td>1216</td>\n",
       "      <td>NN</td>\n",
       "    </tr>\n",
       "    <tr>\n",
       "      <th>15032</th>\n",
       "      <td>Olympic</td>\n",
       "      <td>1147</td>\n",
       "      <td>NN</td>\n",
       "    </tr>\n",
       "    <tr>\n",
       "      <th>14201</th>\n",
       "      <td>actress</td>\n",
       "      <td>881</td>\n",
       "      <td>NN</td>\n",
       "    </tr>\n",
       "    <tr>\n",
       "      <th>13530</th>\n",
       "      <td>baseball</td>\n",
       "      <td>776</td>\n",
       "      <td>NN</td>\n",
       "    </tr>\n",
       "    <tr>\n",
       "      <th>5067</th>\n",
       "      <td>Bishop</td>\n",
       "      <td>770</td>\n",
       "      <td>NN</td>\n",
       "    </tr>\n",
       "    <tr>\n",
       "      <th>14163</th>\n",
       "      <td>director</td>\n",
       "      <td>533</td>\n",
       "      <td>NN</td>\n",
       "    </tr>\n",
       "    <tr>\n",
       "      <th>10220</th>\n",
       "      <td>film</td>\n",
       "      <td>504</td>\n",
       "      <td>NN</td>\n",
       "    </tr>\n",
       "    <tr>\n",
       "      <th>1135</th>\n",
       "      <td>MP</td>\n",
       "      <td>502</td>\n",
       "      <td>NN</td>\n",
       "    </tr>\n",
       "    <tr>\n",
       "      <th>13412</th>\n",
       "      <td>coach</td>\n",
       "      <td>497</td>\n",
       "      <td>NN</td>\n",
       "    </tr>\n",
       "    <tr>\n",
       "      <th>495</th>\n",
       "      <td>singer</td>\n",
       "      <td>487</td>\n",
       "      <td>NN</td>\n",
       "    </tr>\n",
       "    <tr>\n",
       "      <th>5545</th>\n",
       "      <td>television</td>\n",
       "      <td>403</td>\n",
       "      <td>NN</td>\n",
       "    </tr>\n",
       "    <tr>\n",
       "      <th>402</th>\n",
       "      <td>basketball</td>\n",
       "      <td>400</td>\n",
       "      <td>NN</td>\n",
       "    </tr>\n",
       "    <tr>\n",
       "      <th>2572</th>\n",
       "      <td>writer</td>\n",
       "      <td>391</td>\n",
       "      <td>NN</td>\n",
       "    </tr>\n",
       "    <tr>\n",
       "      <th>3345</th>\n",
       "      <td>producer</td>\n",
       "      <td>374</td>\n",
       "      <td>NN</td>\n",
       "    </tr>\n",
       "    <tr>\n",
       "      <th>15583</th>\n",
       "      <td>State</td>\n",
       "      <td>363</td>\n",
       "      <td>NN</td>\n",
       "    </tr>\n",
       "    <tr>\n",
       "      <th>10774</th>\n",
       "      <td>Governor</td>\n",
       "      <td>324</td>\n",
       "      <td>NN</td>\n",
       "    </tr>\n",
       "    <tr>\n",
       "      <th>12195</th>\n",
       "      <td>journalist</td>\n",
       "      <td>324</td>\n",
       "      <td>NN</td>\n",
       "    </tr>\n",
       "    <tr>\n",
       "      <th>1072</th>\n",
       "      <td>team</td>\n",
       "      <td>322</td>\n",
       "      <td>NN</td>\n",
       "    </tr>\n",
       "    <tr>\n",
       "      <th>15682</th>\n",
       "      <td>musician</td>\n",
       "      <td>317</td>\n",
       "      <td>NN</td>\n",
       "    </tr>\n",
       "    <tr>\n",
       "      <th>1530</th>\n",
       "      <td>hockey</td>\n",
       "      <td>310</td>\n",
       "      <td>NN</td>\n",
       "    </tr>\n",
       "    <tr>\n",
       "      <th>2735</th>\n",
       "      <td>champion</td>\n",
       "      <td>309</td>\n",
       "      <td>NN</td>\n",
       "    </tr>\n",
       "    <tr>\n",
       "      <th>14142</th>\n",
       "      <td>author</td>\n",
       "      <td>294</td>\n",
       "      <td>NN</td>\n",
       "    </tr>\n",
       "    <tr>\n",
       "      <th>13243</th>\n",
       "      <td>ice</td>\n",
       "      <td>273</td>\n",
       "      <td>NN</td>\n",
       "    </tr>\n",
       "    <tr>\n",
       "      <th>12141</th>\n",
       "      <td>executive</td>\n",
       "      <td>249</td>\n",
       "      <td>NN</td>\n",
       "    </tr>\n",
       "    <tr>\n",
       "      <th>9748</th>\n",
       "      <td>medalist</td>\n",
       "      <td>246</td>\n",
       "      <td>NN</td>\n",
       "    </tr>\n",
       "    <tr>\n",
       "      <th>...</th>\n",
       "      <td>...</td>\n",
       "      <td>...</td>\n",
       "      <td>...</td>\n",
       "    </tr>\n",
       "    <tr>\n",
       "      <th>981</th>\n",
       "      <td>Melbourne</td>\n",
       "      <td>28</td>\n",
       "      <td>NN</td>\n",
       "    </tr>\n",
       "    <tr>\n",
       "      <th>3023</th>\n",
       "      <td>MEP</td>\n",
       "      <td>28</td>\n",
       "      <td>NN</td>\n",
       "    </tr>\n",
       "    <tr>\n",
       "      <th>1612</th>\n",
       "      <td>jumper</td>\n",
       "      <td>27</td>\n",
       "      <td>NN</td>\n",
       "    </tr>\n",
       "    <tr>\n",
       "      <th>12272</th>\n",
       "      <td>female</td>\n",
       "      <td>27</td>\n",
       "      <td>NN</td>\n",
       "    </tr>\n",
       "    <tr>\n",
       "      <th>2370</th>\n",
       "      <td>Zone</td>\n",
       "      <td>27</td>\n",
       "      <td>NN</td>\n",
       "    </tr>\n",
       "    <tr>\n",
       "      <th>9721</th>\n",
       "      <td>theatre</td>\n",
       "      <td>27</td>\n",
       "      <td>NN</td>\n",
       "    </tr>\n",
       "    <tr>\n",
       "      <th>14494</th>\n",
       "      <td>Alaska</td>\n",
       "      <td>27</td>\n",
       "      <td>NN</td>\n",
       "    </tr>\n",
       "    <tr>\n",
       "      <th>347</th>\n",
       "      <td>Super</td>\n",
       "      <td>27</td>\n",
       "      <td>NN</td>\n",
       "    </tr>\n",
       "    <tr>\n",
       "      <th>14073</th>\n",
       "      <td>polo</td>\n",
       "      <td>27</td>\n",
       "      <td>NN</td>\n",
       "    </tr>\n",
       "    <tr>\n",
       "      <th>10087</th>\n",
       "      <td>Men</td>\n",
       "      <td>27</td>\n",
       "      <td>NN</td>\n",
       "    </tr>\n",
       "    <tr>\n",
       "      <th>9751</th>\n",
       "      <td>show</td>\n",
       "      <td>26</td>\n",
       "      <td>NN</td>\n",
       "    </tr>\n",
       "    <tr>\n",
       "      <th>5378</th>\n",
       "      <td>RB</td>\n",
       "      <td>26</td>\n",
       "      <td>NN</td>\n",
       "    </tr>\n",
       "    <tr>\n",
       "      <th>8704</th>\n",
       "      <td>ambassador</td>\n",
       "      <td>26</td>\n",
       "      <td>NN</td>\n",
       "    </tr>\n",
       "    <tr>\n",
       "      <th>4186</th>\n",
       "      <td>Queen</td>\n",
       "      <td>26</td>\n",
       "      <td>NN</td>\n",
       "    </tr>\n",
       "    <tr>\n",
       "      <th>2726</th>\n",
       "      <td>Queensland</td>\n",
       "      <td>26</td>\n",
       "      <td>NN</td>\n",
       "    </tr>\n",
       "    <tr>\n",
       "      <th>4926</th>\n",
       "      <td>School</td>\n",
       "      <td>26</td>\n",
       "      <td>NN</td>\n",
       "    </tr>\n",
       "    <tr>\n",
       "      <th>10258</th>\n",
       "      <td>Year</td>\n",
       "      <td>26</td>\n",
       "      <td>NN</td>\n",
       "    </tr>\n",
       "    <tr>\n",
       "      <th>11337</th>\n",
       "      <td>Saint</td>\n",
       "      <td>26</td>\n",
       "      <td>NN</td>\n",
       "    </tr>\n",
       "    <tr>\n",
       "      <th>13579</th>\n",
       "      <td>conductor</td>\n",
       "      <td>26</td>\n",
       "      <td>NN</td>\n",
       "    </tr>\n",
       "    <tr>\n",
       "      <th>13581</th>\n",
       "      <td>Opera</td>\n",
       "      <td>26</td>\n",
       "      <td>NN</td>\n",
       "    </tr>\n",
       "    <tr>\n",
       "      <th>11150</th>\n",
       "      <td>commentator</td>\n",
       "      <td>26</td>\n",
       "      <td>NN</td>\n",
       "    </tr>\n",
       "    <tr>\n",
       "      <th>10264</th>\n",
       "      <td>founder</td>\n",
       "      <td>25</td>\n",
       "      <td>NN</td>\n",
       "    </tr>\n",
       "    <tr>\n",
       "      <th>4352</th>\n",
       "      <td>production</td>\n",
       "      <td>25</td>\n",
       "      <td>NN</td>\n",
       "    </tr>\n",
       "    <tr>\n",
       "      <th>14897</th>\n",
       "      <td>Road</td>\n",
       "      <td>25</td>\n",
       "      <td>NN</td>\n",
       "    </tr>\n",
       "    <tr>\n",
       "      <th>14063</th>\n",
       "      <td>pop</td>\n",
       "      <td>25</td>\n",
       "      <td>NN</td>\n",
       "    </tr>\n",
       "    <tr>\n",
       "      <th>1426</th>\n",
       "      <td>inventor</td>\n",
       "      <td>25</td>\n",
       "      <td>NN</td>\n",
       "    </tr>\n",
       "    <tr>\n",
       "      <th>96</th>\n",
       "      <td>reporter</td>\n",
       "      <td>25</td>\n",
       "      <td>NN</td>\n",
       "    </tr>\n",
       "    <tr>\n",
       "      <th>11292</th>\n",
       "      <td>Medal</td>\n",
       "      <td>25</td>\n",
       "      <td>NN</td>\n",
       "    </tr>\n",
       "    <tr>\n",
       "      <th>15065</th>\n",
       "      <td>Oregon</td>\n",
       "      <td>25</td>\n",
       "      <td>NN</td>\n",
       "    </tr>\n",
       "    <tr>\n",
       "      <th>3951</th>\n",
       "      <td>documentary</td>\n",
       "      <td>25</td>\n",
       "      <td>NN</td>\n",
       "    </tr>\n",
       "  </tbody>\n",
       "</table>\n",
       "<p>300 rows × 3 columns</p>\n",
       "</div>"
      ],
      "text/plain": [
       "              word  count part_of_speech\n",
       "702         player   2649             NN\n",
       "10984   politician   1788             NN\n",
       "965          actor   1551             NN\n",
       "7978    footballer   1243             NN\n",
       "13385     football   1221             NN\n",
       "16217       member   1216             NN\n",
       "15032      Olympic   1147             NN\n",
       "14201      actress    881             NN\n",
       "13530     baseball    776             NN\n",
       "5067        Bishop    770             NN\n",
       "14163     director    533             NN\n",
       "10220         film    504             NN\n",
       "1135            MP    502             NN\n",
       "13412        coach    497             NN\n",
       "495         singer    487             NN\n",
       "5545    television    403             NN\n",
       "402     basketball    400             NN\n",
       "2572        writer    391             NN\n",
       "3345      producer    374             NN\n",
       "15583        State    363             NN\n",
       "10774     Governor    324             NN\n",
       "12195   journalist    324             NN\n",
       "1072          team    322             NN\n",
       "15682     musician    317             NN\n",
       "1530        hockey    310             NN\n",
       "2735      champion    309             NN\n",
       "14142       author    294             NN\n",
       "13243          ice    273             NN\n",
       "12141    executive    249             NN\n",
       "9748      medalist    246             NN\n",
       "...            ...    ...            ...\n",
       "981      Melbourne     28             NN\n",
       "3023           MEP     28             NN\n",
       "1612        jumper     27             NN\n",
       "12272       female     27             NN\n",
       "2370          Zone     27             NN\n",
       "9721       theatre     27             NN\n",
       "14494       Alaska     27             NN\n",
       "347          Super     27             NN\n",
       "14073         polo     27             NN\n",
       "10087          Men     27             NN\n",
       "9751          show     26             NN\n",
       "5378            RB     26             NN\n",
       "8704    ambassador     26             NN\n",
       "4186         Queen     26             NN\n",
       "2726    Queensland     26             NN\n",
       "4926        School     26             NN\n",
       "10258         Year     26             NN\n",
       "11337        Saint     26             NN\n",
       "13579    conductor     26             NN\n",
       "13581        Opera     26             NN\n",
       "11150  commentator     26             NN\n",
       "10264      founder     25             NN\n",
       "4352    production     25             NN\n",
       "14897         Road     25             NN\n",
       "14063          pop     25             NN\n",
       "1426      inventor     25             NN\n",
       "96        reporter     25             NN\n",
       "11292        Medal     25             NN\n",
       "15065       Oregon     25             NN\n",
       "3951   documentary     25             NN\n",
       "\n",
       "[300 rows x 3 columns]"
      ]
     },
     "execution_count": 16,
     "metadata": {},
     "output_type": "execute_result"
    }
   ],
   "source": [
    "noun_type_list = [\"NN\", \"NP\"]\n",
    "word_count_table[word_count_table.part_of_speech.map(\n",
    "        lambda e: e in noun_type_list)].sort('count', ascending=False).head(300)"
   ]
  },
  {
   "cell_type": "markdown",
   "metadata": {
    "collapsed": true
   },
   "source": [
    "Notes:\n",
    "- \"MP\" (more frequently used) stands for \"member of parlianemt\" (less frequently used)"
   ]
  },
  {
   "cell_type": "markdown",
   "metadata": {},
   "source": [
    "### Nationality mapping\n",
    "\n",
    "Using list compiled from [here](https://github.com/Dinu/country-nationality-list/blob/master/countries.csv) which in turn grabs from [Wikipedia's page](https://en.wikipedia.org/wiki/List_of_adjectival_and_demonymic_forms_for_countries_and_nations) for adjectival and demonymic forms for countries and nations."
   ]
  },
  {
   "cell_type": "code",
   "execution_count": 85,
   "metadata": {
    "collapsed": false
   },
   "outputs": [
    {
     "name": "stdout",
     "output_type": "stream",
     "text": [
      "(249, 5)\n"
     ]
    },
    {
     "data": {
      "text/html": [
       "<div>\n",
       "<table border=\"1\" class=\"dataframe\">\n",
       "  <thead>\n",
       "    <tr style=\"text-align: right;\">\n",
       "      <th></th>\n",
       "      <th>num_code</th>\n",
       "      <th>alpha_2_code</th>\n",
       "      <th>alpha_3_code</th>\n",
       "      <th>en_short_name</th>\n",
       "      <th>nationality</th>\n",
       "    </tr>\n",
       "  </thead>\n",
       "  <tbody>\n",
       "    <tr>\n",
       "      <th>0</th>\n",
       "      <td>4</td>\n",
       "      <td>AF</td>\n",
       "      <td>AFG</td>\n",
       "      <td>Afghanistan</td>\n",
       "      <td>Afghan</td>\n",
       "    </tr>\n",
       "    <tr>\n",
       "      <th>1</th>\n",
       "      <td>248</td>\n",
       "      <td>AX</td>\n",
       "      <td>ALA</td>\n",
       "      <td>Åland Islands</td>\n",
       "      <td>Åland Island</td>\n",
       "    </tr>\n",
       "    <tr>\n",
       "      <th>2</th>\n",
       "      <td>8</td>\n",
       "      <td>AL</td>\n",
       "      <td>ALB</td>\n",
       "      <td>Albania</td>\n",
       "      <td>Albanian</td>\n",
       "    </tr>\n",
       "    <tr>\n",
       "      <th>3</th>\n",
       "      <td>12</td>\n",
       "      <td>DZ</td>\n",
       "      <td>DZA</td>\n",
       "      <td>Algeria</td>\n",
       "      <td>Algerian</td>\n",
       "    </tr>\n",
       "    <tr>\n",
       "      <th>4</th>\n",
       "      <td>16</td>\n",
       "      <td>AS</td>\n",
       "      <td>ASM</td>\n",
       "      <td>American Samoa</td>\n",
       "      <td>American Samoan</td>\n",
       "    </tr>\n",
       "  </tbody>\n",
       "</table>\n",
       "</div>"
      ],
      "text/plain": [
       "   num_code alpha_2_code alpha_3_code   en_short_name      nationality\n",
       "0         4           AF          AFG     Afghanistan           Afghan\n",
       "1       248           AX          ALA   Åland Islands     Åland Island\n",
       "2         8           AL          ALB         Albania         Albanian\n",
       "3        12           DZ          DZA         Algeria         Algerian\n",
       "4        16           AS          ASM  American Samoa  American Samoan"
      ]
     },
     "execution_count": 85,
     "metadata": {},
     "output_type": "execute_result"
    }
   ],
   "source": [
    "natl_mapping = pd.read_csv('../data/countries.csv')\n",
    "print natl_mapping.shape\n",
    "natl_mapping.head()"
   ]
  },
  {
   "cell_type": "code",
   "execution_count": 86,
   "metadata": {
    "collapsed": false
   },
   "outputs": [
    {
     "name": "stderr",
     "output_type": "stream",
     "text": [
      "/Users/George/anaconda/lib/python2.7/site-packages/IPython/kernel/__main__.py:3: SettingWithCopyWarning: \n",
      "A value is trying to be set on a copy of a slice from a DataFrame.\n",
      "Try using .loc[row_indexer,col_indexer] = value instead\n",
      "\n",
      "See the the caveats in the documentation: http://pandas.pydata.org/pandas-docs/stable/indexing.html#indexing-view-versus-copy\n",
      "  app.launch_new_instance()\n"
     ]
    }
   ],
   "source": [
    "text_filter = (lambda text: \" or \" in text)\n",
    "idx_with_text = natl_mapping.nationality.map(text_filter)\n",
    "natl_mapping[idx_with_text]['nationality_text_list'] = \\\n",
    "   natl_mapping[idx_with_text].nationality.map(lambda text: text.replace(\" or \", \", \"))"
   ]
  },
  {
   "cell_type": "markdown",
   "metadata": {},
   "source": [
    "List of nationalities:"
   ]
  },
  {
   "cell_type": "code",
   "execution_count": 87,
   "metadata": {
    "collapsed": true
   },
   "outputs": [],
   "source": [
    "\"\"\"\n",
    "Run once\n",
    "\"\"\"\n",
    "natl_mapping.nationality = \\\n",
    "    natl_mapping.nationality.map(lambda text: text.replace(\" or \", \", \").split(\", \"))"
   ]
  },
  {
   "cell_type": "code",
   "execution_count": 104,
   "metadata": {
    "collapsed": false,
    "scrolled": true
   },
   "outputs": [
    {
     "data": {
      "text/plain": [
       "Counter({'Chinese': 3, 'American': 2, 'Dominican': 2, 'Congolese': 2, 'Channel Island': 2, 'Cook Island': 1, 'South Sudanese': 1, 'Zimbabwean': 1, 'Salvadoran': 1, 'Panamanian': 1, 'Serbian': 1, 'Chadian': 1, 'Grenadian': 1, 'Palauan': 1, 'Kittitian': 1, 'Malinese': 1, 'Saint Helenian': 1, 'Saint-Martinoise': 1, 'Central African': 1, 'Kyrgyz': 1, 'Aruban': 1, 'Kenyan': 1, 'New Zealand': 1, 'Argentine': 1, 'Belgian': 1, 'Bulgarian': 1, 'Azeri': 1, 'UK': 1, 'Timorese': 1, 'Polish': 1, 'Herzegovinian': 1, 'Seychellois': 1, 'French': 1, 'Peruvian': 1, 'Fijian': 1, 'Liberian': 1, 'Armenian': 1, 'Guyanese': 1, 'Monacan': 1, 'Qatari': 1, 'Haitian': 1, 'Vincentian': 1, 'Samoan': 1, 'Mauritanian': 1, 'Finnish': 1, 'Canadian': 1, 'Manx': 1, 'Albanian': 1, 'Omani': 1, 'Comoran': 1, 'Romanian': 1, 'Maltese': 1, 'Andorran': 1, 'Bahraini': 1, 'Martinican': 1, 'Vatican': 1, 'Wallis and Futuna': 1, 'Kirgiz': 1, 'NZ': 1, 'Emirian': 1, 'Italian': 1, 'Malian': 1, 'Ivorian': 1, 'Norfolk Island': 1, 'Saudi Arabian': 1, 'U.S. Virgin Island': 1, 'Zambian': 1, 'Moroccan': 1, 'Pitcairn Island': 1, 'German': 1, 'Burundian': 1, 'Puerto Rican': 1, 'Moldovan': 1, 'Nepalese': 1, 'Senegalese': 1, 'Falkland Island': 1, 'Beninese': 1, 'Kirghiz': 1, 'Gabonese': 1, 'Guatemalan': 1, 'Caymanian': 1, 'Guambat': 1, 'Kuwaiti': 1, 'Guinean': 1, 'Turks and Caicos Island': 1, 'Slovenian': 1, 'Rwandan': 1, 'Azerbaijani': 1, 'Faroese': 1, 'Bruneian': 1, 'Nauruan': 1, 'Bahamian': 1, 'Indonesian': 1, 'Beninois': 1, 'Saudi': 1, 'Svalbard': 1, 'Georgian': 1, 'Comorian': 1, 'Yemeni': 1, 'Wallisian': 1, 'Costa Rican': 1, 'Norwegian': 1, 'Laotian': 1, 'Eritrean': 1, 'Anguillan': 1, 'Malawian': 1, 'Slovak': 1, 'Thai': 1, 'Montserratian': 1, 'Ghanaian': 1, 'Kazakhstani': 1, 'Chilean': 1, 'Cuban': 1, 'Slovene': 1, 'Papua New Guinean': 1, 'Uzbek': 1, 'Namibian': 1, 'Sri Lankan': 1, 'McDonald Islands': 1, 'Ukrainian': 1, 'Greek': 1, 'Liechtenstein': 1, 'Jamaican': 1, 'British': 1, 'Latvian': 1, 'Austrian': 1, 'Bermudan': 1, 'Croatian': 1, 'Somali': 1, 'Cura\\xc3\\xa7aoan': 1, 'Singaporean': 1, 'French Southern Territories': 1, 'Bissau-Guinean': 1, 'Nigerian': 1, 'Ethiopian': 1, 'Burmese': 1, 'Tongan': 1, 'Ecuadorian': 1, 'Jordanian': 1, 'Swedish': 1, 'R\\xc3\\xa9unionnais': 1, 'Surinamese': 1, 'Antarctic': 1, 'S\\xc3\\xa3o Tom\\xc3\\xa9an': 1, 'Marshallese': 1, 'Icelandic': 1, 'Sahrawian': 1, 'French Guianese': 1, 'Palestinian': 1, 'Somalian': 1, 'Djiboutian': 1, 'Niuean': 1, 'Papuan': 1, 'Magyar': 1, 'Luxembourg': 1, 'Bangladeshi': 1, 'Iraqi': 1, 'Indian': 1, 'Gibraltar': 1, 'Brazilian': 1, 'Sahraouian': 1, 'Netherlandic': 1, 'Pakistani': 1, 'Emiri': 1, 'Equatorial Guinean': 1, 'Malagasy': 1, 'New Caledonian': 1, 'Tanzanian': 1, 'Belizean': 1, 'French Polynesian': 1, 'Cocos Island': 1, 'Luxembourgish': 1, 'Bosnian': 1, 'Lithuanian': 1, 'Greenlandic': 1, 'Saint Vincentian': 1, 'Barbudan': 1, 'Bolivian': 1, 'North Korean': 1, 'BIOT': 1, 'Paraguayan': 1, 'Bermudian': 1, 'Kyrgyzstani': 1, 'Afghan': 1, 'Hong Kong': 1, 'Maldivian': 1, 'Barth\\xc3\\xa9lemois': 1, 'American Samoan': 1, 'Uzbekistani': 1, 'Malaysian': 1, 'Tuvaluan': 1, 'Angolan': 1, 'Macanese': 1, 'Northern Marianan': 1, 'Antiguan': 1, 'Ni-Vanuatu': 1, 'Sammarinese': 1, 'Libyan': 1, 'Irish': 1, 'Bonaire': 1, 'Uruguayan': 1, 'Cypriot': 1, 'Czech': 1, 'Kazakh': 1, 'Mon\\xc3\\xa9gasque': 1, 'Taiwanese': 1, 'Belarusian': 1, 'Heard Island': 1, 'Macedonian': 1, 'Cabo Verdean': 1, 'Persian': 1, 'Mongolian': 1, 'South Georgia': 1, 'Tajikistani': 1, 'Botswanan': 1, 'Mozambican': 1, 'Guamanian': 1, 'Israeli': 1, 'Tunisian': 1, 'Montenegrin': 1, 'Vietnamese': 1, 'Philippine': 1, 'Miquelonnais': 1, 'Sahrawi': 1, 'Nigerien': 1, 'I-Kiribati': 1, 'Dutch': 1, 'Russian': 1, 'Australian': 1, 'Venezuelan': 1, 'Colombian': 1, 'Nepali': 1, 'Saint Lucian': 1, '\\xc3\\x85land Island': 1, 'Filipino': 1, 'South Sandwich Islands': 1, 'Egyptian': 1, 'Mauritian': 1, 'Trinidadian': 1, 'Iranian': 1, 'Sudanese': 1, 'Equatoguinean': 1, 'Hellenic': 1, 'Turkmen': 1, 'R\\xc3\\xa9unionese': 1, 'Syrian': 1, 'Bhutanese': 1, 'Emirati': 1, 'Nevisian': 1, 'Hong Kongese': 1, 'Mahoran': 1, 'Lebanese': 1, 'Hungarian': 1, 'Gambian': 1, 'Algerian': 1, 'Danish': 1, 'Basotho': 1, 'Estonian': 1, 'Turkish': 1, 'Barbadian': 1, 'Lao': 1, 'Vanuatuan': 1, 'Martiniquais': 1, 'Swiss': 1, 'Ugandan': 1, 'Guadeloupe': 1, 'Sint Maarten': 1, 'Saint-Pierrais': 1, 'Portuguese': 1, 'South African': 1, 'Mexican': 1, 'Futunan': 1, 'Bouvet Island': 1, 'Motswana': 1, 'Micronesian': 1, 'Tokelauan': 1, 'Burkinab\\xc3\\xa9': 1, 'Japanese': 1, 'British Virgin Island': 1, 'South Korean': 1, 'Solomon Island': 1, 'Christmas Island': 1, 'Togolese': 1, 'Cambodian': 1, 'Sierra Leonean': 1, 'Spanish': 1, 'Honduran': 1, 'Tobagonian': 1, 'Nicaraguan': 1, 'Swazi': 1, 'Cameroonian': 1})"
      ]
     },
     "execution_count": 104,
     "metadata": {},
     "output_type": "execute_result"
    }
   ],
   "source": [
    "nationality_list = [label \n",
    "                    for label_list in natl_mapping.nationality.values \n",
    "                    for label in label_list]\n",
    "Counter(nationality_list)\n",
    "# Chinese, American, Dominican, Congolese, Channel Island"
   ]
  },
  {
   "cell_type": "code",
   "execution_count": 89,
   "metadata": {
    "collapsed": false
   },
   "outputs": [
    {
     "data": {
      "text/html": [
       "<div>\n",
       "<table border=\"1\" class=\"dataframe\">\n",
       "  <thead>\n",
       "    <tr style=\"text-align: right;\">\n",
       "      <th></th>\n",
       "      <th>num_code</th>\n",
       "      <th>alpha_2_code</th>\n",
       "      <th>alpha_3_code</th>\n",
       "      <th>en_short_name</th>\n",
       "      <th>nationality</th>\n",
       "    </tr>\n",
       "  </thead>\n",
       "  <tbody>\n",
       "    <tr>\n",
       "      <th>0</th>\n",
       "      <td>4</td>\n",
       "      <td>AF</td>\n",
       "      <td>AFG</td>\n",
       "      <td>Afghanistan</td>\n",
       "      <td>[Afghan]</td>\n",
       "    </tr>\n",
       "    <tr>\n",
       "      <th>1</th>\n",
       "      <td>248</td>\n",
       "      <td>AX</td>\n",
       "      <td>ALA</td>\n",
       "      <td>Åland Islands</td>\n",
       "      <td>[Åland Island]</td>\n",
       "    </tr>\n",
       "    <tr>\n",
       "      <th>2</th>\n",
       "      <td>8</td>\n",
       "      <td>AL</td>\n",
       "      <td>ALB</td>\n",
       "      <td>Albania</td>\n",
       "      <td>[Albanian]</td>\n",
       "    </tr>\n",
       "    <tr>\n",
       "      <th>3</th>\n",
       "      <td>12</td>\n",
       "      <td>DZ</td>\n",
       "      <td>DZA</td>\n",
       "      <td>Algeria</td>\n",
       "      <td>[Algerian]</td>\n",
       "    </tr>\n",
       "    <tr>\n",
       "      <th>4</th>\n",
       "      <td>16</td>\n",
       "      <td>AS</td>\n",
       "      <td>ASM</td>\n",
       "      <td>American Samoa</td>\n",
       "      <td>[American Samoan]</td>\n",
       "    </tr>\n",
       "  </tbody>\n",
       "</table>\n",
       "</div>"
      ],
      "text/plain": [
       "   num_code alpha_2_code alpha_3_code   en_short_name        nationality\n",
       "0         4           AF          AFG     Afghanistan           [Afghan]\n",
       "1       248           AX          ALA   Åland Islands     [Åland Island]\n",
       "2         8           AL          ALB         Albania         [Albanian]\n",
       "3        12           DZ          DZA         Algeria         [Algerian]\n",
       "4        16           AS          ASM  American Samoa  [American Samoan]"
      ]
     },
     "execution_count": 89,
     "metadata": {},
     "output_type": "execute_result"
    }
   ],
   "source": [
    "natl_mapping.head()"
   ]
  },
  {
   "cell_type": "code",
   "execution_count": 110,
   "metadata": {
    "collapsed": false,
    "scrolled": true
   },
   "outputs": [],
   "source": [
    "nationality_map_dict = {}\n",
    "for idx, row, in natl_mapping.iterrows():\n",
    "    for label in row['nationality']:\n",
    "        row_info_entry = [row['num_code'], row['alpha_2_code'],\n",
    "                          row['alpha_3_code'], row['en_short_name']]\n",
    "        if label in nationality_map_dict.keys():\n",
    "            nationality_map_dict[label].append(row_info_entry)\n",
    "        else:\n",
    "            nationality_map_dict[label] = [row_info_entry]"
   ]
  },
  {
   "cell_type": "code",
   "execution_count": 135,
   "metadata": {
    "collapsed": false
   },
   "outputs": [
    {
     "data": {
      "text/plain": [
       "[[826, 'GB', 'GBR', 'United Kingdom of Great Britain and Northern Ireland']]"
      ]
     },
     "execution_count": 135,
     "metadata": {},
     "output_type": "execute_result"
    }
   ],
   "source": [
    "nationality_map_dict['British']"
   ]
  },
  {
   "cell_type": "code",
   "execution_count": 122,
   "metadata": {
    "collapsed": false
   },
   "outputs": [
    {
     "data": {
      "text/html": [
       "<div>\n",
       "<table border=\"1\" class=\"dataframe\">\n",
       "  <thead>\n",
       "    <tr style=\"text-align: right;\">\n",
       "      <th></th>\n",
       "      <th>num_code</th>\n",
       "      <th>alpha_2_code</th>\n",
       "      <th>alpha_3_code</th>\n",
       "      <th>en_short_name</th>\n",
       "      <th>nationality</th>\n",
       "    </tr>\n",
       "  </thead>\n",
       "  <tbody>\n",
       "  </tbody>\n",
       "</table>\n",
       "</div>"
      ],
      "text/plain": [
       "Empty DataFrame\n",
       "Columns: [num_code, alpha_2_code, alpha_3_code, en_short_name, nationality]\n",
       "Index: []"
      ]
     },
     "execution_count": 122,
     "metadata": {},
     "output_type": "execute_result"
    }
   ],
   "source": [
    "natl_mapping[natl_mapping.nationality == 'American']"
   ]
  },
  {
   "cell_type": "code",
   "execution_count": null,
   "metadata": {
    "collapsed": true
   },
   "outputs": [],
   "source": []
  }
 ],
 "metadata": {
  "kernelspec": {
   "display_name": "Python 2",
   "language": "python",
   "name": "python2"
  },
  "language_info": {
   "codemirror_mode": {
    "name": "ipython",
    "version": 2
   },
   "file_extension": ".py",
   "mimetype": "text/x-python",
   "name": "python",
   "nbconvert_exporter": "python",
   "pygments_lexer": "ipython2",
   "version": "2.7.10"
  }
 },
 "nbformat": 4,
 "nbformat_minor": 0
}
