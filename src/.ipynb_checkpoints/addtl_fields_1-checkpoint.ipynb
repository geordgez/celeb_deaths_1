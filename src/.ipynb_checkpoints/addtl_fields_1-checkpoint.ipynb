{
 "cells": [
  {
   "cell_type": "markdown",
   "metadata": {},
   "source": [
    "# Scraping additional info: page size, birth, death\n",
    "\n",
    "Starting from a list of names only."
   ]
  },
  {
   "cell_type": "code",
   "execution_count": 1,
   "metadata": {
    "collapsed": true
   },
   "outputs": [],
   "source": [
    "%matplotlib inline"
   ]
  },
  {
   "cell_type": "code",
   "execution_count": 2,
   "metadata": {
    "collapsed": true
   },
   "outputs": [],
   "source": [
    "import numpy as np\n",
    "import pandas as pd\n",
    "import re\n",
    "import requests\n",
    "import json\n",
    "\n",
    "from os import listdir\n",
    "from os.path import isfile, join\n",
    "import sys\n",
    "reload(sys)\n",
    "sys.setdefaultencoding('utf-8')\n",
    "\n",
    "from bs4 import BeautifulSoup as bs"
   ]
  },
  {
   "cell_type": "markdown",
   "metadata": {},
   "source": [
    "## Further attributes outside of the death summary Wiki page"
   ]
  },
  {
   "cell_type": "markdown",
   "metadata": {},
   "source": [
    "### Article length: Fame Score\n",
    "\n",
    "Get Wikipedia URL for getting fame score i.e. size of article:"
   ]
  },
  {
   "cell_type": "markdown",
   "metadata": {},
   "source": [
    "Get page metadata:"
   ]
  },
  {
   "cell_type": "code",
   "execution_count": 133,
   "metadata": {
    "collapsed": true
   },
   "outputs": [],
   "source": [
    "base_url_prefix = 'https://en.wikipedia.org/w/api.php?action=query&format=json&titles=' \n",
    "base_url_suffix = '&prop=revisions&rvprop=size'"
   ]
  },
  {
   "cell_type": "code",
   "execution_count": 134,
   "metadata": {
    "collapsed": true
   },
   "outputs": [],
   "source": [
    "def get_page_size(wiki_name):\n",
    "    try:\n",
    "        size_url = base_url_prefix + wiki_name.replace(' ','_') + base_url_suffix\n",
    "        size_page = requests.get(size_url)\n",
    "        return size_page.json()['query']['pages'].values()[0]['revisions'][0]['size']\n",
    "    except KeyError:\n",
    "        print wiki_name"
   ]
  },
  {
   "cell_type": "markdown",
   "metadata": {},
   "source": [
    "### Birth and death data\n",
    "\n",
    "Getting birthday data. It's probably helpful to see [Stack Overflow thread](https://stackoverflow.com/questions/12250580/parse-birth-and-death-dates-from-wikipedia)"
   ]
  },
  {
   "cell_type": "code",
   "execution_count": null,
   "metadata": {
    "collapsed": false
   },
   "outputs": [],
   "source": [
    "base_bday_prefix = 'https://en.wikipedia.org/w/api.php?action=query&format=json&titles='\n",
    "base_bday_suffix = '&prop=revisions&rvprop=content&rvsection=0'\n",
    "\n",
    "def check_if_number(elem):\n",
    "    try:\n",
    "        return type(int(elem)) == int\n",
    "    except ValueError:\n",
    "        return False\n",
    "\n",
    "    \n",
    "def get_only_ints(date_list):\n",
    "    return [e for e in date_list if check_if_number(e) > 0]\n",
    "\n",
    "life_death_counter = [0]\n",
    "no_birth_death_urls = []\n",
    "\n",
    "def get_life_death(name, extract_bday=True):\n",
    "    life_death_counter[0] += 1\n",
    "    try:        \n",
    "        entry_url = base_bday_prefix + name.replace(' ','_') + base_bday_suffix\n",
    "        entry_text = requests.get(entry_url).json()['query']['pages']\n",
    "        entry_text = str(entry_text.values()[0]['revisions'][0]['*'].encode('utf-8'))\n",
    "        \n",
    "        if extract_bday:\n",
    "            pattern = re.compile('.*?\\{{2}(?:B|b)irth (?:D|d)ate(.+?)\\}{2}', \n",
    "                                 re.MULTILINE|re.DOTALL)\n",
    "        else:\n",
    "            pattern = re.compile('.*?\\{{2}(?:D|d)eath (?:D|d)ate(.+?)\\}{2}', \n",
    "                                 re.MULTILINE|re.DOTALL)\n",
    "\n",
    "        date_re = re.match(pattern, entry_text)\n",
    "        date_data = \"-\".join(get_only_ints(date_re.groups()[0].strip(\" \").split('|'))[:3])\n",
    "        \n",
    "        #print date_data\n",
    "        if life_death_counter[0] % 100 == 1:\n",
    "            print date_data\n",
    "        return date_data\n",
    "    \n",
    "    except (AttributeError, KeyError, ValueError) as e:\n",
    "        no_birth_death_urls.append(entry_url)"
   ]
  },
  {
   "cell_type": "markdown",
   "metadata": {},
   "source": [
    "Birthday"
   ]
  },
  {
   "cell_type": "code",
   "execution_count": 13,
   "metadata": {
    "collapsed": false
   },
   "outputs": [
    {
     "data": {
      "text/html": [
       "<div>\n",
       "<table border=\"1\" class=\"dataframe\">\n",
       "  <thead>\n",
       "    <tr style=\"text-align: right;\">\n",
       "      <th></th>\n",
       "      <th>year</th>\n",
       "      <th>month</th>\n",
       "      <th>name</th>\n",
       "      <th>age</th>\n",
       "      <th>desc</th>\n",
       "      <th>cause_of_death</th>\n",
       "      <th>nationality</th>\n",
       "    </tr>\n",
       "  </thead>\n",
       "  <tbody>\n",
       "    <tr>\n",
       "      <th>0</th>\n",
       "      <td>2014</td>\n",
       "      <td>10</td>\n",
       "      <td>Lynsey de Paul</td>\n",
       "      <td>64</td>\n",
       "      <td>English singer-songwriter (\"Won't Somebody Dan...</td>\n",
       "      <td>brain haemorrhage</td>\n",
       "      <td>English</td>\n",
       "    </tr>\n",
       "    <tr>\n",
       "      <th>1</th>\n",
       "      <td>2014</td>\n",
       "      <td>10</td>\n",
       "      <td>Maurice Hodgson</td>\n",
       "      <td>94</td>\n",
       "      <td>British business executive</td>\n",
       "      <td>NaN</td>\n",
       "      <td>British</td>\n",
       "    </tr>\n",
       "    <tr>\n",
       "      <th>2</th>\n",
       "      <td>2014</td>\n",
       "      <td>10</td>\n",
       "      <td>Shlomo Lahat</td>\n",
       "      <td>86</td>\n",
       "      <td>Israeli general and politician, Mayor of Tel A...</td>\n",
       "      <td>lung infection</td>\n",
       "      <td>Israeli</td>\n",
       "    </tr>\n",
       "    <tr>\n",
       "      <th>3</th>\n",
       "      <td>2014</td>\n",
       "      <td>10</td>\n",
       "      <td>José Martínez (infielder)</td>\n",
       "      <td>72</td>\n",
       "      <td>Cuban baseball player (Pittsburgh Pirates), co...</td>\n",
       "      <td>Chicago Cubs) and executive (Atlanta Braves)</td>\n",
       "      <td>Cuban</td>\n",
       "    </tr>\n",
       "    <tr>\n",
       "      <th>4</th>\n",
       "      <td>2014</td>\n",
       "      <td>10</td>\n",
       "      <td>Oluremi Oyo</td>\n",
       "      <td>61</td>\n",
       "      <td>Nigerian journalist, cancer</td>\n",
       "      <td>cancer</td>\n",
       "      <td>Nigerian</td>\n",
       "    </tr>\n",
       "  </tbody>\n",
       "</table>\n",
       "</div>"
      ],
      "text/plain": [
       "   year  month                       name  age  \\\n",
       "0  2014     10             Lynsey de Paul   64   \n",
       "1  2014     10            Maurice Hodgson   94   \n",
       "2  2014     10               Shlomo Lahat   86   \n",
       "3  2014     10  José Martínez (infielder)   72   \n",
       "4  2014     10                Oluremi Oyo   61   \n",
       "\n",
       "                                                desc  \\\n",
       "0  English singer-songwriter (\"Won't Somebody Dan...   \n",
       "1                         British business executive   \n",
       "2  Israeli general and politician, Mayor of Tel A...   \n",
       "3  Cuban baseball player (Pittsburgh Pirates), co...   \n",
       "4                        Nigerian journalist, cancer   \n",
       "\n",
       "                                 cause_of_death nationality  \n",
       "0                             brain haemorrhage     English  \n",
       "1                                           NaN     British  \n",
       "2                                lung infection     Israeli  \n",
       "3  Chicago Cubs) and executive (Atlanta Braves)       Cuban  \n",
       "4                                        cancer    Nigerian  "
      ]
     },
     "execution_count": 13,
     "metadata": {},
     "output_type": "execute_result"
    }
   ],
   "source": [
    "df_full = pd.read_csv('../out/celeb_deaths_wikipedia_full_1.csv')\n",
    "df_full.head()"
   ]
  },
  {
   "cell_type": "code",
   "execution_count": 18,
   "metadata": {
    "collapsed": false
   },
   "outputs": [],
   "source": [
    "df_names_in = pd.read_csv('../out/names_fame_birth_death_1.csv', index_col='name')\n",
    "df_names_out = pd.read_csv('../out/names_fame_birth_death_1.csv')"
   ]
  },
  {
   "cell_type": "markdown",
   "metadata": {},
   "source": [
    "Convert to dict:"
   ]
  },
  {
   "cell_type": "code",
   "execution_count": 19,
   "metadata": {
    "collapsed": true
   },
   "outputs": [],
   "source": [
    "#names_only = dict(zip(df_full.name.values, [['', '', ''] for name in df_full.name.values]))\n",
    "names_only = df_names_in.T.to_dict()"
   ]
  },
  {
   "cell_type": "code",
   "execution_count": 26,
   "metadata": {
    "collapsed": false
   },
   "outputs": [
    {
     "data": {
      "text/plain": [
       "{'date_of_birth': nan, 'date_of_death': nan, 'page_size': 3992.0}"
      ]
     },
     "execution_count": 26,
     "metadata": {},
     "output_type": "execute_result"
    }
   ],
   "source": [
    "names_only[names_only.keys()[0]]"
   ]
  },
  {
   "cell_type": "code",
   "execution_count": 28,
   "metadata": {
    "collapsed": false
   },
   "outputs": [
    {
     "ename": "NameError",
     "evalue": "name 'get_page_size' is not defined",
     "output_type": "error",
     "traceback": [
      "\u001b[0;31m---------------------------------------------------------------------------\u001b[0m",
      "\u001b[0;31mNameError\u001b[0m                                 Traceback (most recent call last)",
      "\u001b[0;32m<ipython-input-28-0f39ef59a5b0>\u001b[0m in \u001b[0;36m<module>\u001b[0;34m()\u001b[0m\n\u001b[0;32m----> 1\u001b[0;31m \u001b[0mget_ipython\u001b[0m\u001b[0;34m(\u001b[0m\u001b[0;34m)\u001b[0m\u001b[0;34m.\u001b[0m\u001b[0mrun_cell_magic\u001b[0m\u001b[0;34m(\u001b[0m\u001b[0;34mu'time'\u001b[0m\u001b[0;34m,\u001b[0m \u001b[0;34mu''\u001b[0m\u001b[0;34m,\u001b[0m \u001b[0;34mu'\\ncounter = 0\\nchecked_counter = 0\\n\\n\"\"\"\\nGetting page sizes for each entry\\n\"\"\"\\nfor name in names_only.keys():\\n    print name\\n    if np.isnan(names_only[name][names_only[name].keys()[0]]):\\n        names_only[name][names_only[name].keys()[0]] = get_page_size(name)\\n    else:\\n        checked_counter += 1\\n    if counter % 100 == 1:\\n        print \"============\"\\n        print checked_counter, counter\\n    counter += 1\\n    \\nprint checked_counter\\nprint counter'\u001b[0m\u001b[0;34m)\u001b[0m\u001b[0;34m\u001b[0m\u001b[0m\n\u001b[0m",
      "\u001b[0;32m/Users/George/anaconda/lib/python2.7/site-packages/IPython/core/interactiveshell.pyc\u001b[0m in \u001b[0;36mrun_cell_magic\u001b[0;34m(self, magic_name, line, cell)\u001b[0m\n\u001b[1;32m   2262\u001b[0m             \u001b[0mmagic_arg_s\u001b[0m \u001b[0;34m=\u001b[0m \u001b[0mself\u001b[0m\u001b[0;34m.\u001b[0m\u001b[0mvar_expand\u001b[0m\u001b[0;34m(\u001b[0m\u001b[0mline\u001b[0m\u001b[0;34m,\u001b[0m \u001b[0mstack_depth\u001b[0m\u001b[0;34m)\u001b[0m\u001b[0;34m\u001b[0m\u001b[0m\n\u001b[1;32m   2263\u001b[0m             \u001b[0;32mwith\u001b[0m \u001b[0mself\u001b[0m\u001b[0;34m.\u001b[0m\u001b[0mbuiltin_trap\u001b[0m\u001b[0;34m:\u001b[0m\u001b[0;34m\u001b[0m\u001b[0m\n\u001b[0;32m-> 2264\u001b[0;31m                 \u001b[0mresult\u001b[0m \u001b[0;34m=\u001b[0m \u001b[0mfn\u001b[0m\u001b[0;34m(\u001b[0m\u001b[0mmagic_arg_s\u001b[0m\u001b[0;34m,\u001b[0m \u001b[0mcell\u001b[0m\u001b[0;34m)\u001b[0m\u001b[0;34m\u001b[0m\u001b[0m\n\u001b[0m\u001b[1;32m   2265\u001b[0m             \u001b[0;32mreturn\u001b[0m \u001b[0mresult\u001b[0m\u001b[0;34m\u001b[0m\u001b[0m\n\u001b[1;32m   2266\u001b[0m \u001b[0;34m\u001b[0m\u001b[0m\n",
      "\u001b[0;32m/Users/George/anaconda/lib/python2.7/site-packages/IPython/core/magics/execution.pyc\u001b[0m in \u001b[0;36mtime\u001b[0;34m(self, line, cell, local_ns)\u001b[0m\n",
      "\u001b[0;32m/Users/George/anaconda/lib/python2.7/site-packages/IPython/core/magic.pyc\u001b[0m in \u001b[0;36m<lambda>\u001b[0;34m(f, *a, **k)\u001b[0m\n\u001b[1;32m    191\u001b[0m     \u001b[0;31m# but it's overkill for just that one bit of state.\u001b[0m\u001b[0;34m\u001b[0m\u001b[0;34m\u001b[0m\u001b[0m\n\u001b[1;32m    192\u001b[0m     \u001b[0;32mdef\u001b[0m \u001b[0mmagic_deco\u001b[0m\u001b[0;34m(\u001b[0m\u001b[0marg\u001b[0m\u001b[0;34m)\u001b[0m\u001b[0;34m:\u001b[0m\u001b[0;34m\u001b[0m\u001b[0m\n\u001b[0;32m--> 193\u001b[0;31m         \u001b[0mcall\u001b[0m \u001b[0;34m=\u001b[0m \u001b[0;32mlambda\u001b[0m \u001b[0mf\u001b[0m\u001b[0;34m,\u001b[0m \u001b[0;34m*\u001b[0m\u001b[0ma\u001b[0m\u001b[0;34m,\u001b[0m \u001b[0;34m**\u001b[0m\u001b[0mk\u001b[0m\u001b[0;34m:\u001b[0m \u001b[0mf\u001b[0m\u001b[0;34m(\u001b[0m\u001b[0;34m*\u001b[0m\u001b[0ma\u001b[0m\u001b[0;34m,\u001b[0m \u001b[0;34m**\u001b[0m\u001b[0mk\u001b[0m\u001b[0;34m)\u001b[0m\u001b[0;34m\u001b[0m\u001b[0m\n\u001b[0m\u001b[1;32m    194\u001b[0m \u001b[0;34m\u001b[0m\u001b[0m\n\u001b[1;32m    195\u001b[0m         \u001b[0;32mif\u001b[0m \u001b[0mcallable\u001b[0m\u001b[0;34m(\u001b[0m\u001b[0marg\u001b[0m\u001b[0;34m)\u001b[0m\u001b[0;34m:\u001b[0m\u001b[0;34m\u001b[0m\u001b[0m\n",
      "\u001b[0;32m/Users/George/anaconda/lib/python2.7/site-packages/IPython/core/magics/execution.pyc\u001b[0m in \u001b[0;36mtime\u001b[0;34m(self, line, cell, local_ns)\u001b[0m\n\u001b[1;32m   1164\u001b[0m         \u001b[0;32melse\u001b[0m\u001b[0;34m:\u001b[0m\u001b[0;34m\u001b[0m\u001b[0m\n\u001b[1;32m   1165\u001b[0m             \u001b[0mst\u001b[0m \u001b[0;34m=\u001b[0m \u001b[0mclock2\u001b[0m\u001b[0;34m(\u001b[0m\u001b[0;34m)\u001b[0m\u001b[0;34m\u001b[0m\u001b[0m\n\u001b[0;32m-> 1166\u001b[0;31m             \u001b[0;32mexec\u001b[0m\u001b[0;34m(\u001b[0m\u001b[0mcode\u001b[0m\u001b[0;34m,\u001b[0m \u001b[0mglob\u001b[0m\u001b[0;34m,\u001b[0m \u001b[0mlocal_ns\u001b[0m\u001b[0;34m)\u001b[0m\u001b[0;34m\u001b[0m\u001b[0m\n\u001b[0m\u001b[1;32m   1167\u001b[0m             \u001b[0mend\u001b[0m \u001b[0;34m=\u001b[0m \u001b[0mclock2\u001b[0m\u001b[0;34m(\u001b[0m\u001b[0;34m)\u001b[0m\u001b[0;34m\u001b[0m\u001b[0m\n\u001b[1;32m   1168\u001b[0m             \u001b[0mout\u001b[0m \u001b[0;34m=\u001b[0m \u001b[0mNone\u001b[0m\u001b[0;34m\u001b[0m\u001b[0m\n",
      "\u001b[0;32m<timed exec>\u001b[0m in \u001b[0;36m<module>\u001b[0;34m()\u001b[0m\n",
      "\u001b[0;31mNameError\u001b[0m: name 'get_page_size' is not defined"
     ]
    }
   ],
   "source": [
    "%%time\n",
    "\n",
    "counter = 0\n",
    "checked_counter = 0\n",
    "\n",
    "\"\"\"\n",
    "Getting page sizes for each entry\n",
    "\"\"\"\n",
    "for name in names_only.keys():\n",
    "    print name\n",
    "    if np.isnan(names_only[name][names_only[name].keys()[0]]):\n",
    "        names_only[name][names_only[name].keys()[0]] = get_page_size(name)\n",
    "    else:\n",
    "        checked_counter += 1\n",
    "    if counter % 100 == 1:\n",
    "        print \"============\"\n",
    "        print checked_counter, counter\n",
    "    counter += 1\n",
    "    \n",
    "print checked_counter\n",
    "print counter"
   ]
  },
  {
   "cell_type": "code",
   "execution_count": null,
   "metadata": {
    "collapsed": true
   },
   "outputs": [],
   "source": []
  },
  {
   "cell_type": "code",
   "execution_count": 195,
   "metadata": {
    "collapsed": false
   },
   "outputs": [
    {
     "data": {
      "text/plain": [
       "954"
      ]
     },
     "execution_count": 195,
     "metadata": {},
     "output_type": "execute_result"
    }
   ],
   "source": [
    "len(df_names_in[df_names_in['page_size'].map(lambda x: not np.isnan(x))])"
   ]
  }
 ],
 "metadata": {
  "kernelspec": {
   "display_name": "Python 2",
   "language": "python",
   "name": "python2"
  },
  "language_info": {
   "codemirror_mode": {
    "name": "ipython",
    "version": 2
   },
   "file_extension": ".py",
   "mimetype": "text/x-python",
   "name": "python",
   "nbconvert_exporter": "python",
   "pygments_lexer": "ipython2",
   "version": "2.7.10"
  }
 },
 "nbformat": 4,
 "nbformat_minor": 0
}
