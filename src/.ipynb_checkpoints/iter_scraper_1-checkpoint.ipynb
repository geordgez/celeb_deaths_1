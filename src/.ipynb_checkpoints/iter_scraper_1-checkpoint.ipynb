{
 "cells": [
  {
   "cell_type": "markdown",
   "metadata": {},
   "source": [
    "# Scraping Wikipedia Celebrity Deaths\n",
    "\n",
    "Creating a notebook to produce the dataset found at the [Kaggle Celebrity Deaths Page](https://www.kaggle.com/hugodarwood/celebrity-deaths).\n",
    "\n",
    "Attempting to replace the current dataset since it isn't complete (up-to-date) since there's no notebook to run to get up-to-date information and it has bad parses for some of the fields.\n",
    "\n",
    "This notebook isn't perfect either but does a better job."
   ]
  },
  {
   "cell_type": "code",
   "execution_count": 3,
   "metadata": {
    "collapsed": true
   },
   "outputs": [],
   "source": [
    "%matplotlib inline"
   ]
  },
  {
   "cell_type": "code",
   "execution_count": 4,
   "metadata": {
    "collapsed": true
   },
   "outputs": [],
   "source": [
    "import numpy as np\n",
    "import pandas as pd\n",
    "import re\n",
    "import json\n",
    "\n",
    "from os import listdir\n",
    "from os.path import isfile, join\n",
    "import sys\n",
    "reload(sys)\n",
    "sys.setdefaultencoding('utf-8')\n",
    "\n",
    "from bs4 import BeautifulSoup as bs"
   ]
  },
  {
   "cell_type": "markdown",
   "metadata": {},
   "source": [
    "### Helper functions"
   ]
  },
  {
   "cell_type": "code",
   "execution_count": 5,
   "metadata": {
    "collapsed": true
   },
   "outputs": [],
   "source": [
    "desc_death_re = re.compile('(.*?),? ?((?:.+)*?). (?:.*?)?', re.DOTALL|re.MULTILINE)\n",
    "death_clean_no_url_re = re.compile('\\s?(.[^<]+)\\.? ?(?=<|\\[?http)(?:.*)?$')\n",
    "# death_clean_no_url_re = re.compile('\\s?\\w(.[^<])+[.]?(?:<|\\[?http)(?:.*)?$')\n",
    "\n",
    "\"\"\"\n",
    "Input: single text string to be processed\n",
    "\n",
    "Output: list of strings of length two\n",
    "  - first string is description of person\n",
    "  - second string is cause of death \n",
    "  (last clause of input when more than one comma in field)\n",
    "  \n",
    "\"\"\"\n",
    "def get_description_and_death(text):\n",
    "    text_no_url = text\n",
    "    if ('http' in text_no_url) or ('<ref' in text_no_url):\n",
    "        try:\n",
    "            text_no_url = death_clean_no_url_re.match(text).groups()[0]\n",
    "        except AttributeError:\n",
    "            print text\n",
    "            raw_input(\"Press enter to continue\")\n",
    "            raw_input(\"Press enter to continue\")\n",
    "    text_parts = text_no_url.replace('=','').split(',')\n",
    "    num_parts = len(text_parts)\n",
    "    if num_parts == 0:\n",
    "        return ['', '']\n",
    "    elif num_parts == 1:\n",
    "        return text_parts + ['']\n",
    "    elif num_parts == 2:\n",
    "        return [\",\".join(text_parts)] + [text_parts[1]]\n",
    "    else:\n",
    "        return ([\",\".join(text_parts[:-1])] + [text_parts[-1]])\n",
    "                #[death_clean_no_url_re.match(text_parts[-1]).groups()[0]])"
   ]
  },
  {
   "cell_type": "code",
   "execution_count": 6,
   "metadata": {
    "collapsed": false
   },
   "outputs": [],
   "source": [
    "\"\"\"\n",
    "Runs get_description_and_death() on the last element of a list\n",
    "\"\"\"\n",
    "def add_description_and_death(entry_list):\n",
    "    return entry_list[:-1] + get_description_and_death(entry_list[-1])"
   ]
  },
  {
   "cell_type": "markdown",
   "metadata": {},
   "source": [
    "Testing functions:"
   ]
  },
  {
   "cell_type": "code",
   "execution_count": 7,
   "metadata": {
    "collapsed": false
   },
   "outputs": [
    {
     "data": {
      "text/plain": [
       "['English singer-songwriter (\"[[Won\\'t Somebody Dance with Me]]\"), brain haemorrhage.',\n",
       " ' brain haemorrhage.']"
      ]
     },
     "execution_count": 7,
     "metadata": {},
     "output_type": "execute_result"
    }
   ],
   "source": [
    "get_description_and_death('English singer-songwriter (\"[[Won\\'t Somebody Dance with Me]]\"), brain haemorrhage.<ref>[http://www.bbc.co.uk/news/entertainment-arts-29457228 Singer Lynsey De Paul dies aged 64]</ref>')"
   ]
  },
  {
   "cell_type": "code",
   "execution_count": 8,
   "metadata": {
    "collapsed": true
   },
   "outputs": [],
   "source": [
    "\"\"\"\n",
    "This is for input as a list cleaning a particular list entry. \n",
    "See below for the pandas dataframe version\n",
    "\n",
    "Inputs: list, index number, character pattern to be replaced\n",
    "\n",
    "Outputs: list with entry in index number cleaned of the character pattern to be replaced\n",
    "\"\"\"\n",
    "def clean_text(text_list, idx_num, chars):\n",
    "    text_list_out = text_list\n",
    "    text_list_out[idx_num] = text_list[idx_num].replace(chars, '')\n",
    "    return text_list_out"
   ]
  },
  {
   "cell_type": "code",
   "execution_count": 9,
   "metadata": {
    "collapsed": true
   },
   "outputs": [],
   "source": [
    "mo_yr_key_re = re.compile('(\\d+)_(\\d+).*?')\n",
    "name_age_re = re.compile('\\[\\[(.*?)\\]\\], (\\d+), (.+)?$', re.MULTILINE)\n",
    "\n",
    "\"\"\"\n",
    "Inputs: month-year key string, text entry string\n",
    "\n",
    "Outputs: list of month, year, name, and age\n",
    "\"\"\"\n",
    "def parse_month_year_name_age(my_key, text_entry):\n",
    "    return (list(re.match(mo_yr_key_re, my_key).groups()) +\n",
    "            list(re.match(name_age_re, text_entry.replace('\\n', '')).groups()))"
   ]
  },
  {
   "cell_type": "code",
   "execution_count": 10,
   "metadata": {
    "collapsed": false
   },
   "outputs": [],
   "source": [
    "\"\"\"\n",
    "Find links and convert them to the displayed text\n",
    "\"\"\"\n",
    "link_re = re.compile('\\[\\[([^\\|(?:\\]\\])]*)(?=\\||\\]\\])', re.DOTALL)\n",
    "\n",
    "# need to check if contains link\n",
    "def extract_link_text(link_block):\n",
    "    link_present = link_re.search(link_block)\n",
    "    if link_present:\n",
    "        return link_present.groups()\n",
    "    return link_block"
   ]
  },
  {
   "cell_type": "code",
   "execution_count": 11,
   "metadata": {
    "collapsed": false
   },
   "outputs": [
    {
     "data": {
      "text/plain": [
       "('1asdf',)"
      ]
     },
     "execution_count": 11,
     "metadata": {},
     "output_type": "execute_result"
    }
   ],
   "source": [
    "extract_link_text('asdf asdf [[1asdf|2]]')"
   ]
  },
  {
   "cell_type": "code",
   "execution_count": 12,
   "metadata": {
    "collapsed": false
   },
   "outputs": [],
   "source": [
    "link_all_re = re.compile('(\\[\\[([^(\\]\\])]*)(\\]\\]))')\n",
    "\n",
    "\"\"\"\n",
    "Used to be messy, not anymore!\n",
    "\"\"\"\n",
    "def link_only(matchobj):\n",
    "    cleaned_text = extract_link_text(matchobj.groups()[0])[0]\n",
    "    return cleaned_text\n",
    "\n",
    "def remove_link_text(text_block):\n",
    "    return re.sub(link_all_re, link_only, text_block)"
   ]
  },
  {
   "cell_type": "code",
   "execution_count": 13,
   "metadata": {
    "collapsed": false,
    "scrolled": true
   },
   "outputs": [
    {
     "data": {
      "text/plain": [
       "'asdf asdf ab cd'"
      ]
     },
     "execution_count": 13,
     "metadata": {},
     "output_type": "execute_result"
    }
   ],
   "source": [
    "remove_link_text('asdf asdf [[ab]] [[cd|efg]]')"
   ]
  },
  {
   "cell_type": "code",
   "execution_count": 14,
   "metadata": {
    "collapsed": false
   },
   "outputs": [],
   "source": [
    "def remove_end_period(text):\n",
    "    return re.sub('\\. ?$','',text)\n",
    "\n",
    "def remove_beginning_space(text):\n",
    "    return re.sub('^ +','',text)"
   ]
  },
  {
   "cell_type": "code",
   "execution_count": 15,
   "metadata": {
    "collapsed": false
   },
   "outputs": [
    {
     "data": {
      "text/plain": [
       "'asdf'"
      ]
     },
     "execution_count": 15,
     "metadata": {},
     "output_type": "execute_result"
    }
   ],
   "source": [
    "remove_beginning_space('   asdf')"
   ]
  },
  {
   "cell_type": "code",
   "execution_count": 16,
   "metadata": {
    "collapsed": true
   },
   "outputs": [],
   "source": [
    "\"\"\"\n",
    "for a single entry in the dataframe\n",
    "\"\"\"\n",
    "def text_clean(text):\n",
    "    return remove_beginning_space(\n",
    "        remove_end_period(\n",
    "            remove_link_text(text)\n",
    "        ).replace('[','').replace(']','')\n",
    "    )"
   ]
  },
  {
   "cell_type": "code",
   "execution_count": 17,
   "metadata": {
    "collapsed": false
   },
   "outputs": [],
   "source": [
    "natl_pattern1 = re.compile(' ?((?:[A-Z][^\\s]+ ?)+) ', re.UNICODE)\n",
    "\n",
    "def get_nationality_text(desc_text):\n",
    "    try:\n",
    "        # get rid of url links\n",
    "        return natl_pattern1.match(desc_text.strip('[')).groups()[0]\n",
    "    except AttributeError, e:\n",
    "        print desc_text"
   ]
  },
  {
   "cell_type": "code",
   "execution_count": 18,
   "metadata": {
    "collapsed": false
   },
   "outputs": [
    {
     "data": {
      "text/plain": [
       "('Native American',)"
      ]
     },
     "execution_count": 18,
     "metadata": {},
     "output_type": "execute_result"
    }
   ],
   "source": [
    "natl_pattern1.match('Native American asdf asdfasdf ').groups()"
   ]
  },
  {
   "cell_type": "code",
   "execution_count": 19,
   "metadata": {
    "collapsed": false
   },
   "outputs": [],
   "source": [
    "def get_wiki_url(name_text):\n",
    "    return name_text.split('|')[0].strip('[').strip(']')"
   ]
  },
  {
   "cell_type": "markdown",
   "metadata": {},
   "source": [
    "### Re-read and process scraped file data locally"
   ]
  },
  {
   "cell_type": "code",
   "execution_count": 20,
   "metadata": {
    "collapsed": false
   },
   "outputs": [],
   "source": [
    "jsonfiles = [f for f in listdir('../out/raw_pages/') if (isfile(join('../out/raw_pages/', f)) and f[-4:] == 'json')]"
   ]
  },
  {
   "cell_type": "code",
   "execution_count": 21,
   "metadata": {
    "collapsed": false
   },
   "outputs": [],
   "source": [
    "month_year_pages = {}\n",
    "\n",
    "for jfilename in jsonfiles:\n",
    "    my_key = \"_\".join(re.match(mo_yr_key_re, jfilename).groups())\n",
    "    with open('../out/raw_pages/' + jfilename, 'rb') as infile:\n",
    "        contents = infile.read()\n",
    "        infile.close()\n",
    "    month_year_pages[my_key] = json.loads(contents)['query']['pages'].values()[0]['revisions'][0]['*']"
   ]
  },
  {
   "cell_type": "code",
   "execution_count": 22,
   "metadata": {
    "collapsed": false
   },
   "outputs": [
    {
     "data": {
      "text/plain": [
       "57927"
      ]
     },
     "execution_count": 22,
     "metadata": {},
     "output_type": "execute_result"
    }
   ],
   "source": [
    "counter = 0\n",
    "for value in month_year_pages.values():\n",
    "    new_entries = len(value.encode('utf-8').rstrip().split('*'))\n",
    "    counter += new_entries\n",
    "counter"
   ]
  },
  {
   "cell_type": "markdown",
   "metadata": {},
   "source": [
    "Should combine cell below with cell above (later)."
   ]
  },
  {
   "cell_type": "code",
   "execution_count": 23,
   "metadata": {
    "collapsed": false,
    "scrolled": true
   },
   "outputs": [],
   "source": [
    "for my_key in month_year_pages.keys():\n",
    "    month_year_pages[my_key] = [\n",
    "        add_description_and_death(\n",
    "            parse_month_year_name_age(my_key, entry)\n",
    "        )\n",
    "        for entry in month_year_pages[my_key].encode('utf-8').rstrip().split('*')\n",
    "        if re.match(name_age_re, entry.replace('\\n', ''))]"
   ]
  },
  {
   "cell_type": "markdown",
   "metadata": {
    "collapsed": true
   },
   "source": [
    "Make dataframe:"
   ]
  },
  {
   "cell_type": "code",
   "execution_count": 24,
   "metadata": {
    "collapsed": false
   },
   "outputs": [
    {
     "data": {
      "text/html": [
       "<div>\n",
       "<table border=\"1\" class=\"dataframe\">\n",
       "  <thead>\n",
       "    <tr style=\"text-align: right;\">\n",
       "      <th></th>\n",
       "      <th>year</th>\n",
       "      <th>month</th>\n",
       "      <th>name</th>\n",
       "      <th>age</th>\n",
       "      <th>desc</th>\n",
       "      <th>cause_of_death</th>\n",
       "    </tr>\n",
       "  </thead>\n",
       "  <tbody>\n",
       "  </tbody>\n",
       "</table>\n",
       "</div>"
      ],
      "text/plain": [
       "Empty DataFrame\n",
       "Columns: [year, month, name, age, desc, cause_of_death]\n",
       "Index: []"
      ]
     },
     "execution_count": 24,
     "metadata": {},
     "output_type": "execute_result"
    }
   ],
   "source": [
    "df_full = pd.DataFrame(columns=['year','month','name','age','desc','cause_of_death'])\n",
    "print df_full.shape\n",
    "df_full.head()"
   ]
  },
  {
   "cell_type": "code",
   "execution_count": 25,
   "metadata": {
    "collapsed": false
   },
   "outputs": [],
   "source": [
    "for entry in month_year_pages.values():\n",
    "    df_sub = pd.DataFrame(entry, columns=['year','month','name','age','desc','cause_of_death'])\n",
    "    df_full = pd.concat([df_full, df_sub], axis=0)"
   ]
  },
  {
   "cell_type": "code",
   "execution_count": 26,
   "metadata": {
    "collapsed": false
   },
   "outputs": [
    {
     "data": {
      "text/html": [
       "<div>\n",
       "<table border=\"1\" class=\"dataframe\">\n",
       "  <thead>\n",
       "    <tr style=\"text-align: right;\">\n",
       "      <th></th>\n",
       "      <th>year</th>\n",
       "      <th>month</th>\n",
       "      <th>name</th>\n",
       "      <th>age</th>\n",
       "      <th>desc</th>\n",
       "      <th>cause_of_death</th>\n",
       "    </tr>\n",
       "  </thead>\n",
       "  <tbody>\n",
       "    <tr>\n",
       "      <th>0</th>\n",
       "      <td>2014</td>\n",
       "      <td>10</td>\n",
       "      <td>Lynsey de Paul</td>\n",
       "      <td>64</td>\n",
       "      <td>English singer-songwriter (\"[[Won't Somebody D...</td>\n",
       "      <td>brain haemorrhage.</td>\n",
       "    </tr>\n",
       "    <tr>\n",
       "      <th>1</th>\n",
       "      <td>2014</td>\n",
       "      <td>10</td>\n",
       "      <td>Maurice Hodgson|Sir Maurice Hodgson</td>\n",
       "      <td>94</td>\n",
       "      <td>British business executive.</td>\n",
       "      <td></td>\n",
       "    </tr>\n",
       "    <tr>\n",
       "      <th>2</th>\n",
       "      <td>2014</td>\n",
       "      <td>10</td>\n",
       "      <td>Shlomo Lahat</td>\n",
       "      <td>86</td>\n",
       "      <td>Israeli general and politician, Mayor of [[Tel...</td>\n",
       "      <td>lung infection.</td>\n",
       "    </tr>\n",
       "    <tr>\n",
       "      <th>3</th>\n",
       "      <td>2014</td>\n",
       "      <td>10</td>\n",
       "      <td>José Martínez (infielder)|José Martínez</td>\n",
       "      <td>72</td>\n",
       "      <td>Cuban baseball player ([[Pittsburgh Pirates]])...</td>\n",
       "      <td>[[Chicago Cubs]]) and executive ([[Atlanta Br...</td>\n",
       "    </tr>\n",
       "    <tr>\n",
       "      <th>4</th>\n",
       "      <td>2014</td>\n",
       "      <td>10</td>\n",
       "      <td>Oluremi Oyo</td>\n",
       "      <td>61</td>\n",
       "      <td>Nigerian journalist, cancer.</td>\n",
       "      <td>cancer.</td>\n",
       "    </tr>\n",
       "  </tbody>\n",
       "</table>\n",
       "</div>"
      ],
      "text/plain": [
       "   year month                                     name age  \\\n",
       "0  2014    10                           Lynsey de Paul  64   \n",
       "1  2014    10      Maurice Hodgson|Sir Maurice Hodgson  94   \n",
       "2  2014    10                             Shlomo Lahat  86   \n",
       "3  2014    10  José Martínez (infielder)|José Martínez  72   \n",
       "4  2014    10                              Oluremi Oyo  61   \n",
       "\n",
       "                                                desc  \\\n",
       "0  English singer-songwriter (\"[[Won't Somebody D...   \n",
       "1                        British business executive.   \n",
       "2  Israeli general and politician, Mayor of [[Tel...   \n",
       "3  Cuban baseball player ([[Pittsburgh Pirates]])...   \n",
       "4                       Nigerian journalist, cancer.   \n",
       "\n",
       "                                      cause_of_death  \n",
       "0                                 brain haemorrhage.  \n",
       "1                                                     \n",
       "2                                    lung infection.  \n",
       "3   [[Chicago Cubs]]) and executive ([[Atlanta Br...  \n",
       "4                                            cancer.  "
      ]
     },
     "execution_count": 26,
     "metadata": {},
     "output_type": "execute_result"
    }
   ],
   "source": [
    "print df_full.shape\n",
    "df_full.head()"
   ]
  },
  {
   "cell_type": "code",
   "execution_count": 27,
   "metadata": {
    "collapsed": false
   },
   "outputs": [
    {
     "data": {
      "text/plain": [
       "' cancer.'"
      ]
     },
     "execution_count": 27,
     "metadata": {},
     "output_type": "execute_result"
    }
   ],
   "source": [
    "df_full.iloc[4].values[5]"
   ]
  },
  {
   "cell_type": "markdown",
   "metadata": {},
   "source": [
    "### Further Processing"
   ]
  },
  {
   "cell_type": "markdown",
   "metadata": {},
   "source": [
    "#### Reminder: Strip links, quotes, and brackets before extracting Nationality text"
   ]
  },
  {
   "cell_type": "code",
   "execution_count": 28,
   "metadata": {
    "collapsed": true
   },
   "outputs": [],
   "source": [
    "df_full['desc'] = df_full.desc.map(text_clean)\n",
    "df_full['cause_of_death'] = df_full.cause_of_death.map(text_clean)"
   ]
  },
  {
   "cell_type": "markdown",
   "metadata": {},
   "source": [
    "#### Extract Nationality\n",
    "\n",
    "Extracting nationality text as well as possible by taking the first consecutive capitalized words in the description. 'Olympic' and similar capitalized words might throw this off."
   ]
  },
  {
   "cell_type": "code",
   "execution_count": 29,
   "metadata": {
    "collapsed": true
   },
   "outputs": [],
   "source": [
    "df_full['nationality'] = df_full.desc.map(get_nationality_text)"
   ]
  },
  {
   "cell_type": "markdown",
   "metadata": {},
   "source": [
    "Get wikitext url name"
   ]
  },
  {
   "cell_type": "code",
   "execution_count": 30,
   "metadata": {
    "collapsed": false
   },
   "outputs": [],
   "source": [
    "df_full['name'] = df_full.name.map(get_wiki_url)"
   ]
  },
  {
   "cell_type": "markdown",
   "metadata": {},
   "source": [
    "## Write out file"
   ]
  },
  {
   "cell_type": "code",
   "execution_count": 31,
   "metadata": {
    "collapsed": true
   },
   "outputs": [],
   "source": [
    "df_full.to_csv('../out/celeb_deaths_wikipedia_full_1.csv', index=False)"
   ]
  },
  {
   "cell_type": "markdown",
   "metadata": {},
   "source": [
    "It would be useful to plot missing data by page_size i.e. fame or \"importance.\""
   ]
  },
  {
   "cell_type": "code",
   "execution_count": null,
   "metadata": {
    "collapsed": true
   },
   "outputs": [],
   "source": []
  }
 ],
 "metadata": {
  "kernelspec": {
   "display_name": "Python 2",
   "language": "python",
   "name": "python2"
  },
  "language_info": {
   "codemirror_mode": {
    "name": "ipython",
    "version": 2
   },
   "file_extension": ".py",
   "mimetype": "text/x-python",
   "name": "python",
   "nbconvert_exporter": "python",
   "pygments_lexer": "ipython2",
   "version": "2.7.10"
  }
 },
 "nbformat": 4,
 "nbformat_minor": 0
}
