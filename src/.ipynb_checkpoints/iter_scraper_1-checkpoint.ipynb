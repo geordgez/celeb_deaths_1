{
 "cells": [
  {
   "cell_type": "markdown",
   "metadata": {},
   "source": [
    "# Scraping Wikipedia Celebrity Deaths\n",
    "\n",
    "Creating a notebook to produce the dataset found at the [Kaggle Celebrity Deaths Page](https://www.kaggle.com/hugodarwood/celebrity-deaths).\n",
    "\n",
    "Attempting to replace the current dataset since it isn't complete (up-to-date) since there's no notebook to run to get up-to-date information and it has bad parses for some of the fields.\n",
    "\n",
    "This notebook isn't perfect either but does a better job."
   ]
  },
  {
   "cell_type": "code",
   "execution_count": 1,
   "metadata": {
    "collapsed": true
   },
   "outputs": [],
   "source": [
    "%matplotlib inline"
   ]
  },
  {
   "cell_type": "code",
   "execution_count": 2,
   "metadata": {
    "collapsed": true
   },
   "outputs": [],
   "source": [
    "import numpy as np\n",
    "import pandas as pd\n",
    "import re\n",
    "import requests\n",
    "import json\n",
    "\n",
    "from os import listdir\n",
    "from os.path import isfile, join\n",
    "\n",
    "from bs4 import BeautifulSoup as bs"
   ]
  },
  {
   "cell_type": "code",
   "execution_count": 3,
   "metadata": {
    "collapsed": false
   },
   "outputs": [],
   "source": [
    "month_to_num = {\n",
    "    'January': 1,\n",
    "    'February': 2,\n",
    "    'March': 3,\n",
    "    'April': 4,\n",
    "    'May': 5,\n",
    "    'June': 6,\n",
    "    'July': 7,\n",
    "    'August': 8,\n",
    "    'September': 9,\n",
    "    'October': 10,\n",
    "    'November': 11,\n",
    "    'December': 12\n",
    "}"
   ]
  },
  {
   "cell_type": "markdown",
   "metadata": {},
   "source": [
    "Iterators:"
   ]
  },
  {
   "cell_type": "code",
   "execution_count": 4,
   "metadata": {
    "collapsed": false
   },
   "outputs": [
    {
     "data": {
      "text/plain": [
       "list"
      ]
     },
     "execution_count": 4,
     "metadata": {},
     "output_type": "execute_result"
    }
   ],
   "source": [
    "year_list = range(2004,2017)\n",
    "type(year_list)"
   ]
  },
  {
   "cell_type": "markdown",
   "metadata": {},
   "source": [
    "### [DON'T RUN AGAIN] Scrape all monthly death pages"
   ]
  },
  {
   "cell_type": "markdown",
   "metadata": {},
   "source": [
    "Scrape all death pages and store into the '../out/raw_pages' directory"
   ]
  },
  {
   "cell_type": "code",
   "execution_count": 228,
   "metadata": {
    "collapsed": false
   },
   "outputs": [
    {
     "data": {
      "text/plain": [
       "''"
      ]
     },
     "execution_count": 228,
     "metadata": {},
     "output_type": "execute_result"
    }
   ],
   "source": [
    "\"\"\"\n",
    "for year in year_list:\n",
    "    for month in month_to_num.keys():\n",
    "        filename = str(year) + '_' + str(month_to_num[month]) + '_deaths.json'\n",
    "        url = ('https://en.wikipedia.org/w/api.php?action=query&titles=Deaths_in_' +  \n",
    "               month + '_' + str(year) + \n",
    "               '&prop=revisions&rvprop=content&format=json')\n",
    "        content = requests.get(url).json()\n",
    "        with open(\"../out/raw_pages/\" + filename, \"wb\") as outfile:\n",
    "            json.dump(content, outfile)         \n",
    "\"\"\"\n",
    "''"
   ]
  },
  {
   "cell_type": "markdown",
   "metadata": {},
   "source": [
    "### Helper functions"
   ]
  },
  {
   "cell_type": "code",
   "execution_count": 297,
   "metadata": {
    "collapsed": false
   },
   "outputs": [],
   "source": [
    "desc_death_re = re.compile('(.*?),? ?((?:.+)*?). (?:.*?)?', re.DOTALL|re.MULTILINE)\n",
    "death_clean_no_url_re = re.compile('\\s?(.+)[.]?(?:\\<ref|\\[?http)(?:.*)?$')\n",
    "\n",
    "\"\"\"\n",
    "Input: single text string to be processed\n",
    "\n",
    "Output: list of strings of length two\n",
    "  - first string is description of person\n",
    "  - second string is cause of death \n",
    "  (last clause of input when more than one comma in field)\n",
    "  \n",
    "\"\"\"\n",
    "def get_description_and_death(text):\n",
    "    text_no_url = text\n",
    "    if ('http' in text_no_url) or ('<ref' in text_no_url):\n",
    "        try:\n",
    "            text_no_url = death_clean_no_url_re.match(text).groups()[0]\n",
    "        except AttributeError:\n",
    "            print text\n",
    "            raw_input(\"Press enter to continue\")\n",
    "            raw_input(\"Press enter to continue\")\n",
    "    text_parts = text_no_url.replace('=','').split(',')\n",
    "    num_parts = len(text_parts)\n",
    "    if num_parts == 0:\n",
    "        return ['', '']\n",
    "    elif num_parts == 1:\n",
    "        return text_parts + ['']\n",
    "    elif num_parts == 2:\n",
    "        return [\",\".join(text_parts)] + [text_parts[1]]\n",
    "    else:\n",
    "        return ([\",\".join(text_parts[:-1])] + [text_parts[-1]])\n",
    "                #[death_clean_no_url_re.match(text_parts[-1]).groups()[0]])\n",
    "\n",
    "\"\"\"\n",
    "Runs get_description_and_death on the last element of a list\n",
    "\"\"\"\n",
    "def add_description_and_death(entry_list):\n",
    "    return entry_list[:-1] + get_description_and_death(entry_list[-1])"
   ]
  },
  {
   "cell_type": "code",
   "execution_count": 286,
   "metadata": {
    "collapsed": true
   },
   "outputs": [],
   "source": [
    "\"\"\"\n",
    "Inputs: list, index number, character pattern to be replaced\n",
    "\n",
    "Outputs: list with entry in index number cleaned of the character pattern to be replaced\n",
    "\"\"\"\n",
    "def clean_text(text_list, idx_num, chars):\n",
    "    text_list_out = text_list\n",
    "    text_list_out[idx_num] = text_list[idx_num].replace(chars, '')\n",
    "    return text_list_out"
   ]
  },
  {
   "cell_type": "code",
   "execution_count": 287,
   "metadata": {
    "collapsed": true
   },
   "outputs": [],
   "source": [
    "mo_yr_key_re = re.compile('(\\d+)_(\\d+).*?')\n",
    "name_age_re = re.compile('\\[\\[(.*?)\\]\\], (\\d+), (.+)?$', re.MULTILINE)\n",
    "\n",
    "\"\"\"\n",
    "Inputs: month-year key string, text entry string\n",
    "\n",
    "Outputs: list of month, year, name, and age\n",
    "\"\"\"\n",
    "def parse_month_year_name_age(my_key, text_entry):\n",
    "    return (list(re.match(mo_yr_key_re, my_key).groups()) +\n",
    "            list(re.match(name_age_re, text_entry.replace('\\n', '')).groups()))"
   ]
  },
  {
   "cell_type": "code",
   "execution_count": 288,
   "metadata": {
    "collapsed": true
   },
   "outputs": [],
   "source": [
    "\"\"\"\n",
    "Find links and convert them to the displayed text\n",
    "\"\"\"\n",
    "def remove_link_text(text_block):\n",
    "    return"
   ]
  },
  {
   "cell_type": "markdown",
   "metadata": {},
   "source": [
    "### Re-read and process scraped file data locally"
   ]
  },
  {
   "cell_type": "code",
   "execution_count": 289,
   "metadata": {
    "collapsed": false
   },
   "outputs": [],
   "source": [
    "jsonfiles = [f for f in listdir('../out/raw_pages/') if (isfile(join('../out/raw_pages/', f)) and f[-4:] == 'json')]"
   ]
  },
  {
   "cell_type": "code",
   "execution_count": 290,
   "metadata": {
    "collapsed": false
   },
   "outputs": [],
   "source": [
    "month_year_pages = {}\n",
    "\n",
    "for jfilename in jsonfiles:\n",
    "    my_key = \"_\".join(re.match(mo_yr_key_re, jfilename).groups())\n",
    "    with open('../out/raw_pages/' + jfilename, 'rb') as infile:\n",
    "        contents = infile.read()\n",
    "        infile.close()\n",
    "    month_year_pages[my_key] = json.loads(contents)['query']['pages'].values()[0]['revisions'][0]['*']"
   ]
  },
  {
   "cell_type": "code",
   "execution_count": 291,
   "metadata": {
    "collapsed": false
   },
   "outputs": [
    {
     "data": {
      "text/plain": [
       "57927"
      ]
     },
     "execution_count": 291,
     "metadata": {},
     "output_type": "execute_result"
    }
   ],
   "source": [
    "counter = 0\n",
    "for value in month_year_pages.values():\n",
    "    new_entries = len(value.encode('utf-8').rstrip().split('*'))\n",
    "    counter += new_entries\n",
    "counter"
   ]
  },
  {
   "cell_type": "markdown",
   "metadata": {},
   "source": [
    "Should combine cell below with cell above (later)."
   ]
  },
  {
   "cell_type": "code",
   "execution_count": 292,
   "metadata": {
    "collapsed": false,
    "scrolled": true
   },
   "outputs": [],
   "source": [
    "for my_key in month_year_pages.keys():\n",
    "    month_year_pages[my_key] = [\n",
    "        add_description_and_death(\n",
    "            parse_month_year_name_age(my_key, entry)\n",
    "        )\n",
    "        for entry in month_year_pages[my_key].encode('utf-8').rstrip().split('*')\n",
    "        if re.match(name_age_re, entry.replace('\\n', ''))]"
   ]
  },
  {
   "cell_type": "markdown",
   "metadata": {
    "collapsed": true
   },
   "source": [
    "Make dataframe:"
   ]
  },
  {
   "cell_type": "code",
   "execution_count": 293,
   "metadata": {
    "collapsed": false
   },
   "outputs": [
    {
     "name": "stdout",
     "output_type": "stream",
     "text": [
      "(0, 6)\n"
     ]
    },
    {
     "data": {
      "text/html": [
       "<div>\n",
       "<table border=\"1\" class=\"dataframe\">\n",
       "  <thead>\n",
       "    <tr style=\"text-align: right;\">\n",
       "      <th></th>\n",
       "      <th>year</th>\n",
       "      <th>month</th>\n",
       "      <th>name</th>\n",
       "      <th>age</th>\n",
       "      <th>desc</th>\n",
       "      <th>cause_of_death</th>\n",
       "    </tr>\n",
       "  </thead>\n",
       "  <tbody>\n",
       "  </tbody>\n",
       "</table>\n",
       "</div>"
      ],
      "text/plain": [
       "Empty DataFrame\n",
       "Columns: [year, month, name, age, desc, cause_of_death]\n",
       "Index: []"
      ]
     },
     "execution_count": 293,
     "metadata": {},
     "output_type": "execute_result"
    }
   ],
   "source": [
    "df_full = pd.DataFrame(columns=['year','month','name','age','desc','cause_of_death'])\n",
    "print df_full.shape\n",
    "df_full.head()"
   ]
  },
  {
   "cell_type": "code",
   "execution_count": 294,
   "metadata": {
    "collapsed": false
   },
   "outputs": [],
   "source": [
    "for entry in month_year_pages.values():\n",
    "    df_sub = pd.DataFrame(entry, columns=['year','month','name','age','desc','cause_of_death'])\n",
    "    df_full = pd.concat([df_full, df_sub], axis=0)"
   ]
  },
  {
   "cell_type": "code",
   "execution_count": 295,
   "metadata": {
    "collapsed": false
   },
   "outputs": [
    {
     "name": "stdout",
     "output_type": "stream",
     "text": [
      "(49051, 6)\n"
     ]
    },
    {
     "data": {
      "text/html": [
       "<div>\n",
       "<table border=\"1\" class=\"dataframe\">\n",
       "  <thead>\n",
       "    <tr style=\"text-align: right;\">\n",
       "      <th></th>\n",
       "      <th>year</th>\n",
       "      <th>month</th>\n",
       "      <th>name</th>\n",
       "      <th>age</th>\n",
       "      <th>desc</th>\n",
       "      <th>cause_of_death</th>\n",
       "    </tr>\n",
       "  </thead>\n",
       "  <tbody>\n",
       "    <tr>\n",
       "      <th>0</th>\n",
       "      <td>2014</td>\n",
       "      <td>10</td>\n",
       "      <td>Lynsey de Paul</td>\n",
       "      <td>64</td>\n",
       "      <td>English singer-songwriter (\"[[Won't Somebody D...</td>\n",
       "      <td>brain haemorrhage.&lt;ref&gt;[</td>\n",
       "    </tr>\n",
       "    <tr>\n",
       "      <th>1</th>\n",
       "      <td>2014</td>\n",
       "      <td>10</td>\n",
       "      <td>Maurice Hodgson|Sir Maurice Hodgson</td>\n",
       "      <td>94</td>\n",
       "      <td>British business executive.&lt;ref&gt;[</td>\n",
       "      <td></td>\n",
       "    </tr>\n",
       "    <tr>\n",
       "      <th>2</th>\n",
       "      <td>2014</td>\n",
       "      <td>10</td>\n",
       "      <td>Shlomo Lahat</td>\n",
       "      <td>86</td>\n",
       "      <td>Israeli general and politician, Mayor of [[Tel...</td>\n",
       "      <td>lung infection.&lt;ref&gt;[</td>\n",
       "    </tr>\n",
       "    <tr>\n",
       "      <th>3</th>\n",
       "      <td>2014</td>\n",
       "      <td>10</td>\n",
       "      <td>José Martínez (infielder)|José Martínez</td>\n",
       "      <td>72</td>\n",
       "      <td>Cuban baseball player ([[Pittsburgh Pirates]])...</td>\n",
       "      <td>[[Chicago Cubs]]) and executive ([[Atlanta Br...</td>\n",
       "    </tr>\n",
       "    <tr>\n",
       "      <th>4</th>\n",
       "      <td>2014</td>\n",
       "      <td>10</td>\n",
       "      <td>Oluremi Oyo</td>\n",
       "      <td>61</td>\n",
       "      <td>Nigerian journalist, cancer.&lt;ref&gt;[</td>\n",
       "      <td>cancer.&lt;ref&gt;[</td>\n",
       "    </tr>\n",
       "  </tbody>\n",
       "</table>\n",
       "</div>"
      ],
      "text/plain": [
       "   year month                                     name age  \\\n",
       "0  2014    10                           Lynsey de Paul  64   \n",
       "1  2014    10      Maurice Hodgson|Sir Maurice Hodgson  94   \n",
       "2  2014    10                             Shlomo Lahat  86   \n",
       "3  2014    10  José Martínez (infielder)|José Martínez  72   \n",
       "4  2014    10                              Oluremi Oyo  61   \n",
       "\n",
       "                                                desc  \\\n",
       "0  English singer-songwriter (\"[[Won't Somebody D...   \n",
       "1                  British business executive.<ref>[   \n",
       "2  Israeli general and politician, Mayor of [[Tel...   \n",
       "3  Cuban baseball player ([[Pittsburgh Pirates]])...   \n",
       "4                 Nigerian journalist, cancer.<ref>[   \n",
       "\n",
       "                                      cause_of_death  \n",
       "0                           brain haemorrhage.<ref>[  \n",
       "1                                                     \n",
       "2                              lung infection.<ref>[  \n",
       "3   [[Chicago Cubs]]) and executive ([[Atlanta Br...  \n",
       "4                                      cancer.<ref>[  "
      ]
     },
     "execution_count": 295,
     "metadata": {},
     "output_type": "execute_result"
    }
   ],
   "source": [
    "print df_full.shape\n",
    "df_full.head()"
   ]
  },
  {
   "cell_type": "code",
   "execution_count": 296,
   "metadata": {
    "collapsed": false
   },
   "outputs": [
    {
     "data": {
      "text/plain": [
       "array(['2014', '10', 'Oluremi Oyo', '61',\n",
       "       'Nigerian journalist, cancer.<ref>[', ' cancer.<ref>['], dtype=object)"
      ]
     },
     "execution_count": 296,
     "metadata": {},
     "output_type": "execute_result"
    }
   ],
   "source": [
    "df_full.iloc[4].values"
   ]
  },
  {
   "cell_type": "markdown",
   "metadata": {},
   "source": [
    "### Further Processing"
   ]
  },
  {
   "cell_type": "markdown",
   "metadata": {},
   "source": [
    "#### Extract Nationality\n",
    "\n",
    "Extracting nationality text as well as possible by taking the first consecutive capitalized words in the description. 'Olympic' and similar capitalized words might throw this off."
   ]
  },
  {
   "cell_type": "code",
   "execution_count": 191,
   "metadata": {
    "collapsed": false
   },
   "outputs": [],
   "source": [
    "natl_pattern1 = re.compile('((?:[A-Z][a-z\\-]+ ?)+) ')\n",
    "\n",
    "def get_nationality_text(desc_text):\n",
    "    try:\n",
    "        # get rid of url links\n",
    "        return natl_pattern1.match(desc_text.strip('[')).groups()[0]\n",
    "    except AttributeError, e:\n",
    "        print desc_text"
   ]
  },
  {
   "cell_type": "code",
   "execution_count": 194,
   "metadata": {
    "collapsed": false
   },
   "outputs": [
    {
     "data": {
      "text/plain": [
       "('Native American',)"
      ]
     },
     "execution_count": 194,
     "metadata": {},
     "output_type": "execute_result"
    }
   ],
   "source": [
    "natl_pattern1.match('Native American asdf asdfasdf ').groups()"
   ]
  },
  {
   "cell_type": "markdown",
   "metadata": {},
   "source": [
    "## Further attributes outside of the death summary Wiki page"
   ]
  },
  {
   "cell_type": "markdown",
   "metadata": {},
   "source": [
    "### Article length: Fame Score\n",
    "\n",
    "Get Wikipedia URL for getting fame score i.e. size of article:"
   ]
  },
  {
   "cell_type": "code",
   "execution_count": 10,
   "metadata": {
    "collapsed": false
   },
   "outputs": [],
   "source": [
    "def get_wiki_url(name_text):\n",
    "    return name_text.split('|')[0].strip('[').strip(']')"
   ]
  },
  {
   "cell_type": "code",
   "execution_count": 11,
   "metadata": {
    "collapsed": false
   },
   "outputs": [],
   "source": [
    "df_entries['name'] = df_entries.name.map(get_wiki_url)"
   ]
  },
  {
   "cell_type": "markdown",
   "metadata": {},
   "source": [
    "Get page metadata:"
   ]
  },
  {
   "cell_type": "code",
   "execution_count": 12,
   "metadata": {
    "collapsed": true
   },
   "outputs": [],
   "source": [
    "base_url_prefix = 'https://en.wikipedia.org/w/api.php?action=query&format=json&titles=' \n",
    "base_url_suffix = '&prop=revisions&rvprop=size'"
   ]
  },
  {
   "cell_type": "code",
   "execution_count": 13,
   "metadata": {
    "collapsed": true
   },
   "outputs": [],
   "source": [
    "def get_page_size(wiki_name):\n",
    "    size_url = base_url_prefix + wiki_name.replace(' ','_') + base_url_suffix\n",
    "    size_page = requests.get(size_url)\n",
    "    return size_page.json()['query']['pages'].values()[0]['revisions'][0]['size']"
   ]
  },
  {
   "cell_type": "markdown",
   "metadata": {},
   "source": [
    "Clean up wiki link text"
   ]
  },
  {
   "cell_type": "code",
   "execution_count": 15,
   "metadata": {
    "collapsed": true
   },
   "outputs": [],
   "source": [
    "def remove_wiki_url_delims(text):\n",
    "    return text.replace('[[','').replace(']]','')"
   ]
  },
  {
   "cell_type": "markdown",
   "metadata": {},
   "source": [
    "### Birth and death data\n",
    "\n",
    "Getting birthday data. It's probably helpful to see [Stack Overflow thread](https://stackoverflow.com/questions/12250580/parse-birth-and-death-dates-from-wikipedia)"
   ]
  },
  {
   "cell_type": "code",
   "execution_count": 20,
   "metadata": {
    "collapsed": true
   },
   "outputs": [],
   "source": [
    "text_for_search = '         = Adele Faccio\\n| honorific-suffix    =\\n| image               =\\n| caption             =\\n| constituency_MP     =<!-- Can be repeated up to eight times by adding a number -->\\n| parliament          =<!-- Can be repeated up to eight times by adding a number -->\\n| majority            =<!-- Can be repeated up to eight times by adding a number -->\\n| term_start          =<!-- Can be repeated up to eight times by adding a number -->\\n| term_end            =<!-- Can be repeated up to eight times by adding a number -->\\n| predecessor         =<!-- Can be repeated up to eight times by adding a number -->\\n| successor           =<!-- Can be repeated up to eight times by adding a number -->\\n| birth_date          ={{birth date|1920|11|13|df=y}} \\n| birth_place         =Pontebba, Udine\\n| death_date          ={{death date and age|2007|02|08|1920|11|13}}\\n| death_place         =Rome\\n| nationality         ={{ITA}}\\n| party               = Radical Party (Partito Radicale)\\n| otherparty          = <!--For additional political affiliations -->\\n| spouse              =\\n| partner             = <!--For those with a domestic partner and not married -->\\n| relations           =\\n| children            =\\n| residence           =\\n| alma_mater          =\\n| occupation          =\\n| profession          =\\n| religion            =\\n| signature           =\\n| website             =\\n| footnotes           =\\n}}\\n\\n\\'\\'\\'Adele Faccio\\'\\'\\' (November 13, 1920 in [[Pontebba]], [[Udine]] \\xe2\\x80\\x93 February 8, 2007 in [[Rome]]) was an [[Italy|Italian]] [[politician]] and deputy of the [[Radical Party (Italy)|Radical Party]] (\\'\\'Partito Radicale\\'\\').<ref>{{It icon}} \"[http://www.corriere.it/Primo_Piano/Cronache/2007/02_Febbraio/09/adelefaccio.shtml Morta la radicale Adele Faccio].\" (February 9, 2007). \\'\\'Corriere della Sera.\\'\\' Retrieved June 21, 2007.</ref>'"
   ]
  },
  {
   "cell_type": "code",
   "execution_count": 8,
   "metadata": {
    "collapsed": false
   },
   "outputs": [],
   "source": [
    "base_bday_prefix = 'https://en.wikipedia.org/w/api.php?action=query&format=json&titles='\n",
    "base_bday_suffix = '&prop=revisions&rvprop=content&rvsection=0'\n",
    "\n",
    "def check_if_number(elem):\n",
    "    try:\n",
    "        return type(int(elem)) == int\n",
    "    except ValueError:\n",
    "        return False\n",
    "\n",
    "    \n",
    "def get_only_ints(date_list):\n",
    "    return [e for e in date_list if check_if_number(e) > 0]\n",
    "\n",
    "\n",
    "no_birth_death_urls = []\n",
    "\n",
    "def get_life_death(name, extract_bday=True):\n",
    "    try:        \n",
    "        entry_url = base_bday_prefix + name.replace(' ','_') + base_bday_suffix\n",
    "        entry_text = requests.get(entry_url).json()['query']['pages']\n",
    "        entry_text = str(entry_text.values()[0]['revisions'][0]['*'].encode('utf-8'))\n",
    "        \n",
    "        if extract_bday:\n",
    "            pattern = re.compile('.*?\\{{2}(?:B|b)irth (?:D|d)ate(.+?)\\}{2}', \n",
    "                                 re.MULTILINE|re.DOTALL)\n",
    "        else:\n",
    "            pattern = re.compile('.*?\\{{2}(?:D|d)eath (?:D|d)ate(.+?)\\}{2}', \n",
    "                                 re.MULTILINE|re.DOTALL)\n",
    "\n",
    "        date_re = re.match(pattern, entry_text)\n",
    "        date_data = \"-\".join(get_only_ints(date_re.groups()[0].strip(\" \").split('|'))[:3])\n",
    "        \n",
    "        #print date_data\n",
    "        return date_data\n",
    "    \n",
    "    except AttributeError, e:\n",
    "        no_birth_death_urls.append(entry_url)"
   ]
  },
  {
   "cell_type": "markdown",
   "metadata": {},
   "source": [
    "Birthday"
   ]
  },
  {
   "cell_type": "markdown",
   "metadata": {},
   "source": [
    "Deathday"
   ]
  },
  {
   "cell_type": "markdown",
   "metadata": {},
   "source": [
    "## Write out file"
   ]
  },
  {
   "cell_type": "code",
   "execution_count": 28,
   "metadata": {
    "collapsed": true
   },
   "outputs": [],
   "source": [
    "df_full.to_csv('../out/celeb_deaths_wikipedia_' +\n",
    "                  month_select + '_' + str(year_select) + '.csv', \n",
    "                  index=False)"
   ]
  },
  {
   "cell_type": "markdown",
   "metadata": {},
   "source": [
    "It would be useful to plot missing data by page_size i.e. fame or \"importance.\""
   ]
  },
  {
   "cell_type": "code",
   "execution_count": null,
   "metadata": {
    "collapsed": true
   },
   "outputs": [],
   "source": []
  }
 ],
 "metadata": {
  "kernelspec": {
   "display_name": "Python 2",
   "language": "python",
   "name": "python2"
  },
  "language_info": {
   "codemirror_mode": {
    "name": "ipython",
    "version": 2
   },
   "file_extension": ".py",
   "mimetype": "text/x-python",
   "name": "python",
   "nbconvert_exporter": "python",
   "pygments_lexer": "ipython2",
   "version": "2.7.10"
  }
 },
 "nbformat": 4,
 "nbformat_minor": 0
}
