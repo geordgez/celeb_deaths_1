{
 "cells": [
  {
   "cell_type": "markdown",
   "metadata": {},
   "source": [
    "# Scraping Wikipedia Celebrity Deaths\n",
    "\n",
    "Creating a notebook to produce the dataset found at the [Kaggle Celebrity Deaths Page](https://www.kaggle.com/hugodarwood/celebrity-deaths).\n",
    "\n",
    "Attempting to replace the current dataset since it isn't complete (up-to-date) since there's no notebook to run to get up-to-date information and it has bad parses for some of the fields.\n",
    "\n",
    "This notebook isn't perfect either but does a better job."
   ]
  },
  {
   "cell_type": "code",
   "execution_count": 1,
   "metadata": {
    "collapsed": true
   },
   "outputs": [],
   "source": [
    "%matplotlib inline"
   ]
  },
  {
   "cell_type": "code",
   "execution_count": 2,
   "metadata": {
    "collapsed": true
   },
   "outputs": [],
   "source": [
    "import numpy as np\n",
    "import pandas as pd\n",
    "import re\n",
    "import json\n",
    "import csv\n",
    "\n",
    "from os import listdir\n",
    "from os.path import isfile, join\n",
    "import sys\n",
    "#reload(sys)\n",
    "#sys.setdefaultencoding('utf-8')\n",
    "\n",
    "from bs4 import BeautifulSoup as bs"
   ]
  },
  {
   "cell_type": "markdown",
   "metadata": {},
   "source": [
    "### Helper functions"
   ]
  },
  {
   "cell_type": "markdown",
   "metadata": {},
   "source": [
    "#### Break apart description and cause of death\n",
    "\n",
    "Cases (where clauses are comma-separated parts of each string):\n",
    "- If one clause, use that clause as the description\n",
    "- If multiple clauses, use the combined (all) clauses as the description and the second clause as cause of death.\n",
    "  - This is so that descriptions don't omit any useful information that would have been comma separated such as multiple titles\n",
    "\n",
    "It used to split greater than two clauses into:\n",
    "- Combined clause from first to second to last as the description\n",
    "- Last clause as cause of death\n",
    "\n",
    "However, I realized that this would probably still have the issues of misclassifying some part of the description as cause of death."
   ]
  },
  {
   "cell_type": "code",
   "execution_count": 3,
   "metadata": {
    "collapsed": true
   },
   "outputs": [],
   "source": [
    "desc_death_re = re.compile('(.*?),? ?((?:.+)*?). (?:.*?)?', re.DOTALL|re.MULTILINE)\n",
    "death_clean_no_url_re = re.compile('\\s?(.[^<]+)\\.? ?(?=<|\\[?http)(?:.*)?$')\n",
    "# death_clean_no_url_re = re.compile('\\s?\\w(.[^<])+[.]?(?:<|\\[?http)(?:.*)?$')\n",
    "\n",
    "\"\"\"\n",
    "Input: single text string to be processed\n",
    "\n",
    "Output: list of strings of length two\n",
    "  - first string is description of person\n",
    "  - second string is cause of death \n",
    "  (last clause of input when more than one comma in field)\n",
    "  \n",
    "\"\"\"\n",
    "def get_description_and_death(text):\n",
    "    text_no_url = text\n",
    "    if ('http' in text_no_url) or ('<ref' in text_no_url):\n",
    "        try:\n",
    "            text_no_url = death_clean_no_url_re.match(text).groups()[0]\n",
    "        except AttributeError:\n",
    "            print text\n",
    "            raw_input(\"Press enter to continue\")\n",
    "            raw_input(\"Press enter to continue\")\n",
    "    text_parts = text_no_url.replace('=','').split(',')\n",
    "    num_parts = len(text_parts)\n",
    "    if num_parts == 0:\n",
    "        return ['', '']\n",
    "    elif num_parts == 1:\n",
    "        return text_parts + ['']\n",
    "#    elif num_parts == 2:\n",
    "#        return [\",\".join(text_parts)] + [text_parts[1]]\n",
    "    else:\n",
    "        return ([\",\".join(text_parts[:-1])] + [text_parts[-1]])\n",
    "                #[death_clean_no_url_re.match(text_parts[-1]).groups()[0]])"
   ]
  },
  {
   "cell_type": "code",
   "execution_count": 4,
   "metadata": {
    "collapsed": false
   },
   "outputs": [],
   "source": [
    "\"\"\"\n",
    "Runs get_description_and_death() on the last element of a list\n",
    "\"\"\"\n",
    "def add_description_and_death(entry_list):\n",
    "    return entry_list[:-1] + get_description_and_death(entry_list[-1])"
   ]
  },
  {
   "cell_type": "markdown",
   "metadata": {},
   "source": [
    "Testing functions:"
   ]
  },
  {
   "cell_type": "code",
   "execution_count": 5,
   "metadata": {
    "collapsed": false
   },
   "outputs": [
    {
     "data": {
      "text/plain": [
       "['English singer-songwriter (\"[[Won\\'t Somebody Dance with Me]]\")',\n",
       " ' brain haemorrhage.']"
      ]
     },
     "execution_count": 5,
     "metadata": {},
     "output_type": "execute_result"
    }
   ],
   "source": [
    "get_description_and_death('English singer-songwriter (\"[[Won\\'t Somebody Dance with Me]]\"), brain haemorrhage.<ref>[http://www.bbc.co.uk/news/entertainment-arts-29457228 Singer Lynsey De Paul dies aged 64]</ref>')"
   ]
  },
  {
   "cell_type": "markdown",
   "metadata": {},
   "source": [
    "#### Function for cleaning a particular list entry\n",
    "\n",
    "As far as I know this function isn't actually called for any cleaning and was written as an afterthought in case it was needed."
   ]
  },
  {
   "cell_type": "markdown",
   "metadata": {},
   "source": [
    "#### Get month, year, name, age rows\n",
    "\n",
    "Month and year come from the file name so are guaranteed. Name and age are virtually guaranteed from each listing as well."
   ]
  },
  {
   "cell_type": "code",
   "execution_count": 6,
   "metadata": {
    "collapsed": true
   },
   "outputs": [],
   "source": [
    "mo_yr_key_re = re.compile('(\\d+)_(\\d+).*?')\n",
    "name_age_re = re.compile('\\[\\[(.*?)\\]\\], (\\d+), (.+)?$', re.MULTILINE)\n",
    "\n",
    "\"\"\"\n",
    "Inputs: month-year key string, text entry string\n",
    "\n",
    "Outputs: list of month, year, name, and age\n",
    "\"\"\"\n",
    "def parse_month_year_name_age(my_key, text_entry):\n",
    "    return (list(re.match(mo_yr_key_re, my_key).groups()) +\n",
    "            list(re.match(name_age_re, text_entry.replace('\\n', '')).groups()))"
   ]
  },
  {
   "cell_type": "markdown",
   "metadata": {},
   "source": [
    "#### Convert all links in text blocks into normal text\n",
    "\n",
    "In other words, removing the [ and ] brackets as well as any text after | in links if present."
   ]
  },
  {
   "cell_type": "code",
   "execution_count": 7,
   "metadata": {
    "collapsed": false
   },
   "outputs": [],
   "source": [
    "#link_re = re.compile('\\[\\[([^\\|(?:\\]\\])]*)(?=\\||\\]\\])', re.DOTALL)\n",
    "link_re = re.compile('\\[\\[([^\\|\\]]*)(?=\\||\\]\\])', re.DOTALL)\n",
    "\n",
    "#link_all_re = re.compile('(\\[\\[([^(\\]\\])]*)(\\]\\]))')\n",
    "link_all_re = re.compile('(\\[\\[(?:[^\\[\\]])+\\]\\])')\n",
    "\n",
    "\"\"\"\n",
    "Used to be messy, not anymore!\n",
    "\"\"\"\n",
    "\"\"\"\n",
    "Find links and convert them to the displayed text\n",
    "\"\"\"\n",
    "\n",
    "# need to check if contains link\n",
    "# essentially does the same thing as get_wiki_url...\n",
    "def extract_link_text(link_block):\n",
    "    link_present = link_re.search(link_block)\n",
    "    if link_present:\n",
    "        return link_present.groups()\n",
    "    return link_block\n",
    "\n",
    "def link_only(matchobj):\n",
    "    cleaned_text = extract_link_text(matchobj.groups()[0])[0]\n",
    "    return cleaned_text\n",
    "\n",
    "def link_only_special(text):\n",
    "    print text.groups()\n",
    "\n",
    "def remove_link_text(text_block):\n",
    "    return re.sub(link_all_re, link_only, text_block)"
   ]
  },
  {
   "cell_type": "code",
   "execution_count": 8,
   "metadata": {
    "collapsed": false
   },
   "outputs": [
    {
     "name": "stdout",
     "output_type": "stream",
     "text": [
      "('1asdf',)\n",
      "('George Savage (politician)',)\n"
     ]
    }
   ],
   "source": [
    "print extract_link_text('[[1asdf|2]]')\n",
    "print extract_link_text('[[George Savage (politician)|George Savage]]')"
   ]
  },
  {
   "cell_type": "code",
   "execution_count": 9,
   "metadata": {
    "collapsed": false,
    "scrolled": true
   },
   "outputs": [],
   "source": [
    "#remove_link_text('asdf asdf [[ab]] [[cd|efg]]')\n",
    "#remove_link_text('[[George Savage (politician)|George Savage]], 72, British politician, [[Member of the Legislative Assembly (Northern Ireland)|MLA]] for [[Upper Bann (Assembly constituency)|Upper Bann]]')\n",
    "#link_all_re.search('[[George Savage (politician)|George Savage]], 72, British politician, [[Member of the Legislative Assembly (Northern Ireland)|MLA]] for [[Upper Bann (Assembly constituency)|Upper Bann]]').groups()\n",
    "#re.sub(link_all_re, link_only, '[[George Savage (politician)|George Savage]], 72, British politician, [[Member of the Legislative Assembly (Northern Ireland)|MLA]] for [[Upper Bann (Assembly constituency)|Upper Bann]]')\n",
    "a = re.sub(link_all_re, link_only, '[[George Savage (politician)|George Savage]], 72, British politician, [[Member of the Legislative Assembly (Northern Ireland)|MLA]] for [[Upper Bann (Assembly constituency)|Upper Bann]]')"
   ]
  },
  {
   "cell_type": "code",
   "execution_count": 10,
   "metadata": {
    "collapsed": false
   },
   "outputs": [
    {
     "data": {
      "text/plain": [
       "'George Savage (politician), 72, British politician, Member of the Legislative Assembly (Northern Ireland) for Upper Bann (Assembly constituency)'"
      ]
     },
     "execution_count": 10,
     "metadata": {},
     "output_type": "execute_result"
    }
   ],
   "source": [
    "a"
   ]
  },
  {
   "cell_type": "markdown",
   "metadata": {},
   "source": [
    "#### Extracting nationality from description\n",
    "\n",
    "Nationality is roughly matched to the first $n$ words that have capitalized first letters. Sometimes this will capture titles or description text such as \"British Prime Minister\" or \"Australian Olympic.\" However, it does a pretty good job of making sure countries such as \"New Zealand\" and \"South African\" aren't cut off."
   ]
  },
  {
   "cell_type": "code",
   "execution_count": 11,
   "metadata": {
    "collapsed": false
   },
   "outputs": [],
   "source": [
    "natl_pattern1 = re.compile(' ?((?:[A-Z][^\\s]+ ?)+) ', re.UNICODE)\n",
    "\n",
    "def get_nationality_text(desc_text):\n",
    "    try:\n",
    "        # get rid of url links\n",
    "        return natl_pattern1.match(desc_text.strip('[')).groups()[0]\n",
    "    except AttributeError, e:\n",
    "        print desc_text"
   ]
  },
  {
   "cell_type": "code",
   "execution_count": 12,
   "metadata": {
    "collapsed": false
   },
   "outputs": [
    {
     "data": {
      "text/plain": [
       "('Native American',)"
      ]
     },
     "execution_count": 12,
     "metadata": {},
     "output_type": "execute_result"
    }
   ],
   "source": [
    "natl_pattern1.match('Native American asdf asdfasdf ').groups()"
   ]
  },
  {
   "cell_type": "markdown",
   "metadata": {},
   "source": [
    "#### Parse out additional characters and urls from name field"
   ]
  },
  {
   "cell_type": "code",
   "execution_count": 13,
   "metadata": {
    "collapsed": false
   },
   "outputs": [],
   "source": [
    "# essentially does the same thing as extract_link_text\n",
    "def get_wiki_url(name_text):\n",
    "    return name_text.split('|')[0].strip('[').strip(']')"
   ]
  },
  {
   "cell_type": "markdown",
   "metadata": {},
   "source": [
    "#### Additional functions for cleaning and removing characters"
   ]
  },
  {
   "cell_type": "code",
   "execution_count": 14,
   "metadata": {
    "collapsed": false
   },
   "outputs": [],
   "source": [
    "def remove_end_period(text):\n",
    "    return re.sub('\\. ?$','',text)\n",
    "\n",
    "def remove_beginning_space(text):\n",
    "    return re.sub('^ +','',text)"
   ]
  },
  {
   "cell_type": "code",
   "execution_count": 15,
   "metadata": {
    "collapsed": false
   },
   "outputs": [
    {
     "data": {
      "text/plain": [
       "'asdf'"
      ]
     },
     "execution_count": 15,
     "metadata": {},
     "output_type": "execute_result"
    }
   ],
   "source": [
    "remove_beginning_space('   asdf')"
   ]
  },
  {
   "cell_type": "code",
   "execution_count": 16,
   "metadata": {
    "collapsed": true
   },
   "outputs": [],
   "source": [
    "def text_clean(text):\n",
    "    if type(text) != str:\n",
    "        return text\n",
    "    return remove_beginning_space(\n",
    "    remove_end_period(\n",
    "        remove_link_text(text)\n",
    "        ).replace('[','').replace(']','')\n",
    "    )"
   ]
  },
  {
   "cell_type": "markdown",
   "metadata": {},
   "source": [
    "### Re-read and process scraped file data locally"
   ]
  },
  {
   "cell_type": "code",
   "execution_count": 17,
   "metadata": {
    "collapsed": false
   },
   "outputs": [],
   "source": [
    "jsonfiles = [f for f in listdir('../out/raw_pages/') if (isfile(join('../out/raw_pages/', f)) and f[-4:] == 'json')]"
   ]
  },
  {
   "cell_type": "code",
   "execution_count": 18,
   "metadata": {
    "collapsed": false
   },
   "outputs": [],
   "source": [
    "month_year_pages = {}\n",
    "\n",
    "for jfilename in jsonfiles:\n",
    "    my_key = \"_\".join(re.match(mo_yr_key_re, jfilename).groups())\n",
    "    with open('../out/raw_pages/' + jfilename, 'rb') as infile:\n",
    "        contents = infile.read()\n",
    "        infile.close()\n",
    "    month_year_pages[my_key] = json.loads(contents)['query']['pages'].values()[0]['revisions'][0]['*']"
   ]
  },
  {
   "cell_type": "code",
   "execution_count": 19,
   "metadata": {
    "collapsed": false
   },
   "outputs": [
    {
     "data": {
      "text/plain": [
       "57927"
      ]
     },
     "execution_count": 19,
     "metadata": {},
     "output_type": "execute_result"
    }
   ],
   "source": [
    "counter = 0\n",
    "for value in month_year_pages.values():\n",
    "    new_entries = len(value.encode('utf-8').rstrip().split('*'))\n",
    "    counter += new_entries\n",
    "counter"
   ]
  },
  {
   "cell_type": "markdown",
   "metadata": {},
   "source": [
    "Should combine cell below with cell above (later)."
   ]
  },
  {
   "cell_type": "code",
   "execution_count": 20,
   "metadata": {
    "collapsed": false,
    "scrolled": true
   },
   "outputs": [],
   "source": [
    "for my_key in month_year_pages.keys():\n",
    "    month_year_pages[my_key] = [\n",
    "        add_description_and_death(\n",
    "            parse_month_year_name_age(my_key, entry)\n",
    "        )\n",
    "        for entry in month_year_pages[my_key].encode('utf-8').rstrip().split('*')\n",
    "        if re.match(name_age_re, entry.replace('\\n', ''))]"
   ]
  },
  {
   "cell_type": "markdown",
   "metadata": {
    "collapsed": true
   },
   "source": [
    "Make dataframe:"
   ]
  },
  {
   "cell_type": "code",
   "execution_count": 21,
   "metadata": {
    "collapsed": false
   },
   "outputs": [
    {
     "name": "stdout",
     "output_type": "stream",
     "text": [
      "(0, 6)\n"
     ]
    },
    {
     "data": {
      "text/html": [
       "<div>\n",
       "<table border=\"1\" class=\"dataframe\">\n",
       "  <thead>\n",
       "    <tr style=\"text-align: right;\">\n",
       "      <th></th>\n",
       "      <th>year</th>\n",
       "      <th>month</th>\n",
       "      <th>name</th>\n",
       "      <th>age</th>\n",
       "      <th>desc</th>\n",
       "      <th>cause_of_death</th>\n",
       "    </tr>\n",
       "  </thead>\n",
       "  <tbody>\n",
       "  </tbody>\n",
       "</table>\n",
       "</div>"
      ],
      "text/plain": [
       "Empty DataFrame\n",
       "Columns: [year, month, name, age, desc, cause_of_death]\n",
       "Index: []"
      ]
     },
     "execution_count": 21,
     "metadata": {},
     "output_type": "execute_result"
    }
   ],
   "source": [
    "df_full = pd.DataFrame(columns=['year','month','name','age','desc','cause_of_death'])\n",
    "print df_full.shape\n",
    "df_full.head()"
   ]
  },
  {
   "cell_type": "code",
   "execution_count": 22,
   "metadata": {
    "collapsed": false
   },
   "outputs": [],
   "source": [
    "for entry in month_year_pages.values():\n",
    "    df_sub = pd.DataFrame(entry, columns=['year','month','name','age','desc','cause_of_death'])\n",
    "    df_full = pd.concat([df_full, df_sub], axis=0)"
   ]
  },
  {
   "cell_type": "code",
   "execution_count": 23,
   "metadata": {
    "collapsed": false
   },
   "outputs": [
    {
     "name": "stdout",
     "output_type": "stream",
     "text": [
      "(49051, 6)\n"
     ]
    },
    {
     "data": {
      "text/html": [
       "<div>\n",
       "<table border=\"1\" class=\"dataframe\">\n",
       "  <thead>\n",
       "    <tr style=\"text-align: right;\">\n",
       "      <th></th>\n",
       "      <th>year</th>\n",
       "      <th>month</th>\n",
       "      <th>name</th>\n",
       "      <th>age</th>\n",
       "      <th>desc</th>\n",
       "      <th>cause_of_death</th>\n",
       "    </tr>\n",
       "  </thead>\n",
       "  <tbody>\n",
       "    <tr>\n",
       "      <th>0</th>\n",
       "      <td>2014</td>\n",
       "      <td>10</td>\n",
       "      <td>Lynsey de Paul</td>\n",
       "      <td>64</td>\n",
       "      <td>English singer-songwriter (\"[[Won't Somebody D...</td>\n",
       "      <td>brain haemorrhage.</td>\n",
       "    </tr>\n",
       "    <tr>\n",
       "      <th>1</th>\n",
       "      <td>2014</td>\n",
       "      <td>10</td>\n",
       "      <td>Maurice Hodgson|Sir Maurice Hodgson</td>\n",
       "      <td>94</td>\n",
       "      <td>British business executive.</td>\n",
       "      <td></td>\n",
       "    </tr>\n",
       "    <tr>\n",
       "      <th>2</th>\n",
       "      <td>2014</td>\n",
       "      <td>10</td>\n",
       "      <td>Shlomo Lahat</td>\n",
       "      <td>86</td>\n",
       "      <td>Israeli general and politician, Mayor of [[Tel...</td>\n",
       "      <td>lung infection.</td>\n",
       "    </tr>\n",
       "    <tr>\n",
       "      <th>3</th>\n",
       "      <td>2014</td>\n",
       "      <td>10</td>\n",
       "      <td>José Martínez (infielder)|José Martínez</td>\n",
       "      <td>72</td>\n",
       "      <td>Cuban baseball player ([[Pittsburgh Pirates]])...</td>\n",
       "      <td>[[Chicago Cubs]]) and executive ([[Atlanta Br...</td>\n",
       "    </tr>\n",
       "    <tr>\n",
       "      <th>4</th>\n",
       "      <td>2014</td>\n",
       "      <td>10</td>\n",
       "      <td>Oluremi Oyo</td>\n",
       "      <td>61</td>\n",
       "      <td>Nigerian journalist</td>\n",
       "      <td>cancer.</td>\n",
       "    </tr>\n",
       "  </tbody>\n",
       "</table>\n",
       "</div>"
      ],
      "text/plain": [
       "   year month                                     name age  \\\n",
       "0  2014    10                           Lynsey de Paul  64   \n",
       "1  2014    10      Maurice Hodgson|Sir Maurice Hodgson  94   \n",
       "2  2014    10                             Shlomo Lahat  86   \n",
       "3  2014    10  José Martínez (infielder)|José Martínez  72   \n",
       "4  2014    10                              Oluremi Oyo  61   \n",
       "\n",
       "                                                desc  \\\n",
       "0  English singer-songwriter (\"[[Won't Somebody D...   \n",
       "1                        British business executive.   \n",
       "2  Israeli general and politician, Mayor of [[Tel...   \n",
       "3  Cuban baseball player ([[Pittsburgh Pirates]])...   \n",
       "4                                Nigerian journalist   \n",
       "\n",
       "                                      cause_of_death  \n",
       "0                                 brain haemorrhage.  \n",
       "1                                                     \n",
       "2                                    lung infection.  \n",
       "3   [[Chicago Cubs]]) and executive ([[Atlanta Br...  \n",
       "4                                            cancer.  "
      ]
     },
     "execution_count": 23,
     "metadata": {},
     "output_type": "execute_result"
    }
   ],
   "source": [
    "print df_full.shape\n",
    "df_full.head()"
   ]
  },
  {
   "cell_type": "code",
   "execution_count": 24,
   "metadata": {
    "collapsed": false
   },
   "outputs": [
    {
     "data": {
      "text/html": [
       "<div>\n",
       "<table border=\"1\" class=\"dataframe\">\n",
       "  <thead>\n",
       "    <tr style=\"text-align: right;\">\n",
       "      <th></th>\n",
       "      <th>year</th>\n",
       "      <th>month</th>\n",
       "      <th>name</th>\n",
       "      <th>age</th>\n",
       "      <th>desc</th>\n",
       "      <th>cause_of_death</th>\n",
       "    </tr>\n",
       "  </thead>\n",
       "  <tbody>\n",
       "  </tbody>\n",
       "</table>\n",
       "</div>"
      ],
      "text/plain": [
       "Empty DataFrame\n",
       "Columns: [year, month, name, age, desc, cause_of_death]\n",
       "Index: []"
      ]
     },
     "execution_count": 24,
     "metadata": {},
     "output_type": "execute_result"
    }
   ],
   "source": [
    "df_cod_nons = df_full[df_full.cause_of_death.map(lambda x: type(x) != str)]\n",
    "df_cod_nons.head()"
   ]
  },
  {
   "cell_type": "code",
   "execution_count": 25,
   "metadata": {
    "collapsed": false
   },
   "outputs": [
    {
     "data": {
      "text/plain": [
       "' cancer.'"
      ]
     },
     "execution_count": 25,
     "metadata": {},
     "output_type": "execute_result"
    }
   ],
   "source": [
    "df_full.iloc[4].values[5]"
   ]
  },
  {
   "cell_type": "markdown",
   "metadata": {},
   "source": [
    "### Further Processing"
   ]
  },
  {
   "cell_type": "markdown",
   "metadata": {},
   "source": [
    "#### Reminder: Strip links, quotes, and brackets before extracting Nationality text"
   ]
  },
  {
   "cell_type": "code",
   "execution_count": 26,
   "metadata": {
    "collapsed": false
   },
   "outputs": [],
   "source": [
    "df_full['desc'] = df_full.desc.map(text_clean)\n",
    "df_full['cause_of_death'] = df_full.cause_of_death.map(text_clean)"
   ]
  },
  {
   "cell_type": "markdown",
   "metadata": {},
   "source": [
    "#### Extract Nationality\n",
    "\n",
    "Extracting nationality text as well as possible by taking the first consecutive capitalized words in the description. 'Olympic' and similar capitalized words might throw this off."
   ]
  },
  {
   "cell_type": "code",
   "execution_count": 27,
   "metadata": {
    "collapsed": false,
    "scrolled": true
   },
   "outputs": [
    {
     "name": "stdout",
     "output_type": "stream",
     "text": [
      "ni-Vanuatu international footballer\n",
      "chief of web security at AOL\n",
      "<!-- date of birth unknown -->British artist. \n",
      "former Canadian Football League player and NHL referee. \n",
      "former Soviet FIFA World Cup footballer & title-winning coach for Dynamo Kiev \n",
      "former German Nazi SS officer. \n",
      "former Second Deputy Prime Minister of Singapore\n",
      "former professional wrestling promoter\n",
      "last American survivor of the ''RMS Titanic'' sinking\n",
      "former CEO of Firestone Tire and Rubber Company\n",
      "fled the U.S. with granddaughter in Elizabeth Morgan case custody battle \n",
      "lawyer & professor at New York Law School \n",
      "founder of Ninety Nine Restaurant & Pub\n",
      "first Asian-American to be editor of a major American daily newspaper, the ''St. Louis Post-Dispatch''\n",
      "first Australian Defence Force serviceperson killed in Iraq. \n",
      "humanitarian worker and charity activist\n",
      "scholar and journalist\n",
      "military band conductor\n",
      "football player (Associação Chapecoense de Futebol)\n",
      "football player (Associação Chapecoense de Futebol)\n",
      "football player (Associação Chapecoense de Futebol)\n",
      "football player (Associação Chapecoense de Futebol\n",
      "football player (Associação Chapecoense de Futebol)\n",
      "football player (Associação Chapecoense de Futebol\n",
      "reporter (Fox Sports)\n",
      "commentator (Fox Sports)\n",
      "football player (Associação Chapecoense de Futebol\n",
      "football player (Associação Chapecoense de Futebol)\n",
      "football player (Associação Chapecoense de Futebol)\n",
      "football player (Associação Chapecoense de Futebol)\n",
      "football player and manager (Associação Chapecoense de Futebol\n",
      "football player (Associação Chapecoense de Futebol\n",
      "football player (Associação Chapecoense de Futebol\n",
      "football player (Associação Chapecoense de Futebol\n",
      "football player (Associação Chapecoense de Futebol\n",
      "politician and football executive, vice-president of Brazilian Football Confederation\n",
      "football player, manager\n",
      "football player (Associação Chapecoense de Futebol)\n",
      "football player (Associação Chapecoense de Futebol\n",
      "football player (Associação Chapecoense de Futebol\n",
      "Brazilian\n",
      "sailor\n",
      "swimmer\n",
      "boxer\n",
      "opera singer.March 25\n",
      "cartoonist\n",
      "psychoanalyst and columnist\n",
      "caricaturist and journalist\n",
      "cartoonist\n",
      "economist and journalist\n",
      "cartoonist\n",
      "cartoonistJanuary 8\n",
      "<!-- biological age 6, considered 7 for competition purposes -->Irish racehorse\n",
      "political scientist\n",
      "attorney\n",
      "general\n",
      "senator\n",
      "general\n",
      "member of the Sejm of the Republic of Poland\n",
      "member of the Sejm\n",
      "senator\n",
      "general\n",
      "politician\n",
      "member of the Sejm\n",
      "diplomat\n",
      "member of the Sejm\n",
      "politician\n",
      "member of the Sejm\n",
      "diplomat\n",
      "lawyer and diplomat\n",
      "general\n",
      "lawyer and diplomat\n",
      "historian\n",
      "general\n",
      "member of the Sejm\n",
      "sports administrator\n",
      "member of the Sejm\n",
      "politician\n",
      "rector of the Cardinal Stefan Wyszyński University in Warsaw\n",
      "member of the Sejm\n",
      "banker\n",
      "politician, Minister of Defence (2007)\n",
      "politician, Minister of Defence (2001–2005)\n",
      "member of the Sejm\n",
      "trade unionist whose 1980 firing led to the creation of the Solidarity (Polish trade union) movement\n",
      "member of the Sejm\n",
      "member of the Sejm\n",
      "member of the Sejm\n",
      "politician\n",
      "senator\n",
      "actor.April 11\n",
      "<!-- note: see article and article talk page -->American singer\n",
      "former leader of the Inner London Education Authority.{{Citation needed|dateJuly 2011}}November 18\n",
      "spiritual leader and head of the Sikhism Dharma in the western hemisphere\n",
      "musician, filmmaker and author\n",
      "brother of former president of Mexico Carlos Salinas\n",
      "pornographic film actress\n",
      "chief minister of Jammu and Kashmir (1971–1975). \n",
      "first Bahamian to play in Major League Baseball. \n",
      "painter, lithographer\n",
      "computer scientist. \n",
      "widow of Chiang Ching-kuo and First Lady of the Republic of China on Taiwan (1978–1988)\n",
      "mother of former US vice-president Al Gore, wife of Albert Gore\n",
      "former United States Ambassador to Sweden\n",
      "baseball pitching machine innovator\n",
      "astrologer\n",
      "Icelandic\n",
      "<!-- 90 not 91 -->Polish actress\n",
      "former wife and agent of British TV entertainer Michael Barrymore\n",
      "songwriter\n",
      "drummer for the bands Trouble (band) and Zoetrope (band)\n",
      "second Secretary of Housing and Urban Development, appointed by Lyndon B. Johnson in 1969; later served as University of Massachusetts President 1970-1977\n",
      "former U.S. ambassador to Chile\n",
      "creator of the Brenda Starr comic strip\n",
      "actress (''Mary Hartman\n",
      "landscape painter mainly in his native Maine.6\n",
      "memoirist and head of the University of Iowa's famous Iowa Writers' Workshop\n",
      "doctor, teacher\n",
      "reigning Prince of Monaco since 1949.7\n",
      "former Formula One driver\n",
      "a former Major League Baseball player and manager\n",
      "last surviving French World War I veteran to fight for Germany\n",
      "former bandleader for ''The Tonight Show''\n",
      "radical feminist writer and anti-pornography activist\n",
      "first Afro-American Marine Corps officer\n",
      "former primate of the Greek Orthodox Archbishop of America (1959–1996)\n",
      "ex-National Football League player\n",
      "microbiologist\n",
      "a MLB All-Star\n",
      "musician\n",
      "novelist and poet\n",
      "founder of the Canadian white supremacist group the Heritage Front\n",
      "television critic for the ''New York Daily News''\n",
      "musician\n",
      "president of Serbia from 1982 to 1984\n",
      "writer\n",
      "jazz trumpeter\n",
      "1960s pop singer\n",
      "former National Basketball Association player for the Portland Trail Blazers\n",
      "former NFL player and assistant coach\n",
      "music director and conductor of the Nashville Symphony Orchestra\n",
      "jazz drummer\n",
      "world-renowned Danish jazz bassist.20\n",
      "member of the Gang of Four (China)\n",
      "physicist and group leader in the Manhattan Project\n",
      "a leading pitcher for the 1968 World Series champion Detroit Tigers and first black pitcher to throw a no-hitter in Major League Baseball\n",
      "aka '''Tonito Rivera'''\n",
      "pioneering Chinese anthropologist and sociologist\n",
      "former Israeli president.25\n",
      "former Formula One driver\n",
      "former head of Ford Motor Company and later a life peer.26\n",
      "former NHL player with the Toronto Maple Leafs\n",
      "former National Football League player\n",
      "former foreign minister of Bangladesh\n",
      "principal founder of the Free University of Berlin.\n",
      "professional wrestler; blood clot from surgery complications\n",
      "bassist for the Modern Jazz Quartet\n",
      "soap opera creator (''The Young and the Restless'', ''The Bold and the Beautiful'')\n",
      "theatre critic for ''The New York Times''\n",
      "former general secretary of the Transport and General Workers Union.{{Navbox deaths}}{{DEFAULTSORT:April 2005\n",
      "oldest man in Wales and World War I survivor\n",
      "former World Wrestling Entertainment (WWE) wrestler\n",
      "mathematician\n",
      "convicted serial killer\n",
      "bluegrass singer\n",
      "former coach of the Toronto Rock of the National Lacrosse League\n",
      "retired Chief Justice of the Quebec Superior Court\n",
      "former leader of NATO and veteran of World War II\n",
      "former mayor of Minneapolis\n",
      "seismologist. \n",
      "organic farmer 18 \n",
      "former TV presenter of ''Hop''\n",
      "convicted murderer\n",
      "former NFL running back with the Los Angeles Rams and Dallas Cowboys\n",
      "former Foreign Minister of Austria. 21 \n",
      "former Fulham FC football player and manager\n",
      "disgraced Scottish former bishop. 24 \n",
      "film producer. \n",
      "former president of Burkina Faso\n",
      "football player for VfL Wolfsburg and the Polish national team\n",
      "founder of Morton's of Chicago steakhouses\n",
      "musician, playwright\n",
      "former Pakistani cricket captain\n",
      "founder of Nordic Ware\n",
      "retired right wing for Toronto Maple Leafs and Detroit Red Wings in the 1940s and 50s\n",
      "former Irish politician\n",
      "sister of John F. Kennedy\n",
      "one of the first television presenters on French television\n",
      "choreographer\n",
      "sound effects creator (''The Exorcist (film)''\n",
      "comedian\n",
      "who pitched in Major League Baseball for the Boston Red Sox and St. Louis Browns in the 1940s and 50s\n",
      "drummer for American rock band Jefferson Airplane\n",
      "member of 1970s rock band Bread (band)\n",
      "co-owner of the NHL's Calgary Flames\n",
      "animator for ''Finding Nemo''\n",
      "prolific Spanish film actor\n",
      "former CEO of McDonald's Corporation\n",
      "microbiologist\n",
      "former Chinese Communist Party General Secretary\n",
      "professional wrestler.19\n",
      "former Prime Minister of Norway\n",
      "journalist\n",
      "developer active in New York City and Aspen, Colorado\n",
      "former Deputy Speaker of the UK House of Lords\n",
      "former president of Lawrence University and Duke University\n",
      "retired NFL player\n",
      "activist on behalf of senior citizens and the elderly\n",
      "rugby union coach.25\n",
      "ex-wife of American boxer Jake LaMotta\n",
      "one of the last four surviving Australian veterans of World War I\n",
      "retired Norwegian footballer\n",
      "composer and conductor\n",
      "evolutionary biologist\n",
      "actor and activist\n",
      "former major league closer for the Los Angeles Angels of Anaheim. \n",
      "president of Togo since 1967\n",
      "classical pianist\n",
      "country music manager and songwriter. 7 \n",
      "socialite and political hostess\n",
      "former Prime Minister of the Faroe Islands\n",
      "political figure in India\n",
      "television and film director\n",
      "cardiologist\n",
      "journalist and moderator of CBS' ''Face the Nation'' for 15 years\n",
      "drummer for American rock band Doobie Brothers\n",
      "jazz organist. 9 \n",
      "inventor of intermittent windshield wipers. \n",
      "physicist\n",
      "former prime minister and foreign minister of Grenada\n",
      "first woman to join the United States Army\n",
      "former footballer with Tottenham Hotspur F.C. and Wales national football team\n",
      "twice Prime Minister of Lebanon\n",
      "boxer, participant in boxing reality show \"The Contender\"\n",
      "professional bowler\n",
      "daughter of former President of Paraguay Raúl Cubas Grau\n",
      "American\n",
      "airline stewardess\n",
      "'Ndrangheta boss\n",
      "jazz vocalist and music professor\n",
      "classic Broadway star and father of Bonnie Raitt\n",
      "co-founder of United Cerebral Palsy\n",
      "exiled Cuban writer\n",
      "former governor of the U.S. state of Georgia (1959–1963). 22 \n",
      "founder of the \"Communion and Liberation\" Catholic youth movement\n",
      "retired NFL punter\n",
      "co-authored Christmas songs (''Little Drummer Boy'')\n",
      "founder of the Stratford Festival of Canada\n",
      "historian primarily concerned with The Church of Jesus Christ of Latter-day Saints\n",
      "incumbent governor of Colima (state), Mexico\n",
      "founder of Amnesty International\n",
      "former Los Angeles Dodgers third baseman\n",
      "member of The Pips\n",
      "former prime minister of Egypt\n",
      "former managing editor of ''TIME'' and U.S. ambassador to Austria (1988–1990)\n",
      "creator of the Apple Macintosh\n",
      "former NFL defensive back and assistant coach. 28 \n",
      "drummer with The Searchers (band)\n",
      "priest who participated in the exorcism on which ''The Exorcist (novel)'' was based\n",
      "convicted murderer\n",
      "founder of exotica musical genre\n",
      "retired American baseball pitcher\n",
      "inventor of the video rental\n",
      "millionaire philanthropist listed in Forbes 400\n",
      "former Dutch national football team coach\n",
      "operatic soprano\n",
      "former interior minister of Ukraine\n",
      "former international cricketer and Church of England bishop\n",
      "actress\n",
      "accused in the Laura Hernandez drug case; killed during a riot in a Dominican Republic jail\n",
      "film production designer\n",
      "screenwriter and film producer\n",
      "cofounding member of the band Blue Cheer. 9 \n",
      "retired Hungarian footballer\n",
      "professional transsexual whistler\n",
      "lead singer for Molly Hatchet\n",
      "author of atlases of fictional worlds\n",
      "soul singer\n",
      "star of B-movie ''Brain That Wouldn't Die''\n",
      "a retired New York Giants (NL) outfielder who challenged baseball's reserve clause in a 1947 federal lawsuit\n",
      "retired Major League Baseball catcher and Alabama legislator\n",
      "wife of Jim Callaghan\n",
      "a Japanese aikido teacher holding the rank of 8th dan shihan from the Aikikai. 16 \n",
      "former Chicago Bears player\n",
      "first Indigenous Australian judge\n",
      "actor\n",
      "represented Miami-Dade County, Florida\n",
      "former baseball player. 17 \n",
      "former NFL player\n",
      "father of Chicano music\n",
      "former Pittsburgh Steelers player\n",
      "science fiction and fantasy author. 18 \n",
      "musicologist and critic\n",
      "cabaret singer and pianist\n",
      "school shooter\n",
      "president of the Polish American Congress\n",
      "guitarist and founding member of Foghat\n",
      "founder of Bushnell Optical binoculars\n",
      "former baseball pitcher\n",
      "anarchist historian and journalist\n",
      "scriptwriter (Benny Hill, Carry On films\n",
      "former chairman of the Presidential Council of Hungary (head of state)\n",
      "poet\n",
      "world-renowned folklorist, who was central in establishing folklore as a discipline\n",
      "former record holder in hurdles\n",
      "comedian\n",
      "former drummer of two California punk bands (Lagwagon and the Ataris)\n",
      "record-setting United States Navy test pilot\n"
     ]
    }
   ],
   "source": [
    "df_full['nationality'] = df_full.desc.map(get_nationality_text)"
   ]
  },
  {
   "cell_type": "markdown",
   "metadata": {},
   "source": [
    "Get wikitext url name"
   ]
  },
  {
   "cell_type": "code",
   "execution_count": 28,
   "metadata": {
    "collapsed": false
   },
   "outputs": [],
   "source": [
    "df_full['name'] = df_full.name.map(get_wiki_url)"
   ]
  },
  {
   "cell_type": "markdown",
   "metadata": {},
   "source": [
    "## Write out file"
   ]
  },
  {
   "cell_type": "code",
   "execution_count": 29,
   "metadata": {
    "collapsed": true
   },
   "outputs": [],
   "source": [
    "df_full.to_csv('../out/celeb_deaths_wikipedia_full_1.csv', index=False)"
   ]
  },
  {
   "cell_type": "markdown",
   "metadata": {},
   "source": [
    "It would be useful to plot missing data by page_size i.e. fame or \"importance.\""
   ]
  },
  {
   "cell_type": "code",
   "execution_count": 30,
   "metadata": {
    "collapsed": false
   },
   "outputs": [
    {
     "data": {
      "text/html": [
       "<div>\n",
       "<table border=\"1\" class=\"dataframe\">\n",
       "  <thead>\n",
       "    <tr style=\"text-align: right;\">\n",
       "      <th></th>\n",
       "      <th>year</th>\n",
       "      <th>month</th>\n",
       "      <th>name</th>\n",
       "      <th>age</th>\n",
       "      <th>desc</th>\n",
       "      <th>cause_of_death</th>\n",
       "      <th>nationality</th>\n",
       "    </tr>\n",
       "  </thead>\n",
       "  <tbody>\n",
       "    <tr>\n",
       "      <th>0</th>\n",
       "      <td>2014</td>\n",
       "      <td>10</td>\n",
       "      <td>Lynsey de Paul</td>\n",
       "      <td>64</td>\n",
       "      <td>English singer-songwriter (\"Won't Somebody Dan...</td>\n",
       "      <td>brain haemorrhage</td>\n",
       "      <td>English</td>\n",
       "    </tr>\n",
       "    <tr>\n",
       "      <th>1</th>\n",
       "      <td>2014</td>\n",
       "      <td>10</td>\n",
       "      <td>Maurice Hodgson</td>\n",
       "      <td>94</td>\n",
       "      <td>British business executive</td>\n",
       "      <td></td>\n",
       "      <td>British</td>\n",
       "    </tr>\n",
       "    <tr>\n",
       "      <th>2</th>\n",
       "      <td>2014</td>\n",
       "      <td>10</td>\n",
       "      <td>Shlomo Lahat</td>\n",
       "      <td>86</td>\n",
       "      <td>Israeli general and politician, Mayor of Tel A...</td>\n",
       "      <td>lung infection</td>\n",
       "      <td>Israeli</td>\n",
       "    </tr>\n",
       "    <tr>\n",
       "      <th>3</th>\n",
       "      <td>2014</td>\n",
       "      <td>10</td>\n",
       "      <td>José Martínez (infielder)</td>\n",
       "      <td>72</td>\n",
       "      <td>Cuban baseball player (Pittsburgh Pirates), co...</td>\n",
       "      <td>Chicago Cubs) and executive (Atlanta Braves)</td>\n",
       "      <td>Cuban</td>\n",
       "    </tr>\n",
       "    <tr>\n",
       "      <th>4</th>\n",
       "      <td>2014</td>\n",
       "      <td>10</td>\n",
       "      <td>Oluremi Oyo</td>\n",
       "      <td>61</td>\n",
       "      <td>Nigerian journalist</td>\n",
       "      <td>cancer</td>\n",
       "      <td>Nigerian</td>\n",
       "    </tr>\n",
       "  </tbody>\n",
       "</table>\n",
       "</div>"
      ],
      "text/plain": [
       "   year month                       name age  \\\n",
       "0  2014    10             Lynsey de Paul  64   \n",
       "1  2014    10            Maurice Hodgson  94   \n",
       "2  2014    10               Shlomo Lahat  86   \n",
       "3  2014    10  José Martínez (infielder)  72   \n",
       "4  2014    10                Oluremi Oyo  61   \n",
       "\n",
       "                                                desc  \\\n",
       "0  English singer-songwriter (\"Won't Somebody Dan...   \n",
       "1                         British business executive   \n",
       "2  Israeli general and politician, Mayor of Tel A...   \n",
       "3  Cuban baseball player (Pittsburgh Pirates), co...   \n",
       "4                                Nigerian journalist   \n",
       "\n",
       "                                 cause_of_death nationality  \n",
       "0                             brain haemorrhage     English  \n",
       "1                                                   British  \n",
       "2                                lung infection     Israeli  \n",
       "3  Chicago Cubs) and executive (Atlanta Braves)       Cuban  \n",
       "4                                        cancer    Nigerian  "
      ]
     },
     "execution_count": 30,
     "metadata": {},
     "output_type": "execute_result"
    }
   ],
   "source": [
    "df_full.head()"
   ]
  },
  {
   "cell_type": "markdown",
   "metadata": {},
   "source": [
    "Quick workaround for the ones ending in parentheses:"
   ]
  },
  {
   "cell_type": "markdown",
   "metadata": {},
   "source": [
    "full_2_list = []\n",
    "with open('../out/celeb_deaths_wikipedia_full_1.csv', 'rb') as df_full_1_infile:\n",
    "    in_reader = csv.reader(df_full_1_infile)\n",
    "    for row in in_reader:\n",
    "        full_2_list.append(row)\n",
    "    df_full_1_infile.close()"
   ]
  },
  {
   "cell_type": "markdown",
   "metadata": {},
   "source": [
    "Correct way to do it:"
   ]
  },
  {
   "cell_type": "code",
   "execution_count": 66,
   "metadata": {
    "collapsed": true
   },
   "outputs": [],
   "source": [
    "full_2_list = [df_full.columns.tolist()] + list(df_full.values.tolist())"
   ]
  },
  {
   "cell_type": "code",
   "execution_count": 67,
   "metadata": {
    "collapsed": false
   },
   "outputs": [],
   "source": [
    "for row in full_2_list[1:]:\n",
    "    if len(row[5]) > 0:\n",
    "        if row[5][-1] == ')':\n",
    "            row[4] = row[4] + \", \" + row[5]\n",
    "            row[5] = ''"
   ]
  },
  {
   "cell_type": "code",
   "execution_count": 68,
   "metadata": {
    "collapsed": true
   },
   "outputs": [],
   "source": [
    "with open('../out/celeb_deaths_wikipedia_full_1.csv', 'wb') as df_full_2_outfile:\n",
    "    out_writer = csv.writer(df_full_2_outfile, delimiter=',')\n",
    "    for row in full_2_list:\n",
    "        out_writer.writerow(row)\n",
    "    df_full_2_outfile.close()"
   ]
  },
  {
   "cell_type": "code",
   "execution_count": null,
   "metadata": {
    "collapsed": true
   },
   "outputs": [],
   "source": []
  }
 ],
 "metadata": {
  "kernelspec": {
   "display_name": "Python 2",
   "language": "python",
   "name": "python2"
  },
  "language_info": {
   "codemirror_mode": {
    "name": "ipython",
    "version": 2
   },
   "file_extension": ".py",
   "mimetype": "text/x-python",
   "name": "python",
   "nbconvert_exporter": "python",
   "pygments_lexer": "ipython2",
   "version": "2.7.10"
  }
 },
 "nbformat": 4,
 "nbformat_minor": 0
}
