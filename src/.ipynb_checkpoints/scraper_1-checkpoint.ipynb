{
 "cells": [
  {
   "cell_type": "code",
   "execution_count": 1,
   "metadata": {
    "collapsed": true
   },
   "outputs": [],
   "source": [
    "%matplotlib inline"
   ]
  },
  {
   "cell_type": "code",
   "execution_count": 45,
   "metadata": {
    "collapsed": true
   },
   "outputs": [],
   "source": [
    "import numpy as np\n",
    "import pandas as pd\n",
    "import re\n",
    "import requests\n",
    "\n",
    "from bs4 import BeautifulSoup as bs"
   ]
  },
  {
   "cell_type": "markdown",
   "metadata": {},
   "source": [
    "Get death summary page:"
   ]
  },
  {
   "cell_type": "code",
   "execution_count": 46,
   "metadata": {
    "collapsed": false
   },
   "outputs": [],
   "source": [
    "url1 = 'https://en.wikipedia.org/w/api.php?action=query&titles=Deaths_in_February_2007&prop=revisions&rvprop=content&format=json'\n",
    "page1_pages = requests.get(url1).json()['query']['pages']\n",
    "page1_mkdown = bs(page1_pages[page1_pages.keys()[0]]['revisions'][0]['*'])\n",
    "page1_txt_list = page1_mkdown.text.split('*')"
   ]
  },
  {
   "cell_type": "code",
   "execution_count": 587,
   "metadata": {
    "collapsed": false
   },
   "outputs": [
    {
     "name": "stdout",
     "output_type": "stream",
     "text": [
      "Error:  {{Deaths in month TOC}}\n",
      "The following is\n",
      "\n",
      "Error:  2007-02]]\n",
      "[[Category:2007-related lists|\n",
      "\n"
     ]
    }
   ],
   "source": [
    "for i in xrange(0,len(page1_txt_list)):\n",
    "    first_two_chars = page1_txt_list[i][:2]\n",
    "    if first_two_chars != '[[':\n",
    "        print \"Error: \", page1_txt_list[i][:40]\n",
    "        print \"\""
   ]
  },
  {
   "cell_type": "code",
   "execution_count": 584,
   "metadata": {
    "collapsed": false
   },
   "outputs": [
    {
     "name": "stdout",
     "output_type": "stream",
     "text": [
      "Error:  {{Deaths in month TO\n",
      "Error:  [[Ismail Semed]], Ch\n",
      "Error:  [[George André Rober\n",
      "Error:  2007-02]]\n",
      "[[Category\n",
      "235\n",
      "4\n"
     ]
    }
   ],
   "source": [
    "# full populated (although some might not have death)\n",
    "row_pattern_full = re.compile('\\[\\[(.*?)\\]\\], (\\d+), (?:(.+), )+(.*?). ?\\[{1}(h.+)\\]{1}')\n",
    "\n",
    "# missing death and no extra commas\n",
    "row_pattern_m1 = re.compile('\\[\\[(.*?)\\]\\], (\\d+), (.+). ?\\[{1}(h.+)\\]{1}')\n",
    "\n",
    "#row_pattern_full = re.compile('\\[\\[(.*?)\\]\\], (\\d+), ((.+), )+(.*?). ?\\[{1}(h.+)\\]{1}')\n",
    "\n",
    "count_errors = 0\n",
    "entry_dict = {}\n",
    "\n",
    "for entry in page1_txt_list:\n",
    "    try:\n",
    "        entry_items = row_pattern_full.match(str(entry.encode('utf-8'))).groups()\n",
    "        entry_dict[entry_items[0]] = entry_items[1:]\n",
    "    except AttributeError, e1:\n",
    "        try:\n",
    "            entry_items = row_pattern_m1.match(str(entry.encode('utf-8'))).groups()\n",
    "            entry_dict[entry_items[0]] = list(entry_items[1:3]) + ['', entry_items[3]]\n",
    "        except AttributeError, e2:\n",
    "            print \"Error: \", entry[:20]\n",
    "            count_errors += 1\n",
    "\n",
    "print len(page1_txt_list)\n",
    "print count_errors"
   ]
  },
  {
   "cell_type": "code",
   "execution_count": 575,
   "metadata": {
    "collapsed": false
   },
   "outputs": [],
   "source": [
    "df_entries = pd.DataFrame(entry_dict).T"
   ]
  },
  {
   "cell_type": "code",
   "execution_count": 576,
   "metadata": {
    "collapsed": false
   },
   "outputs": [],
   "source": [
    "df_entries.reset_index(inplace=True)\n",
    "df_entries.columns = ['name', 'age', 'description', 'death', 'url']\n",
    "#df_entries.columns = ['name', 'age', 'clauses', 'description', 'death', 'url']"
   ]
  },
  {
   "cell_type": "code",
   "execution_count": 579,
   "metadata": {
    "collapsed": false
   },
   "outputs": [
    {
     "data": {
      "text/html": [
       "<div>\n",
       "<table border=\"1\" class=\"dataframe\">\n",
       "  <thead>\n",
       "    <tr style=\"text-align: right;\">\n",
       "      <th></th>\n",
       "      <th>name</th>\n",
       "      <th>age</th>\n",
       "      <th>description</th>\n",
       "      <th>death</th>\n",
       "      <th>url</th>\n",
       "    </tr>\n",
       "  </thead>\n",
       "  <tbody>\n",
       "    <tr>\n",
       "      <th>0</th>\n",
       "      <td>Adele Faccio</td>\n",
       "      <td>86</td>\n",
       "      <td>Italian civil right activist.</td>\n",
       "      <td></td>\n",
       "      <td>http://www.repubblica.it/2007/02/sezioni/polit...</td>\n",
       "    </tr>\n",
       "    <tr>\n",
       "      <th>1</th>\n",
       "      <td>Adelina Tattilo</td>\n",
       "      <td>78</td>\n",
       "      <td>Italian founder of ''Playmen'' magazine.</td>\n",
       "      <td></td>\n",
       "      <td>http://www.repubblica.it/2007/02/sezioni/perso...</td>\n",
       "    </tr>\n",
       "    <tr>\n",
       "      <th>2</th>\n",
       "      <td>Ahmad Abu Laban</td>\n",
       "      <td>60</td>\n",
       "      <td>Egyptian-born Danish Muslim leader, key figure...</td>\n",
       "      <td>cancer</td>\n",
       "      <td>http://www.nytimes.com/2007/02/04/world/europe...</td>\n",
       "    </tr>\n",
       "    <tr>\n",
       "      <th>3</th>\n",
       "      <td>Aida Mason</td>\n",
       "      <td>111</td>\n",
       "      <td>British oldest person.</td>\n",
       "      <td></td>\n",
       "      <td>http://www.24dash.com/communities/16559.htm</td>\n",
       "    </tr>\n",
       "    <tr>\n",
       "      <th>4</th>\n",
       "      <td>Alan MacDiarmid</td>\n",
       "      <td>79</td>\n",
       "      <td>New Zealand recipient of [[Nobel Prize in Chem...</td>\n",
       "      <td>injuries from a fall</td>\n",
       "      <td>http://www.nzherald.co.nz/section/1/story.cfm?...</td>\n",
       "    </tr>\n",
       "  </tbody>\n",
       "</table>\n",
       "</div>"
      ],
      "text/plain": [
       "              name  age                                        description  \\\n",
       "0     Adele Faccio   86                      Italian civil right activist.   \n",
       "1  Adelina Tattilo   78           Italian founder of ''Playmen'' magazine.   \n",
       "2  Ahmad Abu Laban   60  Egyptian-born Danish Muslim leader, key figure...   \n",
       "3       Aida Mason  111                             British oldest person.   \n",
       "4  Alan MacDiarmid   79  New Zealand recipient of [[Nobel Prize in Chem...   \n",
       "\n",
       "                  death                                                url  \n",
       "0                        http://www.repubblica.it/2007/02/sezioni/polit...  \n",
       "1                        http://www.repubblica.it/2007/02/sezioni/perso...  \n",
       "2                cancer  http://www.nytimes.com/2007/02/04/world/europe...  \n",
       "3                              http://www.24dash.com/communities/16559.htm  \n",
       "4  injuries from a fall  http://www.nzherald.co.nz/section/1/story.cfm?...  "
      ]
     },
     "execution_count": 579,
     "metadata": {},
     "output_type": "execute_result"
    }
   ],
   "source": [
    "df_entries.head()"
   ]
  },
  {
   "cell_type": "code",
   "execution_count": 580,
   "metadata": {
    "collapsed": false
   },
   "outputs": [
    {
     "data": {
      "text/plain": [
       "array([['Ian Richardson', '72',\n",
       "        \"British actor (''[[House of Cards (UK TV series)|House of Cards]]'', ''[[Tinker, Tailor, Soldier, Spy]]'') and member of the [[Royal Shakespeare Company|RSC]]\",\n",
       "        'in his sleep',\n",
       "        'http://news.bbc.co.uk/1/hi/entertainment/6346301.stm] [http://www.rte.ie/arts/2007/0209/richardsoni.html']], dtype=object)"
      ]
     },
     "execution_count": 580,
     "metadata": {},
     "output_type": "execute_result"
    }
   ],
   "source": [
    "#df_entries[df_entries.name == 'Lew Burdette']['description'][86]\n",
    "df_entries[df_entries.name == 'Lew Burdette']\n",
    "df_entries[df_entries.name == 'Fred Mustard Stewart'].values \n",
    "df_entries[df_entries.name == 'Aida Mason'].values\n",
    "df_entries[df_entries.name == 'Ian Richardson'].values"
   ]
  },
  {
   "cell_type": "code",
   "execution_count": null,
   "metadata": {
    "collapsed": true
   },
   "outputs": [],
   "source": []
  }
 ],
 "metadata": {
  "kernelspec": {
   "display_name": "Python 2",
   "language": "python",
   "name": "python2"
  },
  "language_info": {
   "codemirror_mode": {
    "name": "ipython",
    "version": 2
   },
   "file_extension": ".py",
   "mimetype": "text/x-python",
   "name": "python",
   "nbconvert_exporter": "python",
   "pygments_lexer": "ipython2",
   "version": "2.7.10"
  }
 },
 "nbformat": 4,
 "nbformat_minor": 0
}
